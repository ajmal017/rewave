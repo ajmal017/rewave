{
 "cells": [
  {
   "cell_type": "markdown",
   "metadata": {},
   "source": [
    "Uses tensorforce tensorforce-0.3.0\n",
    "\n",
    "Took 8 million steps over about a day to warm up. Got 1.6e-4 which is about 25% a month, 25x a year.\n"
   ]
  },
  {
   "cell_type": "code",
   "execution_count": 1,
   "metadata": {
    "ExecuteTime": {
     "end_time": "2017-11-12T23:19:13.266006Z",
     "start_time": "2017-11-12T23:19:11.514079Z"
    }
   },
   "outputs": [
    {
     "name": "stderr",
     "output_type": "stream",
     "text": [
      "/anaconda3/lib/python3.5/importlib/_bootstrap.py:222: RuntimeWarning: compiletime version 3.6 of module 'tensorflow.python.framework.fast_tensor_util' does not match runtime version 3.5\n",
      "  return f(*args, **kwds)\n",
      "/anaconda3/lib/python3.5/site-packages/h5py/__init__.py:34: FutureWarning: Conversion of the second argument of issubdtype from `float` to `np.floating` is deprecated. In future, it will be treated as `np.float64 == np.dtype(float).type`.\n",
      "  from ._conv import register_converters as _register_converters\n"
     ]
    }
   ],
   "source": [
    "# plotting\n",
    "%matplotlib inline\n",
    "from matplotlib import pyplot as plt\n",
    "import seaborn as sns\n",
    "plt.style.use('ggplot')\n",
    "\n",
    "# numeric\n",
    "import numpy as np\n",
    "from numpy import random\n",
    "import pandas as pd\n",
    "import tensorflow as tf\n",
    "\n",
    "# util\n",
    "from collections import Counter\n",
    "import pdb\n",
    "import glob\n",
    "import time\n",
    "import tempfile\n",
    "import itertools\n",
    "from tqdm import tqdm_notebook as tqdm\n",
    "import datetime\n",
    "\n",
    "# logging\n",
    "import logging\n",
    "logger = log = logging.getLogger(__name__)\n",
    "# log.setLevel(logging.INFO)\n",
    "logging.basicConfig()\n",
    "log.info('%s logger started.', __name__)"
   ]
  },
  {
   "cell_type": "code",
   "execution_count": 2,
   "metadata": {},
   "outputs": [],
   "source": [
    "import tensorflow as tf\n",
    "\n",
    "# solution to bring down version \n",
    "from google.protobuf import descriptor_pb2\n"
   ]
  },
  {
   "cell_type": "code",
   "execution_count": 3,
   "metadata": {},
   "outputs": [
    {
     "name": "stdout",
     "output_type": "stream",
     "text": [
      "Help on package tensorflow:\n",
      "\n",
      "NAME\n",
      "    tensorflow\n",
      "\n",
      "DESCRIPTION\n",
      "    # Copyright 2015 The TensorFlow Authors. All Rights Reserved.\n",
      "    #\n",
      "    # Licensed under the Apache License, Version 2.0 (the \"License\");\n",
      "    # you may not use this file except in compliance with the License.\n",
      "    # You may obtain a copy of the License at\n",
      "    #\n",
      "    #     http://www.apache.org/licenses/LICENSE-2.0\n",
      "    #\n",
      "    # Unless required by applicable law or agreed to in writing, software\n",
      "    # distributed under the License is distributed on an \"AS IS\" BASIS,\n",
      "    # WITHOUT WARRANTIES OR CONDITIONS OF ANY KIND, either express or implied.\n",
      "    # See the License for the specific language governing permissions and\n",
      "    # limitations under the License.\n",
      "    # ==============================================================================\n",
      "\n",
      "PACKAGE CONTENTS\n",
      "    contrib (package)\n",
      "    core (package)\n",
      "    examples (package)\n",
      "    libtensorflow_framework\n",
      "    python (package)\n",
      "    tools (package)\n",
      "\n",
      "SUBMODULES\n",
      "    app\n",
      "    bitwise\n",
      "    compat\n",
      "    data\n",
      "    distributions\n",
      "    errors\n",
      "    estimator\n",
      "    feature_column\n",
      "    flags\n",
      "    gfile\n",
      "    graph_util\n",
      "    image\n",
      "    initializers\n",
      "    keras\n",
      "    layers\n",
      "    linalg\n",
      "    logging\n",
      "    losses\n",
      "    metrics\n",
      "    nn\n",
      "    profiler\n",
      "    python_io\n",
      "    pywrap_tensorflow\n",
      "    resource_loader\n",
      "    saved_model\n",
      "    sets\n",
      "    spectral\n",
      "    summary\n",
      "    sysconfig\n",
      "    test\n",
      "    train\n",
      "    user_ops\n",
      "\n",
      "DATA\n",
      "    AUTO_REUSE = <_ReuseMode.AUTO_REUSE: 1>\n",
      "    COMPILER_VERSION = '4.2.1 Compatible Apple LLVM 9.0.0 (clang-900.0.39....\n",
      "    CXX11_ABI_FLAG = 0\n",
      "    GIT_VERSION = 'v1.5.0-0-g37aa430d84'\n",
      "    GRAPH_DEF_VERSION = 24\n",
      "    GRAPH_DEF_VERSION_MIN_CONSUMER = 0\n",
      "    GRAPH_DEF_VERSION_MIN_PRODUCER = 0\n",
      "    MONOLITHIC_BUILD = 0\n",
      "    QUANTIZED_DTYPES = frozenset({tf.qint8, tf.quint8, tf.qint32, tf.qint8...\n",
      "    VERSION = '1.5.0'\n",
      "    __compiler_version__ = '4.2.1 Compatible Apple LLVM 9.0.0 (clang-900.0...\n",
      "    __cxx11_abi_flag__ = 0\n",
      "    __git_version__ = 'v1.5.0-0-g37aa430d84'\n",
      "    __monolithic_build__ = 0\n",
      "    bfloat16 = tf.bfloat16\n",
      "    bool = tf.bool\n",
      "    complex128 = tf.complex128\n",
      "    complex64 = tf.complex64\n",
      "    double = tf.float64\n",
      "    float16 = tf.float16\n",
      "    float32 = tf.float32\n",
      "    float64 = tf.float64\n",
      "    half = tf.float16\n",
      "    int16 = tf.int16\n",
      "    int32 = tf.int32\n",
      "    int64 = tf.int64\n",
      "    int8 = tf.int8\n",
      "    newaxis = None\n",
      "    qint16 = tf.qint16\n",
      "    qint32 = tf.qint32\n",
      "    qint8 = tf.qint8\n",
      "    quint16 = tf.quint16\n",
      "    quint8 = tf.quint8\n",
      "    resource = tf.resource\n",
      "    string = tf.string\n",
      "    uint16 = tf.uint16\n",
      "    uint32 = tf.uint32\n",
      "    uint64 = tf.uint64\n",
      "    uint8 = tf.uint8\n",
      "    variant = tf.variant\n",
      "\n",
      "VERSION\n",
      "    1.5.0\n",
      "\n",
      "FILE\n",
      "    /anaconda3/lib/python3.5/site-packages/tensorflow/__init__.py\n",
      "\n",
      "\n"
     ]
    }
   ],
   "source": [
    "help(tf)"
   ]
  },
  {
   "cell_type": "code",
   "execution_count": 4,
   "metadata": {
    "ExecuteTime": {
     "end_time": "2017-11-12T23:19:13.389088Z",
     "start_time": "2017-11-12T23:19:13.268055Z"
    }
   },
   "outputs": [],
   "source": [
    "import gym\n",
    "from gym import error, spaces, utils\n",
    "from gym.utils import seeding"
   ]
  },
  {
   "cell_type": "code",
   "execution_count": 5,
   "metadata": {
    "ExecuteTime": {
     "end_time": "2017-11-12T23:19:13.426379Z",
     "start_time": "2017-11-12T23:19:13.390716Z"
    }
   },
   "outputs": [],
   "source": [
    "import os\n",
    "os.sys.path.append(os.path.abspath('.'))\n",
    "%reload_ext autoreload\n",
    "%autoreload 2"
   ]
  },
  {
   "cell_type": "code",
   "execution_count": 6,
   "metadata": {
    "ExecuteTime": {
     "end_time": "2017-11-12T23:19:13.466918Z",
     "start_time": "2017-11-12T23:19:13.430051Z"
    }
   },
   "outputs": [
    {
     "data": {
      "text/plain": [
       "'./outputs/tensorforce_PPO_crypto-20180208_17-41'"
      ]
     },
     "execution_count": 6,
     "metadata": {},
     "output_type": "execute_result"
    }
   ],
   "source": [
    "# params\n",
    "window_length = 50\n",
    "cash_bias = 0.0\n",
    "batch_size=128\n",
    "import datetime\n",
    "ts = datetime.datetime.utcnow().strftime('%Y%m%d_%H-%M')\n",
    "save_path = './outputs/tensorforce_PPO_crypto-%s' % ts\n",
    "# save_path = './outputs/tensorforce-PPO/tensorforce_PPO_crypto_20171105_06-50-31'\n",
    "save_path"
   ]
  },
  {
   "cell_type": "code",
   "execution_count": null,
   "metadata": {},
   "outputs": [],
   "source": []
  },
  {
   "cell_type": "code",
   "execution_count": 7,
   "metadata": {
    "ExecuteTime": {
     "end_time": "2017-11-12T23:19:13.547225Z",
     "start_time": "2017-11-12T23:19:13.470766Z"
    }
   },
   "outputs": [
    {
     "data": {
      "text/plain": [
       "'logs/tensorforce_PPO_crypto-20180208_17-41/run-20180208_17-41'"
      ]
     },
     "execution_count": 7,
     "metadata": {},
     "output_type": "execute_result"
    }
   ],
   "source": [
    "log_dir = os.path.join('logs', os.path.splitext(os.path.basename(save_path))[0], 'run-' + ts)\n",
    "try:\n",
    "    os.makedirs(log_dir)\n",
    "except OSError:\n",
    "    pass\n",
    "log_dir"
   ]
  },
  {
   "cell_type": "markdown",
   "metadata": {},
   "source": [
    "# Enviroment\n",
    "\n",
    "We will wrap out environment so we can modify the inputs, outputs, and attributes for tensorforce.\n",
    "\n",
    "- tensorforce doesn't like dual outputs so we will concat them\n",
    "- we need to softmax the weights since tensorforce doesn't do this"
   ]
  },
  {
   "cell_type": "code",
   "execution_count": 8,
   "metadata": {
    "ExecuteTime": {
     "end_time": "2017-11-12T23:19:13.782496Z",
     "start_time": "2017-11-12T23:19:13.551168Z"
    }
   },
   "outputs": [],
   "source": [
    "from rewave.environment.long_portfolio import PortfolioEnv\n",
    "from rewave.wrappers import SoftmaxActions, ConcatStates"
   ]
  },
  {
   "cell_type": "code",
   "execution_count": 9,
   "metadata": {
    "ExecuteTime": {
     "end_time": "2017-11-12T23:19:13.898899Z",
     "start_time": "2017-11-12T23:19:13.786267Z"
    }
   },
   "outputs": [],
   "source": [
    "# tensorforce need us to use this wrapper, passing in a registered gym id\n",
    "# this lets us pass in an object instead of registering it\n",
    "from tensorforce.contrib.openai_gym import OpenAIGym\n",
    "class TFOpenAIGymCust(OpenAIGym):\n",
    "    def __init__(self, gym_id, gym):\n",
    "        self.gym_id = gym_id\n",
    "        self.gym = gym\n",
    "        self.visualize = True"
   ]
  },
  {
   "cell_type": "code",
   "execution_count": 10,
   "metadata": {
    "ExecuteTime": {
     "end_time": "2017-11-12T23:19:13.959906Z",
     "start_time": "2017-11-12T23:19:13.900497Z"
    }
   },
   "outputs": [
    {
     "data": {
      "text/plain": [
       "[0]"
      ]
     },
     "execution_count": 10,
     "metadata": {},
     "output_type": "execute_result"
    }
   ],
   "source": [
    "from datetime import date\n",
    "\n",
    "start = date(2017, 1, 1)\n",
    "end = date(2018, 1, 1)\n",
    "features= ['close', 'high', 'low']\n",
    "tickers = ['AAPL','A','MSFT','B','C']\n",
    "\n",
    "env = PortfolioEnv(\n",
    "    start_date=start,\n",
    "    end_date=end,\n",
    "    features_list = features,\n",
    "    tickers_list=tickers,\n",
    "    scale=True, \n",
    "    trading_cost=0.0025, \n",
    "    window_length = window_length,\n",
    "    output_mode='EIIE',\n",
    ")\n",
    "# wrap it in a few wrappers\n",
    "env = ConcatStates(env)\n",
    "env = SoftmaxActions(env)\n",
    "environment = TFOpenAIGymCust('CryptoPortfolioEIIE-v0', env)\n",
    "\n",
    "env.seed(0)"
   ]
  },
  {
   "cell_type": "code",
   "execution_count": 18,
   "metadata": {
    "ExecuteTime": {
     "end_time": "2017-11-12T06:10:34.259707Z",
     "start_time": "2017-11-12T06:10:34.217310Z"
    }
   },
   "outputs": [],
   "source": [
    "envtest = PortfolioEnv(\n",
    "    start_date=start,\n",
    "    end_date=end,\n",
    "    features_list = features,\n",
    "    tickers_list=tickers,\n",
    "    scale=True, \n",
    "    trading_cost=0.0025, \n",
    "    window_length = window_length,\n",
    "    output_mode='EIIE',\n",
    ")\n",
    "envtest.action_space\n",
    "src = envtest.src\n",
    "\n",
    "src.reset()\n",
    "for i in range(0, 20):\n",
    "    sequence, y1, done = src._step()\n",
    "    last_close_price = sequence[:, -2, 0]\n",
    "last_close_price\n",
    "sequence /= last_close_price[:, np.newaxis, np.newaxis]\n",
    "#sequence"
   ]
  },
  {
   "cell_type": "code",
   "execution_count": 19,
   "metadata": {},
   "outputs": [
    {
     "data": {
      "text/plain": [
       "array([[[1.        , 1.        , 1.        ],\n",
       "        [1.        , 1.        , 1.        ],\n",
       "        [1.        , 1.        , 1.        ],\n",
       "        [1.        , 1.        , 1.        ],\n",
       "        [1.        , 1.        , 1.        ],\n",
       "        [1.        , 1.        , 1.        ],\n",
       "        [1.        , 1.        , 1.        ],\n",
       "        [1.        , 1.        , 1.        ],\n",
       "        [1.        , 1.        , 1.        ],\n",
       "        [1.        , 1.        , 1.        ],\n",
       "        [1.        , 1.        , 1.        ],\n",
       "        [1.        , 1.        , 1.        ],\n",
       "        [1.        , 1.        , 1.        ],\n",
       "        [1.        , 1.        , 1.        ],\n",
       "        [1.        , 1.        , 1.        ],\n",
       "        [1.        , 1.        , 1.        ],\n",
       "        [1.        , 1.        , 1.        ],\n",
       "        [1.        , 1.        , 1.        ],\n",
       "        [1.        , 1.        , 1.        ],\n",
       "        [1.        , 1.        , 1.        ],\n",
       "        [1.        , 1.        , 1.        ],\n",
       "        [1.        , 1.        , 1.        ],\n",
       "        [1.        , 1.        , 1.        ],\n",
       "        [1.        , 1.        , 1.        ],\n",
       "        [1.        , 1.        , 1.        ],\n",
       "        [1.        , 1.        , 1.        ],\n",
       "        [1.        , 1.        , 1.        ],\n",
       "        [1.        , 1.        , 1.        ],\n",
       "        [1.        , 1.        , 1.        ],\n",
       "        [1.        , 1.        , 1.        ],\n",
       "        [1.        , 1.        , 1.        ],\n",
       "        [1.        , 1.        , 1.        ],\n",
       "        [1.        , 1.        , 1.        ],\n",
       "        [1.        , 1.        , 1.        ],\n",
       "        [1.        , 1.        , 1.        ],\n",
       "        [1.        , 1.        , 1.        ],\n",
       "        [1.        , 1.        , 1.        ],\n",
       "        [1.        , 1.        , 1.        ],\n",
       "        [1.        , 1.        , 1.        ],\n",
       "        [1.        , 1.        , 1.        ],\n",
       "        [1.        , 1.        , 1.        ],\n",
       "        [1.        , 1.        , 1.        ],\n",
       "        [1.        , 1.        , 1.        ],\n",
       "        [1.        , 1.        , 1.        ],\n",
       "        [1.        , 1.        , 1.        ],\n",
       "        [1.        , 1.        , 1.        ],\n",
       "        [1.        , 1.        , 1.        ],\n",
       "        [1.        , 1.        , 1.        ],\n",
       "        [1.        , 1.        , 1.        ],\n",
       "        [1.        , 1.        , 1.        ]],\n",
       "\n",
       "       [[0.915426  , 0.91792819, 0.89866133],\n",
       "        [0.90710622, 0.9187414 , 0.90666833],\n",
       "        [0.91248593, 0.91373264, 0.90460403],\n",
       "        [0.91098461, 0.91767797, 0.90779369],\n",
       "        [0.91548855, 0.92055549, 0.90773177],\n",
       "        [0.91217315, 0.92756162, 0.90942074],\n",
       "        [0.89916177, 0.91430001, 0.89841111],\n",
       "        [0.91223571, 0.91398724, 0.89553422],\n",
       "        [0.89878644, 0.90785687, 0.89002878],\n",
       "        [0.9009133 , 0.90679344, 0.89941199],\n",
       "        [0.89766045, 0.90892093, 0.89515826],\n",
       "        [0.90135118, 0.90573001, 0.89280433],\n",
       "        [0.89284374, 0.89766045, 0.89084199],\n",
       "        [0.90191417, 0.90547979, 0.89390717],\n",
       "        [0.90741899, 0.91298636, 0.89684724],\n",
       "        [0.91035906, 0.91236082, 0.90316527],\n",
       "        [0.91167271, 0.91442512, 0.90591768],\n",
       "        [0.92437132, 0.92887527, 0.90979607],\n",
       "        [0.93231578, 0.93412986, 0.92161892],\n",
       "        [0.93556862, 0.94395096, 0.9293757 ],\n",
       "        [0.93882147, 0.93913424, 0.93000125],\n",
       "        [0.94470161, 0.9472038 , 0.93800826],\n",
       "        [0.94044789, 0.94920555, 0.93950957],\n",
       "        [0.94001001, 0.94107344, 0.9313149 ],\n",
       "        [0.95139497, 0.95358439, 0.93769548],\n",
       "        [0.95546103, 0.96234205, 0.94958088],\n",
       "        [0.95996497, 0.96290504, 0.95746278],\n",
       "        [0.9418241 , 0.96328037, 0.92143125],\n",
       "        [0.93519329, 0.93975979, 0.9332541 ],\n",
       "        [0.93112724, 0.94038534, 0.9266233 ],\n",
       "        [0.9386338 , 0.93969724, 0.92837483],\n",
       "        [0.98298511, 0.9993119 , 0.97685475],\n",
       "        [0.97316402, 0.983423  , 0.96972351],\n",
       "        [0.97829351, 0.98461154, 0.97391468],\n",
       "        [0.38077067, 0.38077067, 0.38077067],\n",
       "        [1.0013762 , 1.01232328, 0.9900538 ],\n",
       "        [1.00750657, 1.00882022, 0.99530839],\n",
       "        [0.97128738, 1.00087577, 0.96728387],\n",
       "        [0.98511197, 0.99194795, 0.97629176],\n",
       "        [0.99993745, 1.00218942, 0.99305642],\n",
       "        [1.01088452, 1.01460653, 1.00175153],\n",
       "        [1.00681847, 1.016577  , 1.00181409],\n",
       "        [0.98755161, 1.00531715, 0.98736394],\n",
       "        [0.98523708, 0.99774803, 0.98035781],\n",
       "        [0.983423  , 0.98767672, 0.97028713],\n",
       "        [0.99949956, 1.00087577, 0.98848993],\n",
       "        [1.00075066, 1.00381584, 0.99386964],\n",
       "        [0.99630927, 1.00550482, 0.99180533],\n",
       "        [1.        , 1.00437883, 0.99630927],\n",
       "        [1.01007131, 1.01338671, 1.00043788]],\n",
       "\n",
       "       [[0.96263911, 0.9645469 , 0.94721781],\n",
       "        [0.95914149, 0.96852146, 0.95858506],\n",
       "        [0.95055644, 0.96232114, 0.94864865],\n",
       "        [0.963593  , 0.96661367, 0.94769475],\n",
       "        [0.95023847, 0.96327504, 0.94594754],\n",
       "        [0.9418124 , 0.95310016, 0.94038156],\n",
       "        [0.93608903, 0.94705882, 0.9354531 ],\n",
       "        [0.94435612, 0.9491256 , 0.94117647],\n",
       "        [0.93481717, 0.94801272, 0.92988871],\n",
       "        [0.94292528, 0.94705882, 0.93537361],\n",
       "        [0.94006359, 0.95357711, 0.94006359],\n",
       "        [0.95023847, 0.95468998, 0.94101749],\n",
       "        [0.94149444, 0.95023847, 0.9391097 ],\n",
       "        [0.94801272, 0.95500795, 0.94324324],\n",
       "        [0.95166932, 0.95461049, 0.94403816],\n",
       "        [0.95071542, 0.95643879, 0.94531002],\n",
       "        [0.96550079, 0.96963434, 0.95643879],\n",
       "        [0.97281399, 0.97472178, 0.9645469 ],\n",
       "        [0.97806041, 0.98020668, 0.96844197],\n",
       "        [0.97853736, 0.98314785, 0.97615262],\n",
       "        [0.97313196, 0.97837838, 0.96899841],\n",
       "        [0.97583466, 0.9799682 , 0.97249603],\n",
       "        [0.96947536, 0.97853736, 0.96677266],\n",
       "        [0.97567568, 0.97933227, 0.96597774],\n",
       "        [0.97774245, 0.97901431, 0.97376789],\n",
       "        [0.96248013, 0.98028617, 0.95993641],\n",
       "        [0.94944356, 0.96677266, 0.94419714],\n",
       "        [0.95246423, 0.95771065, 0.94753577],\n",
       "        [0.95516693, 0.95755167, 0.94769475],\n",
       "        [0.95055644, 0.96375199, 0.95007949],\n",
       "        [0.95294118, 0.95850397, 0.95079491],\n",
       "        [0.95707472, 0.95914149, 0.94626391],\n",
       "        [0.95977742, 0.9608903 , 0.95341812],\n",
       "        [0.95596184, 0.96565978, 0.95405405],\n",
       "        [0.96772655, 0.96804452, 0.95397456],\n",
       "        [0.95612083, 0.96947536, 0.95516693],\n",
       "        [0.94880763, 0.95755167, 0.94403816],\n",
       "        [0.93116057, 0.94594595, 0.92559618],\n",
       "        [0.94324324, 0.9491256 , 0.93306836],\n",
       "        [0.94785374, 0.954531  , 0.94674086],\n",
       "        [0.94403816, 0.95198728, 0.93974563],\n",
       "        [0.98791733, 0.99236884, 0.96597774],\n",
       "        [0.96756757, 0.98680445, 0.96629571],\n",
       "        [0.97376789, 0.98124006, 0.95834658],\n",
       "        [0.98155803, 0.98569157, 0.96915739],\n",
       "        [1.0009539 , 1.00190779, 0.98330684],\n",
       "        [0.99793323, 1.00739269, 0.99523052],\n",
       "        [0.99650238, 1.00397456, 0.99125596],\n",
       "        [1.        , 1.00381558, 0.9963434 ],\n",
       "        [1.00890302, 1.01073132, 1.00111288]],\n",
       "\n",
       "       [[0.97322164, 0.97425158, 0.96608075],\n",
       "        [0.96003845, 0.97322164, 0.95948915],\n",
       "        [0.96498215, 0.96978852, 0.96045043],\n",
       "        [0.96484482, 0.96937654, 0.95729195],\n",
       "        [0.97789069, 0.97843999, 0.96017578],\n",
       "        [0.9685526 , 0.98475693, 0.96738533],\n",
       "        [0.95042571, 0.96374622, 0.95001373],\n",
       "        [0.95852788, 0.95909091, 0.94465806],\n",
       "        [0.94053831, 0.9542708 , 0.93504532],\n",
       "        [0.94658061, 0.95276023, 0.94397144],\n",
       "        [0.93614392, 0.95578138, 0.93408404],\n",
       "        [0.94864048, 0.95358418, 0.93683054],\n",
       "        [0.94163691, 0.94452074, 0.93545729],\n",
       "        [0.95385883, 0.95907718, 0.94342214],\n",
       "        [0.96099973, 0.9647075 , 0.95028838],\n",
       "        [0.96113705, 0.97061247, 0.95784125],\n",
       "        [0.97706674, 0.97885196, 0.96882725],\n",
       "        [0.98558088, 0.98928728, 0.97926394],\n",
       "        [0.9994507 , 1.00617962, 0.98819006],\n",
       "        [1.00727822, 1.00865147, 0.99862675],\n",
       "        [1.0065916 , 1.00782752, 0.9978028 ],\n",
       "        [1.01428179, 1.01675364, 1.00865147],\n",
       "        [1.01950014, 1.02032409, 1.00631695],\n",
       "        [1.01332052, 1.02018676, 1.00480637],\n",
       "        [1.01071134, 1.01277122, 1.00425707],\n",
       "        [1.01881351, 1.02046141, 1.00933809],\n",
       "        [1.01689096, 1.02142269, 1.01359517],\n",
       "        [1.00466905, 1.02197199, 0.99313375],\n",
       "        [1.00302115, 1.00672892, 0.9961549 ],\n",
       "        [0.99862675, 1.00851414, 0.99436968],\n",
       "        [0.9967042 , 1.00823949, 0.99546828],\n",
       "        [0.9923098 , 0.99642955, 0.98111782],\n",
       "        [0.99079923, 0.99478165, 0.98661082],\n",
       "        [0.99807745, 1.00302115, 0.99203516],\n",
       "        [0.99423235, 1.0010986 , 0.9923098 ],\n",
       "        [0.99958803, 1.00425707, 0.98530623],\n",
       "        [0.99519363, 0.99574293, 0.98942598],\n",
       "        [0.98063719, 0.99134853, 0.97981324],\n",
       "        [0.9956056 , 0.9983521 , 0.97885196],\n",
       "        [1.01057402, 1.01235924, 1.00178522],\n",
       "        [1.005493  , 1.01057402, 1.00302115],\n",
       "        [1.01139797, 1.01757759, 1.00480637],\n",
       "        [0.99423235, 1.01441912, 0.99423235],\n",
       "        [0.99546828, 1.00027465, 0.98777808],\n",
       "        [0.99079923, 0.99533095, 0.98461961],\n",
       "        [1.00466905, 1.00576765, 0.99354573],\n",
       "        [0.99862675, 1.00453172, 0.99601758],\n",
       "        [0.99821478, 1.0005493 , 0.98970063],\n",
       "        [1.        , 1.00727822, 0.99533095],\n",
       "        [1.00013732, 1.00370777, 0.99629223]],\n",
       "\n",
       "       [[0.98299488, 0.98514116, 0.97325409],\n",
       "        [0.96929173, 0.98382037, 0.96351329],\n",
       "        [0.94832425, 0.97275879, 0.94749876],\n",
       "        [0.95657916, 0.95740466, 0.94782896],\n",
       "        [0.96863134, 0.97061251, 0.94981014],\n",
       "        [0.9623576 , 0.97439326, 0.95162622],\n",
       "        [0.95426779, 0.96648506, 0.94981014],\n",
       "        [0.97688625, 0.97738154, 0.9532772 ],\n",
       "        [0.96087172, 0.98216939, 0.95558858],\n",
       "        [0.96631996, 0.9717682 , 0.96004623],\n",
       "        [0.97424468, 0.97952782, 0.96499917],\n",
       "        [0.97011722, 0.97490507, 0.96004623],\n",
       "        [0.96318309, 0.97589566, 0.96021133],\n",
       "        [0.97969292, 0.9813439 , 0.96549447],\n",
       "        [0.98018821, 0.98976391, 0.96995212],\n",
       "        [0.98481096, 0.98712234, 0.96929173],\n",
       "        [0.99207528, 1.00264157, 0.99009411],\n",
       "        [0.98514116, 0.99323097, 0.98068351],\n",
       "        [0.98547136, 0.98992901, 0.98266469],\n",
       "        [0.99488195, 0.99537725, 0.97738154],\n",
       "        [0.99389137, 0.99636784, 0.98432722],\n",
       "        [1.00825491, 1.0095757 , 0.99438666],\n",
       "        [1.02162787, 1.02740631, 1.00462275],\n",
       "        [1.00429255, 1.02971768, 1.00132079],\n",
       "        [0.99471686, 1.0048704 , 0.99009411],\n",
       "        [0.99504705, 1.01502394, 0.99389137],\n",
       "        [0.97952782, 0.99909196, 0.97903252],\n",
       "        [0.98547136, 0.99917451, 0.98183919],\n",
       "        [0.99818392, 1.01121182, 0.97077761],\n",
       "        [0.99356117, 1.00709922, 0.97820703],\n",
       "        [0.98992901, 0.99834902, 0.98679214],\n",
       "        [0.99801882, 1.00338451, 0.98679214],\n",
       "        [0.99422156, 1.00181608, 0.98563645],\n",
       "        [0.99768862, 1.00511805, 0.99257058],\n",
       "        [0.99422156, 0.99785372, 0.98976391],\n",
       "        [0.99719333, 1.01750041, 0.9902592 ],\n",
       "        [0.99785372, 1.00412746, 0.99290078],\n",
       "        [0.97754664, 0.99405646, 0.97094271],\n",
       "        [0.96879643, 0.98415057, 0.95259534],\n",
       "        [0.9909196 , 0.99455176, 0.97919762],\n",
       "        [0.98596665, 0.99224038, 0.98580155],\n",
       "        [0.99603764, 1.0003302 , 0.9910847 ],\n",
       "        [0.98332508, 0.99933961, 0.98315998],\n",
       "        [0.99009411, 0.99290078, 0.97374938],\n",
       "        [0.99273568, 0.99471686, 0.98126135],\n",
       "        [1.00627373, 1.00709922, 0.99290078],\n",
       "        [0.99603764, 1.00354961, 0.98959881],\n",
       "        [0.99306587, 0.9998349 , 0.99191019],\n",
       "        [1.        , 1.00264157, 0.98844312],\n",
       "        [1.00082549, 1.00379726, 0.99620274]],\n",
       "\n",
       "       [[0.95033161, 0.95637436, 0.94701548],\n",
       "        [0.94193073, 0.94944731, 0.94193073],\n",
       "        [0.94075166, 0.94708917, 0.93736183],\n",
       "        [0.9376566 , 0.94193073, 0.93352985],\n",
       "        [0.93456153, 0.9459101 , 0.93087693],\n",
       "        [0.94001474, 0.94502579, 0.93154016],\n",
       "        [0.94664702, 0.9559322 , 0.94340457],\n",
       "        [0.96064849, 0.9633014 , 0.95092115],\n",
       "        [0.9871776 , 0.99852616, 0.97656743],\n",
       "        [0.98570376, 0.99616802, 0.98334562],\n",
       "        [1.00604274, 1.0156227 , 0.99100958],\n",
       "        [1.00884304, 1.01296979, 1.00147384],\n",
       "        [0.99675755, 1.01341194, 0.99587472],\n",
       "        [1.0008843 , 1.00663228, 0.99388357],\n",
       "        [0.99705232, 1.00280029, 0.99395726],\n",
       "        [0.98481945, 0.99587325, 0.98157701],\n",
       "        [0.98629329, 0.99042004, 0.9806927 ],\n",
       "        [0.98776713, 0.9917465 , 0.98290346],\n",
       "        [0.98334562, 0.98644068, 0.96565954],\n",
       "        [0.98496684, 0.9889462 , 0.9789241 ],\n",
       "        [0.98585114, 0.9889462 , 0.97597642],\n",
       "        [0.98305085, 0.99277819, 0.98010317],\n",
       "        [0.97803979, 0.9880619 , 0.97759764],\n",
       "        [0.97273397, 0.97921887, 0.97111275],\n",
       "        [0.97420781, 0.97907148, 0.97140752],\n",
       "        [1.00265291, 1.00840088, 0.99941046],\n",
       "        [1.00191599, 1.01459101, 0.9991157 ],\n",
       "        [0.9963154 , 1.01275461, 0.99277819],\n",
       "        [0.99380987, 0.99882093, 0.98747237],\n",
       "        [1.00884304, 1.01179071, 0.99513633],\n",
       "        [1.02579219, 1.02608696, 1.01326455],\n",
       "        [1.02313928, 1.02652911, 1.01429624],\n",
       "        [1.00412675, 1.01989683, 1.00235814],\n",
       "        [1.01665438, 1.02299189, 1.01267502],\n",
       "        [1.01753869, 1.02078113, 1.01245394],\n",
       "        [1.01518055, 1.02962417, 1.01429624],\n",
       "        [1.00854827, 1.00928519, 1.00103169],\n",
       "        [0.99071481, 1.00412675, 0.98968312],\n",
       "        [0.98452469, 0.99439941, 0.98142962],\n",
       "        [1.00058954, 1.00412675, 0.99351511],\n",
       "        [1.00176861, 1.01635962, 1.00044215],\n",
       "        [0.99793662, 1.00766396, 0.99322034],\n",
       "        [0.98157701, 0.99705232, 0.98025055],\n",
       "        [0.98128224, 0.9927045 , 0.97538688],\n",
       "        [0.97199705, 0.98422992, 0.9706706 ],\n",
       "        [0.98526161, 0.98644068, 0.97641857],\n",
       "        [0.9908622 , 0.99587325, 0.97582903],\n",
       "        [0.99764186, 1.0008843 , 0.98673545],\n",
       "        [1.        , 1.00574797, 0.99793662],\n",
       "        [0.99941046, 1.00486367, 0.99380987]]])"
      ]
     },
     "execution_count": 19,
     "metadata": {},
     "output_type": "execute_result"
    }
   ],
   "source": [
    "sequence\n",
    "np.isnan(src.data).sum()\n",
    "np.isnan(sequence).sum()\n",
    "np.nonzero(sequence)\n",
    "sequence\n",
    "#sequence.shape"
   ]
  },
  {
   "cell_type": "code",
   "execution_count": 20,
   "metadata": {},
   "outputs": [
    {
     "data": {
      "text/plain": [
       "((6, 50, 3), array([1.        , 1.00270088, 1.00645771, 1.01314168, 1.01212717,\n",
       "        1.00785418]), False)"
      ]
     },
     "execution_count": 20,
     "metadata": {},
     "output_type": "execute_result"
    }
   ],
   "source": [
    "src = envtest.src\n",
    "history, y1, done = src._step()\n",
    "history.shape, y1, done"
   ]
  },
  {
   "cell_type": "code",
   "execution_count": 21,
   "metadata": {},
   "outputs": [
    {
     "data": {
      "text/plain": [
       "(6,)"
      ]
     },
     "execution_count": 21,
     "metadata": {},
     "output_type": "execute_result"
    }
   ],
   "source": [
    "y1.shape"
   ]
  },
  {
   "cell_type": "code",
   "execution_count": 22,
   "metadata": {},
   "outputs": [],
   "source": [
    "#env = SoftmaxActions(env)\n"
   ]
  },
  {
   "cell_type": "code",
   "execution_count": 23,
   "metadata": {
    "ExecuteTime": {
     "end_time": "2017-11-12T23:19:13.992876Z",
     "start_time": "2017-11-12T23:19:13.961488Z"
    }
   },
   "outputs": [
    {
     "name": "stdout",
     "output_type": "stream",
     "text": [
      "\u001b[33mWARN: <class 'rewave.wrappers.softmax_actions.SoftmaxActions'> doesn't implement 'reset' method, which is required for wrappers derived directly from Wrapper. Deprecated default implementation is used.\u001b[0m\n"
     ]
    },
    {
     "data": {
      "text/plain": [
       "((6, 50, 3), False, -7.000563693695617e-05)"
      ]
     },
     "execution_count": 23,
     "metadata": {},
     "output_type": "execute_result"
    }
   ],
   "source": [
    "# sanity check out environment is working\n",
    "state = environment.reset()\n",
    "step, terminal, reward = environment.execute(env.action_space.sample())\n",
    "step.shape, terminal, reward"
   ]
  },
  {
   "cell_type": "code",
   "execution_count": 24,
   "metadata": {},
   "outputs": [
    {
     "data": {
      "text/plain": [
       "-7.000563693695617e-05"
      ]
     },
     "execution_count": 24,
     "metadata": {},
     "output_type": "execute_result"
    }
   ],
   "source": [
    "reward"
   ]
  },
  {
   "cell_type": "markdown",
   "metadata": {
    "ExecuteTime": {
     "end_time": "2017-07-16T04:41:21.116729Z",
     "start_time": "2017-07-16T12:41:21.086620+08:00"
    }
   },
   "source": [
    "# Model\n",
    "\n",
    "Derived from  https://github.com/reinforceio/tensorforce/blob/0d07fadec03f76537a2431e17c51cd759d53b5e9/tensorforce/core/networks/layers.py#L90\n",
    "\n",
    "Implemented as per CNN version of https://arxiv.org/abs/1706.10059 "
   ]
  },
  {
   "cell_type": "code",
   "execution_count": 25,
   "metadata": {
    "ExecuteTime": {
     "end_time": "2017-11-12T23:19:32.641647Z",
     "start_time": "2017-11-12T23:19:14.024832Z"
    }
   },
   "outputs": [],
   "source": [
    "from tensorforce.agents import Agent\n",
    "from tensorforce.core.networks import LayeredNetwork, layers, Network, network"
   ]
  },
  {
   "cell_type": "code",
   "execution_count": null,
   "metadata": {
    "ExecuteTime": {
     "end_time": "2017-11-05T08:59:45.251938Z",
     "start_time": "2017-11-05T08:59:45.184678Z"
    }
   },
   "outputs": [],
   "source": []
  },
  {
   "cell_type": "code",
   "execution_count": 26,
   "metadata": {
    "ExecuteTime": {
     "end_time": "2017-11-12T23:19:33.068774Z",
     "start_time": "2017-11-12T23:19:32.646922Z"
    }
   },
   "outputs": [],
   "source": [
    "from tensorforce.core.networks import Layer, Conv2d, Nonlinearity\n",
    "class EIIE(Layer):\n",
    "    \"\"\"\n",
    "    EIIE layer\n",
    "    \"\"\"\n",
    "\n",
    "    def __init__(self,\n",
    "                 size=20,\n",
    "                 bias=True,\n",
    "                 activation='relu',\n",
    "                 l2_regularization=0.0,\n",
    "                 l1_regularization=0.0,\n",
    "                 scope='EIIE',\n",
    "                 summary_labels=()):\n",
    "        self.size = size\n",
    "        # Expectation is broadcast back over advantage values so output is of size 1\n",
    "        self.conv1 = Conv2d(\n",
    "            size=3,\n",
    "            bias=bias,\n",
    "            stride=(1,1),\n",
    "            window=(1,3),\n",
    "            padding='VALID',\n",
    "            l2_regularization=l2_regularization,\n",
    "            l1_regularization=l1_regularization,\n",
    "            summary_labels=summary_labels)\n",
    "        self.conv2 = Conv2d(\n",
    "            size=size,\n",
    "            bias=bias,\n",
    "            stride=(1,window_length-2-1),\n",
    "            window=(1,window_length-2-1),\n",
    "            padding='VALID',\n",
    "            l2_regularization=l2_regularization,\n",
    "            l1_regularization=l1_regularization,\n",
    "            summary_labels=summary_labels)\n",
    "        self.conv3 = Conv2d(\n",
    "            size=1,\n",
    "            bias=bias,\n",
    "            stride=(1,1),\n",
    "            window=(1,1),\n",
    "            l2_regularization=l2_regularization,\n",
    "            l1_regularization=l1_regularization,\n",
    "            summary_labels=summary_labels)\n",
    "        self.nonlinearity = Nonlinearity(\n",
    "            name=activation, summary_labels=summary_labels)\n",
    "        self.nonlinearity2 = Nonlinearity(\n",
    "            name=activation, summary_labels=summary_labels)\n",
    "        super(EIIE, self).__init__(\n",
    "            scope=scope, summary_labels=summary_labels)\n",
    "\n",
    "    def tf_apply(self, x0, update):\n",
    "        # where window_size=50, actions=4 (giving the 3), data cols=5\n",
    "        # x0 = (None,3,50,5)\n",
    "        # x = (None,3,49,5)\n",
    "        # x = (None,3,1,1)\n",
    "        # conv1 => (None,3, 47,3)\n",
    "        # conv2 => (None,3, 1, 20)\n",
    "        # concat=> (None,3, 1, 21)\n",
    "        # conv3 => (None,3, 1, 1)\n",
    "        # concat=> (None,2, 1, 1)\n",
    "\n",
    "        w0 = x0[:,:,:1,:1]\n",
    "        x = x0[:,:,1:,:]\n",
    "        \n",
    "        x = self.conv1.apply(x, update=update)\n",
    "        x = self.nonlinearity.apply(x=x, update=update)\n",
    "        \n",
    "        x = self.conv2.apply(x, update=update)\n",
    "        x = self.nonlinearity2.apply(x=x, update=update)\n",
    "        \n",
    "        x = tf.concat([x, w0], 3)\n",
    "        x = self.conv3.apply(x, update=update)\n",
    "        \n",
    "        # concat on cash_bias\n",
    "        cash_bias_int = 0\n",
    "        # FIXME not sure how to make shape with a flexible size in tensorflow but this works for now\n",
    "        # cash_bias = tf.ones(shape=(batch_size,1,1,1)) * cash_bias_int\n",
    "        # cash_bias = x[:,:1,:1,:1]*0 \n",
    "        # x = tf.concat([cash_bias, x], 1)\n",
    "\n",
    "        if 'activations' in self.summary_labels:\n",
    "            summary = tf.summary.histogram(name='activations', values=x)\n",
    "            self.summaries.append(summary)\n",
    "\n",
    "        return x\n",
    "\n",
    "    def tf_regularization_loss(self):\n",
    "        if super(EIIE, self).tf_regularization_loss() is None:\n",
    "            losses = list()\n",
    "        else:\n",
    "            losses = [super(EIIE, self).tf_regularization_loss()]\n",
    "\n",
    "        if self.conv1.regularization_loss() is not None:\n",
    "            losses.append(self.conv1.regularization_loss())\n",
    "        if self.conv2.regularization_loss() is not None:\n",
    "            losses.append(self.conv2.regularization_loss())\n",
    "        if self.conv1.regularization_loss() is not None:\n",
    "            losses.append(self.conv3.regularization_loss())\n",
    "\n",
    "        if len(losses) > 0:\n",
    "            return tf.add_n(inputs=losses)\n",
    "        else:\n",
    "            return None\n",
    "\n",
    "    def get_variables(self, include_non_trainable=False):\n",
    "        layer_variables = super(EIIE, self).get_variables(\n",
    "            include_non_trainable=include_non_trainable)\n",
    "\n",
    "        layer_variables += self.conv1.get_variables(\n",
    "            include_non_trainable=include_non_trainable)\n",
    "        layer_variables += self.conv2.get_variables(\n",
    "            include_non_trainable=include_non_trainable)\n",
    "        layer_variables += self.conv3.get_variables(\n",
    "            include_non_trainable=include_non_trainable)\n",
    "\n",
    "        layer_variables += self.nonlinearity.get_variables(\n",
    "            include_non_trainable=include_non_trainable)\n",
    "        layer_variables += self.nonlinearity.get_variables(\n",
    "            include_non_trainable=include_non_trainable)\n",
    "\n",
    "        return layer_variables\n",
    "    \n",
    "# Add our custom layer\n",
    "layers['EIIE'] = EIIE\n",
    "\n",
    "# Network as list of layers\n",
    "network_spec = [\n",
    "    dict(type='EIIE', \n",
    "         l1_regularization=1e-8,\n",
    "        l2_regularization=1e-8),\n",
    "    dict(type='flatten')\n",
    "]"
   ]
  },
  {
   "cell_type": "code",
   "execution_count": 27,
   "metadata": {},
   "outputs": [
    {
     "data": {
      "text/plain": [
       "[{'l1_regularization': 1e-08, 'l2_regularization': 1e-08, 'type': 'EIIE'},\n",
       " {'type': 'flatten'}]"
      ]
     },
     "execution_count": 27,
     "metadata": {},
     "output_type": "execute_result"
    }
   ],
   "source": [
    "network_spec"
   ]
  },
  {
   "cell_type": "code",
   "execution_count": 28,
   "metadata": {
    "ExecuteTime": {
     "end_time": "2017-11-12T23:38:31.988172Z",
     "start_time": "2017-11-12T23:38:31.948872Z"
    }
   },
   "outputs": [],
   "source": [
    "# also add a custom baseline\n",
    "from tensorforce.core.baselines import NetworkBaseline\n",
    "from tensorforce.core.baselines import baselines\n",
    "\n",
    "\n",
    "class EIIEBaseline(NetworkBaseline):\n",
    "    \"\"\"\n",
    "    CNN baseline (single-state) consisting of convolutional layers followed by dense layers.\n",
    "    \"\"\"\n",
    "\n",
    "    def __init__(self, layers_spec, scope='eiie-baseline', summary_labels=()):\n",
    "        \"\"\"\n",
    "        CNN baseline.\n",
    "        Args:\n",
    "            conv_sizes: List of convolutional layer sizes\n",
    "            dense_sizes: List of dense layer sizes\n",
    "        \"\"\"\n",
    "\n",
    "        super(EIIEBaseline, self).__init__(layers_spec, scope, summary_labels)\n",
    "        \n",
    "# Add our custom baseline\n",
    "baselines['EIIE']=EIIEBaseline"
   ]
  },
  {
   "cell_type": "markdown",
   "metadata": {},
   "source": [
    "# Agent\n"
   ]
  },
  {
   "cell_type": "code",
   "execution_count": 29,
   "metadata": {},
   "outputs": [
    {
     "data": {
      "text/plain": [
       "{'shape': (6, 50, 3), 'type': 'float'}"
      ]
     },
     "execution_count": 29,
     "metadata": {},
     "output_type": "execute_result"
    }
   ],
   "source": [
    "environment.gym.observation_space\n",
    "environment.states"
   ]
  },
  {
   "cell_type": "code",
   "execution_count": 30,
   "metadata": {
    "ExecuteTime": {
     "end_time": "2017-11-12T23:38:38.921235Z",
     "start_time": "2017-11-12T23:38:32.455152Z"
    },
    "scrolled": true
   },
   "outputs": [
    {
     "name": "stdout",
     "output_type": "stream",
     "text": [
      "INFO:tensorflow:Summary name gradients/ppo/optimization/moments/Squeeze_1:0/mean is illegal; using gradients/ppo/optimization/moments/Squeeze_1_0/mean instead.\n"
     ]
    },
    {
     "name": "stderr",
     "output_type": "stream",
     "text": [
      "INFO:tensorflow:Summary name gradients/ppo/optimization/moments/Squeeze_1:0/mean is illegal; using gradients/ppo/optimization/moments/Squeeze_1_0/mean instead.\n"
     ]
    },
    {
     "name": "stdout",
     "output_type": "stream",
     "text": [
      "INFO:tensorflow:Summary name gradients/ppo/optimization/moments/Squeeze_1:0/variance is illegal; using gradients/ppo/optimization/moments/Squeeze_1_0/variance instead.\n"
     ]
    },
    {
     "name": "stderr",
     "output_type": "stream",
     "text": [
      "INFO:tensorflow:Summary name gradients/ppo/optimization/moments/Squeeze_1:0/variance is illegal; using gradients/ppo/optimization/moments/Squeeze_1_0/variance instead.\n"
     ]
    },
    {
     "name": "stdout",
     "output_type": "stream",
     "text": [
      "INFO:tensorflow:Summary name gradients/ppo/optimization/moments_1/Squeeze_1:0/mean is illegal; using gradients/ppo/optimization/moments_1/Squeeze_1_0/mean instead.\n"
     ]
    },
    {
     "name": "stderr",
     "output_type": "stream",
     "text": [
      "INFO:tensorflow:Summary name gradients/ppo/optimization/moments_1/Squeeze_1:0/mean is illegal; using gradients/ppo/optimization/moments_1/Squeeze_1_0/mean instead.\n"
     ]
    },
    {
     "name": "stdout",
     "output_type": "stream",
     "text": [
      "INFO:tensorflow:Summary name gradients/ppo/optimization/moments_1/Squeeze_1:0/variance is illegal; using gradients/ppo/optimization/moments_1/Squeeze_1_0/variance instead.\n"
     ]
    },
    {
     "name": "stderr",
     "output_type": "stream",
     "text": [
      "INFO:tensorflow:Summary name gradients/ppo/optimization/moments_1/Squeeze_1:0/variance is illegal; using gradients/ppo/optimization/moments_1/Squeeze_1_0/variance instead.\n"
     ]
    },
    {
     "name": "stdout",
     "output_type": "stream",
     "text": [
      "INFO:tensorflow:Summary name gradients/ppo/optimization/moments_2/Squeeze_1:0/mean is illegal; using gradients/ppo/optimization/moments_2/Squeeze_1_0/mean instead.\n"
     ]
    },
    {
     "name": "stderr",
     "output_type": "stream",
     "text": [
      "INFO:tensorflow:Summary name gradients/ppo/optimization/moments_2/Squeeze_1:0/mean is illegal; using gradients/ppo/optimization/moments_2/Squeeze_1_0/mean instead.\n"
     ]
    },
    {
     "name": "stdout",
     "output_type": "stream",
     "text": [
      "INFO:tensorflow:Summary name gradients/ppo/optimization/moments_2/Squeeze_1:0/variance is illegal; using gradients/ppo/optimization/moments_2/Squeeze_1_0/variance instead.\n"
     ]
    },
    {
     "name": "stderr",
     "output_type": "stream",
     "text": [
      "INFO:tensorflow:Summary name gradients/ppo/optimization/moments_2/Squeeze_1:0/variance is illegal; using gradients/ppo/optimization/moments_2/Squeeze_1_0/variance instead.\n"
     ]
    },
    {
     "name": "stdout",
     "output_type": "stream",
     "text": [
      "INFO:tensorflow:Summary name gradients/ppo/optimization/moments_3/Squeeze_1:0/mean is illegal; using gradients/ppo/optimization/moments_3/Squeeze_1_0/mean instead.\n"
     ]
    },
    {
     "name": "stderr",
     "output_type": "stream",
     "text": [
      "INFO:tensorflow:Summary name gradients/ppo/optimization/moments_3/Squeeze_1:0/mean is illegal; using gradients/ppo/optimization/moments_3/Squeeze_1_0/mean instead.\n"
     ]
    },
    {
     "name": "stdout",
     "output_type": "stream",
     "text": [
      "INFO:tensorflow:Summary name gradients/ppo/optimization/moments_3/Squeeze_1:0/variance is illegal; using gradients/ppo/optimization/moments_3/Squeeze_1_0/variance instead.\n"
     ]
    },
    {
     "name": "stderr",
     "output_type": "stream",
     "text": [
      "INFO:tensorflow:Summary name gradients/ppo/optimization/moments_3/Squeeze_1:0/variance is illegal; using gradients/ppo/optimization/moments_3/Squeeze_1_0/variance instead.\n"
     ]
    },
    {
     "name": "stdout",
     "output_type": "stream",
     "text": [
      "INFO:tensorflow:Summary name gradients/ppo/optimization/moments_4/Squeeze_1:0/mean is illegal; using gradients/ppo/optimization/moments_4/Squeeze_1_0/mean instead.\n"
     ]
    },
    {
     "name": "stderr",
     "output_type": "stream",
     "text": [
      "INFO:tensorflow:Summary name gradients/ppo/optimization/moments_4/Squeeze_1:0/mean is illegal; using gradients/ppo/optimization/moments_4/Squeeze_1_0/mean instead.\n"
     ]
    },
    {
     "name": "stdout",
     "output_type": "stream",
     "text": [
      "INFO:tensorflow:Summary name gradients/ppo/optimization/moments_4/Squeeze_1:0/variance is illegal; using gradients/ppo/optimization/moments_4/Squeeze_1_0/variance instead.\n"
     ]
    },
    {
     "name": "stderr",
     "output_type": "stream",
     "text": [
      "INFO:tensorflow:Summary name gradients/ppo/optimization/moments_4/Squeeze_1:0/variance is illegal; using gradients/ppo/optimization/moments_4/Squeeze_1_0/variance instead.\n"
     ]
    },
    {
     "name": "stdout",
     "output_type": "stream",
     "text": [
      "INFO:tensorflow:Summary name gradients/ppo/optimization/moments_5/Squeeze_1:0/mean is illegal; using gradients/ppo/optimization/moments_5/Squeeze_1_0/mean instead.\n"
     ]
    },
    {
     "name": "stderr",
     "output_type": "stream",
     "text": [
      "INFO:tensorflow:Summary name gradients/ppo/optimization/moments_5/Squeeze_1:0/mean is illegal; using gradients/ppo/optimization/moments_5/Squeeze_1_0/mean instead.\n"
     ]
    },
    {
     "name": "stdout",
     "output_type": "stream",
     "text": [
      "INFO:tensorflow:Summary name gradients/ppo/optimization/moments_5/Squeeze_1:0/variance is illegal; using gradients/ppo/optimization/moments_5/Squeeze_1_0/variance instead.\n"
     ]
    },
    {
     "name": "stderr",
     "output_type": "stream",
     "text": [
      "INFO:tensorflow:Summary name gradients/ppo/optimization/moments_5/Squeeze_1:0/variance is illegal; using gradients/ppo/optimization/moments_5/Squeeze_1_0/variance instead.\n"
     ]
    },
    {
     "name": "stdout",
     "output_type": "stream",
     "text": [
      "INFO:tensorflow:Summary name gradients/ppo/optimization/moments_6/Squeeze_1:0/mean is illegal; using gradients/ppo/optimization/moments_6/Squeeze_1_0/mean instead.\n"
     ]
    },
    {
     "name": "stderr",
     "output_type": "stream",
     "text": [
      "INFO:tensorflow:Summary name gradients/ppo/optimization/moments_6/Squeeze_1:0/mean is illegal; using gradients/ppo/optimization/moments_6/Squeeze_1_0/mean instead.\n"
     ]
    },
    {
     "name": "stdout",
     "output_type": "stream",
     "text": [
      "INFO:tensorflow:Summary name gradients/ppo/optimization/moments_6/Squeeze_1:0/variance is illegal; using gradients/ppo/optimization/moments_6/Squeeze_1_0/variance instead.\n"
     ]
    },
    {
     "name": "stderr",
     "output_type": "stream",
     "text": [
      "INFO:tensorflow:Summary name gradients/ppo/optimization/moments_6/Squeeze_1:0/variance is illegal; using gradients/ppo/optimization/moments_6/Squeeze_1_0/variance instead.\n"
     ]
    },
    {
     "name": "stdout",
     "output_type": "stream",
     "text": [
      "INFO:tensorflow:Summary name gradients/ppo/optimization/moments_7/Squeeze_1:0/mean is illegal; using gradients/ppo/optimization/moments_7/Squeeze_1_0/mean instead.\n"
     ]
    },
    {
     "name": "stderr",
     "output_type": "stream",
     "text": [
      "INFO:tensorflow:Summary name gradients/ppo/optimization/moments_7/Squeeze_1:0/mean is illegal; using gradients/ppo/optimization/moments_7/Squeeze_1_0/mean instead.\n"
     ]
    },
    {
     "name": "stdout",
     "output_type": "stream",
     "text": [
      "INFO:tensorflow:Summary name gradients/ppo/optimization/moments_7/Squeeze_1:0/variance is illegal; using gradients/ppo/optimization/moments_7/Squeeze_1_0/variance instead.\n"
     ]
    },
    {
     "name": "stderr",
     "output_type": "stream",
     "text": [
      "INFO:tensorflow:Summary name gradients/ppo/optimization/moments_7/Squeeze_1:0/variance is illegal; using gradients/ppo/optimization/moments_7/Squeeze_1_0/variance instead.\n"
     ]
    },
    {
     "name": "stdout",
     "output_type": "stream",
     "text": [
      "INFO:tensorflow:Summary name gradients/ppo/optimization/moments_8/Squeeze_1:0/mean is illegal; using gradients/ppo/optimization/moments_8/Squeeze_1_0/mean instead.\n"
     ]
    },
    {
     "name": "stderr",
     "output_type": "stream",
     "text": [
      "INFO:tensorflow:Summary name gradients/ppo/optimization/moments_8/Squeeze_1:0/mean is illegal; using gradients/ppo/optimization/moments_8/Squeeze_1_0/mean instead.\n"
     ]
    },
    {
     "name": "stdout",
     "output_type": "stream",
     "text": [
      "INFO:tensorflow:Summary name gradients/ppo/optimization/moments_8/Squeeze_1:0/variance is illegal; using gradients/ppo/optimization/moments_8/Squeeze_1_0/variance instead.\n"
     ]
    },
    {
     "name": "stderr",
     "output_type": "stream",
     "text": [
      "INFO:tensorflow:Summary name gradients/ppo/optimization/moments_8/Squeeze_1:0/variance is illegal; using gradients/ppo/optimization/moments_8/Squeeze_1_0/variance instead.\n"
     ]
    },
    {
     "name": "stdout",
     "output_type": "stream",
     "text": [
      "INFO:tensorflow:Summary name gradients/ppo/optimization/moments_9/Squeeze_1:0/mean is illegal; using gradients/ppo/optimization/moments_9/Squeeze_1_0/mean instead.\n"
     ]
    },
    {
     "name": "stderr",
     "output_type": "stream",
     "text": [
      "INFO:tensorflow:Summary name gradients/ppo/optimization/moments_9/Squeeze_1:0/mean is illegal; using gradients/ppo/optimization/moments_9/Squeeze_1_0/mean instead.\n"
     ]
    },
    {
     "name": "stdout",
     "output_type": "stream",
     "text": [
      "INFO:tensorflow:Summary name gradients/ppo/optimization/moments_9/Squeeze_1:0/variance is illegal; using gradients/ppo/optimization/moments_9/Squeeze_1_0/variance instead.\n"
     ]
    },
    {
     "name": "stderr",
     "output_type": "stream",
     "text": [
      "INFO:tensorflow:Summary name gradients/ppo/optimization/moments_9/Squeeze_1:0/variance is illegal; using gradients/ppo/optimization/moments_9/Squeeze_1_0/variance instead.\n"
     ]
    },
    {
     "name": "stdout",
     "output_type": "stream",
     "text": [
      "INFO:tensorflow:Summary name gradients/ppo/optimization/moments_10/Squeeze_1:0/mean is illegal; using gradients/ppo/optimization/moments_10/Squeeze_1_0/mean instead.\n"
     ]
    },
    {
     "name": "stderr",
     "output_type": "stream",
     "text": [
      "INFO:tensorflow:Summary name gradients/ppo/optimization/moments_10/Squeeze_1:0/mean is illegal; using gradients/ppo/optimization/moments_10/Squeeze_1_0/mean instead.\n"
     ]
    },
    {
     "name": "stdout",
     "output_type": "stream",
     "text": [
      "INFO:tensorflow:Summary name gradients/ppo/optimization/moments_10/Squeeze_1:0/variance is illegal; using gradients/ppo/optimization/moments_10/Squeeze_1_0/variance instead.\n"
     ]
    },
    {
     "name": "stderr",
     "output_type": "stream",
     "text": [
      "INFO:tensorflow:Summary name gradients/ppo/optimization/moments_10/Squeeze_1:0/variance is illegal; using gradients/ppo/optimization/moments_10/Squeeze_1_0/variance instead.\n"
     ]
    },
    {
     "name": "stdout",
     "output_type": "stream",
     "text": [
      "INFO:tensorflow:Summary name gradients/ppo/optimization/moments_11/Squeeze_1:0/mean is illegal; using gradients/ppo/optimization/moments_11/Squeeze_1_0/mean instead.\n"
     ]
    },
    {
     "name": "stderr",
     "output_type": "stream",
     "text": [
      "INFO:tensorflow:Summary name gradients/ppo/optimization/moments_11/Squeeze_1:0/mean is illegal; using gradients/ppo/optimization/moments_11/Squeeze_1_0/mean instead.\n"
     ]
    },
    {
     "name": "stdout",
     "output_type": "stream",
     "text": [
      "INFO:tensorflow:Summary name gradients/ppo/optimization/moments_11/Squeeze_1:0/variance is illegal; using gradients/ppo/optimization/moments_11/Squeeze_1_0/variance instead.\n"
     ]
    },
    {
     "name": "stderr",
     "output_type": "stream",
     "text": [
      "INFO:tensorflow:Summary name gradients/ppo/optimization/moments_11/Squeeze_1:0/variance is illegal; using gradients/ppo/optimization/moments_11/Squeeze_1_0/variance instead.\n"
     ]
    },
    {
     "name": "stdout",
     "output_type": "stream",
     "text": [
      "INFO:tensorflow:Summary name gradients/ppo/optimization/moments_12/Squeeze_1:0/mean is illegal; using gradients/ppo/optimization/moments_12/Squeeze_1_0/mean instead.\n"
     ]
    },
    {
     "name": "stderr",
     "output_type": "stream",
     "text": [
      "INFO:tensorflow:Summary name gradients/ppo/optimization/moments_12/Squeeze_1:0/mean is illegal; using gradients/ppo/optimization/moments_12/Squeeze_1_0/mean instead.\n"
     ]
    },
    {
     "name": "stdout",
     "output_type": "stream",
     "text": [
      "INFO:tensorflow:Summary name gradients/ppo/optimization/moments_12/Squeeze_1:0/variance is illegal; using gradients/ppo/optimization/moments_12/Squeeze_1_0/variance instead.\n"
     ]
    },
    {
     "name": "stderr",
     "output_type": "stream",
     "text": [
      "INFO:tensorflow:Summary name gradients/ppo/optimization/moments_12/Squeeze_1:0/variance is illegal; using gradients/ppo/optimization/moments_12/Squeeze_1_0/variance instead.\n"
     ]
    },
    {
     "name": "stdout",
     "output_type": "stream",
     "text": [
      "INFO:tensorflow:Summary name gradients/ppo/optimization/moments_13/Squeeze_1:0/mean is illegal; using gradients/ppo/optimization/moments_13/Squeeze_1_0/mean instead.\n"
     ]
    },
    {
     "name": "stderr",
     "output_type": "stream",
     "text": [
      "INFO:tensorflow:Summary name gradients/ppo/optimization/moments_13/Squeeze_1:0/mean is illegal; using gradients/ppo/optimization/moments_13/Squeeze_1_0/mean instead.\n"
     ]
    },
    {
     "name": "stdout",
     "output_type": "stream",
     "text": [
      "INFO:tensorflow:Summary name gradients/ppo/optimization/moments_13/Squeeze_1:0/variance is illegal; using gradients/ppo/optimization/moments_13/Squeeze_1_0/variance instead.\n"
     ]
    },
    {
     "name": "stderr",
     "output_type": "stream",
     "text": [
      "INFO:tensorflow:Summary name gradients/ppo/optimization/moments_13/Squeeze_1:0/variance is illegal; using gradients/ppo/optimization/moments_13/Squeeze_1_0/variance instead.\n"
     ]
    },
    {
     "name": "stdout",
     "output_type": "stream",
     "text": [
      "INFO:tensorflow:Summary name gradients/ppo/optimization/moments_14/Squeeze_1:0/mean is illegal; using gradients/ppo/optimization/moments_14/Squeeze_1_0/mean instead.\n"
     ]
    },
    {
     "name": "stderr",
     "output_type": "stream",
     "text": [
      "INFO:tensorflow:Summary name gradients/ppo/optimization/moments_14/Squeeze_1:0/mean is illegal; using gradients/ppo/optimization/moments_14/Squeeze_1_0/mean instead.\n"
     ]
    },
    {
     "name": "stdout",
     "output_type": "stream",
     "text": [
      "INFO:tensorflow:Summary name gradients/ppo/optimization/moments_14/Squeeze_1:0/variance is illegal; using gradients/ppo/optimization/moments_14/Squeeze_1_0/variance instead.\n"
     ]
    },
    {
     "name": "stderr",
     "output_type": "stream",
     "text": [
      "INFO:tensorflow:Summary name gradients/ppo/optimization/moments_14/Squeeze_1:0/variance is illegal; using gradients/ppo/optimization/moments_14/Squeeze_1_0/variance instead.\n"
     ]
    },
    {
     "name": "stdout",
     "output_type": "stream",
     "text": [
      "INFO:tensorflow:Summary name gradients/ppo/optimization/moments_15/Squeeze_1:0/mean is illegal; using gradients/ppo/optimization/moments_15/Squeeze_1_0/mean instead.\n"
     ]
    },
    {
     "name": "stderr",
     "output_type": "stream",
     "text": [
      "INFO:tensorflow:Summary name gradients/ppo/optimization/moments_15/Squeeze_1:0/mean is illegal; using gradients/ppo/optimization/moments_15/Squeeze_1_0/mean instead.\n"
     ]
    },
    {
     "name": "stdout",
     "output_type": "stream",
     "text": [
      "INFO:tensorflow:Summary name gradients/ppo/optimization/moments_15/Squeeze_1:0/variance is illegal; using gradients/ppo/optimization/moments_15/Squeeze_1_0/variance instead.\n"
     ]
    },
    {
     "name": "stderr",
     "output_type": "stream",
     "text": [
      "INFO:tensorflow:Summary name gradients/ppo/optimization/moments_15/Squeeze_1:0/variance is illegal; using gradients/ppo/optimization/moments_15/Squeeze_1_0/variance instead.\n"
     ]
    },
    {
     "name": "stdout",
     "output_type": "stream",
     "text": [
      "INFO:tensorflow:Summary name gradients/ppo/optimization/moments_16/Squeeze_1:0/mean is illegal; using gradients/ppo/optimization/moments_16/Squeeze_1_0/mean instead.\n"
     ]
    },
    {
     "name": "stderr",
     "output_type": "stream",
     "text": [
      "INFO:tensorflow:Summary name gradients/ppo/optimization/moments_16/Squeeze_1:0/mean is illegal; using gradients/ppo/optimization/moments_16/Squeeze_1_0/mean instead.\n"
     ]
    },
    {
     "name": "stdout",
     "output_type": "stream",
     "text": [
      "INFO:tensorflow:Summary name gradients/ppo/optimization/moments_16/Squeeze_1:0/variance is illegal; using gradients/ppo/optimization/moments_16/Squeeze_1_0/variance instead.\n"
     ]
    },
    {
     "name": "stderr",
     "output_type": "stream",
     "text": [
      "INFO:tensorflow:Summary name gradients/ppo/optimization/moments_16/Squeeze_1:0/variance is illegal; using gradients/ppo/optimization/moments_16/Squeeze_1_0/variance instead.\n"
     ]
    },
    {
     "name": "stdout",
     "output_type": "stream",
     "text": [
      "INFO:tensorflow:Summary name gradients/ppo/optimization/moments_17/Squeeze_1:0/mean is illegal; using gradients/ppo/optimization/moments_17/Squeeze_1_0/mean instead.\n"
     ]
    },
    {
     "name": "stderr",
     "output_type": "stream",
     "text": [
      "INFO:tensorflow:Summary name gradients/ppo/optimization/moments_17/Squeeze_1:0/mean is illegal; using gradients/ppo/optimization/moments_17/Squeeze_1_0/mean instead.\n"
     ]
    },
    {
     "name": "stdout",
     "output_type": "stream",
     "text": [
      "INFO:tensorflow:Summary name gradients/ppo/optimization/moments_17/Squeeze_1:0/variance is illegal; using gradients/ppo/optimization/moments_17/Squeeze_1_0/variance instead.\n"
     ]
    },
    {
     "name": "stderr",
     "output_type": "stream",
     "text": [
      "INFO:tensorflow:Summary name gradients/ppo/optimization/moments_17/Squeeze_1:0/variance is illegal; using gradients/ppo/optimization/moments_17/Squeeze_1_0/variance instead.\n"
     ]
    },
    {
     "name": "stdout",
     "output_type": "stream",
     "text": [
      "INFO:tensorflow:Create CheckpointSaverHook.\n"
     ]
    },
    {
     "name": "stderr",
     "output_type": "stream",
     "text": [
      "INFO:tensorflow:Create CheckpointSaverHook.\n"
     ]
    },
    {
     "name": "stdout",
     "output_type": "stream",
     "text": [
      "INFO:tensorflow:Saving checkpoints for 0 into ./outputs/tensorforce_PPO_crypto-20180208_17-41/model.ckpt.\n"
     ]
    },
    {
     "name": "stderr",
     "output_type": "stream",
     "text": [
      "INFO:tensorflow:Saving checkpoints for 0 into ./outputs/tensorforce_PPO_crypto-20180208_17-41/model.ckpt.\n"
     ]
    }
   ],
   "source": [
    "from tensorforce.agents.ppo_agent import PPOAgent\n",
    "\n",
    "explorations_spec=dict(\n",
    "    type=\"epsilon_anneal\",\n",
    "    initial_epsilon=1.0,\n",
    "    final_epsilon= 0.005,\n",
    "    timesteps= int(1e5),\n",
    "    start_timestep=0,\n",
    ")\n",
    "\n",
    "# I want to use a gaussian dist instead of beta, we will apply post processing to scale everything\n",
    "# actions_spec = environment.actions.copy()\n",
    "# del actions_spec[\"min_value\"]\n",
    "# del actions_spec[\"max_value\"]\n",
    "# distributions_spec=dict(action=dict(type='gaussian', mean=0.25, log_stddev=np.log(5e-2)))\n",
    "\n",
    "# Or just use beta:\n",
    "actions_spec = environment.actions.copy()\n",
    "distributions_spec=None\n",
    "\n",
    "# https://github.com/reinforceio/tensorforce/blob/d823809df746c61471e2cba5832ab051581baf7e/docs/summary_spec.md\n",
    "summary_spec = dict(directory=log_dir, \n",
    "                        steps=50,\n",
    "                        labels=[\n",
    "                            'configuration',\n",
    "                            'gradients_scalar',\n",
    "                            'regularization',\n",
    "                            'inputs',\n",
    "                            'losses',\n",
    "#                             'variables'\n",
    "                        ]\n",
    "                    )\n",
    "agent = PPOAgent(\n",
    "    states_spec=environment.states,\n",
    "    actions_spec=actions_spec,\n",
    "    network_spec=network_spec,\n",
    "    batch_size=4096,\n",
    "    saver_spec = dict(\n",
    "        directory=save_path, \n",
    "        steps=100000, \n",
    "#         basename=os.path.basename(save_path)\n",
    "    ),\n",
    "    # Agent\n",
    "    states_preprocessing_spec=None,\n",
    "    explorations_spec=explorations_spec,\n",
    "    reward_preprocessing_spec=None,\n",
    "    # BatchAgent\n",
    "    keep_last_timestep=True,\n",
    "    # PPOAgent\n",
    "    step_optimizer=dict(\n",
    "        type='adam',\n",
    "        learning_rate=1e-3\n",
    "    ),\n",
    "    optimization_steps=10,\n",
    "    # Model\n",
    "    scope='ppo',\n",
    "    discount=0.99,\n",
    "    # DistributionModel\n",
    "    distributions_spec=distributions_spec,\n",
    "    entropy_regularization=0.01, # 0 and 0.01 in baselines\n",
    "    # PGModel\n",
    "    baseline_mode='states',\n",
    "    baseline=dict(\n",
    "        type=\"EIIE\",\n",
    "        layers_spec=network_spec\n",
    "#         update_batch_size=512,\n",
    "    ), # string indicating the baseline value function (currently 'linear' or 'mlp').\n",
    "    baseline_optimizer=dict(type='adam', learning_rate=0.003),\n",
    "    gae_lambda=0.97,\n",
    "    # PGLRModel\n",
    "    likelihood_ratio_clipping=0.2,\n",
    "    summary_spec=summary_spec,\n",
    "    distributed_spec=None\n",
    ")"
   ]
  },
  {
   "cell_type": "markdown",
   "metadata": {},
   "source": [
    "# Train\n",
    "\n",
    "## Callbacks"
   ]
  },
  {
   "cell_type": "code",
   "execution_count": 31,
   "metadata": {
    "ExecuteTime": {
     "end_time": "2017-11-12T23:38:39.044918Z",
     "start_time": "2017-11-12T23:38:38.923845Z"
    }
   },
   "outputs": [],
   "source": [
    "from rewave.callbacks.tensorforce import EpisodeFinishedTQDM, EpisodeFinished\n",
    "from rewave.tools.util import MDD, sharpe"
   ]
  },
  {
   "cell_type": "markdown",
   "metadata": {
    "ExecuteTime": {
     "end_time": "2017-10-15T02:19:28.278977Z",
     "start_time": "2017-10-15T02:19:28.132177Z"
    }
   },
   "source": [
    "## Train"
   ]
  },
  {
   "cell_type": "code",
   "execution_count": 32,
   "metadata": {
    "ExecuteTime": {
     "end_time": "2017-11-12T23:38:39.092835Z",
     "start_time": "2017-11-12T23:38:39.049877Z"
    }
   },
   "outputs": [],
   "source": [
    "from tensorforce.execution import Runner\n",
    "runner = Runner(agent=agent, environment=environment)"
   ]
  },
  {
   "cell_type": "code",
   "execution_count": 33,
   "metadata": {
    "ExecuteTime": {
     "end_time": "2017-11-12T23:38:46.320510Z",
     "start_time": "2017-11-12T23:38:39.094733Z"
    },
    "scrolled": true
   },
   "outputs": [
    {
     "data": {
      "application/vnd.jupyter.widget-view+json": {
       "model_id": "22169760d4324227909990accee27d69",
       "version_major": 2,
       "version_minor": 0
      },
      "text/html": [
       "<p>Failed to display Jupyter Widget of type <code>HBox</code>.</p>\n",
       "<p>\n",
       "  If you're reading this message in the Jupyter Notebook or JupyterLab Notebook, it may mean\n",
       "  that the widgets JavaScript is still loading. If this message persists, it\n",
       "  likely means that the widgets JavaScript library is either not installed or\n",
       "  not enabled. See the <a href=\"https://ipywidgets.readthedocs.io/en/stable/user_install.html\">Jupyter\n",
       "  Widgets Documentation</a> for setup instructions.\n",
       "</p>\n",
       "<p>\n",
       "  If you're reading this message in another frontend (for example, a static\n",
       "  rendering on GitHub or <a href=\"https://nbviewer.jupyter.org/\">NBViewer</a>),\n",
       "  it may mean that your frontend doesn't currently support widgets.\n",
       "</p>\n"
      ],
      "text/plain": [
       "HBox(children=(IntProgress(value=0, max=12000000), HTML(value='')))"
      ]
     },
     "metadata": {},
     "output_type": "display_data"
    },
    {
     "name": "stdout",
     "output_type": "stream",
     "text": [
      "TensorBoardLogger started. Run `tensorboard --logdir=/Users/raphaelbiojout/code/rewave/logs/tensorforce_PPO_crypto-20180208_17-41` to visualize\n",
      "ep reward:  0.00004718 [-0.00017320,  0.00028265], portfolio_value:  1.0434 mdd=-1.38% sharpe=2.1673, expl= 0.00% eps=1000 weights={'C': 0.1679999977350235, 'AAPL': 0.1679999977350235, 'B': 0.1679999977350235, 'cash': 0.1598999947309494, 'MSFT': 0.1679999977350235, 'A': 0.1679999977350235}\n"
     ]
    },
    {
     "data": {
      "application/javascript": [
       "/* Put everything inside the global mpl namespace */\n",
       "window.mpl = {};\n",
       "\n",
       "\n",
       "mpl.get_websocket_type = function() {\n",
       "    if (typeof(WebSocket) !== 'undefined') {\n",
       "        return WebSocket;\n",
       "    } else if (typeof(MozWebSocket) !== 'undefined') {\n",
       "        return MozWebSocket;\n",
       "    } else {\n",
       "        alert('Your browser does not have WebSocket support.' +\n",
       "              'Please try Chrome, Safari or Firefox ≥ 6. ' +\n",
       "              'Firefox 4 and 5 are also supported but you ' +\n",
       "              'have to enable WebSockets in about:config.');\n",
       "    };\n",
       "}\n",
       "\n",
       "mpl.figure = function(figure_id, websocket, ondownload, parent_element) {\n",
       "    this.id = figure_id;\n",
       "\n",
       "    this.ws = websocket;\n",
       "\n",
       "    this.supports_binary = (this.ws.binaryType != undefined);\n",
       "\n",
       "    if (!this.supports_binary) {\n",
       "        var warnings = document.getElementById(\"mpl-warnings\");\n",
       "        if (warnings) {\n",
       "            warnings.style.display = 'block';\n",
       "            warnings.textContent = (\n",
       "                \"This browser does not support binary websocket messages. \" +\n",
       "                    \"Performance may be slow.\");\n",
       "        }\n",
       "    }\n",
       "\n",
       "    this.imageObj = new Image();\n",
       "\n",
       "    this.context = undefined;\n",
       "    this.message = undefined;\n",
       "    this.canvas = undefined;\n",
       "    this.rubberband_canvas = undefined;\n",
       "    this.rubberband_context = undefined;\n",
       "    this.format_dropdown = undefined;\n",
       "\n",
       "    this.image_mode = 'full';\n",
       "\n",
       "    this.root = $('<div/>');\n",
       "    this._root_extra_style(this.root)\n",
       "    this.root.attr('style', 'display: inline-block');\n",
       "\n",
       "    $(parent_element).append(this.root);\n",
       "\n",
       "    this._init_header(this);\n",
       "    this._init_canvas(this);\n",
       "    this._init_toolbar(this);\n",
       "\n",
       "    var fig = this;\n",
       "\n",
       "    this.waiting = false;\n",
       "\n",
       "    this.ws.onopen =  function () {\n",
       "            fig.send_message(\"supports_binary\", {value: fig.supports_binary});\n",
       "            fig.send_message(\"send_image_mode\", {});\n",
       "            if (mpl.ratio != 1) {\n",
       "                fig.send_message(\"set_dpi_ratio\", {'dpi_ratio': mpl.ratio});\n",
       "            }\n",
       "            fig.send_message(\"refresh\", {});\n",
       "        }\n",
       "\n",
       "    this.imageObj.onload = function() {\n",
       "            if (fig.image_mode == 'full') {\n",
       "                // Full images could contain transparency (where diff images\n",
       "                // almost always do), so we need to clear the canvas so that\n",
       "                // there is no ghosting.\n",
       "                fig.context.clearRect(0, 0, fig.canvas.width, fig.canvas.height);\n",
       "            }\n",
       "            fig.context.drawImage(fig.imageObj, 0, 0);\n",
       "        };\n",
       "\n",
       "    this.imageObj.onunload = function() {\n",
       "        fig.ws.close();\n",
       "    }\n",
       "\n",
       "    this.ws.onmessage = this._make_on_message_function(this);\n",
       "\n",
       "    this.ondownload = ondownload;\n",
       "}\n",
       "\n",
       "mpl.figure.prototype._init_header = function() {\n",
       "    var titlebar = $(\n",
       "        '<div class=\"ui-dialog-titlebar ui-widget-header ui-corner-all ' +\n",
       "        'ui-helper-clearfix\"/>');\n",
       "    var titletext = $(\n",
       "        '<div class=\"ui-dialog-title\" style=\"width: 100%; ' +\n",
       "        'text-align: center; padding: 3px;\"/>');\n",
       "    titlebar.append(titletext)\n",
       "    this.root.append(titlebar);\n",
       "    this.header = titletext[0];\n",
       "}\n",
       "\n",
       "\n",
       "\n",
       "mpl.figure.prototype._canvas_extra_style = function(canvas_div) {\n",
       "\n",
       "}\n",
       "\n",
       "\n",
       "mpl.figure.prototype._root_extra_style = function(canvas_div) {\n",
       "\n",
       "}\n",
       "\n",
       "mpl.figure.prototype._init_canvas = function() {\n",
       "    var fig = this;\n",
       "\n",
       "    var canvas_div = $('<div/>');\n",
       "\n",
       "    canvas_div.attr('style', 'position: relative; clear: both; outline: 0');\n",
       "\n",
       "    function canvas_keyboard_event(event) {\n",
       "        return fig.key_event(event, event['data']);\n",
       "    }\n",
       "\n",
       "    canvas_div.keydown('key_press', canvas_keyboard_event);\n",
       "    canvas_div.keyup('key_release', canvas_keyboard_event);\n",
       "    this.canvas_div = canvas_div\n",
       "    this._canvas_extra_style(canvas_div)\n",
       "    this.root.append(canvas_div);\n",
       "\n",
       "    var canvas = $('<canvas/>');\n",
       "    canvas.addClass('mpl-canvas');\n",
       "    canvas.attr('style', \"left: 0; top: 0; z-index: 0; outline: 0\")\n",
       "\n",
       "    this.canvas = canvas[0];\n",
       "    this.context = canvas[0].getContext(\"2d\");\n",
       "\n",
       "    var backingStore = this.context.backingStorePixelRatio ||\n",
       "\tthis.context.webkitBackingStorePixelRatio ||\n",
       "\tthis.context.mozBackingStorePixelRatio ||\n",
       "\tthis.context.msBackingStorePixelRatio ||\n",
       "\tthis.context.oBackingStorePixelRatio ||\n",
       "\tthis.context.backingStorePixelRatio || 1;\n",
       "\n",
       "    mpl.ratio = (window.devicePixelRatio || 1) / backingStore;\n",
       "\n",
       "    var rubberband = $('<canvas/>');\n",
       "    rubberband.attr('style', \"position: absolute; left: 0; top: 0; z-index: 1;\")\n",
       "\n",
       "    var pass_mouse_events = true;\n",
       "\n",
       "    canvas_div.resizable({\n",
       "        start: function(event, ui) {\n",
       "            pass_mouse_events = false;\n",
       "        },\n",
       "        resize: function(event, ui) {\n",
       "            fig.request_resize(ui.size.width, ui.size.height);\n",
       "        },\n",
       "        stop: function(event, ui) {\n",
       "            pass_mouse_events = true;\n",
       "            fig.request_resize(ui.size.width, ui.size.height);\n",
       "        },\n",
       "    });\n",
       "\n",
       "    function mouse_event_fn(event) {\n",
       "        if (pass_mouse_events)\n",
       "            return fig.mouse_event(event, event['data']);\n",
       "    }\n",
       "\n",
       "    rubberband.mousedown('button_press', mouse_event_fn);\n",
       "    rubberband.mouseup('button_release', mouse_event_fn);\n",
       "    // Throttle sequential mouse events to 1 every 20ms.\n",
       "    rubberband.mousemove('motion_notify', mouse_event_fn);\n",
       "\n",
       "    rubberband.mouseenter('figure_enter', mouse_event_fn);\n",
       "    rubberband.mouseleave('figure_leave', mouse_event_fn);\n",
       "\n",
       "    canvas_div.on(\"wheel\", function (event) {\n",
       "        event = event.originalEvent;\n",
       "        event['data'] = 'scroll'\n",
       "        if (event.deltaY < 0) {\n",
       "            event.step = 1;\n",
       "        } else {\n",
       "            event.step = -1;\n",
       "        }\n",
       "        mouse_event_fn(event);\n",
       "    });\n",
       "\n",
       "    canvas_div.append(canvas);\n",
       "    canvas_div.append(rubberband);\n",
       "\n",
       "    this.rubberband = rubberband;\n",
       "    this.rubberband_canvas = rubberband[0];\n",
       "    this.rubberband_context = rubberband[0].getContext(\"2d\");\n",
       "    this.rubberband_context.strokeStyle = \"#000000\";\n",
       "\n",
       "    this._resize_canvas = function(width, height) {\n",
       "        // Keep the size of the canvas, canvas container, and rubber band\n",
       "        // canvas in synch.\n",
       "        canvas_div.css('width', width)\n",
       "        canvas_div.css('height', height)\n",
       "\n",
       "        canvas.attr('width', width * mpl.ratio);\n",
       "        canvas.attr('height', height * mpl.ratio);\n",
       "        canvas.attr('style', 'width: ' + width + 'px; height: ' + height + 'px;');\n",
       "\n",
       "        rubberband.attr('width', width);\n",
       "        rubberband.attr('height', height);\n",
       "    }\n",
       "\n",
       "    // Set the figure to an initial 600x600px, this will subsequently be updated\n",
       "    // upon first draw.\n",
       "    this._resize_canvas(600, 600);\n",
       "\n",
       "    // Disable right mouse context menu.\n",
       "    $(this.rubberband_canvas).bind(\"contextmenu\",function(e){\n",
       "        return false;\n",
       "    });\n",
       "\n",
       "    function set_focus () {\n",
       "        canvas.focus();\n",
       "        canvas_div.focus();\n",
       "    }\n",
       "\n",
       "    window.setTimeout(set_focus, 100);\n",
       "}\n",
       "\n",
       "mpl.figure.prototype._init_toolbar = function() {\n",
       "    var fig = this;\n",
       "\n",
       "    var nav_element = $('<div/>')\n",
       "    nav_element.attr('style', 'width: 100%');\n",
       "    this.root.append(nav_element);\n",
       "\n",
       "    // Define a callback function for later on.\n",
       "    function toolbar_event(event) {\n",
       "        return fig.toolbar_button_onclick(event['data']);\n",
       "    }\n",
       "    function toolbar_mouse_event(event) {\n",
       "        return fig.toolbar_button_onmouseover(event['data']);\n",
       "    }\n",
       "\n",
       "    for(var toolbar_ind in mpl.toolbar_items) {\n",
       "        var name = mpl.toolbar_items[toolbar_ind][0];\n",
       "        var tooltip = mpl.toolbar_items[toolbar_ind][1];\n",
       "        var image = mpl.toolbar_items[toolbar_ind][2];\n",
       "        var method_name = mpl.toolbar_items[toolbar_ind][3];\n",
       "\n",
       "        if (!name) {\n",
       "            // put a spacer in here.\n",
       "            continue;\n",
       "        }\n",
       "        var button = $('<button/>');\n",
       "        button.addClass('ui-button ui-widget ui-state-default ui-corner-all ' +\n",
       "                        'ui-button-icon-only');\n",
       "        button.attr('role', 'button');\n",
       "        button.attr('aria-disabled', 'false');\n",
       "        button.click(method_name, toolbar_event);\n",
       "        button.mouseover(tooltip, toolbar_mouse_event);\n",
       "\n",
       "        var icon_img = $('<span/>');\n",
       "        icon_img.addClass('ui-button-icon-primary ui-icon');\n",
       "        icon_img.addClass(image);\n",
       "        icon_img.addClass('ui-corner-all');\n",
       "\n",
       "        var tooltip_span = $('<span/>');\n",
       "        tooltip_span.addClass('ui-button-text');\n",
       "        tooltip_span.html(tooltip);\n",
       "\n",
       "        button.append(icon_img);\n",
       "        button.append(tooltip_span);\n",
       "\n",
       "        nav_element.append(button);\n",
       "    }\n",
       "\n",
       "    var fmt_picker_span = $('<span/>');\n",
       "\n",
       "    var fmt_picker = $('<select/>');\n",
       "    fmt_picker.addClass('mpl-toolbar-option ui-widget ui-widget-content');\n",
       "    fmt_picker_span.append(fmt_picker);\n",
       "    nav_element.append(fmt_picker_span);\n",
       "    this.format_dropdown = fmt_picker[0];\n",
       "\n",
       "    for (var ind in mpl.extensions) {\n",
       "        var fmt = mpl.extensions[ind];\n",
       "        var option = $(\n",
       "            '<option/>', {selected: fmt === mpl.default_extension}).html(fmt);\n",
       "        fmt_picker.append(option)\n",
       "    }\n",
       "\n",
       "    // Add hover states to the ui-buttons\n",
       "    $( \".ui-button\" ).hover(\n",
       "        function() { $(this).addClass(\"ui-state-hover\");},\n",
       "        function() { $(this).removeClass(\"ui-state-hover\");}\n",
       "    );\n",
       "\n",
       "    var status_bar = $('<span class=\"mpl-message\"/>');\n",
       "    nav_element.append(status_bar);\n",
       "    this.message = status_bar[0];\n",
       "}\n",
       "\n",
       "mpl.figure.prototype.request_resize = function(x_pixels, y_pixels) {\n",
       "    // Request matplotlib to resize the figure. Matplotlib will then trigger a resize in the client,\n",
       "    // which will in turn request a refresh of the image.\n",
       "    this.send_message('resize', {'width': x_pixels, 'height': y_pixels});\n",
       "}\n",
       "\n",
       "mpl.figure.prototype.send_message = function(type, properties) {\n",
       "    properties['type'] = type;\n",
       "    properties['figure_id'] = this.id;\n",
       "    this.ws.send(JSON.stringify(properties));\n",
       "}\n",
       "\n",
       "mpl.figure.prototype.send_draw_message = function() {\n",
       "    if (!this.waiting) {\n",
       "        this.waiting = true;\n",
       "        this.ws.send(JSON.stringify({type: \"draw\", figure_id: this.id}));\n",
       "    }\n",
       "}\n",
       "\n",
       "\n",
       "mpl.figure.prototype.handle_save = function(fig, msg) {\n",
       "    var format_dropdown = fig.format_dropdown;\n",
       "    var format = format_dropdown.options[format_dropdown.selectedIndex].value;\n",
       "    fig.ondownload(fig, format);\n",
       "}\n",
       "\n",
       "\n",
       "mpl.figure.prototype.handle_resize = function(fig, msg) {\n",
       "    var size = msg['size'];\n",
       "    if (size[0] != fig.canvas.width || size[1] != fig.canvas.height) {\n",
       "        fig._resize_canvas(size[0], size[1]);\n",
       "        fig.send_message(\"refresh\", {});\n",
       "    };\n",
       "}\n",
       "\n",
       "mpl.figure.prototype.handle_rubberband = function(fig, msg) {\n",
       "    var x0 = msg['x0'] / mpl.ratio;\n",
       "    var y0 = (fig.canvas.height - msg['y0']) / mpl.ratio;\n",
       "    var x1 = msg['x1'] / mpl.ratio;\n",
       "    var y1 = (fig.canvas.height - msg['y1']) / mpl.ratio;\n",
       "    x0 = Math.floor(x0) + 0.5;\n",
       "    y0 = Math.floor(y0) + 0.5;\n",
       "    x1 = Math.floor(x1) + 0.5;\n",
       "    y1 = Math.floor(y1) + 0.5;\n",
       "    var min_x = Math.min(x0, x1);\n",
       "    var min_y = Math.min(y0, y1);\n",
       "    var width = Math.abs(x1 - x0);\n",
       "    var height = Math.abs(y1 - y0);\n",
       "\n",
       "    fig.rubberband_context.clearRect(\n",
       "        0, 0, fig.canvas.width, fig.canvas.height);\n",
       "\n",
       "    fig.rubberband_context.strokeRect(min_x, min_y, width, height);\n",
       "}\n",
       "\n",
       "mpl.figure.prototype.handle_figure_label = function(fig, msg) {\n",
       "    // Updates the figure title.\n",
       "    fig.header.textContent = msg['label'];\n",
       "}\n",
       "\n",
       "mpl.figure.prototype.handle_cursor = function(fig, msg) {\n",
       "    var cursor = msg['cursor'];\n",
       "    switch(cursor)\n",
       "    {\n",
       "    case 0:\n",
       "        cursor = 'pointer';\n",
       "        break;\n",
       "    case 1:\n",
       "        cursor = 'default';\n",
       "        break;\n",
       "    case 2:\n",
       "        cursor = 'crosshair';\n",
       "        break;\n",
       "    case 3:\n",
       "        cursor = 'move';\n",
       "        break;\n",
       "    }\n",
       "    fig.rubberband_canvas.style.cursor = cursor;\n",
       "}\n",
       "\n",
       "mpl.figure.prototype.handle_message = function(fig, msg) {\n",
       "    fig.message.textContent = msg['message'];\n",
       "}\n",
       "\n",
       "mpl.figure.prototype.handle_draw = function(fig, msg) {\n",
       "    // Request the server to send over a new figure.\n",
       "    fig.send_draw_message();\n",
       "}\n",
       "\n",
       "mpl.figure.prototype.handle_image_mode = function(fig, msg) {\n",
       "    fig.image_mode = msg['mode'];\n",
       "}\n",
       "\n",
       "mpl.figure.prototype.updated_canvas_event = function() {\n",
       "    // Called whenever the canvas gets updated.\n",
       "    this.send_message(\"ack\", {});\n",
       "}\n",
       "\n",
       "// A function to construct a web socket function for onmessage handling.\n",
       "// Called in the figure constructor.\n",
       "mpl.figure.prototype._make_on_message_function = function(fig) {\n",
       "    return function socket_on_message(evt) {\n",
       "        if (evt.data instanceof Blob) {\n",
       "            /* FIXME: We get \"Resource interpreted as Image but\n",
       "             * transferred with MIME type text/plain:\" errors on\n",
       "             * Chrome.  But how to set the MIME type?  It doesn't seem\n",
       "             * to be part of the websocket stream */\n",
       "            evt.data.type = \"image/png\";\n",
       "\n",
       "            /* Free the memory for the previous frames */\n",
       "            if (fig.imageObj.src) {\n",
       "                (window.URL || window.webkitURL).revokeObjectURL(\n",
       "                    fig.imageObj.src);\n",
       "            }\n",
       "\n",
       "            fig.imageObj.src = (window.URL || window.webkitURL).createObjectURL(\n",
       "                evt.data);\n",
       "            fig.updated_canvas_event();\n",
       "            fig.waiting = false;\n",
       "            return;\n",
       "        }\n",
       "        else if (typeof evt.data === 'string' && evt.data.slice(0, 21) == \"data:image/png;base64\") {\n",
       "            fig.imageObj.src = evt.data;\n",
       "            fig.updated_canvas_event();\n",
       "            fig.waiting = false;\n",
       "            return;\n",
       "        }\n",
       "\n",
       "        var msg = JSON.parse(evt.data);\n",
       "        var msg_type = msg['type'];\n",
       "\n",
       "        // Call the  \"handle_{type}\" callback, which takes\n",
       "        // the figure and JSON message as its only arguments.\n",
       "        try {\n",
       "            var callback = fig[\"handle_\" + msg_type];\n",
       "        } catch (e) {\n",
       "            console.log(\"No handler for the '\" + msg_type + \"' message type: \", msg);\n",
       "            return;\n",
       "        }\n",
       "\n",
       "        if (callback) {\n",
       "            try {\n",
       "                // console.log(\"Handling '\" + msg_type + \"' message: \", msg);\n",
       "                callback(fig, msg);\n",
       "            } catch (e) {\n",
       "                console.log(\"Exception inside the 'handler_\" + msg_type + \"' callback:\", e, e.stack, msg);\n",
       "            }\n",
       "        }\n",
       "    };\n",
       "}\n",
       "\n",
       "// from http://stackoverflow.com/questions/1114465/getting-mouse-location-in-canvas\n",
       "mpl.findpos = function(e) {\n",
       "    //this section is from http://www.quirksmode.org/js/events_properties.html\n",
       "    var targ;\n",
       "    if (!e)\n",
       "        e = window.event;\n",
       "    if (e.target)\n",
       "        targ = e.target;\n",
       "    else if (e.srcElement)\n",
       "        targ = e.srcElement;\n",
       "    if (targ.nodeType == 3) // defeat Safari bug\n",
       "        targ = targ.parentNode;\n",
       "\n",
       "    // jQuery normalizes the pageX and pageY\n",
       "    // pageX,Y are the mouse positions relative to the document\n",
       "    // offset() returns the position of the element relative to the document\n",
       "    var x = e.pageX - $(targ).offset().left;\n",
       "    var y = e.pageY - $(targ).offset().top;\n",
       "\n",
       "    return {\"x\": x, \"y\": y};\n",
       "};\n",
       "\n",
       "/*\n",
       " * return a copy of an object with only non-object keys\n",
       " * we need this to avoid circular references\n",
       " * http://stackoverflow.com/a/24161582/3208463\n",
       " */\n",
       "function simpleKeys (original) {\n",
       "  return Object.keys(original).reduce(function (obj, key) {\n",
       "    if (typeof original[key] !== 'object')\n",
       "        obj[key] = original[key]\n",
       "    return obj;\n",
       "  }, {});\n",
       "}\n",
       "\n",
       "mpl.figure.prototype.mouse_event = function(event, name) {\n",
       "    var canvas_pos = mpl.findpos(event)\n",
       "\n",
       "    if (name === 'button_press')\n",
       "    {\n",
       "        this.canvas.focus();\n",
       "        this.canvas_div.focus();\n",
       "    }\n",
       "\n",
       "    var x = canvas_pos.x * mpl.ratio;\n",
       "    var y = canvas_pos.y * mpl.ratio;\n",
       "\n",
       "    this.send_message(name, {x: x, y: y, button: event.button,\n",
       "                             step: event.step,\n",
       "                             guiEvent: simpleKeys(event)});\n",
       "\n",
       "    /* This prevents the web browser from automatically changing to\n",
       "     * the text insertion cursor when the button is pressed.  We want\n",
       "     * to control all of the cursor setting manually through the\n",
       "     * 'cursor' event from matplotlib */\n",
       "    event.preventDefault();\n",
       "    return false;\n",
       "}\n",
       "\n",
       "mpl.figure.prototype._key_event_extra = function(event, name) {\n",
       "    // Handle any extra behaviour associated with a key event\n",
       "}\n",
       "\n",
       "mpl.figure.prototype.key_event = function(event, name) {\n",
       "\n",
       "    // Prevent repeat events\n",
       "    if (name == 'key_press')\n",
       "    {\n",
       "        if (event.which === this._key)\n",
       "            return;\n",
       "        else\n",
       "            this._key = event.which;\n",
       "    }\n",
       "    if (name == 'key_release')\n",
       "        this._key = null;\n",
       "\n",
       "    var value = '';\n",
       "    if (event.ctrlKey && event.which != 17)\n",
       "        value += \"ctrl+\";\n",
       "    if (event.altKey && event.which != 18)\n",
       "        value += \"alt+\";\n",
       "    if (event.shiftKey && event.which != 16)\n",
       "        value += \"shift+\";\n",
       "\n",
       "    value += 'k';\n",
       "    value += event.which.toString();\n",
       "\n",
       "    this._key_event_extra(event, name);\n",
       "\n",
       "    this.send_message(name, {key: value,\n",
       "                             guiEvent: simpleKeys(event)});\n",
       "    return false;\n",
       "}\n",
       "\n",
       "mpl.figure.prototype.toolbar_button_onclick = function(name) {\n",
       "    if (name == 'download') {\n",
       "        this.handle_save(this, null);\n",
       "    } else {\n",
       "        this.send_message(\"toolbar_button\", {name: name});\n",
       "    }\n",
       "};\n",
       "\n",
       "mpl.figure.prototype.toolbar_button_onmouseover = function(tooltip) {\n",
       "    this.message.textContent = tooltip;\n",
       "};\n",
       "mpl.toolbar_items = [[\"Home\", \"Reset original view\", \"fa fa-home icon-home\", \"home\"], [\"Back\", \"Back to  previous view\", \"fa fa-arrow-left icon-arrow-left\", \"back\"], [\"Forward\", \"Forward to next view\", \"fa fa-arrow-right icon-arrow-right\", \"forward\"], [\"\", \"\", \"\", \"\"], [\"Pan\", \"Pan axes with left mouse, zoom with right\", \"fa fa-arrows icon-move\", \"pan\"], [\"Zoom\", \"Zoom to rectangle\", \"fa fa-square-o icon-check-empty\", \"zoom\"], [\"\", \"\", \"\", \"\"], [\"Download\", \"Download plot\", \"fa fa-floppy-o icon-save\", \"download\"]];\n",
       "\n",
       "mpl.extensions = [\"eps\", \"jpeg\", \"pdf\", \"png\", \"ps\", \"raw\", \"svg\", \"tif\"];\n",
       "\n",
       "mpl.default_extension = \"png\";var comm_websocket_adapter = function(comm) {\n",
       "    // Create a \"websocket\"-like object which calls the given IPython comm\n",
       "    // object with the appropriate methods. Currently this is a non binary\n",
       "    // socket, so there is still some room for performance tuning.\n",
       "    var ws = {};\n",
       "\n",
       "    ws.close = function() {\n",
       "        comm.close()\n",
       "    };\n",
       "    ws.send = function(m) {\n",
       "        //console.log('sending', m);\n",
       "        comm.send(m);\n",
       "    };\n",
       "    // Register the callback with on_msg.\n",
       "    comm.on_msg(function(msg) {\n",
       "        //console.log('receiving', msg['content']['data'], msg);\n",
       "        // Pass the mpl event to the overriden (by mpl) onmessage function.\n",
       "        ws.onmessage(msg['content']['data'])\n",
       "    });\n",
       "    return ws;\n",
       "}\n",
       "\n",
       "mpl.mpl_figure_comm = function(comm, msg) {\n",
       "    // This is the function which gets called when the mpl process\n",
       "    // starts-up an IPython Comm through the \"matplotlib\" channel.\n",
       "\n",
       "    var id = msg.content.data.id;\n",
       "    // Get hold of the div created by the display call when the Comm\n",
       "    // socket was opened in Python.\n",
       "    var element = $(\"#\" + id);\n",
       "    var ws_proxy = comm_websocket_adapter(comm)\n",
       "\n",
       "    function ondownload(figure, format) {\n",
       "        window.open(figure.imageObj.src);\n",
       "    }\n",
       "\n",
       "    var fig = new mpl.figure(id, ws_proxy,\n",
       "                           ondownload,\n",
       "                           element.get(0));\n",
       "\n",
       "    // Call onopen now - mpl needs it, as it is assuming we've passed it a real\n",
       "    // web socket which is closed, not our websocket->open comm proxy.\n",
       "    ws_proxy.onopen();\n",
       "\n",
       "    fig.parent_element = element.get(0);\n",
       "    fig.cell_info = mpl.find_output_cell(\"<div id='\" + id + \"'></div>\");\n",
       "    if (!fig.cell_info) {\n",
       "        console.error(\"Failed to find cell for figure\", id, fig);\n",
       "        return;\n",
       "    }\n",
       "\n",
       "    var output_index = fig.cell_info[2]\n",
       "    var cell = fig.cell_info[0];\n",
       "\n",
       "};\n",
       "\n",
       "mpl.figure.prototype.handle_close = function(fig, msg) {\n",
       "    var width = fig.canvas.width/mpl.ratio\n",
       "    fig.root.unbind('remove')\n",
       "\n",
       "    // Update the output cell to use the data from the current canvas.\n",
       "    fig.push_to_output();\n",
       "    var dataURL = fig.canvas.toDataURL();\n",
       "    // Re-enable the keyboard manager in IPython - without this line, in FF,\n",
       "    // the notebook keyboard shortcuts fail.\n",
       "    IPython.keyboard_manager.enable()\n",
       "    $(fig.parent_element).html('<img src=\"' + dataURL + '\" width=\"' + width + '\">');\n",
       "    fig.close_ws(fig, msg);\n",
       "}\n",
       "\n",
       "mpl.figure.prototype.close_ws = function(fig, msg){\n",
       "    fig.send_message('closing', msg);\n",
       "    // fig.ws.close()\n",
       "}\n",
       "\n",
       "mpl.figure.prototype.push_to_output = function(remove_interactive) {\n",
       "    // Turn the data on the canvas into data in the output cell.\n",
       "    var width = this.canvas.width/mpl.ratio\n",
       "    var dataURL = this.canvas.toDataURL();\n",
       "    this.cell_info[1]['text/html'] = '<img src=\"' + dataURL + '\" width=\"' + width + '\">';\n",
       "}\n",
       "\n",
       "mpl.figure.prototype.updated_canvas_event = function() {\n",
       "    // Tell IPython that the notebook contents must change.\n",
       "    IPython.notebook.set_dirty(true);\n",
       "    this.send_message(\"ack\", {});\n",
       "    var fig = this;\n",
       "    // Wait a second, then push the new image to the DOM so\n",
       "    // that it is saved nicely (might be nice to debounce this).\n",
       "    setTimeout(function () { fig.push_to_output() }, 1000);\n",
       "}\n",
       "\n",
       "mpl.figure.prototype._init_toolbar = function() {\n",
       "    var fig = this;\n",
       "\n",
       "    var nav_element = $('<div/>')\n",
       "    nav_element.attr('style', 'width: 100%');\n",
       "    this.root.append(nav_element);\n",
       "\n",
       "    // Define a callback function for later on.\n",
       "    function toolbar_event(event) {\n",
       "        return fig.toolbar_button_onclick(event['data']);\n",
       "    }\n",
       "    function toolbar_mouse_event(event) {\n",
       "        return fig.toolbar_button_onmouseover(event['data']);\n",
       "    }\n",
       "\n",
       "    for(var toolbar_ind in mpl.toolbar_items){\n",
       "        var name = mpl.toolbar_items[toolbar_ind][0];\n",
       "        var tooltip = mpl.toolbar_items[toolbar_ind][1];\n",
       "        var image = mpl.toolbar_items[toolbar_ind][2];\n",
       "        var method_name = mpl.toolbar_items[toolbar_ind][3];\n",
       "\n",
       "        if (!name) { continue; };\n",
       "\n",
       "        var button = $('<button class=\"btn btn-default\" href=\"#\" title=\"' + name + '\"><i class=\"fa ' + image + ' fa-lg\"></i></button>');\n",
       "        button.click(method_name, toolbar_event);\n",
       "        button.mouseover(tooltip, toolbar_mouse_event);\n",
       "        nav_element.append(button);\n",
       "    }\n",
       "\n",
       "    // Add the status bar.\n",
       "    var status_bar = $('<span class=\"mpl-message\" style=\"text-align:right; float: right;\"/>');\n",
       "    nav_element.append(status_bar);\n",
       "    this.message = status_bar[0];\n",
       "\n",
       "    // Add the close button to the window.\n",
       "    var buttongrp = $('<div class=\"btn-group inline pull-right\"></div>');\n",
       "    var button = $('<button class=\"btn btn-mini btn-primary\" href=\"#\" title=\"Stop Interaction\"><i class=\"fa fa-power-off icon-remove icon-large\"></i></button>');\n",
       "    button.click(function (evt) { fig.handle_close(fig, {}); } );\n",
       "    button.mouseover('Stop Interaction', toolbar_mouse_event);\n",
       "    buttongrp.append(button);\n",
       "    var titlebar = this.root.find($('.ui-dialog-titlebar'));\n",
       "    titlebar.prepend(buttongrp);\n",
       "}\n",
       "\n",
       "mpl.figure.prototype._root_extra_style = function(el){\n",
       "    var fig = this\n",
       "    el.on(\"remove\", function(){\n",
       "\tfig.close_ws(fig, {});\n",
       "    });\n",
       "}\n",
       "\n",
       "mpl.figure.prototype._canvas_extra_style = function(el){\n",
       "    // this is important to make the div 'focusable\n",
       "    el.attr('tabindex', 0)\n",
       "    // reach out to IPython and tell the keyboard manager to turn it's self\n",
       "    // off when our div gets focus\n",
       "\n",
       "    // location in version 3\n",
       "    if (IPython.notebook.keyboard_manager) {\n",
       "        IPython.notebook.keyboard_manager.register_events(el);\n",
       "    }\n",
       "    else {\n",
       "        // location in version 2\n",
       "        IPython.keyboard_manager.register_events(el);\n",
       "    }\n",
       "\n",
       "}\n",
       "\n",
       "mpl.figure.prototype._key_event_extra = function(event, name) {\n",
       "    var manager = IPython.notebook.keyboard_manager;\n",
       "    if (!manager)\n",
       "        manager = IPython.keyboard_manager;\n",
       "\n",
       "    // Check for shift+enter\n",
       "    if (event.shiftKey && event.which == 13) {\n",
       "        this.canvas_div.blur();\n",
       "        event.shiftKey = false;\n",
       "        // Send a \"J\" for go to next cell\n",
       "        event.which = 74;\n",
       "        event.keyCode = 74;\n",
       "        manager.command_mode();\n",
       "        manager.handle_keydown(event);\n",
       "    }\n",
       "}\n",
       "\n",
       "mpl.figure.prototype.handle_save = function(fig, msg) {\n",
       "    fig.ondownload(fig, null);\n",
       "}\n",
       "\n",
       "\n",
       "mpl.find_output_cell = function(html_output) {\n",
       "    // Return the cell and output element which can be found *uniquely* in the notebook.\n",
       "    // Note - this is a bit hacky, but it is done because the \"notebook_saving.Notebook\"\n",
       "    // IPython event is triggered only after the cells have been serialised, which for\n",
       "    // our purposes (turning an active figure into a static one), is too late.\n",
       "    var cells = IPython.notebook.get_cells();\n",
       "    var ncells = cells.length;\n",
       "    for (var i=0; i<ncells; i++) {\n",
       "        var cell = cells[i];\n",
       "        if (cell.cell_type === 'code'){\n",
       "            for (var j=0; j<cell.output_area.outputs.length; j++) {\n",
       "                var data = cell.output_area.outputs[j];\n",
       "                if (data.data) {\n",
       "                    // IPython >= 3 moved mimebundle to data attribute of output\n",
       "                    data = data.data;\n",
       "                }\n",
       "                if (data['text/html'] == html_output) {\n",
       "                    return [cell, data, j];\n",
       "                }\n",
       "            }\n",
       "        }\n",
       "    }\n",
       "}\n",
       "\n",
       "// Register the function which deals with the matplotlib target/channel.\n",
       "// The kernel may be null if the page has been refreshed.\n",
       "if (IPython.notebook.kernel != null) {\n",
       "    IPython.notebook.kernel.comm_manager.register_target('matplotlib', mpl.mpl_figure_comm);\n",
       "}\n"
      ],
      "text/plain": [
       "<IPython.core.display.Javascript object>"
      ]
     },
     "metadata": {},
     "output_type": "display_data"
    },
    {
     "data": {
      "text/html": [
       "<img src=\"data:image/png;base64,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\" width=\"432\">"
      ],
      "text/plain": [
       "<IPython.core.display.HTML object>"
      ]
     },
     "metadata": {},
     "output_type": "display_data"
    },
    {
     "data": {
      "application/javascript": [
       "/* Put everything inside the global mpl namespace */\n",
       "window.mpl = {};\n",
       "\n",
       "\n",
       "mpl.get_websocket_type = function() {\n",
       "    if (typeof(WebSocket) !== 'undefined') {\n",
       "        return WebSocket;\n",
       "    } else if (typeof(MozWebSocket) !== 'undefined') {\n",
       "        return MozWebSocket;\n",
       "    } else {\n",
       "        alert('Your browser does not have WebSocket support.' +\n",
       "              'Please try Chrome, Safari or Firefox ≥ 6. ' +\n",
       "              'Firefox 4 and 5 are also supported but you ' +\n",
       "              'have to enable WebSockets in about:config.');\n",
       "    };\n",
       "}\n",
       "\n",
       "mpl.figure = function(figure_id, websocket, ondownload, parent_element) {\n",
       "    this.id = figure_id;\n",
       "\n",
       "    this.ws = websocket;\n",
       "\n",
       "    this.supports_binary = (this.ws.binaryType != undefined);\n",
       "\n",
       "    if (!this.supports_binary) {\n",
       "        var warnings = document.getElementById(\"mpl-warnings\");\n",
       "        if (warnings) {\n",
       "            warnings.style.display = 'block';\n",
       "            warnings.textContent = (\n",
       "                \"This browser does not support binary websocket messages. \" +\n",
       "                    \"Performance may be slow.\");\n",
       "        }\n",
       "    }\n",
       "\n",
       "    this.imageObj = new Image();\n",
       "\n",
       "    this.context = undefined;\n",
       "    this.message = undefined;\n",
       "    this.canvas = undefined;\n",
       "    this.rubberband_canvas = undefined;\n",
       "    this.rubberband_context = undefined;\n",
       "    this.format_dropdown = undefined;\n",
       "\n",
       "    this.image_mode = 'full';\n",
       "\n",
       "    this.root = $('<div/>');\n",
       "    this._root_extra_style(this.root)\n",
       "    this.root.attr('style', 'display: inline-block');\n",
       "\n",
       "    $(parent_element).append(this.root);\n",
       "\n",
       "    this._init_header(this);\n",
       "    this._init_canvas(this);\n",
       "    this._init_toolbar(this);\n",
       "\n",
       "    var fig = this;\n",
       "\n",
       "    this.waiting = false;\n",
       "\n",
       "    this.ws.onopen =  function () {\n",
       "            fig.send_message(\"supports_binary\", {value: fig.supports_binary});\n",
       "            fig.send_message(\"send_image_mode\", {});\n",
       "            if (mpl.ratio != 1) {\n",
       "                fig.send_message(\"set_dpi_ratio\", {'dpi_ratio': mpl.ratio});\n",
       "            }\n",
       "            fig.send_message(\"refresh\", {});\n",
       "        }\n",
       "\n",
       "    this.imageObj.onload = function() {\n",
       "            if (fig.image_mode == 'full') {\n",
       "                // Full images could contain transparency (where diff images\n",
       "                // almost always do), so we need to clear the canvas so that\n",
       "                // there is no ghosting.\n",
       "                fig.context.clearRect(0, 0, fig.canvas.width, fig.canvas.height);\n",
       "            }\n",
       "            fig.context.drawImage(fig.imageObj, 0, 0);\n",
       "        };\n",
       "\n",
       "    this.imageObj.onunload = function() {\n",
       "        fig.ws.close();\n",
       "    }\n",
       "\n",
       "    this.ws.onmessage = this._make_on_message_function(this);\n",
       "\n",
       "    this.ondownload = ondownload;\n",
       "}\n",
       "\n",
       "mpl.figure.prototype._init_header = function() {\n",
       "    var titlebar = $(\n",
       "        '<div class=\"ui-dialog-titlebar ui-widget-header ui-corner-all ' +\n",
       "        'ui-helper-clearfix\"/>');\n",
       "    var titletext = $(\n",
       "        '<div class=\"ui-dialog-title\" style=\"width: 100%; ' +\n",
       "        'text-align: center; padding: 3px;\"/>');\n",
       "    titlebar.append(titletext)\n",
       "    this.root.append(titlebar);\n",
       "    this.header = titletext[0];\n",
       "}\n",
       "\n",
       "\n",
       "\n",
       "mpl.figure.prototype._canvas_extra_style = function(canvas_div) {\n",
       "\n",
       "}\n",
       "\n",
       "\n",
       "mpl.figure.prototype._root_extra_style = function(canvas_div) {\n",
       "\n",
       "}\n",
       "\n",
       "mpl.figure.prototype._init_canvas = function() {\n",
       "    var fig = this;\n",
       "\n",
       "    var canvas_div = $('<div/>');\n",
       "\n",
       "    canvas_div.attr('style', 'position: relative; clear: both; outline: 0');\n",
       "\n",
       "    function canvas_keyboard_event(event) {\n",
       "        return fig.key_event(event, event['data']);\n",
       "    }\n",
       "\n",
       "    canvas_div.keydown('key_press', canvas_keyboard_event);\n",
       "    canvas_div.keyup('key_release', canvas_keyboard_event);\n",
       "    this.canvas_div = canvas_div\n",
       "    this._canvas_extra_style(canvas_div)\n",
       "    this.root.append(canvas_div);\n",
       "\n",
       "    var canvas = $('<canvas/>');\n",
       "    canvas.addClass('mpl-canvas');\n",
       "    canvas.attr('style', \"left: 0; top: 0; z-index: 0; outline: 0\")\n",
       "\n",
       "    this.canvas = canvas[0];\n",
       "    this.context = canvas[0].getContext(\"2d\");\n",
       "\n",
       "    var backingStore = this.context.backingStorePixelRatio ||\n",
       "\tthis.context.webkitBackingStorePixelRatio ||\n",
       "\tthis.context.mozBackingStorePixelRatio ||\n",
       "\tthis.context.msBackingStorePixelRatio ||\n",
       "\tthis.context.oBackingStorePixelRatio ||\n",
       "\tthis.context.backingStorePixelRatio || 1;\n",
       "\n",
       "    mpl.ratio = (window.devicePixelRatio || 1) / backingStore;\n",
       "\n",
       "    var rubberband = $('<canvas/>');\n",
       "    rubberband.attr('style', \"position: absolute; left: 0; top: 0; z-index: 1;\")\n",
       "\n",
       "    var pass_mouse_events = true;\n",
       "\n",
       "    canvas_div.resizable({\n",
       "        start: function(event, ui) {\n",
       "            pass_mouse_events = false;\n",
       "        },\n",
       "        resize: function(event, ui) {\n",
       "            fig.request_resize(ui.size.width, ui.size.height);\n",
       "        },\n",
       "        stop: function(event, ui) {\n",
       "            pass_mouse_events = true;\n",
       "            fig.request_resize(ui.size.width, ui.size.height);\n",
       "        },\n",
       "    });\n",
       "\n",
       "    function mouse_event_fn(event) {\n",
       "        if (pass_mouse_events)\n",
       "            return fig.mouse_event(event, event['data']);\n",
       "    }\n",
       "\n",
       "    rubberband.mousedown('button_press', mouse_event_fn);\n",
       "    rubberband.mouseup('button_release', mouse_event_fn);\n",
       "    // Throttle sequential mouse events to 1 every 20ms.\n",
       "    rubberband.mousemove('motion_notify', mouse_event_fn);\n",
       "\n",
       "    rubberband.mouseenter('figure_enter', mouse_event_fn);\n",
       "    rubberband.mouseleave('figure_leave', mouse_event_fn);\n",
       "\n",
       "    canvas_div.on(\"wheel\", function (event) {\n",
       "        event = event.originalEvent;\n",
       "        event['data'] = 'scroll'\n",
       "        if (event.deltaY < 0) {\n",
       "            event.step = 1;\n",
       "        } else {\n",
       "            event.step = -1;\n",
       "        }\n",
       "        mouse_event_fn(event);\n",
       "    });\n",
       "\n",
       "    canvas_div.append(canvas);\n",
       "    canvas_div.append(rubberband);\n",
       "\n",
       "    this.rubberband = rubberband;\n",
       "    this.rubberband_canvas = rubberband[0];\n",
       "    this.rubberband_context = rubberband[0].getContext(\"2d\");\n",
       "    this.rubberband_context.strokeStyle = \"#000000\";\n",
       "\n",
       "    this._resize_canvas = function(width, height) {\n",
       "        // Keep the size of the canvas, canvas container, and rubber band\n",
       "        // canvas in synch.\n",
       "        canvas_div.css('width', width)\n",
       "        canvas_div.css('height', height)\n",
       "\n",
       "        canvas.attr('width', width * mpl.ratio);\n",
       "        canvas.attr('height', height * mpl.ratio);\n",
       "        canvas.attr('style', 'width: ' + width + 'px; height: ' + height + 'px;');\n",
       "\n",
       "        rubberband.attr('width', width);\n",
       "        rubberband.attr('height', height);\n",
       "    }\n",
       "\n",
       "    // Set the figure to an initial 600x600px, this will subsequently be updated\n",
       "    // upon first draw.\n",
       "    this._resize_canvas(600, 600);\n",
       "\n",
       "    // Disable right mouse context menu.\n",
       "    $(this.rubberband_canvas).bind(\"contextmenu\",function(e){\n",
       "        return false;\n",
       "    });\n",
       "\n",
       "    function set_focus () {\n",
       "        canvas.focus();\n",
       "        canvas_div.focus();\n",
       "    }\n",
       "\n",
       "    window.setTimeout(set_focus, 100);\n",
       "}\n",
       "\n",
       "mpl.figure.prototype._init_toolbar = function() {\n",
       "    var fig = this;\n",
       "\n",
       "    var nav_element = $('<div/>')\n",
       "    nav_element.attr('style', 'width: 100%');\n",
       "    this.root.append(nav_element);\n",
       "\n",
       "    // Define a callback function for later on.\n",
       "    function toolbar_event(event) {\n",
       "        return fig.toolbar_button_onclick(event['data']);\n",
       "    }\n",
       "    function toolbar_mouse_event(event) {\n",
       "        return fig.toolbar_button_onmouseover(event['data']);\n",
       "    }\n",
       "\n",
       "    for(var toolbar_ind in mpl.toolbar_items) {\n",
       "        var name = mpl.toolbar_items[toolbar_ind][0];\n",
       "        var tooltip = mpl.toolbar_items[toolbar_ind][1];\n",
       "        var image = mpl.toolbar_items[toolbar_ind][2];\n",
       "        var method_name = mpl.toolbar_items[toolbar_ind][3];\n",
       "\n",
       "        if (!name) {\n",
       "            // put a spacer in here.\n",
       "            continue;\n",
       "        }\n",
       "        var button = $('<button/>');\n",
       "        button.addClass('ui-button ui-widget ui-state-default ui-corner-all ' +\n",
       "                        'ui-button-icon-only');\n",
       "        button.attr('role', 'button');\n",
       "        button.attr('aria-disabled', 'false');\n",
       "        button.click(method_name, toolbar_event);\n",
       "        button.mouseover(tooltip, toolbar_mouse_event);\n",
       "\n",
       "        var icon_img = $('<span/>');\n",
       "        icon_img.addClass('ui-button-icon-primary ui-icon');\n",
       "        icon_img.addClass(image);\n",
       "        icon_img.addClass('ui-corner-all');\n",
       "\n",
       "        var tooltip_span = $('<span/>');\n",
       "        tooltip_span.addClass('ui-button-text');\n",
       "        tooltip_span.html(tooltip);\n",
       "\n",
       "        button.append(icon_img);\n",
       "        button.append(tooltip_span);\n",
       "\n",
       "        nav_element.append(button);\n",
       "    }\n",
       "\n",
       "    var fmt_picker_span = $('<span/>');\n",
       "\n",
       "    var fmt_picker = $('<select/>');\n",
       "    fmt_picker.addClass('mpl-toolbar-option ui-widget ui-widget-content');\n",
       "    fmt_picker_span.append(fmt_picker);\n",
       "    nav_element.append(fmt_picker_span);\n",
       "    this.format_dropdown = fmt_picker[0];\n",
       "\n",
       "    for (var ind in mpl.extensions) {\n",
       "        var fmt = mpl.extensions[ind];\n",
       "        var option = $(\n",
       "            '<option/>', {selected: fmt === mpl.default_extension}).html(fmt);\n",
       "        fmt_picker.append(option)\n",
       "    }\n",
       "\n",
       "    // Add hover states to the ui-buttons\n",
       "    $( \".ui-button\" ).hover(\n",
       "        function() { $(this).addClass(\"ui-state-hover\");},\n",
       "        function() { $(this).removeClass(\"ui-state-hover\");}\n",
       "    );\n",
       "\n",
       "    var status_bar = $('<span class=\"mpl-message\"/>');\n",
       "    nav_element.append(status_bar);\n",
       "    this.message = status_bar[0];\n",
       "}\n",
       "\n",
       "mpl.figure.prototype.request_resize = function(x_pixels, y_pixels) {\n",
       "    // Request matplotlib to resize the figure. Matplotlib will then trigger a resize in the client,\n",
       "    // which will in turn request a refresh of the image.\n",
       "    this.send_message('resize', {'width': x_pixels, 'height': y_pixels});\n",
       "}\n",
       "\n",
       "mpl.figure.prototype.send_message = function(type, properties) {\n",
       "    properties['type'] = type;\n",
       "    properties['figure_id'] = this.id;\n",
       "    this.ws.send(JSON.stringify(properties));\n",
       "}\n",
       "\n",
       "mpl.figure.prototype.send_draw_message = function() {\n",
       "    if (!this.waiting) {\n",
       "        this.waiting = true;\n",
       "        this.ws.send(JSON.stringify({type: \"draw\", figure_id: this.id}));\n",
       "    }\n",
       "}\n",
       "\n",
       "\n",
       "mpl.figure.prototype.handle_save = function(fig, msg) {\n",
       "    var format_dropdown = fig.format_dropdown;\n",
       "    var format = format_dropdown.options[format_dropdown.selectedIndex].value;\n",
       "    fig.ondownload(fig, format);\n",
       "}\n",
       "\n",
       "\n",
       "mpl.figure.prototype.handle_resize = function(fig, msg) {\n",
       "    var size = msg['size'];\n",
       "    if (size[0] != fig.canvas.width || size[1] != fig.canvas.height) {\n",
       "        fig._resize_canvas(size[0], size[1]);\n",
       "        fig.send_message(\"refresh\", {});\n",
       "    };\n",
       "}\n",
       "\n",
       "mpl.figure.prototype.handle_rubberband = function(fig, msg) {\n",
       "    var x0 = msg['x0'] / mpl.ratio;\n",
       "    var y0 = (fig.canvas.height - msg['y0']) / mpl.ratio;\n",
       "    var x1 = msg['x1'] / mpl.ratio;\n",
       "    var y1 = (fig.canvas.height - msg['y1']) / mpl.ratio;\n",
       "    x0 = Math.floor(x0) + 0.5;\n",
       "    y0 = Math.floor(y0) + 0.5;\n",
       "    x1 = Math.floor(x1) + 0.5;\n",
       "    y1 = Math.floor(y1) + 0.5;\n",
       "    var min_x = Math.min(x0, x1);\n",
       "    var min_y = Math.min(y0, y1);\n",
       "    var width = Math.abs(x1 - x0);\n",
       "    var height = Math.abs(y1 - y0);\n",
       "\n",
       "    fig.rubberband_context.clearRect(\n",
       "        0, 0, fig.canvas.width, fig.canvas.height);\n",
       "\n",
       "    fig.rubberband_context.strokeRect(min_x, min_y, width, height);\n",
       "}\n",
       "\n",
       "mpl.figure.prototype.handle_figure_label = function(fig, msg) {\n",
       "    // Updates the figure title.\n",
       "    fig.header.textContent = msg['label'];\n",
       "}\n",
       "\n",
       "mpl.figure.prototype.handle_cursor = function(fig, msg) {\n",
       "    var cursor = msg['cursor'];\n",
       "    switch(cursor)\n",
       "    {\n",
       "    case 0:\n",
       "        cursor = 'pointer';\n",
       "        break;\n",
       "    case 1:\n",
       "        cursor = 'default';\n",
       "        break;\n",
       "    case 2:\n",
       "        cursor = 'crosshair';\n",
       "        break;\n",
       "    case 3:\n",
       "        cursor = 'move';\n",
       "        break;\n",
       "    }\n",
       "    fig.rubberband_canvas.style.cursor = cursor;\n",
       "}\n",
       "\n",
       "mpl.figure.prototype.handle_message = function(fig, msg) {\n",
       "    fig.message.textContent = msg['message'];\n",
       "}\n",
       "\n",
       "mpl.figure.prototype.handle_draw = function(fig, msg) {\n",
       "    // Request the server to send over a new figure.\n",
       "    fig.send_draw_message();\n",
       "}\n",
       "\n",
       "mpl.figure.prototype.handle_image_mode = function(fig, msg) {\n",
       "    fig.image_mode = msg['mode'];\n",
       "}\n",
       "\n",
       "mpl.figure.prototype.updated_canvas_event = function() {\n",
       "    // Called whenever the canvas gets updated.\n",
       "    this.send_message(\"ack\", {});\n",
       "}\n",
       "\n",
       "// A function to construct a web socket function for onmessage handling.\n",
       "// Called in the figure constructor.\n",
       "mpl.figure.prototype._make_on_message_function = function(fig) {\n",
       "    return function socket_on_message(evt) {\n",
       "        if (evt.data instanceof Blob) {\n",
       "            /* FIXME: We get \"Resource interpreted as Image but\n",
       "             * transferred with MIME type text/plain:\" errors on\n",
       "             * Chrome.  But how to set the MIME type?  It doesn't seem\n",
       "             * to be part of the websocket stream */\n",
       "            evt.data.type = \"image/png\";\n",
       "\n",
       "            /* Free the memory for the previous frames */\n",
       "            if (fig.imageObj.src) {\n",
       "                (window.URL || window.webkitURL).revokeObjectURL(\n",
       "                    fig.imageObj.src);\n",
       "            }\n",
       "\n",
       "            fig.imageObj.src = (window.URL || window.webkitURL).createObjectURL(\n",
       "                evt.data);\n",
       "            fig.updated_canvas_event();\n",
       "            fig.waiting = false;\n",
       "            return;\n",
       "        }\n",
       "        else if (typeof evt.data === 'string' && evt.data.slice(0, 21) == \"data:image/png;base64\") {\n",
       "            fig.imageObj.src = evt.data;\n",
       "            fig.updated_canvas_event();\n",
       "            fig.waiting = false;\n",
       "            return;\n",
       "        }\n",
       "\n",
       "        var msg = JSON.parse(evt.data);\n",
       "        var msg_type = msg['type'];\n",
       "\n",
       "        // Call the  \"handle_{type}\" callback, which takes\n",
       "        // the figure and JSON message as its only arguments.\n",
       "        try {\n",
       "            var callback = fig[\"handle_\" + msg_type];\n",
       "        } catch (e) {\n",
       "            console.log(\"No handler for the '\" + msg_type + \"' message type: \", msg);\n",
       "            return;\n",
       "        }\n",
       "\n",
       "        if (callback) {\n",
       "            try {\n",
       "                // console.log(\"Handling '\" + msg_type + \"' message: \", msg);\n",
       "                callback(fig, msg);\n",
       "            } catch (e) {\n",
       "                console.log(\"Exception inside the 'handler_\" + msg_type + \"' callback:\", e, e.stack, msg);\n",
       "            }\n",
       "        }\n",
       "    };\n",
       "}\n",
       "\n",
       "// from http://stackoverflow.com/questions/1114465/getting-mouse-location-in-canvas\n",
       "mpl.findpos = function(e) {\n",
       "    //this section is from http://www.quirksmode.org/js/events_properties.html\n",
       "    var targ;\n",
       "    if (!e)\n",
       "        e = window.event;\n",
       "    if (e.target)\n",
       "        targ = e.target;\n",
       "    else if (e.srcElement)\n",
       "        targ = e.srcElement;\n",
       "    if (targ.nodeType == 3) // defeat Safari bug\n",
       "        targ = targ.parentNode;\n",
       "\n",
       "    // jQuery normalizes the pageX and pageY\n",
       "    // pageX,Y are the mouse positions relative to the document\n",
       "    // offset() returns the position of the element relative to the document\n",
       "    var x = e.pageX - $(targ).offset().left;\n",
       "    var y = e.pageY - $(targ).offset().top;\n",
       "\n",
       "    return {\"x\": x, \"y\": y};\n",
       "};\n",
       "\n",
       "/*\n",
       " * return a copy of an object with only non-object keys\n",
       " * we need this to avoid circular references\n",
       " * http://stackoverflow.com/a/24161582/3208463\n",
       " */\n",
       "function simpleKeys (original) {\n",
       "  return Object.keys(original).reduce(function (obj, key) {\n",
       "    if (typeof original[key] !== 'object')\n",
       "        obj[key] = original[key]\n",
       "    return obj;\n",
       "  }, {});\n",
       "}\n",
       "\n",
       "mpl.figure.prototype.mouse_event = function(event, name) {\n",
       "    var canvas_pos = mpl.findpos(event)\n",
       "\n",
       "    if (name === 'button_press')\n",
       "    {\n",
       "        this.canvas.focus();\n",
       "        this.canvas_div.focus();\n",
       "    }\n",
       "\n",
       "    var x = canvas_pos.x * mpl.ratio;\n",
       "    var y = canvas_pos.y * mpl.ratio;\n",
       "\n",
       "    this.send_message(name, {x: x, y: y, button: event.button,\n",
       "                             step: event.step,\n",
       "                             guiEvent: simpleKeys(event)});\n",
       "\n",
       "    /* This prevents the web browser from automatically changing to\n",
       "     * the text insertion cursor when the button is pressed.  We want\n",
       "     * to control all of the cursor setting manually through the\n",
       "     * 'cursor' event from matplotlib */\n",
       "    event.preventDefault();\n",
       "    return false;\n",
       "}\n",
       "\n",
       "mpl.figure.prototype._key_event_extra = function(event, name) {\n",
       "    // Handle any extra behaviour associated with a key event\n",
       "}\n",
       "\n",
       "mpl.figure.prototype.key_event = function(event, name) {\n",
       "\n",
       "    // Prevent repeat events\n",
       "    if (name == 'key_press')\n",
       "    {\n",
       "        if (event.which === this._key)\n",
       "            return;\n",
       "        else\n",
       "            this._key = event.which;\n",
       "    }\n",
       "    if (name == 'key_release')\n",
       "        this._key = null;\n",
       "\n",
       "    var value = '';\n",
       "    if (event.ctrlKey && event.which != 17)\n",
       "        value += \"ctrl+\";\n",
       "    if (event.altKey && event.which != 18)\n",
       "        value += \"alt+\";\n",
       "    if (event.shiftKey && event.which != 16)\n",
       "        value += \"shift+\";\n",
       "\n",
       "    value += 'k';\n",
       "    value += event.which.toString();\n",
       "\n",
       "    this._key_event_extra(event, name);\n",
       "\n",
       "    this.send_message(name, {key: value,\n",
       "                             guiEvent: simpleKeys(event)});\n",
       "    return false;\n",
       "}\n",
       "\n",
       "mpl.figure.prototype.toolbar_button_onclick = function(name) {\n",
       "    if (name == 'download') {\n",
       "        this.handle_save(this, null);\n",
       "    } else {\n",
       "        this.send_message(\"toolbar_button\", {name: name});\n",
       "    }\n",
       "};\n",
       "\n",
       "mpl.figure.prototype.toolbar_button_onmouseover = function(tooltip) {\n",
       "    this.message.textContent = tooltip;\n",
       "};\n",
       "mpl.toolbar_items = [[\"Home\", \"Reset original view\", \"fa fa-home icon-home\", \"home\"], [\"Back\", \"Back to  previous view\", \"fa fa-arrow-left icon-arrow-left\", \"back\"], [\"Forward\", \"Forward to next view\", \"fa fa-arrow-right icon-arrow-right\", \"forward\"], [\"\", \"\", \"\", \"\"], [\"Pan\", \"Pan axes with left mouse, zoom with right\", \"fa fa-arrows icon-move\", \"pan\"], [\"Zoom\", \"Zoom to rectangle\", \"fa fa-square-o icon-check-empty\", \"zoom\"], [\"\", \"\", \"\", \"\"], [\"Download\", \"Download plot\", \"fa fa-floppy-o icon-save\", \"download\"]];\n",
       "\n",
       "mpl.extensions = [\"eps\", \"jpeg\", \"pdf\", \"png\", \"ps\", \"raw\", \"svg\", \"tif\"];\n",
       "\n",
       "mpl.default_extension = \"png\";var comm_websocket_adapter = function(comm) {\n",
       "    // Create a \"websocket\"-like object which calls the given IPython comm\n",
       "    // object with the appropriate methods. Currently this is a non binary\n",
       "    // socket, so there is still some room for performance tuning.\n",
       "    var ws = {};\n",
       "\n",
       "    ws.close = function() {\n",
       "        comm.close()\n",
       "    };\n",
       "    ws.send = function(m) {\n",
       "        //console.log('sending', m);\n",
       "        comm.send(m);\n",
       "    };\n",
       "    // Register the callback with on_msg.\n",
       "    comm.on_msg(function(msg) {\n",
       "        //console.log('receiving', msg['content']['data'], msg);\n",
       "        // Pass the mpl event to the overriden (by mpl) onmessage function.\n",
       "        ws.onmessage(msg['content']['data'])\n",
       "    });\n",
       "    return ws;\n",
       "}\n",
       "\n",
       "mpl.mpl_figure_comm = function(comm, msg) {\n",
       "    // This is the function which gets called when the mpl process\n",
       "    // starts-up an IPython Comm through the \"matplotlib\" channel.\n",
       "\n",
       "    var id = msg.content.data.id;\n",
       "    // Get hold of the div created by the display call when the Comm\n",
       "    // socket was opened in Python.\n",
       "    var element = $(\"#\" + id);\n",
       "    var ws_proxy = comm_websocket_adapter(comm)\n",
       "\n",
       "    function ondownload(figure, format) {\n",
       "        window.open(figure.imageObj.src);\n",
       "    }\n",
       "\n",
       "    var fig = new mpl.figure(id, ws_proxy,\n",
       "                           ondownload,\n",
       "                           element.get(0));\n",
       "\n",
       "    // Call onopen now - mpl needs it, as it is assuming we've passed it a real\n",
       "    // web socket which is closed, not our websocket->open comm proxy.\n",
       "    ws_proxy.onopen();\n",
       "\n",
       "    fig.parent_element = element.get(0);\n",
       "    fig.cell_info = mpl.find_output_cell(\"<div id='\" + id + \"'></div>\");\n",
       "    if (!fig.cell_info) {\n",
       "        console.error(\"Failed to find cell for figure\", id, fig);\n",
       "        return;\n",
       "    }\n",
       "\n",
       "    var output_index = fig.cell_info[2]\n",
       "    var cell = fig.cell_info[0];\n",
       "\n",
       "};\n",
       "\n",
       "mpl.figure.prototype.handle_close = function(fig, msg) {\n",
       "    var width = fig.canvas.width/mpl.ratio\n",
       "    fig.root.unbind('remove')\n",
       "\n",
       "    // Update the output cell to use the data from the current canvas.\n",
       "    fig.push_to_output();\n",
       "    var dataURL = fig.canvas.toDataURL();\n",
       "    // Re-enable the keyboard manager in IPython - without this line, in FF,\n",
       "    // the notebook keyboard shortcuts fail.\n",
       "    IPython.keyboard_manager.enable()\n",
       "    $(fig.parent_element).html('<img src=\"' + dataURL + '\" width=\"' + width + '\">');\n",
       "    fig.close_ws(fig, msg);\n",
       "}\n",
       "\n",
       "mpl.figure.prototype.close_ws = function(fig, msg){\n",
       "    fig.send_message('closing', msg);\n",
       "    // fig.ws.close()\n",
       "}\n",
       "\n",
       "mpl.figure.prototype.push_to_output = function(remove_interactive) {\n",
       "    // Turn the data on the canvas into data in the output cell.\n",
       "    var width = this.canvas.width/mpl.ratio\n",
       "    var dataURL = this.canvas.toDataURL();\n",
       "    this.cell_info[1]['text/html'] = '<img src=\"' + dataURL + '\" width=\"' + width + '\">';\n",
       "}\n",
       "\n",
       "mpl.figure.prototype.updated_canvas_event = function() {\n",
       "    // Tell IPython that the notebook contents must change.\n",
       "    IPython.notebook.set_dirty(true);\n",
       "    this.send_message(\"ack\", {});\n",
       "    var fig = this;\n",
       "    // Wait a second, then push the new image to the DOM so\n",
       "    // that it is saved nicely (might be nice to debounce this).\n",
       "    setTimeout(function () { fig.push_to_output() }, 1000);\n",
       "}\n",
       "\n",
       "mpl.figure.prototype._init_toolbar = function() {\n",
       "    var fig = this;\n",
       "\n",
       "    var nav_element = $('<div/>')\n",
       "    nav_element.attr('style', 'width: 100%');\n",
       "    this.root.append(nav_element);\n",
       "\n",
       "    // Define a callback function for later on.\n",
       "    function toolbar_event(event) {\n",
       "        return fig.toolbar_button_onclick(event['data']);\n",
       "    }\n",
       "    function toolbar_mouse_event(event) {\n",
       "        return fig.toolbar_button_onmouseover(event['data']);\n",
       "    }\n",
       "\n",
       "    for(var toolbar_ind in mpl.toolbar_items){\n",
       "        var name = mpl.toolbar_items[toolbar_ind][0];\n",
       "        var tooltip = mpl.toolbar_items[toolbar_ind][1];\n",
       "        var image = mpl.toolbar_items[toolbar_ind][2];\n",
       "        var method_name = mpl.toolbar_items[toolbar_ind][3];\n",
       "\n",
       "        if (!name) { continue; };\n",
       "\n",
       "        var button = $('<button class=\"btn btn-default\" href=\"#\" title=\"' + name + '\"><i class=\"fa ' + image + ' fa-lg\"></i></button>');\n",
       "        button.click(method_name, toolbar_event);\n",
       "        button.mouseover(tooltip, toolbar_mouse_event);\n",
       "        nav_element.append(button);\n",
       "    }\n",
       "\n",
       "    // Add the status bar.\n",
       "    var status_bar = $('<span class=\"mpl-message\" style=\"text-align:right; float: right;\"/>');\n",
       "    nav_element.append(status_bar);\n",
       "    this.message = status_bar[0];\n",
       "\n",
       "    // Add the close button to the window.\n",
       "    var buttongrp = $('<div class=\"btn-group inline pull-right\"></div>');\n",
       "    var button = $('<button class=\"btn btn-mini btn-primary\" href=\"#\" title=\"Stop Interaction\"><i class=\"fa fa-power-off icon-remove icon-large\"></i></button>');\n",
       "    button.click(function (evt) { fig.handle_close(fig, {}); } );\n",
       "    button.mouseover('Stop Interaction', toolbar_mouse_event);\n",
       "    buttongrp.append(button);\n",
       "    var titlebar = this.root.find($('.ui-dialog-titlebar'));\n",
       "    titlebar.prepend(buttongrp);\n",
       "}\n",
       "\n",
       "mpl.figure.prototype._root_extra_style = function(el){\n",
       "    var fig = this\n",
       "    el.on(\"remove\", function(){\n",
       "\tfig.close_ws(fig, {});\n",
       "    });\n",
       "}\n",
       "\n",
       "mpl.figure.prototype._canvas_extra_style = function(el){\n",
       "    // this is important to make the div 'focusable\n",
       "    el.attr('tabindex', 0)\n",
       "    // reach out to IPython and tell the keyboard manager to turn it's self\n",
       "    // off when our div gets focus\n",
       "\n",
       "    // location in version 3\n",
       "    if (IPython.notebook.keyboard_manager) {\n",
       "        IPython.notebook.keyboard_manager.register_events(el);\n",
       "    }\n",
       "    else {\n",
       "        // location in version 2\n",
       "        IPython.keyboard_manager.register_events(el);\n",
       "    }\n",
       "\n",
       "}\n",
       "\n",
       "mpl.figure.prototype._key_event_extra = function(event, name) {\n",
       "    var manager = IPython.notebook.keyboard_manager;\n",
       "    if (!manager)\n",
       "        manager = IPython.keyboard_manager;\n",
       "\n",
       "    // Check for shift+enter\n",
       "    if (event.shiftKey && event.which == 13) {\n",
       "        this.canvas_div.blur();\n",
       "        event.shiftKey = false;\n",
       "        // Send a \"J\" for go to next cell\n",
       "        event.which = 74;\n",
       "        event.keyCode = 74;\n",
       "        manager.command_mode();\n",
       "        manager.handle_keydown(event);\n",
       "    }\n",
       "}\n",
       "\n",
       "mpl.figure.prototype.handle_save = function(fig, msg) {\n",
       "    fig.ondownload(fig, null);\n",
       "}\n",
       "\n",
       "\n",
       "mpl.find_output_cell = function(html_output) {\n",
       "    // Return the cell and output element which can be found *uniquely* in the notebook.\n",
       "    // Note - this is a bit hacky, but it is done because the \"notebook_saving.Notebook\"\n",
       "    // IPython event is triggered only after the cells have been serialised, which for\n",
       "    // our purposes (turning an active figure into a static one), is too late.\n",
       "    var cells = IPython.notebook.get_cells();\n",
       "    var ncells = cells.length;\n",
       "    for (var i=0; i<ncells; i++) {\n",
       "        var cell = cells[i];\n",
       "        if (cell.cell_type === 'code'){\n",
       "            for (var j=0; j<cell.output_area.outputs.length; j++) {\n",
       "                var data = cell.output_area.outputs[j];\n",
       "                if (data.data) {\n",
       "                    // IPython >= 3 moved mimebundle to data attribute of output\n",
       "                    data = data.data;\n",
       "                }\n",
       "                if (data['text/html'] == html_output) {\n",
       "                    return [cell, data, j];\n",
       "                }\n",
       "            }\n",
       "        }\n",
       "    }\n",
       "}\n",
       "\n",
       "// Register the function which deals with the matplotlib target/channel.\n",
       "// The kernel may be null if the page has been refreshed.\n",
       "if (IPython.notebook.kernel != null) {\n",
       "    IPython.notebook.kernel.comm_manager.register_target('matplotlib', mpl.mpl_figure_comm);\n",
       "}\n"
      ],
      "text/plain": [
       "<IPython.core.display.Javascript object>"
      ]
     },
     "metadata": {},
     "output_type": "display_data"
    },
    {
     "data": {
      "text/html": [
       "<img src=\"data:image/png;base64,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\" width=\"432\">"
      ],
      "text/plain": [
       "<IPython.core.display.HTML object>"
      ]
     },
     "metadata": {},
     "output_type": "display_data"
    },
    {
     "data": {
      "application/javascript": [
       "/* Put everything inside the global mpl namespace */\n",
       "window.mpl = {};\n",
       "\n",
       "\n",
       "mpl.get_websocket_type = function() {\n",
       "    if (typeof(WebSocket) !== 'undefined') {\n",
       "        return WebSocket;\n",
       "    } else if (typeof(MozWebSocket) !== 'undefined') {\n",
       "        return MozWebSocket;\n",
       "    } else {\n",
       "        alert('Your browser does not have WebSocket support.' +\n",
       "              'Please try Chrome, Safari or Firefox ≥ 6. ' +\n",
       "              'Firefox 4 and 5 are also supported but you ' +\n",
       "              'have to enable WebSockets in about:config.');\n",
       "    };\n",
       "}\n",
       "\n",
       "mpl.figure = function(figure_id, websocket, ondownload, parent_element) {\n",
       "    this.id = figure_id;\n",
       "\n",
       "    this.ws = websocket;\n",
       "\n",
       "    this.supports_binary = (this.ws.binaryType != undefined);\n",
       "\n",
       "    if (!this.supports_binary) {\n",
       "        var warnings = document.getElementById(\"mpl-warnings\");\n",
       "        if (warnings) {\n",
       "            warnings.style.display = 'block';\n",
       "            warnings.textContent = (\n",
       "                \"This browser does not support binary websocket messages. \" +\n",
       "                    \"Performance may be slow.\");\n",
       "        }\n",
       "    }\n",
       "\n",
       "    this.imageObj = new Image();\n",
       "\n",
       "    this.context = undefined;\n",
       "    this.message = undefined;\n",
       "    this.canvas = undefined;\n",
       "    this.rubberband_canvas = undefined;\n",
       "    this.rubberband_context = undefined;\n",
       "    this.format_dropdown = undefined;\n",
       "\n",
       "    this.image_mode = 'full';\n",
       "\n",
       "    this.root = $('<div/>');\n",
       "    this._root_extra_style(this.root)\n",
       "    this.root.attr('style', 'display: inline-block');\n",
       "\n",
       "    $(parent_element).append(this.root);\n",
       "\n",
       "    this._init_header(this);\n",
       "    this._init_canvas(this);\n",
       "    this._init_toolbar(this);\n",
       "\n",
       "    var fig = this;\n",
       "\n",
       "    this.waiting = false;\n",
       "\n",
       "    this.ws.onopen =  function () {\n",
       "            fig.send_message(\"supports_binary\", {value: fig.supports_binary});\n",
       "            fig.send_message(\"send_image_mode\", {});\n",
       "            if (mpl.ratio != 1) {\n",
       "                fig.send_message(\"set_dpi_ratio\", {'dpi_ratio': mpl.ratio});\n",
       "            }\n",
       "            fig.send_message(\"refresh\", {});\n",
       "        }\n",
       "\n",
       "    this.imageObj.onload = function() {\n",
       "            if (fig.image_mode == 'full') {\n",
       "                // Full images could contain transparency (where diff images\n",
       "                // almost always do), so we need to clear the canvas so that\n",
       "                // there is no ghosting.\n",
       "                fig.context.clearRect(0, 0, fig.canvas.width, fig.canvas.height);\n",
       "            }\n",
       "            fig.context.drawImage(fig.imageObj, 0, 0);\n",
       "        };\n",
       "\n",
       "    this.imageObj.onunload = function() {\n",
       "        fig.ws.close();\n",
       "    }\n",
       "\n",
       "    this.ws.onmessage = this._make_on_message_function(this);\n",
       "\n",
       "    this.ondownload = ondownload;\n",
       "}\n",
       "\n",
       "mpl.figure.prototype._init_header = function() {\n",
       "    var titlebar = $(\n",
       "        '<div class=\"ui-dialog-titlebar ui-widget-header ui-corner-all ' +\n",
       "        'ui-helper-clearfix\"/>');\n",
       "    var titletext = $(\n",
       "        '<div class=\"ui-dialog-title\" style=\"width: 100%; ' +\n",
       "        'text-align: center; padding: 3px;\"/>');\n",
       "    titlebar.append(titletext)\n",
       "    this.root.append(titlebar);\n",
       "    this.header = titletext[0];\n",
       "}\n",
       "\n",
       "\n",
       "\n",
       "mpl.figure.prototype._canvas_extra_style = function(canvas_div) {\n",
       "\n",
       "}\n",
       "\n",
       "\n",
       "mpl.figure.prototype._root_extra_style = function(canvas_div) {\n",
       "\n",
       "}\n",
       "\n",
       "mpl.figure.prototype._init_canvas = function() {\n",
       "    var fig = this;\n",
       "\n",
       "    var canvas_div = $('<div/>');\n",
       "\n",
       "    canvas_div.attr('style', 'position: relative; clear: both; outline: 0');\n",
       "\n",
       "    function canvas_keyboard_event(event) {\n",
       "        return fig.key_event(event, event['data']);\n",
       "    }\n",
       "\n",
       "    canvas_div.keydown('key_press', canvas_keyboard_event);\n",
       "    canvas_div.keyup('key_release', canvas_keyboard_event);\n",
       "    this.canvas_div = canvas_div\n",
       "    this._canvas_extra_style(canvas_div)\n",
       "    this.root.append(canvas_div);\n",
       "\n",
       "    var canvas = $('<canvas/>');\n",
       "    canvas.addClass('mpl-canvas');\n",
       "    canvas.attr('style', \"left: 0; top: 0; z-index: 0; outline: 0\")\n",
       "\n",
       "    this.canvas = canvas[0];\n",
       "    this.context = canvas[0].getContext(\"2d\");\n",
       "\n",
       "    var backingStore = this.context.backingStorePixelRatio ||\n",
       "\tthis.context.webkitBackingStorePixelRatio ||\n",
       "\tthis.context.mozBackingStorePixelRatio ||\n",
       "\tthis.context.msBackingStorePixelRatio ||\n",
       "\tthis.context.oBackingStorePixelRatio ||\n",
       "\tthis.context.backingStorePixelRatio || 1;\n",
       "\n",
       "    mpl.ratio = (window.devicePixelRatio || 1) / backingStore;\n",
       "\n",
       "    var rubberband = $('<canvas/>');\n",
       "    rubberband.attr('style', \"position: absolute; left: 0; top: 0; z-index: 1;\")\n",
       "\n",
       "    var pass_mouse_events = true;\n",
       "\n",
       "    canvas_div.resizable({\n",
       "        start: function(event, ui) {\n",
       "            pass_mouse_events = false;\n",
       "        },\n",
       "        resize: function(event, ui) {\n",
       "            fig.request_resize(ui.size.width, ui.size.height);\n",
       "        },\n",
       "        stop: function(event, ui) {\n",
       "            pass_mouse_events = true;\n",
       "            fig.request_resize(ui.size.width, ui.size.height);\n",
       "        },\n",
       "    });\n",
       "\n",
       "    function mouse_event_fn(event) {\n",
       "        if (pass_mouse_events)\n",
       "            return fig.mouse_event(event, event['data']);\n",
       "    }\n",
       "\n",
       "    rubberband.mousedown('button_press', mouse_event_fn);\n",
       "    rubberband.mouseup('button_release', mouse_event_fn);\n",
       "    // Throttle sequential mouse events to 1 every 20ms.\n",
       "    rubberband.mousemove('motion_notify', mouse_event_fn);\n",
       "\n",
       "    rubberband.mouseenter('figure_enter', mouse_event_fn);\n",
       "    rubberband.mouseleave('figure_leave', mouse_event_fn);\n",
       "\n",
       "    canvas_div.on(\"wheel\", function (event) {\n",
       "        event = event.originalEvent;\n",
       "        event['data'] = 'scroll'\n",
       "        if (event.deltaY < 0) {\n",
       "            event.step = 1;\n",
       "        } else {\n",
       "            event.step = -1;\n",
       "        }\n",
       "        mouse_event_fn(event);\n",
       "    });\n",
       "\n",
       "    canvas_div.append(canvas);\n",
       "    canvas_div.append(rubberband);\n",
       "\n",
       "    this.rubberband = rubberband;\n",
       "    this.rubberband_canvas = rubberband[0];\n",
       "    this.rubberband_context = rubberband[0].getContext(\"2d\");\n",
       "    this.rubberband_context.strokeStyle = \"#000000\";\n",
       "\n",
       "    this._resize_canvas = function(width, height) {\n",
       "        // Keep the size of the canvas, canvas container, and rubber band\n",
       "        // canvas in synch.\n",
       "        canvas_div.css('width', width)\n",
       "        canvas_div.css('height', height)\n",
       "\n",
       "        canvas.attr('width', width * mpl.ratio);\n",
       "        canvas.attr('height', height * mpl.ratio);\n",
       "        canvas.attr('style', 'width: ' + width + 'px; height: ' + height + 'px;');\n",
       "\n",
       "        rubberband.attr('width', width);\n",
       "        rubberband.attr('height', height);\n",
       "    }\n",
       "\n",
       "    // Set the figure to an initial 600x600px, this will subsequently be updated\n",
       "    // upon first draw.\n",
       "    this._resize_canvas(600, 600);\n",
       "\n",
       "    // Disable right mouse context menu.\n",
       "    $(this.rubberband_canvas).bind(\"contextmenu\",function(e){\n",
       "        return false;\n",
       "    });\n",
       "\n",
       "    function set_focus () {\n",
       "        canvas.focus();\n",
       "        canvas_div.focus();\n",
       "    }\n",
       "\n",
       "    window.setTimeout(set_focus, 100);\n",
       "}\n",
       "\n",
       "mpl.figure.prototype._init_toolbar = function() {\n",
       "    var fig = this;\n",
       "\n",
       "    var nav_element = $('<div/>')\n",
       "    nav_element.attr('style', 'width: 100%');\n",
       "    this.root.append(nav_element);\n",
       "\n",
       "    // Define a callback function for later on.\n",
       "    function toolbar_event(event) {\n",
       "        return fig.toolbar_button_onclick(event['data']);\n",
       "    }\n",
       "    function toolbar_mouse_event(event) {\n",
       "        return fig.toolbar_button_onmouseover(event['data']);\n",
       "    }\n",
       "\n",
       "    for(var toolbar_ind in mpl.toolbar_items) {\n",
       "        var name = mpl.toolbar_items[toolbar_ind][0];\n",
       "        var tooltip = mpl.toolbar_items[toolbar_ind][1];\n",
       "        var image = mpl.toolbar_items[toolbar_ind][2];\n",
       "        var method_name = mpl.toolbar_items[toolbar_ind][3];\n",
       "\n",
       "        if (!name) {\n",
       "            // put a spacer in here.\n",
       "            continue;\n",
       "        }\n",
       "        var button = $('<button/>');\n",
       "        button.addClass('ui-button ui-widget ui-state-default ui-corner-all ' +\n",
       "                        'ui-button-icon-only');\n",
       "        button.attr('role', 'button');\n",
       "        button.attr('aria-disabled', 'false');\n",
       "        button.click(method_name, toolbar_event);\n",
       "        button.mouseover(tooltip, toolbar_mouse_event);\n",
       "\n",
       "        var icon_img = $('<span/>');\n",
       "        icon_img.addClass('ui-button-icon-primary ui-icon');\n",
       "        icon_img.addClass(image);\n",
       "        icon_img.addClass('ui-corner-all');\n",
       "\n",
       "        var tooltip_span = $('<span/>');\n",
       "        tooltip_span.addClass('ui-button-text');\n",
       "        tooltip_span.html(tooltip);\n",
       "\n",
       "        button.append(icon_img);\n",
       "        button.append(tooltip_span);\n",
       "\n",
       "        nav_element.append(button);\n",
       "    }\n",
       "\n",
       "    var fmt_picker_span = $('<span/>');\n",
       "\n",
       "    var fmt_picker = $('<select/>');\n",
       "    fmt_picker.addClass('mpl-toolbar-option ui-widget ui-widget-content');\n",
       "    fmt_picker_span.append(fmt_picker);\n",
       "    nav_element.append(fmt_picker_span);\n",
       "    this.format_dropdown = fmt_picker[0];\n",
       "\n",
       "    for (var ind in mpl.extensions) {\n",
       "        var fmt = mpl.extensions[ind];\n",
       "        var option = $(\n",
       "            '<option/>', {selected: fmt === mpl.default_extension}).html(fmt);\n",
       "        fmt_picker.append(option)\n",
       "    }\n",
       "\n",
       "    // Add hover states to the ui-buttons\n",
       "    $( \".ui-button\" ).hover(\n",
       "        function() { $(this).addClass(\"ui-state-hover\");},\n",
       "        function() { $(this).removeClass(\"ui-state-hover\");}\n",
       "    );\n",
       "\n",
       "    var status_bar = $('<span class=\"mpl-message\"/>');\n",
       "    nav_element.append(status_bar);\n",
       "    this.message = status_bar[0];\n",
       "}\n",
       "\n",
       "mpl.figure.prototype.request_resize = function(x_pixels, y_pixels) {\n",
       "    // Request matplotlib to resize the figure. Matplotlib will then trigger a resize in the client,\n",
       "    // which will in turn request a refresh of the image.\n",
       "    this.send_message('resize', {'width': x_pixels, 'height': y_pixels});\n",
       "}\n",
       "\n",
       "mpl.figure.prototype.send_message = function(type, properties) {\n",
       "    properties['type'] = type;\n",
       "    properties['figure_id'] = this.id;\n",
       "    this.ws.send(JSON.stringify(properties));\n",
       "}\n",
       "\n",
       "mpl.figure.prototype.send_draw_message = function() {\n",
       "    if (!this.waiting) {\n",
       "        this.waiting = true;\n",
       "        this.ws.send(JSON.stringify({type: \"draw\", figure_id: this.id}));\n",
       "    }\n",
       "}\n",
       "\n",
       "\n",
       "mpl.figure.prototype.handle_save = function(fig, msg) {\n",
       "    var format_dropdown = fig.format_dropdown;\n",
       "    var format = format_dropdown.options[format_dropdown.selectedIndex].value;\n",
       "    fig.ondownload(fig, format);\n",
       "}\n",
       "\n",
       "\n",
       "mpl.figure.prototype.handle_resize = function(fig, msg) {\n",
       "    var size = msg['size'];\n",
       "    if (size[0] != fig.canvas.width || size[1] != fig.canvas.height) {\n",
       "        fig._resize_canvas(size[0], size[1]);\n",
       "        fig.send_message(\"refresh\", {});\n",
       "    };\n",
       "}\n",
       "\n",
       "mpl.figure.prototype.handle_rubberband = function(fig, msg) {\n",
       "    var x0 = msg['x0'] / mpl.ratio;\n",
       "    var y0 = (fig.canvas.height - msg['y0']) / mpl.ratio;\n",
       "    var x1 = msg['x1'] / mpl.ratio;\n",
       "    var y1 = (fig.canvas.height - msg['y1']) / mpl.ratio;\n",
       "    x0 = Math.floor(x0) + 0.5;\n",
       "    y0 = Math.floor(y0) + 0.5;\n",
       "    x1 = Math.floor(x1) + 0.5;\n",
       "    y1 = Math.floor(y1) + 0.5;\n",
       "    var min_x = Math.min(x0, x1);\n",
       "    var min_y = Math.min(y0, y1);\n",
       "    var width = Math.abs(x1 - x0);\n",
       "    var height = Math.abs(y1 - y0);\n",
       "\n",
       "    fig.rubberband_context.clearRect(\n",
       "        0, 0, fig.canvas.width, fig.canvas.height);\n",
       "\n",
       "    fig.rubberband_context.strokeRect(min_x, min_y, width, height);\n",
       "}\n",
       "\n",
       "mpl.figure.prototype.handle_figure_label = function(fig, msg) {\n",
       "    // Updates the figure title.\n",
       "    fig.header.textContent = msg['label'];\n",
       "}\n",
       "\n",
       "mpl.figure.prototype.handle_cursor = function(fig, msg) {\n",
       "    var cursor = msg['cursor'];\n",
       "    switch(cursor)\n",
       "    {\n",
       "    case 0:\n",
       "        cursor = 'pointer';\n",
       "        break;\n",
       "    case 1:\n",
       "        cursor = 'default';\n",
       "        break;\n",
       "    case 2:\n",
       "        cursor = 'crosshair';\n",
       "        break;\n",
       "    case 3:\n",
       "        cursor = 'move';\n",
       "        break;\n",
       "    }\n",
       "    fig.rubberband_canvas.style.cursor = cursor;\n",
       "}\n",
       "\n",
       "mpl.figure.prototype.handle_message = function(fig, msg) {\n",
       "    fig.message.textContent = msg['message'];\n",
       "}\n",
       "\n",
       "mpl.figure.prototype.handle_draw = function(fig, msg) {\n",
       "    // Request the server to send over a new figure.\n",
       "    fig.send_draw_message();\n",
       "}\n",
       "\n",
       "mpl.figure.prototype.handle_image_mode = function(fig, msg) {\n",
       "    fig.image_mode = msg['mode'];\n",
       "}\n",
       "\n",
       "mpl.figure.prototype.updated_canvas_event = function() {\n",
       "    // Called whenever the canvas gets updated.\n",
       "    this.send_message(\"ack\", {});\n",
       "}\n",
       "\n",
       "// A function to construct a web socket function for onmessage handling.\n",
       "// Called in the figure constructor.\n",
       "mpl.figure.prototype._make_on_message_function = function(fig) {\n",
       "    return function socket_on_message(evt) {\n",
       "        if (evt.data instanceof Blob) {\n",
       "            /* FIXME: We get \"Resource interpreted as Image but\n",
       "             * transferred with MIME type text/plain:\" errors on\n",
       "             * Chrome.  But how to set the MIME type?  It doesn't seem\n",
       "             * to be part of the websocket stream */\n",
       "            evt.data.type = \"image/png\";\n",
       "\n",
       "            /* Free the memory for the previous frames */\n",
       "            if (fig.imageObj.src) {\n",
       "                (window.URL || window.webkitURL).revokeObjectURL(\n",
       "                    fig.imageObj.src);\n",
       "            }\n",
       "\n",
       "            fig.imageObj.src = (window.URL || window.webkitURL).createObjectURL(\n",
       "                evt.data);\n",
       "            fig.updated_canvas_event();\n",
       "            fig.waiting = false;\n",
       "            return;\n",
       "        }\n",
       "        else if (typeof evt.data === 'string' && evt.data.slice(0, 21) == \"data:image/png;base64\") {\n",
       "            fig.imageObj.src = evt.data;\n",
       "            fig.updated_canvas_event();\n",
       "            fig.waiting = false;\n",
       "            return;\n",
       "        }\n",
       "\n",
       "        var msg = JSON.parse(evt.data);\n",
       "        var msg_type = msg['type'];\n",
       "\n",
       "        // Call the  \"handle_{type}\" callback, which takes\n",
       "        // the figure and JSON message as its only arguments.\n",
       "        try {\n",
       "            var callback = fig[\"handle_\" + msg_type];\n",
       "        } catch (e) {\n",
       "            console.log(\"No handler for the '\" + msg_type + \"' message type: \", msg);\n",
       "            return;\n",
       "        }\n",
       "\n",
       "        if (callback) {\n",
       "            try {\n",
       "                // console.log(\"Handling '\" + msg_type + \"' message: \", msg);\n",
       "                callback(fig, msg);\n",
       "            } catch (e) {\n",
       "                console.log(\"Exception inside the 'handler_\" + msg_type + \"' callback:\", e, e.stack, msg);\n",
       "            }\n",
       "        }\n",
       "    };\n",
       "}\n",
       "\n",
       "// from http://stackoverflow.com/questions/1114465/getting-mouse-location-in-canvas\n",
       "mpl.findpos = function(e) {\n",
       "    //this section is from http://www.quirksmode.org/js/events_properties.html\n",
       "    var targ;\n",
       "    if (!e)\n",
       "        e = window.event;\n",
       "    if (e.target)\n",
       "        targ = e.target;\n",
       "    else if (e.srcElement)\n",
       "        targ = e.srcElement;\n",
       "    if (targ.nodeType == 3) // defeat Safari bug\n",
       "        targ = targ.parentNode;\n",
       "\n",
       "    // jQuery normalizes the pageX and pageY\n",
       "    // pageX,Y are the mouse positions relative to the document\n",
       "    // offset() returns the position of the element relative to the document\n",
       "    var x = e.pageX - $(targ).offset().left;\n",
       "    var y = e.pageY - $(targ).offset().top;\n",
       "\n",
       "    return {\"x\": x, \"y\": y};\n",
       "};\n",
       "\n",
       "/*\n",
       " * return a copy of an object with only non-object keys\n",
       " * we need this to avoid circular references\n",
       " * http://stackoverflow.com/a/24161582/3208463\n",
       " */\n",
       "function simpleKeys (original) {\n",
       "  return Object.keys(original).reduce(function (obj, key) {\n",
       "    if (typeof original[key] !== 'object')\n",
       "        obj[key] = original[key]\n",
       "    return obj;\n",
       "  }, {});\n",
       "}\n",
       "\n",
       "mpl.figure.prototype.mouse_event = function(event, name) {\n",
       "    var canvas_pos = mpl.findpos(event)\n",
       "\n",
       "    if (name === 'button_press')\n",
       "    {\n",
       "        this.canvas.focus();\n",
       "        this.canvas_div.focus();\n",
       "    }\n",
       "\n",
       "    var x = canvas_pos.x * mpl.ratio;\n",
       "    var y = canvas_pos.y * mpl.ratio;\n",
       "\n",
       "    this.send_message(name, {x: x, y: y, button: event.button,\n",
       "                             step: event.step,\n",
       "                             guiEvent: simpleKeys(event)});\n",
       "\n",
       "    /* This prevents the web browser from automatically changing to\n",
       "     * the text insertion cursor when the button is pressed.  We want\n",
       "     * to control all of the cursor setting manually through the\n",
       "     * 'cursor' event from matplotlib */\n",
       "    event.preventDefault();\n",
       "    return false;\n",
       "}\n",
       "\n",
       "mpl.figure.prototype._key_event_extra = function(event, name) {\n",
       "    // Handle any extra behaviour associated with a key event\n",
       "}\n",
       "\n",
       "mpl.figure.prototype.key_event = function(event, name) {\n",
       "\n",
       "    // Prevent repeat events\n",
       "    if (name == 'key_press')\n",
       "    {\n",
       "        if (event.which === this._key)\n",
       "            return;\n",
       "        else\n",
       "            this._key = event.which;\n",
       "    }\n",
       "    if (name == 'key_release')\n",
       "        this._key = null;\n",
       "\n",
       "    var value = '';\n",
       "    if (event.ctrlKey && event.which != 17)\n",
       "        value += \"ctrl+\";\n",
       "    if (event.altKey && event.which != 18)\n",
       "        value += \"alt+\";\n",
       "    if (event.shiftKey && event.which != 16)\n",
       "        value += \"shift+\";\n",
       "\n",
       "    value += 'k';\n",
       "    value += event.which.toString();\n",
       "\n",
       "    this._key_event_extra(event, name);\n",
       "\n",
       "    this.send_message(name, {key: value,\n",
       "                             guiEvent: simpleKeys(event)});\n",
       "    return false;\n",
       "}\n",
       "\n",
       "mpl.figure.prototype.toolbar_button_onclick = function(name) {\n",
       "    if (name == 'download') {\n",
       "        this.handle_save(this, null);\n",
       "    } else {\n",
       "        this.send_message(\"toolbar_button\", {name: name});\n",
       "    }\n",
       "};\n",
       "\n",
       "mpl.figure.prototype.toolbar_button_onmouseover = function(tooltip) {\n",
       "    this.message.textContent = tooltip;\n",
       "};\n",
       "mpl.toolbar_items = [[\"Home\", \"Reset original view\", \"fa fa-home icon-home\", \"home\"], [\"Back\", \"Back to  previous view\", \"fa fa-arrow-left icon-arrow-left\", \"back\"], [\"Forward\", \"Forward to next view\", \"fa fa-arrow-right icon-arrow-right\", \"forward\"], [\"\", \"\", \"\", \"\"], [\"Pan\", \"Pan axes with left mouse, zoom with right\", \"fa fa-arrows icon-move\", \"pan\"], [\"Zoom\", \"Zoom to rectangle\", \"fa fa-square-o icon-check-empty\", \"zoom\"], [\"\", \"\", \"\", \"\"], [\"Download\", \"Download plot\", \"fa fa-floppy-o icon-save\", \"download\"]];\n",
       "\n",
       "mpl.extensions = [\"eps\", \"jpeg\", \"pdf\", \"png\", \"ps\", \"raw\", \"svg\", \"tif\"];\n",
       "\n",
       "mpl.default_extension = \"png\";var comm_websocket_adapter = function(comm) {\n",
       "    // Create a \"websocket\"-like object which calls the given IPython comm\n",
       "    // object with the appropriate methods. Currently this is a non binary\n",
       "    // socket, so there is still some room for performance tuning.\n",
       "    var ws = {};\n",
       "\n",
       "    ws.close = function() {\n",
       "        comm.close()\n",
       "    };\n",
       "    ws.send = function(m) {\n",
       "        //console.log('sending', m);\n",
       "        comm.send(m);\n",
       "    };\n",
       "    // Register the callback with on_msg.\n",
       "    comm.on_msg(function(msg) {\n",
       "        //console.log('receiving', msg['content']['data'], msg);\n",
       "        // Pass the mpl event to the overriden (by mpl) onmessage function.\n",
       "        ws.onmessage(msg['content']['data'])\n",
       "    });\n",
       "    return ws;\n",
       "}\n",
       "\n",
       "mpl.mpl_figure_comm = function(comm, msg) {\n",
       "    // This is the function which gets called when the mpl process\n",
       "    // starts-up an IPython Comm through the \"matplotlib\" channel.\n",
       "\n",
       "    var id = msg.content.data.id;\n",
       "    // Get hold of the div created by the display call when the Comm\n",
       "    // socket was opened in Python.\n",
       "    var element = $(\"#\" + id);\n",
       "    var ws_proxy = comm_websocket_adapter(comm)\n",
       "\n",
       "    function ondownload(figure, format) {\n",
       "        window.open(figure.imageObj.src);\n",
       "    }\n",
       "\n",
       "    var fig = new mpl.figure(id, ws_proxy,\n",
       "                           ondownload,\n",
       "                           element.get(0));\n",
       "\n",
       "    // Call onopen now - mpl needs it, as it is assuming we've passed it a real\n",
       "    // web socket which is closed, not our websocket->open comm proxy.\n",
       "    ws_proxy.onopen();\n",
       "\n",
       "    fig.parent_element = element.get(0);\n",
       "    fig.cell_info = mpl.find_output_cell(\"<div id='\" + id + \"'></div>\");\n",
       "    if (!fig.cell_info) {\n",
       "        console.error(\"Failed to find cell for figure\", id, fig);\n",
       "        return;\n",
       "    }\n",
       "\n",
       "    var output_index = fig.cell_info[2]\n",
       "    var cell = fig.cell_info[0];\n",
       "\n",
       "};\n",
       "\n",
       "mpl.figure.prototype.handle_close = function(fig, msg) {\n",
       "    var width = fig.canvas.width/mpl.ratio\n",
       "    fig.root.unbind('remove')\n",
       "\n",
       "    // Update the output cell to use the data from the current canvas.\n",
       "    fig.push_to_output();\n",
       "    var dataURL = fig.canvas.toDataURL();\n",
       "    // Re-enable the keyboard manager in IPython - without this line, in FF,\n",
       "    // the notebook keyboard shortcuts fail.\n",
       "    IPython.keyboard_manager.enable()\n",
       "    $(fig.parent_element).html('<img src=\"' + dataURL + '\" width=\"' + width + '\">');\n",
       "    fig.close_ws(fig, msg);\n",
       "}\n",
       "\n",
       "mpl.figure.prototype.close_ws = function(fig, msg){\n",
       "    fig.send_message('closing', msg);\n",
       "    // fig.ws.close()\n",
       "}\n",
       "\n",
       "mpl.figure.prototype.push_to_output = function(remove_interactive) {\n",
       "    // Turn the data on the canvas into data in the output cell.\n",
       "    var width = this.canvas.width/mpl.ratio\n",
       "    var dataURL = this.canvas.toDataURL();\n",
       "    this.cell_info[1]['text/html'] = '<img src=\"' + dataURL + '\" width=\"' + width + '\">';\n",
       "}\n",
       "\n",
       "mpl.figure.prototype.updated_canvas_event = function() {\n",
       "    // Tell IPython that the notebook contents must change.\n",
       "    IPython.notebook.set_dirty(true);\n",
       "    this.send_message(\"ack\", {});\n",
       "    var fig = this;\n",
       "    // Wait a second, then push the new image to the DOM so\n",
       "    // that it is saved nicely (might be nice to debounce this).\n",
       "    setTimeout(function () { fig.push_to_output() }, 1000);\n",
       "}\n",
       "\n",
       "mpl.figure.prototype._init_toolbar = function() {\n",
       "    var fig = this;\n",
       "\n",
       "    var nav_element = $('<div/>')\n",
       "    nav_element.attr('style', 'width: 100%');\n",
       "    this.root.append(nav_element);\n",
       "\n",
       "    // Define a callback function for later on.\n",
       "    function toolbar_event(event) {\n",
       "        return fig.toolbar_button_onclick(event['data']);\n",
       "    }\n",
       "    function toolbar_mouse_event(event) {\n",
       "        return fig.toolbar_button_onmouseover(event['data']);\n",
       "    }\n",
       "\n",
       "    for(var toolbar_ind in mpl.toolbar_items){\n",
       "        var name = mpl.toolbar_items[toolbar_ind][0];\n",
       "        var tooltip = mpl.toolbar_items[toolbar_ind][1];\n",
       "        var image = mpl.toolbar_items[toolbar_ind][2];\n",
       "        var method_name = mpl.toolbar_items[toolbar_ind][3];\n",
       "\n",
       "        if (!name) { continue; };\n",
       "\n",
       "        var button = $('<button class=\"btn btn-default\" href=\"#\" title=\"' + name + '\"><i class=\"fa ' + image + ' fa-lg\"></i></button>');\n",
       "        button.click(method_name, toolbar_event);\n",
       "        button.mouseover(tooltip, toolbar_mouse_event);\n",
       "        nav_element.append(button);\n",
       "    }\n",
       "\n",
       "    // Add the status bar.\n",
       "    var status_bar = $('<span class=\"mpl-message\" style=\"text-align:right; float: right;\"/>');\n",
       "    nav_element.append(status_bar);\n",
       "    this.message = status_bar[0];\n",
       "\n",
       "    // Add the close button to the window.\n",
       "    var buttongrp = $('<div class=\"btn-group inline pull-right\"></div>');\n",
       "    var button = $('<button class=\"btn btn-mini btn-primary\" href=\"#\" title=\"Stop Interaction\"><i class=\"fa fa-power-off icon-remove icon-large\"></i></button>');\n",
       "    button.click(function (evt) { fig.handle_close(fig, {}); } );\n",
       "    button.mouseover('Stop Interaction', toolbar_mouse_event);\n",
       "    buttongrp.append(button);\n",
       "    var titlebar = this.root.find($('.ui-dialog-titlebar'));\n",
       "    titlebar.prepend(buttongrp);\n",
       "}\n",
       "\n",
       "mpl.figure.prototype._root_extra_style = function(el){\n",
       "    var fig = this\n",
       "    el.on(\"remove\", function(){\n",
       "\tfig.close_ws(fig, {});\n",
       "    });\n",
       "}\n",
       "\n",
       "mpl.figure.prototype._canvas_extra_style = function(el){\n",
       "    // this is important to make the div 'focusable\n",
       "    el.attr('tabindex', 0)\n",
       "    // reach out to IPython and tell the keyboard manager to turn it's self\n",
       "    // off when our div gets focus\n",
       "\n",
       "    // location in version 3\n",
       "    if (IPython.notebook.keyboard_manager) {\n",
       "        IPython.notebook.keyboard_manager.register_events(el);\n",
       "    }\n",
       "    else {\n",
       "        // location in version 2\n",
       "        IPython.keyboard_manager.register_events(el);\n",
       "    }\n",
       "\n",
       "}\n",
       "\n",
       "mpl.figure.prototype._key_event_extra = function(event, name) {\n",
       "    var manager = IPython.notebook.keyboard_manager;\n",
       "    if (!manager)\n",
       "        manager = IPython.keyboard_manager;\n",
       "\n",
       "    // Check for shift+enter\n",
       "    if (event.shiftKey && event.which == 13) {\n",
       "        this.canvas_div.blur();\n",
       "        event.shiftKey = false;\n",
       "        // Send a \"J\" for go to next cell\n",
       "        event.which = 74;\n",
       "        event.keyCode = 74;\n",
       "        manager.command_mode();\n",
       "        manager.handle_keydown(event);\n",
       "    }\n",
       "}\n",
       "\n",
       "mpl.figure.prototype.handle_save = function(fig, msg) {\n",
       "    fig.ondownload(fig, null);\n",
       "}\n",
       "\n",
       "\n",
       "mpl.find_output_cell = function(html_output) {\n",
       "    // Return the cell and output element which can be found *uniquely* in the notebook.\n",
       "    // Note - this is a bit hacky, but it is done because the \"notebook_saving.Notebook\"\n",
       "    // IPython event is triggered only after the cells have been serialised, which for\n",
       "    // our purposes (turning an active figure into a static one), is too late.\n",
       "    var cells = IPython.notebook.get_cells();\n",
       "    var ncells = cells.length;\n",
       "    for (var i=0; i<ncells; i++) {\n",
       "        var cell = cells[i];\n",
       "        if (cell.cell_type === 'code'){\n",
       "            for (var j=0; j<cell.output_area.outputs.length; j++) {\n",
       "                var data = cell.output_area.outputs[j];\n",
       "                if (data.data) {\n",
       "                    // IPython >= 3 moved mimebundle to data attribute of output\n",
       "                    data = data.data;\n",
       "                }\n",
       "                if (data['text/html'] == html_output) {\n",
       "                    return [cell, data, j];\n",
       "                }\n",
       "            }\n",
       "        }\n",
       "    }\n",
       "}\n",
       "\n",
       "// Register the function which deals with the matplotlib target/channel.\n",
       "// The kernel may be null if the page has been refreshed.\n",
       "if (IPython.notebook.kernel != null) {\n",
       "    IPython.notebook.kernel.comm_manager.register_target('matplotlib', mpl.mpl_figure_comm);\n",
       "}\n"
      ],
      "text/plain": [
       "<IPython.core.display.Javascript object>"
      ]
     },
     "metadata": {},
     "output_type": "display_data"
    },
    {
     "data": {
      "text/html": [
       "<img src=\"data:image/png;base64,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\" width=\"432\">"
      ],
      "text/plain": [
       "<IPython.core.display.HTML object>"
      ]
     },
     "metadata": {},
     "output_type": "display_data"
    },
    {
     "name": "stdout",
     "output_type": "stream",
     "text": [
      "ep reward:  0.00004005 [-0.00029465,  0.00032315], portfolio_value:  1.0367 mdd=-1.16% sharpe=1.6498, expl= 0.00% eps=2000 weights={'C': 0.14110000431537628, 'AAPL': 0.17100000381469727, 'B': 0.149399995803833, 'cash': 0.14970000088214874, 'MSFT': 0.2305999994277954, 'A': 0.15809999406337738}\n",
      "ep reward:  0.00000989 [-0.00041386,  0.00042096], portfolio_value:  1.0089 mdd=-2.16% sharpe=0.2804, expl= 0.00% eps=3000 weights={'C': 0.17829999327659607, 'AAPL': 0.11829999834299088, 'B': 0.13819999992847443, 'cash': 0.2556999921798706, 'MSFT': 0.17720000445842743, 'A': 0.1324000060558319}\n",
      "INFO:tensorflow:Saving checkpoints for 100000 into ./outputs/tensorforce_PPO_crypto-20180208_17-41/model.ckpt.\n"
     ]
    },
    {
     "name": "stderr",
     "output_type": "stream",
     "text": [
      "INFO:tensorflow:Saving checkpoints for 100000 into ./outputs/tensorforce_PPO_crypto-20180208_17-41/model.ckpt.\n"
     ]
    },
    {
     "name": "stdout",
     "output_type": "stream",
     "text": [
      "ep reward:  0.00004316 [-0.00026143,  0.00033886], portfolio_value:  1.0396 mdd=-1.82% sharpe=1.6356, expl= 0.00% eps=4000 weights={'C': 0.09799999743700027, 'AAPL': 0.1152999997138977, 'B': 0.1842000037431717, 'cash': 0.23720000684261322, 'MSFT': 0.1712000072002411, 'A': 0.19419999420642853}\n",
      "ep reward:  0.00004087 [-0.00080524,  0.00030135], portfolio_value:  1.0375 mdd=-1.45% sharpe=1.1444, expl= 0.00% eps=5000 weights={'C': 0.2078000009059906, 'AAPL': 0.19349999725818634, 'B': 0.14830000698566437, 'cash': 0.1290999948978424, 'MSFT': 0.11640000343322754, 'A': 0.20499999821186066}\n",
      "ep reward:  0.00004962 [-0.00082046,  0.00042282], portfolio_value:  1.0457 mdd=-3.80% sharpe=1.3005, expl= 0.00% eps=6000 weights={'C': 0.1738000065088272, 'AAPL': 0.10350000113248825, 'B': 0.22990000247955322, 'cash': 0.1396999955177307, 'MSFT': 0.17159999907016754, 'A': 0.18140000104904175}\n",
      "INFO:tensorflow:Saving checkpoints for 200000 into ./outputs/tensorforce_PPO_crypto-20180208_17-41/model.ckpt.\n"
     ]
    },
    {
     "name": "stderr",
     "output_type": "stream",
     "text": [
      "INFO:tensorflow:Saving checkpoints for 200000 into ./outputs/tensorforce_PPO_crypto-20180208_17-41/model.ckpt.\n"
     ]
    },
    {
     "name": "stdout",
     "output_type": "stream",
     "text": [
      "ep reward:  0.00015543 [-0.00277027,  0.00717587], portfolio_value:  1.1501 mdd=-26.28% sharpe=0.6655, expl= 0.00% eps=7000 weights={'C': 0.12189999967813492, 'AAPL': 0.1565999984741211, 'B': 0.1565999984741211, 'cash': 0.14800000190734863, 'MSFT': 0.1867000013589859, 'A': 0.23029999434947968}\n",
      "ep reward:  0.00002448 [-0.00066990,  0.00038549], portfolio_value:  1.0223 mdd=-1.90% sharpe=0.6176, expl= 0.00% eps=8000 weights={'C': 0.14990000426769257, 'AAPL': 0.11079999804496765, 'B': 0.2395000010728836, 'cash': 0.12099999934434891, 'MSFT': 0.1673000007867813, 'A': 0.21150000393390656}\n",
      "ep reward:  0.00003093 [-0.00028794,  0.00036993], portfolio_value:  1.0282 mdd=-1.99% sharpe=1.0364, expl= 0.00% eps=9000 weights={'C': 0.14890000224113464, 'AAPL': 0.21150000393390656, 'B': 0.1257999986410141, 'cash': 0.12880000472068787, 'MSFT': 0.14830000698566437, 'A': 0.23659999668598175}\n",
      "ep reward:  0.00006137 [-0.00082290,  0.00044557], portfolio_value:  1.0568 mdd=-3.88% sharpe=1.5908, expl= 0.00% eps=10000 weights={'C': 0.11140000075101852, 'AAPL': 0.15000000596046448, 'B': 0.18310000002384186, 'cash': 0.23070000112056732, 'MSFT': 0.1378999948501587, 'A': 0.18700000643730164}\n",
      "INFO:tensorflow:Saving checkpoints for 300000 into ./outputs/tensorforce_PPO_crypto-20180208_17-41/model.ckpt.\n"
     ]
    },
    {
     "name": "stderr",
     "output_type": "stream",
     "text": [
      "INFO:tensorflow:Saving checkpoints for 300000 into ./outputs/tensorforce_PPO_crypto-20180208_17-41/model.ckpt.\n"
     ]
    },
    {
     "name": "stdout",
     "output_type": "stream",
     "text": [
      "ep reward:  0.00004395 [-0.00020375,  0.00047781], portfolio_value:  1.0403 mdd=-1.67% sharpe=1.4583, expl= 0.00% eps=11000 weights={'C': 0.1995999962091446, 'AAPL': 0.18000000715255737, 'B': 0.131400004029274, 'cash': 0.1793999969959259, 'MSFT': 0.11659999936819077, 'A': 0.19300000369548798}\n",
      "ep reward:  0.00000776 [-0.00028965,  0.00044140], portfolio_value:  1.0070 mdd=-2.22% sharpe=0.2376, expl= 0.00% eps=12000 weights={'C': 0.1453000009059906, 'AAPL': 0.20489999651908875, 'B': 0.11729999631643295, 'cash': 0.2011999934911728, 'MSFT': 0.1062999963760376, 'A': 0.2249000072479248}\n",
      "ep reward: -0.00001723 [-0.00028104,  0.00046066], portfolio_value:  0.9846 mdd=0.00% sharpe=-0.4831, expl= 0.00% eps=13000 weights={'C': 0.14959999918937683, 'AAPL': 0.16279999911785126, 'B': 0.13609999418258667, 'cash': 0.1356000006198883, 'MSFT': 0.23100000619888306, 'A': 0.18490000069141388}\n",
      "INFO:tensorflow:Saving checkpoints for 400000 into ./outputs/tensorforce_PPO_crypto-20180208_17-41/model.ckpt.\n"
     ]
    },
    {
     "name": "stderr",
     "output_type": "stream",
     "text": [
      "INFO:tensorflow:Saving checkpoints for 400000 into ./outputs/tensorforce_PPO_crypto-20180208_17-41/model.ckpt.\n"
     ]
    },
    {
     "name": "stdout",
     "output_type": "stream",
     "text": [
      "ep reward:  0.00000879 [-0.00078695,  0.00040792], portfolio_value:  1.0079 mdd=-2.44% sharpe=0.2417, expl= 0.00% eps=14000 weights={'C': 0.1590999960899353, 'AAPL': 0.17470000684261322, 'B': 0.1265999972820282, 'cash': 0.17020000517368317, 'MSFT': 0.1979999989271164, 'A': 0.17139999568462372}\n",
      "ep reward:  0.00001316 [-0.00056364,  0.00039458], portfolio_value:  1.0119 mdd=-2.03% sharpe=0.3980, expl= 0.00% eps=15000 weights={'C': 0.16359999775886536, 'AAPL': 0.1712999939918518, 'B': 0.19419999420642853, 'cash': 0.2134999930858612, 'MSFT': 0.13500000536441803, 'A': 0.12219999730587006}\n",
      "ep reward:  0.00004024 [-0.00027865,  0.00043315], portfolio_value:  1.0369 mdd=-2.16% sharpe=1.4027, expl= 0.00% eps=16000 weights={'C': 0.1436000019311905, 'AAPL': 0.23960000276565552, 'B': 0.11289999634027481, 'cash': 0.21199999749660492, 'MSFT': 0.18780000507831573, 'A': 0.10409999638795853}\n",
      "ep reward:  0.00001030 [-0.00031905,  0.00038527], portfolio_value:  1.0093 mdd=-2.03% sharpe=0.3247, expl= 0.00% eps=17000 weights={'C': 0.2581000030040741, 'AAPL': 0.13189999759197235, 'B': 0.11949999630451202, 'cash': 0.18170000612735748, 'MSFT': 0.15760000050067902, 'A': 0.15119999647140503}\n",
      "INFO:tensorflow:Saving checkpoints for 500000 into ./outputs/tensorforce_PPO_crypto-20180208_17-41/model.ckpt.\n"
     ]
    },
    {
     "name": "stderr",
     "output_type": "stream",
     "text": [
      "INFO:tensorflow:Saving checkpoints for 500000 into ./outputs/tensorforce_PPO_crypto-20180208_17-41/model.ckpt.\n"
     ]
    },
    {
     "name": "stdout",
     "output_type": "stream",
     "text": [
      "ep reward: -0.00000963 [-0.00042188,  0.00042334], portfolio_value:  0.9914 mdd=-2.57% sharpe=-0.2464, expl= 0.00% eps=18000 weights={'C': 0.14010000228881836, 'AAPL': 0.1396999955177307, 'B': 0.12800000607967377, 'cash': 0.15700000524520874, 'MSFT': 0.27090001106262207, 'A': 0.16429999470710754}\n",
      "ep reward:  0.00006578 [-0.00433726,  0.00576221], portfolio_value:  1.0610 mdd=-20.94% sharpe=0.3698, expl= 0.00% eps=19000 weights={'C': 0.16459999978542328, 'AAPL': 0.18449999392032623, 'B': 0.1362999975681305, 'cash': 0.23929999768733978, 'MSFT': 0.1388999968767166, 'A': 0.1363999992609024}\n",
      "ep reward:  0.00004163 [-0.00028823,  0.00035835], portfolio_value:  1.0382 mdd=-1.96% sharpe=1.4921, expl= 0.00% eps=20000 weights={'C': 0.1242000013589859, 'AAPL': 0.16590000689029694, 'B': 0.19249999523162842, 'cash': 0.16699999570846558, 'MSFT': 0.22089999914169312, 'A': 0.12950000166893005}\n",
      "INFO:tensorflow:Saving checkpoints for 600000 into ./outputs/tensorforce_PPO_crypto-20180208_17-41/model.ckpt.\n"
     ]
    },
    {
     "name": "stderr",
     "output_type": "stream",
     "text": [
      "INFO:tensorflow:Saving checkpoints for 600000 into ./outputs/tensorforce_PPO_crypto-20180208_17-41/model.ckpt.\n"
     ]
    },
    {
     "name": "stdout",
     "output_type": "stream",
     "text": [
      "ep reward: -0.00002159 [-0.00038208,  0.00041448], portfolio_value:  0.9808 mdd=-2.42% sharpe=-0.6718, expl= 0.00% eps=21000 weights={'C': 0.14350000023841858, 'AAPL': 0.19660000503063202, 'B': 0.17059999704360962, 'cash': 0.1590999960899353, 'MSFT': 0.19740000367164612, 'A': 0.13279999792575836}\n",
      "ep reward: -0.00002076 [-0.00025463,  0.00021843], portfolio_value:  0.9815 mdd=-1.43% sharpe=-0.9680, expl= 0.00% eps=22000 weights={'C': 0.21709999442100525, 'AAPL': 0.2126999944448471, 'B': 0.11699999868869781, 'cash': 0.20880000293254852, 'MSFT': 0.11990000307559967, 'A': 0.12449999898672104}\n",
      "ep reward:  0.00002716 [-0.00026337,  0.00038136], portfolio_value:  1.0247 mdd=-1.95% sharpe=0.9585, expl= 0.00% eps=23000 weights={'C': 0.14730000495910645, 'AAPL': 0.18440000712871552, 'B': 0.13339999318122864, 'cash': 0.19359999895095825, 'MSFT': 0.16380000114440918, 'A': 0.17749999463558197}\n",
      "ep reward:  0.00009025 [-0.00342753,  0.00535662], portfolio_value:  1.0846 mdd=-19.57% sharpe=0.4977, expl= 0.00% eps=24000 weights={'C': 0.1648000031709671, 'AAPL': 0.16779999434947968, 'B': 0.1307000070810318, 'cash': 0.20010000467300415, 'MSFT': 0.1597999930381775, 'A': 0.17679999768733978}\n",
      "INFO:tensorflow:Saving checkpoints for 700000 into ./outputs/tensorforce_PPO_crypto-20180208_17-41/model.ckpt.\n"
     ]
    },
    {
     "name": "stderr",
     "output_type": "stream",
     "text": [
      "INFO:tensorflow:Saving checkpoints for 700000 into ./outputs/tensorforce_PPO_crypto-20180208_17-41/model.ckpt.\n"
     ]
    },
    {
     "name": "stdout",
     "output_type": "stream",
     "text": [
      "ep reward:  0.00001469 [-0.00031853,  0.00041661], portfolio_value:  1.0133 mdd=-2.23% sharpe=0.4775, expl= 0.00% eps=25000 weights={'C': 0.17260000109672546, 'AAPL': 0.19740000367164612, 'B': 0.09619999676942825, 'cash': 0.21660000085830688, 'MSFT': 0.17489999532699585, 'A': 0.14229999482631683}\n",
      "ep reward:  0.00002303 [-0.00051482,  0.00043268], portfolio_value:  1.0209 mdd=-2.08% sharpe=0.6960, expl= 0.00% eps=26000 weights={'C': 0.1712000072002411, 'AAPL': 0.19040000438690186, 'B': 0.13359999656677246, 'cash': 0.1468999981880188, 'MSFT': 0.181099995970726, 'A': 0.17679999768733978}\n",
      "ep reward: -0.00001387 [-0.00043084,  0.00047304], portfolio_value:  0.9876 mdd=-2.38% sharpe=-0.3420, expl= 0.00% eps=27000 weights={'C': 0.1477999985218048, 'AAPL': 0.1565999984741211, 'B': 0.1454000025987625, 'cash': 0.18299999833106995, 'MSFT': 0.18250000476837158, 'A': 0.18469999730587006}\n",
      "INFO:tensorflow:Saving checkpoints for 800000 into ./outputs/tensorforce_PPO_crypto-20180208_17-41/model.ckpt.\n"
     ]
    },
    {
     "name": "stderr",
     "output_type": "stream",
     "text": [
      "INFO:tensorflow:Saving checkpoints for 800000 into ./outputs/tensorforce_PPO_crypto-20180208_17-41/model.ckpt.\n"
     ]
    },
    {
     "name": "stdout",
     "output_type": "stream",
     "text": [
      "ep reward:  0.00005068 [-0.00073482,  0.00035879], portfolio_value:  1.0467 mdd=-3.34% sharpe=1.4341, expl= 0.00% eps=28000 weights={'C': 0.20059999823570251, 'AAPL': 0.1826000064611435, 'B': 0.1680999994277954, 'cash': 0.16369999945163727, 'MSFT': 0.14100000262260437, 'A': 0.14399999380111694}\n",
      "ep reward:  0.00012450 [-0.00510165,  0.00919854], portfolio_value:  1.1186 mdd=-34.15% sharpe=0.4754, expl= 0.00% eps=29000 weights={'C': 0.1574999988079071, 'AAPL': 0.12680000066757202, 'B': 0.15049999952316284, 'cash': 0.1800999939441681, 'MSFT': 0.18039999902248383, 'A': 0.2046000063419342}\n",
      "ep reward: -0.00002103 [-0.00022473,  0.00033860], portfolio_value:  0.9813 mdd=-1.31% sharpe=-0.8090, expl= 0.00% eps=30000 weights={'C': 0.1754000037908554, 'AAPL': 0.17430000007152557, 'B': 0.17710000276565552, 'cash': 0.17020000517368317, 'MSFT': 0.15710000693798065, 'A': 0.1459999978542328}\n",
      "ep reward:  0.00004244 [-0.00027430,  0.00037917], portfolio_value:  1.0389 mdd=-1.98% sharpe=1.5015, expl= 0.00% eps=31000 weights={'C': 0.14319999516010284, 'AAPL': 0.148499995470047, 'B': 0.1437000036239624, 'cash': 0.21379999816417694, 'MSFT': 0.24410000443458557, 'A': 0.10679999738931656}\n",
      "INFO:tensorflow:Saving checkpoints for 900000 into ./outputs/tensorforce_PPO_crypto-20180208_17-41/model.ckpt.\n"
     ]
    },
    {
     "name": "stderr",
     "output_type": "stream",
     "text": [
      "INFO:tensorflow:Saving checkpoints for 900000 into ./outputs/tensorforce_PPO_crypto-20180208_17-41/model.ckpt.\n"
     ]
    },
    {
     "name": "stdout",
     "output_type": "stream",
     "text": [
      "ep reward:  0.00000941 [-0.00031813,  0.00045457], portfolio_value:  1.0085 mdd=-2.30% sharpe=0.2892, expl= 0.00% eps=32000 weights={'C': 0.22089999914169312, 'AAPL': 0.121799997985363, 'B': 0.1703999936580658, 'cash': 0.18690000474452972, 'MSFT': 0.15469999611377716, 'A': 0.1451999992132187}\n",
      "ep reward:  0.00002875 [-0.00028155,  0.00033249], portfolio_value:  1.0262 mdd=-1.86% sharpe=0.9947, expl= 0.00% eps=33000 weights={'C': 0.11840000003576279, 'AAPL': 0.1671999990940094, 'B': 0.19550000131130219, 'cash': 0.14560000598430634, 'MSFT': 0.2542000114917755, 'A': 0.11909999698400497}\n",
      "ep reward:  0.00002593 [-0.00026005,  0.00030891], portfolio_value:  1.0236 mdd=-1.43% sharpe=1.0698, expl= 0.00% eps=34000 weights={'C': 0.125900000333786, 'AAPL': 0.14820000529289246, 'B': 0.14190000295639038, 'cash': 0.2249000072479248, 'MSFT': 0.13359999656677246, 'A': 0.22529999911785126}\n",
      "INFO:tensorflow:Saving checkpoints for 1000000 into ./outputs/tensorforce_PPO_crypto-20180208_17-41/model.ckpt.\n"
     ]
    },
    {
     "name": "stderr",
     "output_type": "stream",
     "text": [
      "INFO:tensorflow:Saving checkpoints for 1000000 into ./outputs/tensorforce_PPO_crypto-20180208_17-41/model.ckpt.\n"
     ]
    },
    {
     "name": "stdout",
     "output_type": "stream",
     "text": [
      "ep reward:  0.00000613 [-0.00031040,  0.00044637], portfolio_value:  1.0055 mdd=-2.30% sharpe=0.2001, expl= 0.00% eps=35000 weights={'C': 0.11289999634027481, 'AAPL': 0.2280000001192093, 'B': 0.1315000057220459, 'cash': 0.28949999809265137, 'MSFT': 0.10989999771118164, 'A': 0.1281999945640564}\n",
      "ep reward:  0.00011459 [-0.00305973,  0.00611648], portfolio_value:  1.1086 mdd=-22.40% sharpe=0.5680, expl= 0.00% eps=36000 weights={'C': 0.15049999952316284, 'AAPL': 0.18199999630451202, 'B': 0.13459999859333038, 'cash': 0.14630000293254852, 'MSFT': 0.2222999930381775, 'A': 0.16449999809265137}\n",
      "ep reward:  0.00004071 [-0.00026382,  0.00047996], portfolio_value:  1.0373 mdd=-1.51% sharpe=1.2489, expl= 0.00% eps=37000 weights={'C': 0.11349999904632568, 'AAPL': 0.2240999937057495, 'B': 0.12049999833106995, 'cash': 0.15680000185966492, 'MSFT': 0.14239999651908875, 'A': 0.2425999939441681}\n",
      "INFO:tensorflow:Saving checkpoints for 1100000 into ./outputs/tensorforce_PPO_crypto-20180208_17-41/model.ckpt.\n"
     ]
    },
    {
     "name": "stderr",
     "output_type": "stream",
     "text": [
      "INFO:tensorflow:Saving checkpoints for 1100000 into ./outputs/tensorforce_PPO_crypto-20180208_17-41/model.ckpt.\n"
     ]
    },
    {
     "name": "stdout",
     "output_type": "stream",
     "text": [
      "ep reward:  0.00000135 [-0.00054166,  0.00038923], portfolio_value:  1.0012 mdd=-2.01% sharpe=0.0562, expl= 0.00% eps=38000 weights={'C': 0.11230000108480453, 'AAPL': 0.2206999957561493, 'B': 0.2425999939441681, 'cash': 0.12449999898672104, 'MSFT': 0.10989999771118164, 'A': 0.19009999930858612}\n",
      "ep reward:  0.00003274 [-0.00084948,  0.00045002], portfolio_value:  1.0299 mdd=-1.94% sharpe=0.8753, expl= 0.00% eps=39000 weights={'C': 0.19269999861717224, 'AAPL': 0.13680000603199005, 'B': 0.11860000342130661, 'cash': 0.15700000524520874, 'MSFT': 0.2605000138282776, 'A': 0.13439999520778656}\n",
      "ep reward: -0.00001090 [-0.00028476,  0.00039685], portfolio_value:  0.9902 mdd=-2.07% sharpe=-0.3256, expl= 0.00% eps=40000 weights={'C': 0.2329999953508377, 'AAPL': 0.14900000393390656, 'B': 0.26159998774528503, 'cash': 0.14470000565052032, 'MSFT': 0.1046999990940094, 'A': 0.10689999908208847}\n",
      "ep reward:  0.00025374 [-0.00061757,  0.00691830], portfolio_value:  1.2565 mdd=-25.37% sharpe=1.1015, expl= 0.00% eps=41000 weights={'C': 0.2232999950647354, 'AAPL': 0.15289999544620514, 'B': 0.15610000491142273, 'cash': 0.09650000184774399, 'MSFT': 0.19930000603199005, 'A': 0.17170000076293945}\n",
      "INFO:tensorflow:Saving checkpoints for 1200000 into ./outputs/tensorforce_PPO_crypto-20180208_17-41/model.ckpt.\n"
     ]
    },
    {
     "name": "stderr",
     "output_type": "stream",
     "text": [
      "INFO:tensorflow:Saving checkpoints for 1200000 into ./outputs/tensorforce_PPO_crypto-20180208_17-41/model.ckpt.\n"
     ]
    },
    {
     "name": "stdout",
     "output_type": "stream",
     "text": [
      "ep reward:  0.00001547 [-0.00026119,  0.00030912], portfolio_value:  1.0140 mdd=-1.49% sharpe=0.6750, expl= 0.00% eps=42000 weights={'C': 0.11869999766349792, 'AAPL': 0.2287999987602234, 'B': 0.18860000371932983, 'cash': 0.17509999871253967, 'MSFT': 0.12690000236034393, 'A': 0.16189999878406525}\n",
      "ep reward:  0.00009655 [-0.00354366,  0.00616988], portfolio_value:  1.0908 mdd=-22.56% sharpe=0.4863, expl= 0.00% eps=43000 weights={'C': 0.20499999821186066, 'AAPL': 0.19990000128746033, 'B': 0.11379999667406082, 'cash': 0.17890000343322754, 'MSFT': 0.17579999566078186, 'A': 0.1264999955892563}\n",
      "ep reward:  0.00001391 [-0.00052107,  0.00041972], portfolio_value:  1.0126 mdd=-2.14% sharpe=0.4106, expl= 0.00% eps=44000 weights={'C': 0.10760000348091125, 'AAPL': 0.21289999783039093, 'B': 0.21199999749660492, 'cash': 0.20909999310970306, 'MSFT': 0.16509999334812164, 'A': 0.0934000015258789}\n",
      "INFO:tensorflow:Saving checkpoints for 1300000 into ./outputs/tensorforce_PPO_crypto-20180208_17-41/model.ckpt.\n"
     ]
    },
    {
     "name": "stderr",
     "output_type": "stream",
     "text": [
      "INFO:tensorflow:Saving checkpoints for 1300000 into ./outputs/tensorforce_PPO_crypto-20180208_17-41/model.ckpt.\n"
     ]
    },
    {
     "name": "stdout",
     "output_type": "stream",
     "text": [
      "ep reward:  0.00013883 [-0.00361695,  0.00718377], portfolio_value:  1.1331 mdd=-26.77% sharpe=0.5949, expl= 0.00% eps=45000 weights={'C': 0.11490000039339066, 'AAPL': 0.19550000131130219, 'B': 0.22840000689029694, 'cash': 0.1881999969482422, 'MSFT': 0.11190000176429749, 'A': 0.16110000014305115}\n",
      "ep reward: -0.00001380 [-0.00042069,  0.00037129], portfolio_value:  0.9877 mdd=-2.40% sharpe=-0.3869, expl= 0.00% eps=46000 weights={'C': 0.19439999759197235, 'AAPL': 0.2011999934911728, 'B': 0.12950000166893005, 'cash': 0.1429000049829483, 'MSFT': 0.15729999542236328, 'A': 0.17470000684261322}\n",
      "ep reward:  0.00002243 [-0.00025345,  0.00030399], portfolio_value:  1.0204 mdd=-1.64% sharpe=0.8681, expl= 0.00% eps=47000 weights={'C': 0.186599999666214, 'AAPL': 0.17399999499320984, 'B': 0.14149999618530273, 'cash': 0.21160000562667847, 'MSFT': 0.15530000627040863, 'A': 0.13099999725818634}\n",
      "ep reward:  0.00012082 [-0.00417811,  0.00777574], portfolio_value:  1.1149 mdd=-28.84% sharpe=0.5065, expl= 0.00% eps=48000 weights={'C': 0.13379999995231628, 'AAPL': 0.16910000145435333, 'B': 0.24560000002384186, 'cash': 0.14249999821186066, 'MSFT': 0.1817999929189682, 'A': 0.12720000743865967}\n",
      "INFO:tensorflow:Saving checkpoints for 1400000 into ./outputs/tensorforce_PPO_crypto-20180208_17-41/model.ckpt.\n"
     ]
    },
    {
     "name": "stderr",
     "output_type": "stream",
     "text": [
      "INFO:tensorflow:Saving checkpoints for 1400000 into ./outputs/tensorforce_PPO_crypto-20180208_17-41/model.ckpt.\n"
     ]
    },
    {
     "name": "stdout",
     "output_type": "stream",
     "text": [
      "ep reward:  0.00012297 [-0.00314889,  0.00688193], portfolio_value:  1.1170 mdd=-25.20% sharpe=0.5592, expl= 0.00% eps=49000 weights={'C': 0.15189999341964722, 'AAPL': 0.22169999778270721, 'B': 0.13770000636577606, 'cash': 0.16859999299049377, 'MSFT': 0.18199999630451202, 'A': 0.1379999965429306}\n",
      "ep reward:  0.00001322 [-0.00031580,  0.00035499], portfolio_value:  1.0120 mdd=-2.03% sharpe=0.4817, expl= 0.00% eps=50000 weights={'C': 0.22930000722408295, 'AAPL': 0.125900000333786, 'B': 0.1340000033378601, 'cash': 0.12439999729394913, 'MSFT': 0.21240000426769257, 'A': 0.17389999330043793}\n",
      "ep reward:  0.00001816 [-0.00026266,  0.00027646], portfolio_value:  1.0165 mdd=-1.63% sharpe=0.7627, expl= 0.00% eps=51000 weights={'C': 0.19869999587535858, 'AAPL': 0.15610000491142273, 'B': 0.12250000238418579, 'cash': 0.19120000302791595, 'MSFT': 0.1421000063419342, 'A': 0.18940000236034393}\n",
      "INFO:tensorflow:Saving checkpoints for 1500000 into ./outputs/tensorforce_PPO_crypto-20180208_17-41/model.ckpt.\n"
     ]
    },
    {
     "name": "stderr",
     "output_type": "stream",
     "text": [
      "INFO:tensorflow:Saving checkpoints for 1500000 into ./outputs/tensorforce_PPO_crypto-20180208_17-41/model.ckpt.\n"
     ]
    },
    {
     "name": "stdout",
     "output_type": "stream",
     "text": [
      "ep reward: -0.00001343 [-0.00027260,  0.00029555], portfolio_value:  0.9880 mdd=-1.26% sharpe=-0.4697, expl= 0.00% eps=52000 weights={'C': 0.2371000051498413, 'AAPL': 0.18060000240802765, 'B': 0.11940000206232071, 'cash': 0.1720000058412552, 'MSFT': 0.14329999685287476, 'A': 0.14749999344348907}\n",
      "ep reward: -0.00001615 [-0.00049788,  0.00050754], portfolio_value:  0.9856 mdd=-2.38% sharpe=-0.3974, expl= 0.00% eps=53000 weights={'C': 0.16189999878406525, 'AAPL': 0.13230000436306, 'B': 0.14839999377727509, 'cash': 0.22089999914169312, 'MSFT': 0.14059999585151672, 'A': 0.19589999318122864}\n",
      "ep reward:  0.00019671 [-0.00344365,  0.00886387], portfolio_value:  1.1937 mdd=-32.89% sharpe=0.6935, expl= 0.00% eps=54000 weights={'C': 0.2214999943971634, 'AAPL': 0.14390000700950623, 'B': 0.15710000693798065, 'cash': 0.19509999454021454, 'MSFT': 0.13040000200271606, 'A': 0.15199999511241913}\n",
      "ep reward: -0.00000549 [-0.00081530,  0.00042576], portfolio_value:  0.9951 mdd=-2.19% sharpe=-0.1066, expl= 0.00% eps=55000 weights={'C': 0.11749999970197678, 'AAPL': 0.21799999475479126, 'B': 0.1712999939918518, 'cash': 0.1931000053882599, 'MSFT': 0.125900000333786, 'A': 0.17430000007152557}\n",
      "INFO:tensorflow:Saving checkpoints for 1600000 into ./outputs/tensorforce_PPO_crypto-20180208_17-41/model.ckpt.\n"
     ]
    },
    {
     "name": "stderr",
     "output_type": "stream",
     "text": [
      "INFO:tensorflow:Saving checkpoints for 1600000 into ./outputs/tensorforce_PPO_crypto-20180208_17-41/model.ckpt.\n"
     ]
    },
    {
     "name": "stdout",
     "output_type": "stream",
     "text": [
      "ep reward:  0.00003652 [-0.00020401,  0.00035761], portfolio_value:  1.0334 mdd=-1.70% sharpe=1.4781, expl= 0.00% eps=56000 weights={'C': 0.19210000336170197, 'AAPL': 0.19670000672340393, 'B': 0.1736000031232834, 'cash': 0.19220000505447388, 'MSFT': 0.12710000574588776, 'A': 0.11819999665021896}\n",
      "ep reward: -0.00000362 [-0.00044989,  0.00049295], portfolio_value:  0.9967 mdd=-2.10% sharpe=-0.0812, expl= 0.00% eps=57000 weights={'C': 0.219200000166893, 'AAPL': 0.13750000298023224, 'B': 0.12489999830722809, 'cash': 0.16609999537467957, 'MSFT': 0.14429999887943268, 'A': 0.20810000598430634}\n",
      "ep reward:  0.00001787 [-0.00028286,  0.00048108], portfolio_value:  1.0162 mdd=-2.32% sharpe=0.5749, expl= 0.00% eps=58000 weights={'C': 0.11680000275373459, 'AAPL': 0.17550000548362732, 'B': 0.18440000712871552, 'cash': 0.23100000619888306, 'MSFT': 0.11079999804496765, 'A': 0.18140000104904175}\n",
      "INFO:tensorflow:Saving checkpoints for 1700000 into ./outputs/tensorforce_PPO_crypto-20180208_17-41/model.ckpt.\n"
     ]
    },
    {
     "name": "stderr",
     "output_type": "stream",
     "text": [
      "INFO:tensorflow:Saving checkpoints for 1700000 into ./outputs/tensorforce_PPO_crypto-20180208_17-41/model.ckpt.\n"
     ]
    },
    {
     "name": "stdout",
     "output_type": "stream",
     "text": [
      "ep reward: -0.00000159 [-0.00031062,  0.00049052], portfolio_value:  0.9986 mdd=-2.21% sharpe=-0.0331, expl= 0.00% eps=59000 weights={'C': 0.12479999661445618, 'AAPL': 0.16099999845027924, 'B': 0.2046000063419342, 'cash': 0.18889999389648438, 'MSFT': 0.14910000562667847, 'A': 0.17170000076293945}\n",
      "ep reward:  0.00004320 [-0.00085515,  0.00033937], portfolio_value:  1.0396 mdd=-3.65% sharpe=1.1624, expl= 0.00% eps=60000 weights={'C': 0.13899999856948853, 'AAPL': 0.12540000677108765, 'B': 0.20890000462532043, 'cash': 0.16439999639987946, 'MSFT': 0.23100000619888306, 'A': 0.13130000233650208}\n",
      "ep reward:  0.00000253 [-0.00087973,  0.00045350], portfolio_value:  1.0023 mdd=-2.17% sharpe=0.0812, expl= 0.00% eps=61000 weights={'C': 0.18649999797344208, 'AAPL': 0.13529999554157257, 'B': 0.11169999837875366, 'cash': 0.25589999556541443, 'MSFT': 0.19449999928474426, 'A': 0.11620000004768372}\n",
      "ep reward: -0.00000973 [-0.00028522,  0.00031215], portfolio_value:  0.9913 mdd=0.00% sharpe=-0.3497, expl= 0.00% eps=62000 weights={'C': 0.10180000215768814, 'AAPL': 0.19110000133514404, 'B': 0.11429999768733978, 'cash': 0.22220000624656677, 'MSFT': 0.18629999458789825, 'A': 0.1842000037431717}\n",
      "INFO:tensorflow:Saving checkpoints for 1800000 into ./outputs/tensorforce_PPO_crypto-20180208_17-41/model.ckpt.\n"
     ]
    },
    {
     "name": "stderr",
     "output_type": "stream",
     "text": [
      "INFO:tensorflow:Saving checkpoints for 1800000 into ./outputs/tensorforce_PPO_crypto-20180208_17-41/model.ckpt.\n"
     ]
    },
    {
     "name": "stdout",
     "output_type": "stream",
     "text": [
      "ep reward:  0.00019669 [-0.00280241,  0.00874936], portfolio_value:  1.1937 mdd=-32.73% sharpe=0.7051, expl= 0.00% eps=63000 weights={'C': 0.09160000085830688, 'AAPL': 0.1607999950647354, 'B': 0.2282000035047531, 'cash': 0.13169999420642853, 'MSFT': 0.16300000250339508, 'A': 0.2248000055551529}\n",
      "ep reward:  0.00000152 [-0.00070982,  0.00043842], portfolio_value:  1.0014 mdd=-2.18% sharpe=0.0549, expl= 0.00% eps=64000 weights={'C': 0.13850000500679016, 'AAPL': 0.25209999084472656, 'B': 0.23510000109672546, 'cash': 0.1477999985218048, 'MSFT': 0.11029999703168869, 'A': 0.11630000174045563}\n",
      "ep reward: -0.00001199 [-0.00031884,  0.00032478], portfolio_value:  0.9893 mdd=-1.95% sharpe=-0.3409, expl= 0.00% eps=65000 weights={'C': 0.2329999953508377, 'AAPL': 0.11500000208616257, 'B': 0.15219999849796295, 'cash': 0.11680000275373459, 'MSFT': 0.19179999828338623, 'A': 0.19120000302791595}\n",
      "INFO:tensorflow:Saving checkpoints for 1900000 into ./outputs/tensorforce_PPO_crypto-20180208_17-41/model.ckpt.\n"
     ]
    },
    {
     "name": "stderr",
     "output_type": "stream",
     "text": [
      "INFO:tensorflow:Saving checkpoints for 1900000 into ./outputs/tensorforce_PPO_crypto-20180208_17-41/model.ckpt.\n"
     ]
    },
    {
     "name": "stdout",
     "output_type": "stream",
     "text": [
      "ep reward:  0.00000650 [-0.00037243,  0.00044449], portfolio_value:  1.0059 mdd=-2.29% sharpe=0.1902, expl= 0.00% eps=66000 weights={'C': 0.15760000050067902, 'AAPL': 0.19169999659061432, 'B': 0.1177000030875206, 'cash': 0.09210000187158585, 'MSFT': 0.2222999930381775, 'A': 0.21850000321865082}\n",
      "ep reward:  0.00000327 [-0.00035727,  0.00038505], portfolio_value:  1.0029 mdd=-2.07% sharpe=0.1065, expl= 0.00% eps=67000 weights={'C': 0.16990000009536743, 'AAPL': 0.15160000324249268, 'B': 0.18029999732971191, 'cash': 0.12070000171661377, 'MSFT': 0.23800000548362732, 'A': 0.13950000703334808}\n",
      "ep reward:  0.00006098 [-0.00078333,  0.00046300], portfolio_value:  1.0564 mdd=-3.81% sharpe=1.5954, expl= 0.00% eps=68000 weights={'C': 0.11580000072717667, 'AAPL': 0.18289999663829803, 'B': 0.2797999978065491, 'cash': 0.13920000195503235, 'MSFT': 0.14869999885559082, 'A': 0.13349999487400055}\n",
      "INFO:tensorflow:Saving checkpoints for 2000000 into ./outputs/tensorforce_PPO_crypto-20180208_17-41/model.ckpt.\n"
     ]
    },
    {
     "name": "stderr",
     "output_type": "stream",
     "text": [
      "INFO:tensorflow:Saving checkpoints for 2000000 into ./outputs/tensorforce_PPO_crypto-20180208_17-41/model.ckpt.\n"
     ]
    },
    {
     "name": "stdout",
     "output_type": "stream",
     "text": [
      "ep reward:  0.00003320 [-0.00080639,  0.00045184], portfolio_value:  1.0303 mdd=-3.85% sharpe=0.8215, expl= 0.00% eps=69000 weights={'C': 0.18230000138282776, 'AAPL': 0.13689999282360077, 'B': 0.22280000150203705, 'cash': 0.1551000028848648, 'MSFT': 0.16869999468326569, 'A': 0.13410000503063202}\n",
      "ep reward: -0.00001012 [-0.00024565,  0.00029166], portfolio_value:  0.9909 mdd=0.00% sharpe=-0.3884, expl= 0.00% eps=70000 weights={'C': 0.11779999732971191, 'AAPL': 0.25360000133514404, 'B': 0.1648000031709671, 'cash': 0.181099995970726, 'MSFT': 0.15449999272823334, 'A': 0.1281999945640564}\n",
      "ep reward:  0.00025533 [-0.00229713,  0.00997493], portfolio_value:  1.2583 mdd=-37.47% sharpe=0.7993, expl= 0.00% eps=71000 weights={'C': 0.12200000137090683, 'AAPL': 0.15649999678134918, 'B': 0.12439999729394913, 'cash': 0.23899999260902405, 'MSFT': 0.1421000063419342, 'A': 0.2160000056028366}\n",
      "ep reward:  0.00002979 [-0.00079289,  0.00044202], portfolio_value:  1.0272 mdd=-3.77% sharpe=0.7407, expl= 0.00% eps=72000 weights={'C': 0.19339999556541443, 'AAPL': 0.17239999771118164, 'B': 0.10970000177621841, 'cash': 0.16869999468326569, 'MSFT': 0.12700000405311584, 'A': 0.2289000004529953}\n",
      "INFO:tensorflow:Saving checkpoints for 2100000 into ./outputs/tensorforce_PPO_crypto-20180208_17-41/model.ckpt.\n"
     ]
    },
    {
     "name": "stderr",
     "output_type": "stream",
     "text": [
      "INFO:tensorflow:Saving checkpoints for 2100000 into ./outputs/tensorforce_PPO_crypto-20180208_17-41/model.ckpt.\n"
     ]
    },
    {
     "name": "stdout",
     "output_type": "stream",
     "text": [
      "ep reward:  0.00004375 [-0.00024524,  0.00036603], portfolio_value:  1.0402 mdd=-1.83% sharpe=1.5742, expl= 0.00% eps=73000 weights={'C': 0.20069999992847443, 'AAPL': 0.15760000050067902, 'B': 0.14980000257492065, 'cash': 0.11299999803304672, 'MSFT': 0.19699999690055847, 'A': 0.1818999946117401}\n",
      "ep reward:  0.00009907 [-0.00445138,  0.00724545], portfolio_value:  1.0933 mdd=-26.59% sharpe=0.4510, expl= 0.00% eps=74000 weights={'C': 0.13439999520778656, 'AAPL': 0.1965000033378601, 'B': 0.11649999767541885, 'cash': 0.24070000648498535, 'MSFT': 0.15760000050067902, 'A': 0.1543000042438507}\n",
      "ep reward:  0.00001708 [-0.00555889,  0.00607745], portfolio_value:  1.0155 mdd=-22.16% sharpe=0.1840, expl= 0.00% eps=75000 weights={'C': 0.1598999947309494, 'AAPL': 0.26109999418258667, 'B': 0.10849999636411667, 'cash': 0.149399995803833, 'MSFT': 0.12999999523162842, 'A': 0.19120000302791595}\n",
      "INFO:tensorflow:Saving checkpoints for 2200000 into ./outputs/tensorforce_PPO_crypto-20180208_17-41/model.ckpt.\n"
     ]
    },
    {
     "name": "stderr",
     "output_type": "stream",
     "text": [
      "INFO:tensorflow:Saving checkpoints for 2200000 into ./outputs/tensorforce_PPO_crypto-20180208_17-41/model.ckpt.\n"
     ]
    },
    {
     "name": "stdout",
     "output_type": "stream",
     "text": [
      "ep reward: -0.00005029 [-0.00050417,  0.00029557], portfolio_value:  0.9558 mdd=-2.43% sharpe=-1.4915, expl= 0.00% eps=76000 weights={'C': 0.2402999997138977, 'AAPL': 0.11100000143051147, 'B': 0.19709999859333038, 'cash': 0.1891999989748001, 'MSFT': 0.11129999905824661, 'A': 0.15109999477863312}\n",
      "ep reward: -0.00003284 [-0.00040442,  0.00033888], portfolio_value:  0.9709 mdd=-2.25% sharpe=-1.0174, expl= 0.00% eps=77000 weights={'C': 0.0997999981045723, 'AAPL': 0.18610000610351562, 'B': 0.22830000519752502, 'cash': 0.18529999256134033, 'MSFT': 0.16040000319480896, 'A': 0.14000000059604645}\n",
      "ep reward:  0.00001336 [-0.00028773,  0.00039377], portfolio_value:  1.0121 mdd=-2.00% sharpe=0.4360, expl= 0.00% eps=78000 weights={'C': 0.17229999601840973, 'AAPL': 0.15839999914169312, 'B': 0.2361000031232834, 'cash': 0.12489999830722809, 'MSFT': 0.1348000019788742, 'A': 0.1736000031232834}\n",
      "ep reward: -0.00001293 [-0.00038190,  0.00042336], portfolio_value:  0.9884 mdd=-0.72% sharpe=-0.3342, expl= 0.00% eps=79000 weights={'C': 0.15600000321865082, 'AAPL': 0.18440000712871552, 'B': 0.14169999957084656, 'cash': 0.16859999299049377, 'MSFT': 0.19869999587535858, 'A': 0.15060000121593475}\n",
      "INFO:tensorflow:Saving checkpoints for 2300000 into ./outputs/tensorforce_PPO_crypto-20180208_17-41/model.ckpt.\n"
     ]
    },
    {
     "name": "stderr",
     "output_type": "stream",
     "text": [
      "INFO:tensorflow:Saving checkpoints for 2300000 into ./outputs/tensorforce_PPO_crypto-20180208_17-41/model.ckpt.\n"
     ]
    },
    {
     "name": "stdout",
     "output_type": "stream",
     "text": [
      "ep reward: -0.00004285 [-0.00058168,  0.00037633], portfolio_value:  0.9622 mdd=-2.92% sharpe=-1.1744, expl= 0.00% eps=80000 weights={'C': 0.15559999644756317, 'AAPL': 0.1273999959230423, 'B': 0.2459000051021576, 'cash': 0.19699999690055847, 'MSFT': 0.14880000054836273, 'A': 0.12540000677108765}\n",
      "ep reward:  0.00003302 [-0.00020318,  0.00046253], portfolio_value:  1.0302 mdd=-1.69% sharpe=1.1170, expl= 0.00% eps=81000 weights={'C': 0.11460000276565552, 'AAPL': 0.1454000025987625, 'B': 0.18289999663829803, 'cash': 0.1476999968290329, 'MSFT': 0.21449999511241913, 'A': 0.1949000060558319}\n",
      "ep reward:  0.00010752 [-0.00293057,  0.00571345], portfolio_value:  1.1016 mdd=-20.83% sharpe=0.5639, expl= 0.00% eps=82000 weights={'C': 0.19050000607967377, 'AAPL': 0.12129999697208405, 'B': 0.17249999940395355, 'cash': 0.12759999930858612, 'MSFT': 0.1290999948978424, 'A': 0.2590000033378601}\n",
      "INFO:tensorflow:Saving checkpoints for 2400000 into ./outputs/tensorforce_PPO_crypto-20180208_17-41/model.ckpt.\n"
     ]
    },
    {
     "name": "stderr",
     "output_type": "stream",
     "text": [
      "INFO:tensorflow:Saving checkpoints for 2400000 into ./outputs/tensorforce_PPO_crypto-20180208_17-41/model.ckpt.\n"
     ]
    },
    {
     "name": "stdout",
     "output_type": "stream",
     "text": [
      "ep reward:  0.00003035 [-0.00021121,  0.00031644], portfolio_value:  1.0277 mdd=-1.60% sharpe=1.1738, expl= 0.00% eps=83000 weights={'C': 0.13339999318122864, 'AAPL': 0.1624000072479248, 'B': 0.22709999978542328, 'cash': 0.23680000007152557, 'MSFT': 0.11789999902248383, 'A': 0.12240000069141388}\n",
      "ep reward:  0.00006400 [-0.00080288,  0.00041403], portfolio_value:  1.0593 mdd=-3.72% sharpe=1.7048, expl= 0.00% eps=84000 weights={'C': 0.16419999301433563, 'AAPL': 0.1234000027179718, 'B': 0.23690000176429749, 'cash': 0.16760000586509705, 'MSFT': 0.10989999771118164, 'A': 0.1979999989271164}\n",
      "ep reward:  0.00001799 [-0.00024708,  0.00035363], portfolio_value:  1.0163 mdd=-1.59% sharpe=0.7032, expl= 0.00% eps=85000 weights={'C': 0.16750000417232513, 'AAPL': 0.14499999582767487, 'B': 0.18880000710487366, 'cash': 0.11789999902248383, 'MSFT': 0.13330000638961792, 'A': 0.2475000023841858}\n",
      "ep reward: -0.00003325 [-0.00037520,  0.00036530], portfolio_value:  0.9705 mdd=-2.25% sharpe=-0.9916, expl= 0.00% eps=86000 weights={'C': 0.17190000414848328, 'AAPL': 0.21539999544620514, 'B': 0.11379999667406082, 'cash': 0.15870000422000885, 'MSFT': 0.20499999821186066, 'A': 0.13519999384880066}\n",
      "INFO:tensorflow:Saving checkpoints for 2500000 into ./outputs/tensorforce_PPO_crypto-20180208_17-41/model.ckpt.\n"
     ]
    },
    {
     "name": "stderr",
     "output_type": "stream",
     "text": [
      "INFO:tensorflow:Saving checkpoints for 2500000 into ./outputs/tensorforce_PPO_crypto-20180208_17-41/model.ckpt.\n"
     ]
    },
    {
     "name": "stdout",
     "output_type": "stream",
     "text": [
      "ep reward:  0.00002996 [-0.00028390,  0.00040335], portfolio_value:  1.0273 mdd=-1.35% sharpe=0.9502, expl= 0.00% eps=87000 weights={'C': 0.19269999861717224, 'AAPL': 0.15080000460147858, 'B': 0.13819999992847443, 'cash': 0.09619999676942825, 'MSFT': 0.23659999668598175, 'A': 0.18549999594688416}\n",
      "ep reward:  0.00028425 [-0.00260653,  0.01120695], portfolio_value:  1.2915 mdd=-42.83% sharpe=0.7992, expl= 0.00% eps=88000 weights={'C': 0.17399999499320984, 'AAPL': 0.09520000219345093, 'B': 0.24420000612735748, 'cash': 0.11900000274181366, 'MSFT': 0.24400000274181366, 'A': 0.12359999865293503}\n",
      "ep reward:  0.00002664 [-0.00023865,  0.00025063], portfolio_value:  1.0243 mdd=-1.48% sharpe=1.2255, expl= 0.00% eps=89000 weights={'C': 0.1729000061750412, 'AAPL': 0.16089999675750732, 'B': 0.1054999977350235, 'cash': 0.17419999837875366, 'MSFT': 0.1517000049352646, 'A': 0.23489999771118164}\n",
      "INFO:tensorflow:Saving checkpoints for 2600000 into ./outputs/tensorforce_PPO_crypto-20180208_17-41/model.ckpt.\n"
     ]
    },
    {
     "name": "stderr",
     "output_type": "stream",
     "text": [
      "INFO:tensorflow:Saving checkpoints for 2600000 into ./outputs/tensorforce_PPO_crypto-20180208_17-41/model.ckpt.\n"
     ]
    },
    {
     "name": "stdout",
     "output_type": "stream",
     "text": [
      "ep reward:  0.00002710 [-0.00029470,  0.00035517], portfolio_value:  1.0247 mdd=-1.35% sharpe=1.1116, expl= 0.00% eps=90000 weights={'C': 0.19030000269412994, 'AAPL': 0.25839999318122864, 'B': 0.11840000003576279, 'cash': 0.1589999943971634, 'MSFT': 0.15029999613761902, 'A': 0.12359999865293503}\n",
      "ep reward:  0.00004773 [-0.00081043,  0.00043157], portfolio_value:  1.0439 mdd=-1.68% sharpe=1.2841, expl= 0.00% eps=91000 weights={'C': 0.15569999814033508, 'AAPL': 0.10159999877214432, 'B': 0.23440000414848328, 'cash': 0.14869999885559082, 'MSFT': 0.20069999992847443, 'A': 0.15889999270439148}\n",
      "ep reward:  0.00013869 [-0.00554899,  0.00920191], portfolio_value:  1.1329 mdd=-34.11% sharpe=0.5111, expl= 0.00% eps=92000 weights={'C': 0.20759999752044678, 'AAPL': 0.1468999981880188, 'B': 0.16539999842643738, 'cash': 0.18799999356269836, 'MSFT': 0.1678999960422516, 'A': 0.12409999966621399}\n",
      "ep reward:  0.00000304 [-0.00083537,  0.00039812], portfolio_value:  1.0027 mdd=-2.28% sharpe=0.0900, expl= 0.00% eps=93000 weights={'C': 0.18240000307559967, 'AAPL': 0.19869999587535858, 'B': 0.16930000483989716, 'cash': 0.1151999980211258, 'MSFT': 0.13510000705718994, 'A': 0.19930000603199005}\n",
      "INFO:tensorflow:Saving checkpoints for 2700000 into ./outputs/tensorforce_PPO_crypto-20180208_17-41/model.ckpt.\n"
     ]
    },
    {
     "name": "stderr",
     "output_type": "stream",
     "text": [
      "INFO:tensorflow:Saving checkpoints for 2700000 into ./outputs/tensorforce_PPO_crypto-20180208_17-41/model.ckpt.\n"
     ]
    },
    {
     "name": "stdout",
     "output_type": "stream",
     "text": [
      "ep reward:  0.00001370 [-0.00084896,  0.00045204], portfolio_value:  1.0124 mdd=-3.98% sharpe=0.3533, expl= 0.00% eps=94000 weights={'C': 0.1851000040769577, 'AAPL': 0.18690000474452972, 'B': 0.1363999992609024, 'cash': 0.1265999972820282, 'MSFT': 0.2160000056028366, 'A': 0.14910000562667847}\n",
      "ep reward:  0.00024820 [-0.00414602,  0.01141241], portfolio_value:  1.2503 mdd=-43.77% sharpe=0.7034, expl= 0.00% eps=95000 weights={'C': 0.15160000324249268, 'AAPL': 0.15160000324249268, 'B': 0.2134000062942505, 'cash': 0.1356000006198883, 'MSFT': 0.1776999980211258, 'A': 0.17010000348091125}\n",
      "ep reward:  0.00000907 [-0.00047449,  0.00043782], portfolio_value:  1.0082 mdd=-1.42% sharpe=0.2697, expl= 0.00% eps=96000 weights={'C': 0.25189998745918274, 'AAPL': 0.15729999542236328, 'B': 0.10459999740123749, 'cash': 0.17000000178813934, 'MSFT': 0.19840000569820404, 'A': 0.1177000030875206}\n",
      "INFO:tensorflow:Saving checkpoints for 2800000 into ./outputs/tensorforce_PPO_crypto-20180208_17-41/model.ckpt.\n"
     ]
    },
    {
     "name": "stderr",
     "output_type": "stream",
     "text": [
      "INFO:tensorflow:Saving checkpoints for 2800000 into ./outputs/tensorforce_PPO_crypto-20180208_17-41/model.ckpt.\n"
     ]
    },
    {
     "name": "stdout",
     "output_type": "stream",
     "text": [
      "ep reward:  0.00003721 [-0.00027303,  0.00041511], portfolio_value:  1.0341 mdd=-2.09% sharpe=1.2597, expl= 0.00% eps=97000 weights={'C': 0.147599995136261, 'AAPL': 0.23440000414848328, 'B': 0.1459999978542328, 'cash': 0.10580000281333923, 'MSFT': 0.17710000276565552, 'A': 0.1890999972820282}\n",
      "ep reward:  0.00001316 [-0.00026170,  0.00044293], portfolio_value:  1.0119 mdd=-1.84% sharpe=0.4016, expl= 0.00% eps=98000 weights={'C': 0.16419999301433563, 'AAPL': 0.15620000660419464, 'B': 0.1289999932050705, 'cash': 0.2061000019311905, 'MSFT': 0.21619999408721924, 'A': 0.1282999962568283}\n",
      "ep reward:  0.00003300 [-0.00028927,  0.00044040], portfolio_value:  1.0301 mdd=-1.49% sharpe=1.0129, expl= 0.00% eps=99000 weights={'C': 0.20759999752044678, 'AAPL': 0.09769999980926514, 'B': 0.22599999606609344, 'cash': 0.1128000020980835, 'MSFT': 0.10270000249147415, 'A': 0.2531999945640564}\n",
      "INFO:tensorflow:Saving checkpoints for 2900000 into ./outputs/tensorforce_PPO_crypto-20180208_17-41/model.ckpt.\n"
     ]
    },
    {
     "name": "stderr",
     "output_type": "stream",
     "text": [
      "INFO:tensorflow:Saving checkpoints for 2900000 into ./outputs/tensorforce_PPO_crypto-20180208_17-41/model.ckpt.\n"
     ]
    },
    {
     "name": "stdout",
     "output_type": "stream",
     "text": [
      "ep reward: -0.00000008 [-0.00022459,  0.00035207], portfolio_value:  0.9999 mdd=-1.75% sharpe=0.0087, expl= 0.00% eps=100000 weights={'C': 0.19589999318122864, 'AAPL': 0.21240000426769257, 'B': 0.10130000114440918, 'cash': 0.20180000364780426, 'MSFT': 0.09189999848604202, 'A': 0.19670000672340393}\n",
      "ep reward:  0.00018365 [-0.00378609,  0.00892838], portfolio_value:  1.1797 mdd=-33.42% sharpe=0.6504, expl= 0.00% eps=101000 weights={'C': 0.19249999523162842, 'AAPL': 0.148499995470047, 'B': 0.1395999938249588, 'cash': 0.1979999989271164, 'MSFT': 0.13770000636577606, 'A': 0.18369999527931213}\n",
      "ep reward:  0.00002797 [-0.00025926,  0.00030897], portfolio_value:  1.0255 mdd=-1.66% sharpe=1.1243, expl= 0.00% eps=102000 weights={'C': 0.11540000140666962, 'AAPL': 0.1404999941587448, 'B': 0.12210000306367874, 'cash': 0.23899999260902405, 'MSFT': 0.2168000042438507, 'A': 0.16619999706745148}\n",
      "ep reward: -0.00000894 [-0.00026948,  0.00034933], portfolio_value:  0.9920 mdd=-1.87% sharpe=-0.3051, expl= 0.00% eps=103000 weights={'C': 0.2110999971628189, 'AAPL': 0.24740000069141388, 'B': 0.15240000188350677, 'cash': 0.11900000274181366, 'MSFT': 0.14550000429153442, 'A': 0.12470000237226486}\n",
      "INFO:tensorflow:Saving checkpoints for 3000000 into ./outputs/tensorforce_PPO_crypto-20180208_17-41/model.ckpt.\n"
     ]
    },
    {
     "name": "stderr",
     "output_type": "stream",
     "text": [
      "INFO:tensorflow:Saving checkpoints for 3000000 into ./outputs/tensorforce_PPO_crypto-20180208_17-41/model.ckpt.\n"
     ]
    },
    {
     "name": "stdout",
     "output_type": "stream",
     "text": [
      "ep reward: -0.00000137 [-0.00029000,  0.00039762], portfolio_value:  0.9988 mdd=-2.08% sharpe=-0.0297, expl= 0.00% eps=104000 weights={'C': 0.10540000349283218, 'AAPL': 0.11020000278949738, 'B': 0.18950000405311584, 'cash': 0.23190000653266907, 'MSFT': 0.20640000700950623, 'A': 0.15680000185966492}\n",
      "ep reward: -0.00000155 [-0.00027531,  0.00025753], portfolio_value:  0.9986 mdd=-1.61% sharpe=-0.0560, expl= 0.00% eps=105000 weights={'C': 0.1307000070810318, 'AAPL': 0.18719999492168427, 'B': 0.1412000060081482, 'cash': 0.2506999969482422, 'MSFT': 0.13740000128746033, 'A': 0.1527000069618225}\n",
      "ep reward:  0.00003187 [-0.00031520,  0.00048645], portfolio_value:  1.0291 mdd=-1.69% sharpe=0.9482, expl= 0.00% eps=106000 weights={'C': 0.10599999874830246, 'AAPL': 0.12839999794960022, 'B': 0.1517000049352646, 'cash': 0.1014999970793724, 'MSFT': 0.26829999685287476, 'A': 0.24390000104904175}\n",
      "INFO:tensorflow:Saving checkpoints for 3100000 into ./outputs/tensorforce_PPO_crypto-20180208_17-41/model.ckpt.\n"
     ]
    },
    {
     "name": "stderr",
     "output_type": "stream",
     "text": [
      "INFO:tensorflow:Saving checkpoints for 3100000 into ./outputs/tensorforce_PPO_crypto-20180208_17-41/model.ckpt.\n"
     ]
    },
    {
     "name": "stdout",
     "output_type": "stream",
     "text": [
      "ep reward: -0.00001901 [-0.00032343,  0.00039185], portfolio_value:  0.9830 mdd=-2.17% sharpe=-0.6009, expl= 0.00% eps=107000 weights={'C': 0.10440000146627426, 'AAPL': 0.18389999866485596, 'B': 0.18250000476837158, 'cash': 0.24060000479221344, 'MSFT': 0.1436000019311905, 'A': 0.14499999582767487}\n",
      "ep reward:  0.00003881 [-0.00027495,  0.00040699], portfolio_value:  1.0355 mdd=-1.52% sharpe=1.2616, expl= 0.00% eps=108000 weights={'C': 0.1720999926328659, 'AAPL': 0.18209999799728394, 'B': 0.17560000717639923, 'cash': 0.1143999993801117, 'MSFT': 0.17409999668598175, 'A': 0.18170000612735748}\n",
      "ep reward: -0.00000864 [-0.00030585,  0.00039947], portfolio_value:  0.9923 mdd=-2.10% sharpe=-0.2277, expl= 0.00% eps=109000 weights={'C': 0.22550000250339508, 'AAPL': 0.12610000371932983, 'B': 0.1306000053882599, 'cash': 0.21439999341964722, 'MSFT': 0.12160000205039978, 'A': 0.1818999946117401}\n",
      "ep reward:  0.00002157 [-0.00028446,  0.00034507], portfolio_value:  1.0196 mdd=-1.66% sharpe=0.8003, expl= 0.00% eps=110000 weights={'C': 0.1120000034570694, 'AAPL': 0.219200000166893, 'B': 0.15600000321865082, 'cash': 0.2223999947309494, 'MSFT': 0.10540000349283218, 'A': 0.1850000023841858}\n",
      "INFO:tensorflow:Saving checkpoints for 3200000 into ./outputs/tensorforce_PPO_crypto-20180208_17-41/model.ckpt.\n"
     ]
    },
    {
     "name": "stderr",
     "output_type": "stream",
     "text": [
      "INFO:tensorflow:Saving checkpoints for 3200000 into ./outputs/tensorforce_PPO_crypto-20180208_17-41/model.ckpt.\n"
     ]
    },
    {
     "name": "stdout",
     "output_type": "stream",
     "text": [
      "ep reward: -0.00000356 [-0.00030825,  0.00047853], portfolio_value:  0.9968 mdd=-2.33% sharpe=-0.0763, expl= 0.00% eps=111000 weights={'C': 0.13269999623298645, 'AAPL': 0.1046999990940094, 'B': 0.21170000731945038, 'cash': 0.16269999742507935, 'MSFT': 0.2257000058889389, 'A': 0.1624000072479248}\n",
      "ep reward:  0.00022928 [-0.00380886,  0.01054166], portfolio_value:  1.2292 mdd=-39.81% sharpe=0.6972, expl= 0.00% eps=112000 weights={'C': 0.24580000340938568, 'AAPL': 0.13819999992847443, 'B': 0.17810000479221344, 'cash': 0.1623000055551529, 'MSFT': 0.14830000698566437, 'A': 0.12729999423027039}\n",
      "ep reward:  0.00002569 [-0.00067258,  0.00043368], portfolio_value:  1.0234 mdd=-2.34% sharpe=0.6356, expl= 0.00% eps=113000 weights={'C': 0.10790000110864639, 'AAPL': 0.16509999334812164, 'B': 0.1454000025987625, 'cash': 0.16329999268054962, 'MSFT': 0.2558000087738037, 'A': 0.16249999403953552}\n",
      "INFO:tensorflow:Saving checkpoints for 3300000 into ./outputs/tensorforce_PPO_crypto-20180208_17-41/model.ckpt.\n"
     ]
    },
    {
     "name": "stderr",
     "output_type": "stream",
     "text": [
      "INFO:tensorflow:Saving checkpoints for 3300000 into ./outputs/tensorforce_PPO_crypto-20180208_17-41/model.ckpt.\n"
     ]
    },
    {
     "name": "stdout",
     "output_type": "stream",
     "text": [
      "ep reward:  0.00022165 [-0.00285956,  0.00904294], portfolio_value:  1.2208 mdd=-33.70% sharpe=0.7608, expl= 0.00% eps=114000 weights={'C': 0.1477999985218048, 'AAPL': 0.18379999697208405, 'B': 0.2198999971151352, 'cash': 0.13089999556541443, 'MSFT': 0.195700004696846, 'A': 0.12189999967813492}\n",
      "ep reward:  0.00000043 [-0.00031403,  0.00043640], portfolio_value:  1.0004 mdd=-2.23% sharpe=0.0279, expl= 0.00% eps=115000 weights={'C': 0.10679999738931656, 'AAPL': 0.18289999663829803, 'B': 0.13809999823570251, 'cash': 0.20489999651908875, 'MSFT': 0.13220000267028809, 'A': 0.23520000278949738}\n",
      "ep reward:  0.00000837 [-0.00028150,  0.00039991], portfolio_value:  1.0076 mdd=-2.07% sharpe=0.3191, expl= 0.00% eps=116000 weights={'C': 0.10499999672174454, 'AAPL': 0.20469999313354492, 'B': 0.20520000159740448, 'cash': 0.09529999643564224, 'MSFT': 0.16680000722408295, 'A': 0.22300000488758087}\n",
      "ep reward:  0.00000190 [-0.00042520,  0.00044016], portfolio_value:  1.0017 mdd=-2.17% sharpe=0.0673, expl= 0.00% eps=117000 weights={'C': 0.09910000115633011, 'AAPL': 0.186599999666214, 'B': 0.17030000686645508, 'cash': 0.155799999833107, 'MSFT': 0.23989999294281006, 'A': 0.14830000698566437}\n",
      "INFO:tensorflow:Saving checkpoints for 3400000 into ./outputs/tensorforce_PPO_crypto-20180208_17-41/model.ckpt.\n"
     ]
    },
    {
     "name": "stderr",
     "output_type": "stream",
     "text": [
      "INFO:tensorflow:Saving checkpoints for 3400000 into ./outputs/tensorforce_PPO_crypto-20180208_17-41/model.ckpt.\n"
     ]
    },
    {
     "name": "stdout",
     "output_type": "stream",
     "text": [
      "ep reward:  0.00001679 [-0.00028018,  0.00034451], portfolio_value:  1.0152 mdd=-1.89% sharpe=0.6687, expl= 0.00% eps=118000 weights={'C': 0.125, 'AAPL': 0.20499999821186066, 'B': 0.1762000024318695, 'cash': 0.09849999845027924, 'MSFT': 0.2126999944448471, 'A': 0.1826000064611435}\n",
      "ep reward:  0.00000828 [-0.00029467,  0.00031163], portfolio_value:  1.0075 mdd=-1.37% sharpe=0.3489, expl= 0.00% eps=119000 weights={'C': 0.15199999511241913, 'AAPL': 0.1387999951839447, 'B': 0.12129999697208405, 'cash': 0.14800000190734863, 'MSFT': 0.2953000068664551, 'A': 0.1445000022649765}\n",
      "ep reward:  0.00000686 [-0.00029762,  0.00042433], portfolio_value:  1.0062 mdd=-2.19% sharpe=0.2274, expl= 0.00% eps=120000 weights={'C': 0.16840000450611115, 'AAPL': 0.1477999985218048, 'B': 0.1923000067472458, 'cash': 0.1451999992132187, 'MSFT': 0.18240000307559967, 'A': 0.1639000028371811}\n",
      "INFO:tensorflow:Saving checkpoints for 3500000 into ./outputs/tensorforce_PPO_crypto-20180208_17-41/model.ckpt.\n"
     ]
    },
    {
     "name": "stderr",
     "output_type": "stream",
     "text": [
      "INFO:tensorflow:Saving checkpoints for 3500000 into ./outputs/tensorforce_PPO_crypto-20180208_17-41/model.ckpt.\n"
     ]
    },
    {
     "name": "stdout",
     "output_type": "stream",
     "text": [
      "ep reward:  0.00025682 [-0.00312221,  0.01010847], portfolio_value:  1.2600 mdd=-37.89% sharpe=0.7899, expl= 0.00% eps=121000 weights={'C': 0.15870000422000885, 'AAPL': 0.17659999430179596, 'B': 0.1768999993801117, 'cash': 0.14880000054836273, 'MSFT': 0.1501999944448471, 'A': 0.18880000710487366}\n",
      "ep reward:  0.00005263 [-0.00081356,  0.00036408], portfolio_value:  1.0485 mdd=-1.77% sharpe=1.4265, expl= 0.00% eps=122000 weights={'C': 0.18569999933242798, 'AAPL': 0.13750000298023224, 'B': 0.11919999867677689, 'cash': 0.2483000010251999, 'MSFT': 0.14270000159740448, 'A': 0.1665000021457672}\n",
      "ep reward:  0.00017547 [-0.00238606,  0.00746362], portfolio_value:  1.1711 mdd=-27.51% sharpe=0.7221, expl= 0.00% eps=123000 weights={'C': 0.1826000064611435, 'AAPL': 0.18459999561309814, 'B': 0.11940000206232071, 'cash': 0.20190000534057617, 'MSFT': 0.19599999487400055, 'A': 0.11550000309944153}\n",
      "ep reward:  0.00004618 [-0.00023530,  0.00038732], portfolio_value:  1.0424 mdd=-1.21% sharpe=1.4573, expl= 0.00% eps=124000 weights={'C': 0.18369999527931213, 'AAPL': 0.1851000040769577, 'B': 0.12600000202655792, 'cash': 0.22310000658035278, 'MSFT': 0.148499995470047, 'A': 0.13359999656677246}\n",
      "INFO:tensorflow:Saving checkpoints for 3600000 into ./outputs/tensorforce_PPO_crypto-20180208_17-41/model.ckpt.\n"
     ]
    },
    {
     "name": "stderr",
     "output_type": "stream",
     "text": [
      "INFO:tensorflow:Saving checkpoints for 3600000 into ./outputs/tensorforce_PPO_crypto-20180208_17-41/model.ckpt.\n"
     ]
    },
    {
     "name": "stdout",
     "output_type": "stream",
     "text": [
      "ep reward:  0.00004024 [-0.00047411,  0.00039958], portfolio_value:  1.0369 mdd=-2.66% sharpe=1.1651, expl= 0.00% eps=125000 weights={'C': 0.11330000311136246, 'AAPL': 0.1225999966263771, 'B': 0.11800000071525574, 'cash': 0.2937999963760376, 'MSFT': 0.17820000648498535, 'A': 0.17409999668598175}\n",
      "ep reward:  0.00000630 [-0.00033624,  0.00040746], portfolio_value:  1.0057 mdd=-2.12% sharpe=0.1973, expl= 0.00% eps=126000 weights={'C': 0.16459999978542328, 'AAPL': 0.1137000024318695, 'B': 0.2667999863624573, 'cash': 0.11460000276565552, 'MSFT': 0.2054000049829483, 'A': 0.13490000367164612}\n",
      "ep reward:  0.00003132 [-0.00026661,  0.00043623], portfolio_value:  1.0286 mdd=-1.48% sharpe=1.0017, expl= 0.00% eps=127000 weights={'C': 0.1712999939918518, 'AAPL': 0.16169999539852142, 'B': 0.12890000641345978, 'cash': 0.14589999616146088, 'MSFT': 0.17479999363422394, 'A': 0.2175000011920929}\n",
      "INFO:tensorflow:Saving checkpoints for 3700000 into ./outputs/tensorforce_PPO_crypto-20180208_17-41/model.ckpt.\n"
     ]
    },
    {
     "name": "stderr",
     "output_type": "stream",
     "text": [
      "INFO:tensorflow:Saving checkpoints for 3700000 into ./outputs/tensorforce_PPO_crypto-20180208_17-41/model.ckpt.\n"
     ]
    },
    {
     "name": "stdout",
     "output_type": "stream",
     "text": [
      "ep reward: -0.00001287 [-0.00038187,  0.00053759], portfolio_value:  0.9885 mdd=-2.43% sharpe=-0.3246, expl= 0.00% eps=128000 weights={'C': 0.10580000281333923, 'AAPL': 0.16429999470710754, 'B': 0.23199999332427979, 'cash': 0.12800000607967377, 'MSFT': 0.24269999563694, 'A': 0.12720000743865967}\n",
      "ep reward: -0.00000569 [-0.00028275,  0.00046711], portfolio_value:  0.9949 mdd=-2.28% sharpe=-0.1458, expl= 0.00% eps=129000 weights={'C': 0.2150000035762787, 'AAPL': 0.14589999616146088, 'B': 0.210099995136261, 'cash': 0.15639999508857727, 'MSFT': 0.11670000106096268, 'A': 0.155799999833107}\n",
      "ep reward:  0.00002715 [-0.00028017,  0.00035058], portfolio_value:  1.0247 mdd=-1.91% sharpe=1.0295, expl= 0.00% eps=130000 weights={'C': 0.12049999833106995, 'AAPL': 0.16500000655651093, 'B': 0.17669999599456787, 'cash': 0.16820000112056732, 'MSFT': 0.20900000631809235, 'A': 0.16050000488758087}\n",
      "ep reward: -0.00000328 [-0.00637454,  0.00634384], portfolio_value:  0.9971 mdd=-23.18% sharpe=0.1242, expl= 0.00% eps=131000 weights={'C': 0.19660000503063202, 'AAPL': 0.16060000658035278, 'B': 0.11969999969005585, 'cash': 0.15139999985694885, 'MSFT': 0.21580000221729279, 'A': 0.1559000015258789}\n",
      "INFO:tensorflow:Saving checkpoints for 3800000 into ./outputs/tensorforce_PPO_crypto-20180208_17-41/model.ckpt.\n"
     ]
    },
    {
     "name": "stderr",
     "output_type": "stream",
     "text": [
      "INFO:tensorflow:Saving checkpoints for 3800000 into ./outputs/tensorforce_PPO_crypto-20180208_17-41/model.ckpt.\n"
     ]
    },
    {
     "name": "stdout",
     "output_type": "stream",
     "text": [
      "ep reward:  0.00003943 [-0.00080510,  0.00034727], portfolio_value:  1.0361 mdd=-1.56% sharpe=1.0792, expl= 0.00% eps=132000 weights={'C': 0.26019999384880066, 'AAPL': 0.17329999804496765, 'B': 0.19519999623298645, 'cash': 0.13650000095367432, 'MSFT': 0.10260000079870224, 'A': 0.13220000267028809}\n",
      "ep reward:  0.00003224 [-0.00023028,  0.00041012], portfolio_value:  1.0294 mdd=-1.77% sharpe=0.9999, expl= 0.00% eps=133000 weights={'C': 0.11630000174045563, 'AAPL': 0.11349999904632568, 'B': 0.2410999983549118, 'cash': 0.23680000007152557, 'MSFT': 0.16220000386238098, 'A': 0.13009999692440033}\n",
      "ep reward:  0.00003724 [-0.00029194,  0.00031880], portfolio_value:  1.0341 mdd=-1.85% sharpe=1.4947, expl= 0.00% eps=134000 weights={'C': 0.15970000624656677, 'AAPL': 0.14980000257492065, 'B': 0.15150000154972076, 'cash': 0.19699999690055847, 'MSFT': 0.21209999918937683, 'A': 0.1298999935388565}\n",
      "INFO:tensorflow:Saving checkpoints for 3900000 into ./outputs/tensorforce_PPO_crypto-20180208_17-41/model.ckpt.\n"
     ]
    },
    {
     "name": "stderr",
     "output_type": "stream",
     "text": [
      "INFO:tensorflow:Saving checkpoints for 3900000 into ./outputs/tensorforce_PPO_crypto-20180208_17-41/model.ckpt.\n"
     ]
    },
    {
     "name": "stdout",
     "output_type": "stream",
     "text": [
      "ep reward:  0.00025191 [-0.00221681,  0.00955940], portfolio_value:  1.2545 mdd=-36.15% sharpe=0.8175, expl= 0.00% eps=135000 weights={'C': 0.12479999661445618, 'AAPL': 0.16609999537467957, 'B': 0.13760000467300415, 'cash': 0.22460000216960907, 'MSFT': 0.188400000333786, 'A': 0.15839999914169312}\n",
      "ep reward:  0.00001573 [-0.00025894,  0.00043225], portfolio_value:  1.0143 mdd=-2.03% sharpe=0.5638, expl= 0.00% eps=136000 weights={'C': 0.21899999678134918, 'AAPL': 0.19110000133514404, 'B': 0.12489999830722809, 'cash': 0.0917000025510788, 'MSFT': 0.2087000012397766, 'A': 0.1647000014781952}\n",
      "ep reward:  0.00005747 [-0.00076259,  0.00042227], portfolio_value:  1.0531 mdd=-3.62% sharpe=1.4333, expl= 0.00% eps=137000 weights={'C': 0.13339999318122864, 'AAPL': 0.17339999973773956, 'B': 0.2401999980211258, 'cash': 0.13120000064373016, 'MSFT': 0.20970000326633453, 'A': 0.11209999769926071}\n",
      "INFO:tensorflow:Saving checkpoints for 4000000 into ./outputs/tensorforce_PPO_crypto-20180208_17-41/model.ckpt.\n"
     ]
    },
    {
     "name": "stderr",
     "output_type": "stream",
     "text": [
      "INFO:tensorflow:Saving checkpoints for 4000000 into ./outputs/tensorforce_PPO_crypto-20180208_17-41/model.ckpt.\n"
     ]
    },
    {
     "name": "stdout",
     "output_type": "stream",
     "text": [
      "ep reward: -0.00000159 [-0.00031690,  0.00039593], portfolio_value:  0.9986 mdd=-2.16% sharpe=-0.0270, expl= 0.00% eps=138000 weights={'C': 0.12330000102519989, 'AAPL': 0.1128000020980835, 'B': 0.26019999384880066, 'cash': 0.21119999885559082, 'MSFT': 0.18889999389648438, 'A': 0.10360000282526016}\n",
      "ep reward: -0.00009914 [-0.00410893,  0.00034876], portfolio_value:  0.9146 mdd=-14.31% sharpe=-0.6930, expl= 0.00% eps=139000 weights={'C': 0.20229999721050262, 'AAPL': 0.148499995470047, 'B': 0.11140000075101852, 'cash': 0.12110000103712082, 'MSFT': 0.2312999963760376, 'A': 0.18539999425411224}\n",
      "ep reward: -0.00000970 [-0.00033778,  0.00045263], portfolio_value:  0.9913 mdd=-0.95% sharpe=-0.2534, expl= 0.00% eps=140000 weights={'C': 0.23600000143051147, 'AAPL': 0.12309999763965607, 'B': 0.1429000049829483, 'cash': 0.16380000114440918, 'MSFT': 0.19339999556541443, 'A': 0.14069999754428864}\n",
      "ep reward: -0.00000108 [-0.00073232,  0.00041357], portfolio_value:  0.9990 mdd=-2.11% sharpe=-0.0073, expl= 0.00% eps=141000 weights={'C': 0.1607999950647354, 'AAPL': 0.10480000078678131, 'B': 0.17470000684261322, 'cash': 0.19200000166893005, 'MSFT': 0.11800000071525574, 'A': 0.24969999492168427}\n",
      "INFO:tensorflow:Saving checkpoints for 4100000 into ./outputs/tensorforce_PPO_crypto-20180208_17-41/model.ckpt.\n"
     ]
    },
    {
     "name": "stderr",
     "output_type": "stream",
     "text": [
      "INFO:tensorflow:Saving checkpoints for 4100000 into ./outputs/tensorforce_PPO_crypto-20180208_17-41/model.ckpt.\n"
     ]
    },
    {
     "name": "stdout",
     "output_type": "stream",
     "text": [
      "ep reward: -0.00001313 [-0.00025271,  0.00021828], portfolio_value:  0.9883 mdd=-1.42% sharpe=-0.5471, expl= 0.00% eps=142000 weights={'C': 0.15790000557899475, 'AAPL': 0.16850000619888306, 'B': 0.16269999742507935, 'cash': 0.16179999709129333, 'MSFT': 0.11869999766349792, 'A': 0.2303999960422516}\n",
      "ep reward:  0.00003825 [-0.00025699,  0.00041611], portfolio_value:  1.0350 mdd=-1.33% sharpe=1.1811, expl= 0.00% eps=143000 weights={'C': 0.1420000046491623, 'AAPL': 0.17100000381469727, 'B': 0.17059999704360962, 'cash': 0.15539999306201935, 'MSFT': 0.1324000060558319, 'A': 0.22859999537467957}\n",
      "ep reward:  0.00002127 [-0.00027439,  0.00037479], portfolio_value:  1.0193 mdd=-1.84% sharpe=0.8420, expl= 0.00% eps=144000 weights={'C': 0.13729999959468842, 'AAPL': 0.15160000324249268, 'B': 0.13580000400543213, 'cash': 0.20309999585151672, 'MSFT': 0.15809999406337738, 'A': 0.21410000324249268}\n",
      "INFO:tensorflow:Saving checkpoints for 4200000 into ./outputs/tensorforce_PPO_crypto-20180208_17-41/model.ckpt.\n"
     ]
    },
    {
     "name": "stderr",
     "output_type": "stream",
     "text": [
      "INFO:tensorflow:Saving checkpoints for 4200000 into ./outputs/tensorforce_PPO_crypto-20180208_17-41/model.ckpt.\n"
     ]
    },
    {
     "name": "stdout",
     "output_type": "stream",
     "text": [
      "ep reward: -0.00000154 [-0.00029080,  0.00041568], portfolio_value:  0.9986 mdd=-2.14% sharpe=-0.0292, expl= 0.00% eps=145000 weights={'C': 0.18160000443458557, 'AAPL': 0.2433999925851822, 'B': 0.13410000503063202, 'cash': 0.2021999955177307, 'MSFT': 0.12370000034570694, 'A': 0.11509999632835388}\n",
      "ep reward: -0.00001522 [-0.00040149,  0.00035461], portfolio_value:  0.9864 mdd=-2.29% sharpe=-0.4498, expl= 0.00% eps=146000 weights={'C': 0.18250000476837158, 'AAPL': 0.15600000321865082, 'B': 0.1509000062942505, 'cash': 0.24869999289512634, 'MSFT': 0.13500000536441803, 'A': 0.12690000236034393}\n",
      "ep reward:  0.00002034 [-0.00030798,  0.00048297], portfolio_value:  1.0185 mdd=-2.40% sharpe=0.6180, expl= 0.00% eps=147000 weights={'C': 0.15199999511241913, 'AAPL': 0.12620000541210175, 'B': 0.15600000321865082, 'cash': 0.20270000398159027, 'MSFT': 0.1265999972820282, 'A': 0.23639999330043793}\n",
      "ep reward:  0.00000622 [-0.00034542,  0.00047292], portfolio_value:  1.0056 mdd=-2.35% sharpe=0.1908, expl= 0.00% eps=148000 weights={'C': 0.12800000607967377, 'AAPL': 0.14509999752044678, 'B': 0.30799999833106995, 'cash': 0.1339000016450882, 'MSFT': 0.15379999577999115, 'A': 0.13120000064373016}\n",
      "INFO:tensorflow:Saving checkpoints for 4300000 into ./outputs/tensorforce_PPO_crypto-20180208_17-41/model.ckpt.\n"
     ]
    },
    {
     "name": "stderr",
     "output_type": "stream",
     "text": [
      "INFO:tensorflow:Saving checkpoints for 4300000 into ./outputs/tensorforce_PPO_crypto-20180208_17-41/model.ckpt.\n"
     ]
    },
    {
     "name": "stdout",
     "output_type": "stream",
     "text": [
      "ep reward:  0.00001860 [-0.00032666,  0.00031752], portfolio_value:  1.0169 mdd=-1.95% sharpe=0.6781, expl= 0.00% eps=149000 weights={'C': 0.0934000015258789, 'AAPL': 0.09889999777078629, 'B': 0.2214999943971634, 'cash': 0.17350000143051147, 'MSFT': 0.2151000052690506, 'A': 0.19760000705718994}\n",
      "ep reward: -0.00000067 [-0.00028836,  0.00042699], portfolio_value:  0.9994 mdd=-2.17% sharpe=-0.0023, expl= 0.00% eps=150000 weights={'C': 0.20520000159740448, 'AAPL': 0.23919999599456787, 'B': 0.1436000019311905, 'cash': 0.17059999704360962, 'MSFT': 0.12479999661445618, 'A': 0.11649999767541885}\n",
      "ep reward:  0.00003546 [-0.00028679,  0.00037227], portfolio_value:  1.0324 mdd=-1.42% sharpe=1.3787, expl= 0.00% eps=151000 weights={'C': 0.1906999945640564, 'AAPL': 0.20090000331401825, 'B': 0.13210000097751617, 'cash': 0.1679999977350235, 'MSFT': 0.19660000503063202, 'A': 0.11159999668598175}\n",
      "INFO:tensorflow:Saving checkpoints for 4400000 into ./outputs/tensorforce_PPO_crypto-20180208_17-41/model.ckpt.\n"
     ]
    },
    {
     "name": "stderr",
     "output_type": "stream",
     "text": [
      "INFO:tensorflow:Saving checkpoints for 4400000 into ./outputs/tensorforce_PPO_crypto-20180208_17-41/model.ckpt.\n"
     ]
    },
    {
     "name": "stdout",
     "output_type": "stream",
     "text": [
      "ep reward: -0.00000254 [-0.00031618,  0.00033931], portfolio_value:  0.9977 mdd=-1.77% sharpe=-0.0887, expl= 0.00% eps=152000 weights={'C': 0.10949999839067459, 'AAPL': 0.11460000276565552, 'B': 0.20100000500679016, 'cash': 0.24169999361038208, 'MSFT': 0.2289000004529953, 'A': 0.10419999808073044}\n",
      "ep reward: -0.00001705 [-0.00024927,  0.00034633], portfolio_value:  0.9848 mdd=-1.80% sharpe=-0.5508, expl= 0.00% eps=153000 weights={'C': 0.22939999401569366, 'AAPL': 0.10999999940395355, 'B': 0.10080000013113022, 'cash': 0.16840000450611115, 'MSFT': 0.2281000018119812, 'A': 0.16329999268054962}\n",
      "ep reward:  0.00000396 [-0.00036468,  0.00039562], portfolio_value:  1.0036 mdd=-2.31% sharpe=0.1356, expl= 0.00% eps=154000 weights={'C': 0.1648000031709671, 'AAPL': 0.11720000207424164, 'B': 0.17069999873638153, 'cash': 0.1298999935388565, 'MSFT': 0.20569999516010284, 'A': 0.21160000562667847}\n",
      "ep reward:  0.00002225 [-0.00028063,  0.00031517], portfolio_value:  1.0202 mdd=-1.80% sharpe=0.8344, expl= 0.00% eps=155000 weights={'C': 0.1527000069618225, 'AAPL': 0.1615999937057495, 'B': 0.15690000355243683, 'cash': 0.1915999948978424, 'MSFT': 0.16099999845027924, 'A': 0.1762000024318695}\n",
      "INFO:tensorflow:Saving checkpoints for 4500000 into ./outputs/tensorforce_PPO_crypto-20180208_17-41/model.ckpt.\n"
     ]
    },
    {
     "name": "stderr",
     "output_type": "stream",
     "text": [
      "INFO:tensorflow:Saving checkpoints for 4500000 into ./outputs/tensorforce_PPO_crypto-20180208_17-41/model.ckpt.\n"
     ]
    },
    {
     "name": "stdout",
     "output_type": "stream",
     "text": [
      "ep reward: -0.00001050 [-0.00025617,  0.00029930], portfolio_value:  0.9906 mdd=-1.26% sharpe=-0.3965, expl= 0.00% eps=156000 weights={'C': 0.21690000593662262, 'AAPL': 0.09650000184774399, 'B': 0.12970000505447388, 'cash': 0.13670000433921814, 'MSFT': 0.18700000643730164, 'A': 0.23330000042915344}\n",
      "ep reward:  0.00004057 [-0.00355263,  0.00463801], portfolio_value:  1.0372 mdd=-17.22% sharpe=0.2877, expl= 0.00% eps=157000 weights={'C': 0.25529998540878296, 'AAPL': 0.18389999866485596, 'B': 0.12110000103712082, 'cash': 0.13680000603199005, 'MSFT': 0.1307000070810318, 'A': 0.17229999601840973}\n",
      "ep reward:  0.00002668 [-0.00023897,  0.00030481], portfolio_value:  1.0243 mdd=-1.10% sharpe=1.1809, expl= 0.00% eps=158000 weights={'C': 0.19979999959468842, 'AAPL': 0.14419999718666077, 'B': 0.18080000579357147, 'cash': 0.1704999953508377, 'MSFT': 0.18539999425411224, 'A': 0.11919999867677689}\n",
      "INFO:tensorflow:Saving checkpoints for 4600000 into ./outputs/tensorforce_PPO_crypto-20180208_17-41/model.ckpt.\n"
     ]
    },
    {
     "name": "stderr",
     "output_type": "stream",
     "text": [
      "INFO:tensorflow:Saving checkpoints for 4600000 into ./outputs/tensorforce_PPO_crypto-20180208_17-41/model.ckpt.\n"
     ]
    },
    {
     "name": "stdout",
     "output_type": "stream",
     "text": [
      "ep reward: -0.00000473 [-0.00042363,  0.00039657], portfolio_value:  0.9958 mdd=-2.49% sharpe=-0.1168, expl= 0.00% eps=159000 weights={'C': 0.1899999976158142, 'AAPL': 0.19059999287128448, 'B': 0.12349999696016312, 'cash': 0.21690000593662262, 'MSFT': 0.155799999833107, 'A': 0.12330000102519989}\n",
      "ep reward:  0.00003134 [-0.00048561,  0.00039762], portfolio_value:  1.0286 mdd=-1.84% sharpe=1.0078, expl= 0.00% eps=160000 weights={'C': 0.17249999940395355, 'AAPL': 0.2102999985218048, 'B': 0.2012999951839447, 'cash': 0.10090000182390213, 'MSFT': 0.1467999964952469, 'A': 0.1680999994277954}\n",
      "ep reward:  0.00002018 [-0.00026931,  0.00036157], portfolio_value:  1.0183 mdd=-1.43% sharpe=0.7316, expl= 0.00% eps=161000 weights={'C': 0.23819999396800995, 'AAPL': 0.10890000313520432, 'B': 0.1695999950170517, 'cash': 0.1054999977350235, 'MSFT': 0.16619999706745148, 'A': 0.21160000562667847}\n",
      "ep reward:  0.00001502 [-0.00075658,  0.00031345], portfolio_value:  1.0136 mdd=-2.20% sharpe=0.3995, expl= 0.00% eps=162000 weights={'C': 0.15000000596046448, 'AAPL': 0.12890000641345978, 'B': 0.1257999986410141, 'cash': 0.16019999980926514, 'MSFT': 0.2928999960422516, 'A': 0.14229999482631683}\n",
      "INFO:tensorflow:Saving checkpoints for 4700000 into ./outputs/tensorforce_PPO_crypto-20180208_17-41/model.ckpt.\n"
     ]
    },
    {
     "name": "stderr",
     "output_type": "stream",
     "text": [
      "INFO:tensorflow:Saving checkpoints for 4700000 into ./outputs/tensorforce_PPO_crypto-20180208_17-41/model.ckpt.\n"
     ]
    },
    {
     "name": "stdout",
     "output_type": "stream",
     "text": [
      "ep reward:  0.00004231 [-0.00077047,  0.00045508], portfolio_value:  1.0388 mdd=-1.99% sharpe=1.1778, expl= 0.00% eps=163000 weights={'C': 0.13600000739097595, 'AAPL': 0.18490000069141388, 'B': 0.12479999661445618, 'cash': 0.16580000519752502, 'MSFT': 0.2542000114917755, 'A': 0.13429999351501465}\n",
      "ep reward:  0.00003022 [-0.00026258,  0.00042308], portfolio_value:  1.0276 mdd=-2.08% sharpe=1.1056, expl= 0.00% eps=164000 weights={'C': 0.09960000216960907, 'AAPL': 0.17069999873638153, 'B': 0.14900000393390656, 'cash': 0.1662999987602234, 'MSFT': 0.226500004529953, 'A': 0.18790000677108765}\n",
      "ep reward:  0.00001224 [-0.00027557,  0.00047741], portfolio_value:  1.0111 mdd=-2.28% sharpe=0.3828, expl= 0.00% eps=165000 weights={'C': 0.2159000039100647, 'AAPL': 0.09179999679327011, 'B': 0.17790000140666962, 'cash': 0.09489999711513519, 'MSFT': 0.18649999797344208, 'A': 0.2328999936580658}\n",
      "INFO:tensorflow:Saving checkpoints for 4800000 into ./outputs/tensorforce_PPO_crypto-20180208_17-41/model.ckpt.\n"
     ]
    },
    {
     "name": "stderr",
     "output_type": "stream",
     "text": [
      "INFO:tensorflow:Saving checkpoints for 4800000 into ./outputs/tensorforce_PPO_crypto-20180208_17-41/model.ckpt.\n"
     ]
    },
    {
     "name": "stdout",
     "output_type": "stream",
     "text": [
      "ep reward: -0.00000372 [-0.00028082,  0.00039094], portfolio_value:  0.9967 mdd=-1.98% sharpe=-0.1043, expl= 0.00% eps=166000 weights={'C': 0.09619999676942825, 'AAPL': 0.2379000037908554, 'B': 0.22089999914169312, 'cash': 0.1185000017285347, 'MSFT': 0.1467999964952469, 'A': 0.17970000207424164}\n",
      "ep reward:  0.00001765 [-0.00029468,  0.00030120], portfolio_value:  1.0160 mdd=-1.80% sharpe=0.6754, expl= 0.00% eps=167000 weights={'C': 0.12290000170469284, 'AAPL': 0.18619999289512634, 'B': 0.1597999930381775, 'cash': 0.21930000185966492, 'MSFT': 0.12300000339746475, 'A': 0.18880000710487366}\n",
      "ep reward:  0.00000984 [-0.00024542,  0.00039711], portfolio_value:  1.0089 mdd=-1.95% sharpe=0.3518, expl= 0.00% eps=168000 weights={'C': 0.17059999704360962, 'AAPL': 0.17710000276565552, 'B': 0.1851000040769577, 'cash': 0.15530000627040863, 'MSFT': 0.1606999933719635, 'A': 0.15119999647140503}\n",
      "INFO:tensorflow:Saving checkpoints for 4900000 into ./outputs/tensorforce_PPO_crypto-20180208_17-41/model.ckpt.\n"
     ]
    },
    {
     "name": "stderr",
     "output_type": "stream",
     "text": [
      "INFO:tensorflow:Saving checkpoints for 4900000 into ./outputs/tensorforce_PPO_crypto-20180208_17-41/model.ckpt.\n"
     ]
    },
    {
     "name": "stdout",
     "output_type": "stream",
     "text": [
      "ep reward:  0.00002531 [-0.00022625,  0.00057249], portfolio_value:  1.0230 mdd=-2.43% sharpe=0.7771, expl= 0.00% eps=169000 weights={'C': 0.20170000195503235, 'AAPL': 0.17759999632835388, 'B': 0.13650000095367432, 'cash': 0.13439999520778656, 'MSFT': 0.18330000340938568, 'A': 0.1664000004529953}\n",
      "ep reward:  0.00002930 [-0.00024516,  0.00033957], portfolio_value:  1.0267 mdd=-1.77% sharpe=1.0486, expl= 0.00% eps=170000 weights={'C': 0.16269999742507935, 'AAPL': 0.2709999978542328, 'B': 0.12470000237226486, 'cash': 0.17110000550746918, 'MSFT': 0.13220000267028809, 'A': 0.13819999992847443}\n",
      "ep reward:  0.00004373 [-0.00030747,  0.00050464], portfolio_value:  1.0401 mdd=-1.80% sharpe=1.4248, expl= 0.00% eps=171000 weights={'C': 0.1143999993801117, 'AAPL': 0.1289999932050705, 'B': 0.2535000145435333, 'cash': 0.2069000005722046, 'MSFT': 0.13819999992847443, 'A': 0.15800000727176666}\n",
      "ep reward:  0.00003095 [-0.00027215,  0.00039414], portfolio_value:  1.0282 mdd=-2.02% sharpe=1.0991, expl= 0.00% eps=172000 weights={'C': 0.1031000018119812, 'AAPL': 0.21070000529289246, 'B': 0.12449999898672104, 'cash': 0.17090000212192535, 'MSFT': 0.23999999463558197, 'A': 0.15070000290870667}\n",
      "INFO:tensorflow:Saving checkpoints for 5000000 into ./outputs/tensorforce_PPO_crypto-20180208_17-41/model.ckpt.\n"
     ]
    },
    {
     "name": "stderr",
     "output_type": "stream",
     "text": [
      "INFO:tensorflow:Saving checkpoints for 5000000 into ./outputs/tensorforce_PPO_crypto-20180208_17-41/model.ckpt.\n"
     ]
    },
    {
     "name": "stdout",
     "output_type": "stream",
     "text": [
      "ep reward:  0.00001159 [-0.00042284,  0.00042212], portfolio_value:  1.0105 mdd=-2.22% sharpe=0.3301, expl= 0.00% eps=173000 weights={'C': 0.12809999287128448, 'AAPL': 0.22699999809265137, 'B': 0.1177000030875206, 'cash': 0.15469999611377716, 'MSFT': 0.20319999754428864, 'A': 0.16930000483989716}\n",
      "ep reward:  0.00000667 [-0.00051969,  0.00038097], portfolio_value:  1.0060 mdd=-2.00% sharpe=0.2156, expl= 0.00% eps=174000 weights={'C': 0.2329999953508377, 'AAPL': 0.17919999361038208, 'B': 0.10740000009536743, 'cash': 0.1096000000834465, 'MSFT': 0.21950000524520874, 'A': 0.15119999647140503}\n",
      "ep reward:  0.00002048 [-0.00024403,  0.00029581], portfolio_value:  1.0186 mdd=-1.63% sharpe=0.8659, expl= 0.00% eps=175000 weights={'C': 0.12269999831914902, 'AAPL': 0.2370000034570694, 'B': 0.1324000060558319, 'cash': 0.18770000338554382, 'MSFT': 0.20659999549388885, 'A': 0.1136000007390976}\n",
      "INFO:tensorflow:Saving checkpoints for 5100000 into ./outputs/tensorforce_PPO_crypto-20180208_17-41/model.ckpt.\n"
     ]
    },
    {
     "name": "stderr",
     "output_type": "stream",
     "text": [
      "INFO:tensorflow:Saving checkpoints for 5100000 into ./outputs/tensorforce_PPO_crypto-20180208_17-41/model.ckpt.\n"
     ]
    },
    {
     "name": "stdout",
     "output_type": "stream",
     "text": [
      "ep reward:  0.00004018 [-0.00030638,  0.00048613], portfolio_value:  1.0368 mdd=-1.55% sharpe=1.1698, expl= 0.00% eps=176000 weights={'C': 0.15070000290870667, 'AAPL': 0.20029999315738678, 'B': 0.13770000636577606, 'cash': 0.20640000700950623, 'MSFT': 0.1573999971151352, 'A': 0.14749999344348907}\n",
      "ep reward:  0.00001114 [-0.00084637,  0.00043430], portfolio_value:  1.0101 mdd=0.00% sharpe=0.2836, expl= 0.00% eps=177000 weights={'C': 0.17579999566078186, 'AAPL': 0.16830000281333923, 'B': 0.1111999973654747, 'cash': 0.2020999938249588, 'MSFT': 0.15770000219345093, 'A': 0.18490000069141388}\n",
      "ep reward:  0.00002000 [-0.00021641,  0.00034940], portfolio_value:  1.0182 mdd=-1.56% sharpe=0.8365, expl= 0.00% eps=178000 weights={'C': 0.22050000727176666, 'AAPL': 0.15690000355243683, 'B': 0.14399999380111694, 'cash': 0.1526000052690506, 'MSFT': 0.13369999825954437, 'A': 0.1923000067472458}\n",
      "ep reward:  0.00002739 [-0.00030057,  0.00042919], portfolio_value:  1.0250 mdd=-1.57% sharpe=0.8350, expl= 0.00% eps=179000 weights={'C': 0.17010000348091125, 'AAPL': 0.1873999983072281, 'B': 0.19269999861717224, 'cash': 0.17249999940395355, 'MSFT': 0.14219999313354492, 'A': 0.13510000705718994}\n",
      "INFO:tensorflow:Saving checkpoints for 5200000 into ./outputs/tensorforce_PPO_crypto-20180208_17-41/model.ckpt.\n"
     ]
    },
    {
     "name": "stderr",
     "output_type": "stream",
     "text": [
      "INFO:tensorflow:Saving checkpoints for 5200000 into ./outputs/tensorforce_PPO_crypto-20180208_17-41/model.ckpt.\n"
     ]
    },
    {
     "name": "stdout",
     "output_type": "stream",
     "text": [
      "ep reward:  0.00026341 [-0.00405412,  0.01203746], portfolio_value:  1.2675 mdd=-46.29% sharpe=0.7122, expl= 0.00% eps=180000 weights={'C': 0.16349999606609344, 'AAPL': 0.1606999933719635, 'B': 0.24879999458789825, 'cash': 0.149399995803833, 'MSFT': 0.11190000176429749, 'A': 0.1657000035047531}\n",
      "ep reward: -0.00005346 [-0.00247287,  0.00037729], portfolio_value:  0.9530 mdd=-8.93% sharpe=-0.5952, expl= 0.00% eps=181000 weights={'C': 0.13269999623298645, 'AAPL': 0.10130000114440918, 'B': 0.18950000405311584, 'cash': 0.16869999468326569, 'MSFT': 0.2329999953508377, 'A': 0.17489999532699585}\n",
      "ep reward: -0.00000885 [-0.00029768,  0.00030925], portfolio_value:  0.9921 mdd=-1.15% sharpe=-0.2877, expl= 0.00% eps=182000 weights={'C': 0.20630000531673431, 'AAPL': 0.14300000667572021, 'B': 0.13220000267028809, 'cash': 0.10279999673366547, 'MSFT': 0.17890000343322754, 'A': 0.23669999837875366}\n",
      "INFO:tensorflow:Saving checkpoints for 5300000 into ./outputs/tensorforce_PPO_crypto-20180208_17-41/model.ckpt.\n"
     ]
    },
    {
     "name": "stderr",
     "output_type": "stream",
     "text": [
      "INFO:tensorflow:Saving checkpoints for 5300000 into ./outputs/tensorforce_PPO_crypto-20180208_17-41/model.ckpt.\n"
     ]
    },
    {
     "name": "stdout",
     "output_type": "stream",
     "text": [
      "ep reward:  0.00000682 [-0.00043736,  0.00050866], portfolio_value:  1.0062 mdd=-1.54% sharpe=0.2005, expl= 0.00% eps=183000 weights={'C': 0.16259999573230743, 'AAPL': 0.13079999387264252, 'B': 0.12520000338554382, 'cash': 0.24899999797344208, 'MSFT': 0.2087000012397766, 'A': 0.12370000034570694}\n",
      "ep reward:  0.00002988 [-0.00018449,  0.00028979], portfolio_value:  1.0273 mdd=-1.43% sharpe=1.3257, expl= 0.00% eps=184000 weights={'C': 0.2029000073671341, 'AAPL': 0.12960000336170197, 'B': 0.22380000352859497, 'cash': 0.1835000067949295, 'MSFT': 0.09749999642372131, 'A': 0.16269999742507935}\n",
      "ep reward: -0.00001412 [-0.00083816,  0.00039001], portfolio_value:  0.9874 mdd=-2.29% sharpe=-0.3086, expl= 0.00% eps=185000 weights={'C': 0.2159000039100647, 'AAPL': 0.24169999361038208, 'B': 0.1120000034570694, 'cash': 0.15710000693798065, 'MSFT': 0.15469999611377716, 'A': 0.11860000342130661}\n",
      "ep reward:  0.00007559 [-0.00602161,  0.00773142], portfolio_value:  1.0704 mdd=-28.51% sharpe=0.3647, expl= 0.00% eps=186000 weights={'C': 0.19050000607967377, 'AAPL': 0.26330000162124634, 'B': 0.1387999951839447, 'cash': 0.14499999582767487, 'MSFT': 0.13019999861717224, 'A': 0.13220000267028809}\n",
      "INFO:tensorflow:Saving checkpoints for 5400000 into ./outputs/tensorforce_PPO_crypto-20180208_17-41/model.ckpt.\n"
     ]
    },
    {
     "name": "stderr",
     "output_type": "stream",
     "text": [
      "INFO:tensorflow:Saving checkpoints for 5400000 into ./outputs/tensorforce_PPO_crypto-20180208_17-41/model.ckpt.\n"
     ]
    },
    {
     "name": "stdout",
     "output_type": "stream",
     "text": [
      "ep reward:  0.00000396 [-0.00031363,  0.00042938], portfolio_value:  1.0036 mdd=-2.21% sharpe=0.1323, expl= 0.00% eps=187000 weights={'C': 0.21699999272823334, 'AAPL': 0.09619999676942825, 'B': 0.10530000180006027, 'cash': 0.12460000067949295, 'MSFT': 0.24539999663829803, 'A': 0.21150000393390656}\n",
      "ep reward:  0.00005777 [-0.00081967,  0.00043099], portfolio_value:  1.0534 mdd=-3.82% sharpe=1.4778, expl= 0.00% eps=188000 weights={'C': 0.11789999902248383, 'AAPL': 0.20520000159740448, 'B': 0.16820000112056732, 'cash': 0.11400000005960464, 'MSFT': 0.17810000479221344, 'A': 0.21660000085830688}\n",
      "ep reward:  0.00003214 [-0.00022144,  0.00032872], portfolio_value:  1.0293 mdd=-1.53% sharpe=1.3278, expl= 0.00% eps=189000 weights={'C': 0.1565999984741211, 'AAPL': 0.1462000012397766, 'B': 0.13570000231266022, 'cash': 0.21050000190734863, 'MSFT': 0.1525000035762787, 'A': 0.19850000739097595}\n",
      "INFO:tensorflow:Saving checkpoints for 5500000 into ./outputs/tensorforce_PPO_crypto-20180208_17-41/model.ckpt.\n"
     ]
    },
    {
     "name": "stderr",
     "output_type": "stream",
     "text": [
      "INFO:tensorflow:Saving checkpoints for 5500000 into ./outputs/tensorforce_PPO_crypto-20180208_17-41/model.ckpt.\n"
     ]
    },
    {
     "name": "stdout",
     "output_type": "stream",
     "text": [
      "ep reward:  0.00000742 [-0.00028522,  0.00044621], portfolio_value:  1.0067 mdd=-2.22% sharpe=0.2337, expl= 0.00% eps=190000 weights={'C': 0.09470000118017197, 'AAPL': 0.23639999330043793, 'B': 0.0949999988079071, 'cash': 0.24070000648498535, 'MSFT': 0.22089999914169312, 'A': 0.11230000108480453}\n",
      "ep reward:  0.00005649 [-0.00077628,  0.00045618], portfolio_value:  1.0522 mdd=0.00% sharpe=1.4158, expl= 0.00% eps=191000 weights={'C': 0.21809999644756317, 'AAPL': 0.22370000183582306, 'B': 0.11659999936819077, 'cash': 0.15919999778270721, 'MSFT': 0.1005999967455864, 'A': 0.1817999929189682}\n",
      "ep reward:  0.00006656 [-0.00077612,  0.00047910], portfolio_value:  1.0617 mdd=-3.84% sharpe=1.6815, expl= 0.00% eps=192000 weights={'C': 0.2371000051498413, 'AAPL': 0.19259999692440033, 'B': 0.13930000364780426, 'cash': 0.10859999805688858, 'MSFT': 0.16509999334812164, 'A': 0.15729999542236328}\n",
      "ep reward:  0.00003696 [-0.00026367,  0.00028585], portfolio_value:  1.0338 mdd=-1.62% sharpe=1.3778, expl= 0.00% eps=193000 weights={'C': 0.20520000159740448, 'AAPL': 0.16179999709129333, 'B': 0.20069999992847443, 'cash': 0.10999999940395355, 'MSFT': 0.2020999938249588, 'A': 0.12020000070333481}\n",
      "INFO:tensorflow:Saving checkpoints for 5600000 into ./outputs/tensorforce_PPO_crypto-20180208_17-41/model.ckpt.\n"
     ]
    },
    {
     "name": "stderr",
     "output_type": "stream",
     "text": [
      "INFO:tensorflow:Saving checkpoints for 5600000 into ./outputs/tensorforce_PPO_crypto-20180208_17-41/model.ckpt.\n"
     ]
    },
    {
     "name": "stdout",
     "output_type": "stream",
     "text": [
      "ep reward: -0.00000975 [-0.00027291,  0.00030234], portfolio_value:  0.9913 mdd=-1.69% sharpe=-0.2961, expl= 0.00% eps=194000 weights={'C': 0.12880000472068787, 'AAPL': 0.17949999868869781, 'B': 0.14630000293254852, 'cash': 0.10180000215768814, 'MSFT': 0.2085999995470047, 'A': 0.23499999940395355}\n",
      "ep reward:  0.00002446 [-0.00030988,  0.00043940], portfolio_value:  1.0223 mdd=-1.57% sharpe=0.8333, expl= 0.00% eps=195000 weights={'C': 0.1103999987244606, 'AAPL': 0.17170000076293945, 'B': 0.22529999911785126, 'cash': 0.18140000104904175, 'MSFT': 0.1670999974012375, 'A': 0.14409999549388885}\n",
      "ep reward:  0.00002700 [-0.00029295,  0.00041072], portfolio_value:  1.0246 mdd=-2.13% sharpe=0.8815, expl= 0.00% eps=196000 weights={'C': 0.14309999346733093, 'AAPL': 0.1809999942779541, 'B': 0.12860000133514404, 'cash': 0.2117999941110611, 'MSFT': 0.17749999463558197, 'A': 0.15800000727176666}\n",
      "INFO:tensorflow:Saving checkpoints for 5700000 into ./outputs/tensorforce_PPO_crypto-20180208_17-41/model.ckpt.\n"
     ]
    },
    {
     "name": "stderr",
     "output_type": "stream",
     "text": [
      "INFO:tensorflow:Saving checkpoints for 5700000 into ./outputs/tensorforce_PPO_crypto-20180208_17-41/model.ckpt.\n"
     ]
    },
    {
     "name": "stdout",
     "output_type": "stream",
     "text": [
      "ep reward: -0.00001029 [-0.00032540,  0.00044080], portfolio_value:  0.9908 mdd=-2.25% sharpe=-0.2724, expl= 0.00% eps=197000 weights={'C': 0.11919999867677689, 'AAPL': 0.22290000319480896, 'B': 0.13519999384880066, 'cash': 0.13650000095367432, 'MSFT': 0.1671999990940094, 'A': 0.2190999984741211}\n",
      "ep reward: -0.00000970 [-0.00037517,  0.00044977], portfolio_value:  0.9913 mdd=-2.25% sharpe=-0.2586, expl= 0.00% eps=198000 weights={'C': 0.2754000127315521, 'AAPL': 0.10760000348091125, 'B': 0.11940000206232071, 'cash': 0.13760000467300415, 'MSFT': 0.17219999432563782, 'A': 0.18780000507831573}\n",
      "ep reward:  0.00013767 [-0.00413085,  0.00820902], portfolio_value:  1.1319 mdd=-30.30% sharpe=0.5444, expl= 0.00% eps=199000 weights={'C': 0.14149999618530273, 'AAPL': 0.16369999945163727, 'B': 0.1444000005722046, 'cash': 0.23759999871253967, 'MSFT': 0.12800000607967377, 'A': 0.18479999899864197}\n",
      "INFO:tensorflow:Saving checkpoints for 5800000 into ./outputs/tensorforce_PPO_crypto-20180208_17-41/model.ckpt.\n"
     ]
    },
    {
     "name": "stderr",
     "output_type": "stream",
     "text": [
      "INFO:tensorflow:Saving checkpoints for 5800000 into ./outputs/tensorforce_PPO_crypto-20180208_17-41/model.ckpt.\n"
     ]
    },
    {
     "name": "stdout",
     "output_type": "stream",
     "text": [
      "ep reward: -0.00000621 [-0.00614836,  0.00607069], portfolio_value:  0.9944 mdd=-22.32% sharpe=0.1087, expl= 0.00% eps=200000 weights={'C': 0.16850000619888306, 'AAPL': 0.13500000536441803, 'B': 0.1273999959230423, 'cash': 0.14470000565052032, 'MSFT': 0.18299999833106995, 'A': 0.24160000681877136}\n",
      "ep reward:  0.00000528 [-0.00029789,  0.00037163], portfolio_value:  1.0048 mdd=-2.03% sharpe=0.1691, expl= 0.00% eps=201000 weights={'C': 0.22370000183582306, 'AAPL': 0.11209999769926071, 'B': 0.12229999899864197, 'cash': 0.12060000002384186, 'MSFT': 0.23970000445842743, 'A': 0.18150000274181366}\n",
      "ep reward:  0.00001994 [-0.00511871,  0.00551550], portfolio_value:  1.0181 mdd=-20.45% sharpe=0.1908, expl= 0.00% eps=202000 weights={'C': 0.21289999783039093, 'AAPL': 0.1670999974012375, 'B': 0.1120000034570694, 'cash': 0.22130000591278076, 'MSFT': 0.1103999987244606, 'A': 0.17640000581741333}\n",
      "ep reward:  0.00000027 [-0.00029125,  0.00040264], portfolio_value:  1.0002 mdd=-2.10% sharpe=0.0234, expl= 0.00% eps=203000 weights={'C': 0.1973000019788742, 'AAPL': 0.1331000030040741, 'B': 0.17149999737739563, 'cash': 0.1005999967455864, 'MSFT': 0.13950000703334808, 'A': 0.2578999996185303}\n",
      "INFO:tensorflow:Saving checkpoints for 5900000 into ./outputs/tensorforce_PPO_crypto-20180208_17-41/model.ckpt.\n"
     ]
    },
    {
     "name": "stderr",
     "output_type": "stream",
     "text": [
      "INFO:tensorflow:Saving checkpoints for 5900000 into ./outputs/tensorforce_PPO_crypto-20180208_17-41/model.ckpt.\n"
     ]
    },
    {
     "name": "stdout",
     "output_type": "stream",
     "text": [
      "ep reward:  0.00019365 [-0.00281539,  0.00866150], portfolio_value:  1.1904 mdd=-31.73% sharpe=0.7011, expl= 0.00% eps=204000 weights={'C': 0.13289999961853027, 'AAPL': 0.11819999665021896, 'B': 0.27959999442100525, 'cash': 0.10540000349283218, 'MSFT': 0.10989999771118164, 'A': 0.2540000081062317}\n",
      "ep reward:  0.00001822 [-0.00082140,  0.00034078], portfolio_value:  1.0165 mdd=-1.99% sharpe=0.4872, expl= 0.00% eps=205000 weights={'C': 0.17110000550746918, 'AAPL': 0.09860000014305115, 'B': 0.20640000700950623, 'cash': 0.09730000048875809, 'MSFT': 0.16359999775886536, 'A': 0.2630999982357025}\n",
      "ep reward: -0.00000018 [-0.00085289,  0.00041931], portfolio_value:  0.9998 mdd=-2.23% sharpe=0.0154, expl= 0.00% eps=206000 weights={'C': 0.1785999983549118, 'AAPL': 0.10189999639987946, 'B': 0.24320000410079956, 'cash': 0.2078000009059906, 'MSFT': 0.1005999967455864, 'A': 0.1679999977350235}\n",
      "INFO:tensorflow:Saving checkpoints for 6000000 into ./outputs/tensorforce_PPO_crypto-20180208_17-41/model.ckpt.\n"
     ]
    },
    {
     "name": "stderr",
     "output_type": "stream",
     "text": [
      "INFO:tensorflow:Saving checkpoints for 6000000 into ./outputs/tensorforce_PPO_crypto-20180208_17-41/model.ckpt.\n"
     ]
    },
    {
     "name": "stdout",
     "output_type": "stream",
     "text": [
      "ep reward:  0.00000462 [-0.00086780,  0.00045637], portfolio_value:  1.0042 mdd=-2.30% sharpe=0.1214, expl= 0.00% eps=207000 weights={'C': 0.21879999339580536, 'AAPL': 0.09459999948740005, 'B': 0.23579999804496765, 'cash': 0.12349999696016312, 'MSFT': 0.16820000112056732, 'A': 0.15919999778270721}\n",
      "ep reward:  0.00000514 [-0.00078732,  0.00045357], portfolio_value:  1.0046 mdd=-2.63% sharpe=0.1444, expl= 0.00% eps=208000 weights={'C': 0.15469999611377716, 'AAPL': 0.19210000336170197, 'B': 0.12919999659061432, 'cash': 0.16509999334812164, 'MSFT': 0.20829999446868896, 'A': 0.15060000121593475}\n",
      "ep reward:  0.00003595 [-0.00085477,  0.00049780], portfolio_value:  1.0329 mdd=-4.14% sharpe=0.8642, expl= 0.00% eps=209000 weights={'C': 0.12250000238418579, 'AAPL': 0.2062000036239624, 'B': 0.22779999673366547, 'cash': 0.11810000240802765, 'MSFT': 0.21699999272823334, 'A': 0.10849999636411667}\n",
      "ep reward:  0.00001689 [-0.00026073,  0.00030608], portfolio_value:  1.0153 mdd=-1.71% sharpe=0.6871, expl= 0.00% eps=210000 weights={'C': 0.25859999656677246, 'AAPL': 0.1251000016927719, 'B': 0.10170000046491623, 'cash': 0.25440001487731934, 'MSFT': 0.11110000312328339, 'A': 0.14910000562667847}\n",
      "INFO:tensorflow:Saving checkpoints for 6100000 into ./outputs/tensorforce_PPO_crypto-20180208_17-41/model.ckpt.\n"
     ]
    },
    {
     "name": "stderr",
     "output_type": "stream",
     "text": [
      "INFO:tensorflow:Saving checkpoints for 6100000 into ./outputs/tensorforce_PPO_crypto-20180208_17-41/model.ckpt.\n"
     ]
    },
    {
     "name": "stdout",
     "output_type": "stream",
     "text": [
      "ep reward: -0.00000807 [-0.00034195,  0.00043636], portfolio_value:  0.9928 mdd=-2.31% sharpe=-0.2050, expl= 0.00% eps=211000 weights={'C': 0.20999999344348907, 'AAPL': 0.13050000369548798, 'B': 0.18979999423027039, 'cash': 0.15549999475479126, 'MSFT': 0.15489999949932098, 'A': 0.15919999778270721}\n",
      "ep reward:  0.00006793 [-0.00081817,  0.00045818], portfolio_value:  1.0630 mdd=-3.90% sharpe=1.8157, expl= 0.00% eps=212000 weights={'C': 0.13079999387264252, 'AAPL': 0.15800000727176666, 'B': 0.21160000562667847, 'cash': 0.20499999821186066, 'MSFT': 0.10670000314712524, 'A': 0.18790000677108765}\n",
      "ep reward: -0.00000572 [-0.00041302,  0.00045352], portfolio_value:  0.9949 mdd=-2.16% sharpe=-0.1464, expl= 0.00% eps=213000 weights={'C': 0.12970000505447388, 'AAPL': 0.1776999980211258, 'B': 0.20890000462532043, 'cash': 0.10760000348091125, 'MSFT': 0.22429999709129333, 'A': 0.1518000066280365}\n",
      "INFO:tensorflow:Saving checkpoints for 6200000 into ./outputs/tensorforce_PPO_crypto-20180208_17-41/model.ckpt.\n"
     ]
    },
    {
     "name": "stderr",
     "output_type": "stream",
     "text": [
      "INFO:tensorflow:Saving checkpoints for 6200000 into ./outputs/tensorforce_PPO_crypto-20180208_17-41/model.ckpt.\n"
     ]
    },
    {
     "name": "stdout",
     "output_type": "stream",
     "text": [
      "ep reward:  0.00004839 [-0.00051193,  0.00038762], portfolio_value:  1.0445 mdd=-2.74% sharpe=1.4736, expl= 0.00% eps=214000 weights={'C': 0.19760000705718994, 'AAPL': 0.20170000195503235, 'B': 0.1371999979019165, 'cash': 0.11320000141859055, 'MSFT': 0.23080000281333923, 'A': 0.11949999630451202}\n",
      "ep reward:  0.00001759 [-0.00033452,  0.00038668], portfolio_value:  1.0160 mdd=-2.19% sharpe=0.5789, expl= 0.00% eps=215000 weights={'C': 0.17569999396800995, 'AAPL': 0.1492999941110611, 'B': 0.13570000231266022, 'cash': 0.16820000112056732, 'MSFT': 0.17110000550746918, 'A': 0.19990000128746033}\n",
      "ep reward:  0.00001206 [-0.00076455,  0.00041635], portfolio_value:  1.0109 mdd=-2.55% sharpe=0.2950, expl= 0.00% eps=216000 weights={'C': 0.13079999387264252, 'AAPL': 0.13300000131130219, 'B': 0.1460999995470047, 'cash': 0.13660000264644623, 'MSFT': 0.2906000018119812, 'A': 0.16300000250339508}\n",
      "ep reward:  0.00002563 [-0.00032467,  0.00043117], portfolio_value:  1.0233 mdd=-2.29% sharpe=0.7318, expl= 0.00% eps=217000 weights={'C': 0.16249999403953552, 'AAPL': 0.09319999814033508, 'B': 0.20589999854564667, 'cash': 0.20569999516010284, 'MSFT': 0.21160000562667847, 'A': 0.12110000103712082}\n",
      "INFO:tensorflow:Saving checkpoints for 6300000 into ./outputs/tensorforce_PPO_crypto-20180208_17-41/model.ckpt.\n"
     ]
    },
    {
     "name": "stderr",
     "output_type": "stream",
     "text": [
      "INFO:tensorflow:Saving checkpoints for 6300000 into ./outputs/tensorforce_PPO_crypto-20180208_17-41/model.ckpt.\n"
     ]
    },
    {
     "name": "stdout",
     "output_type": "stream",
     "text": [
      "ep reward:  0.00001975 [-0.00023230,  0.00030009], portfolio_value:  1.0179 mdd=-1.54% sharpe=0.8875, expl= 0.00% eps=218000 weights={'C': 0.15219999849796295, 'AAPL': 0.21960000693798065, 'B': 0.2011999934911728, 'cash': 0.16619999706745148, 'MSFT': 0.13930000364780426, 'A': 0.12160000205039978}\n",
      "ep reward:  0.00000231 [-0.00031251,  0.00042039], portfolio_value:  1.0021 mdd=-2.22% sharpe=0.0797, expl= 0.00% eps=219000 weights={'C': 0.11599999666213989, 'AAPL': 0.19359999895095825, 'B': 0.16920000314712524, 'cash': 0.1965000033378601, 'MSFT': 0.1437000036239624, 'A': 0.1809999942779541}\n",
      "ep reward:  0.00003461 [-0.00027707,  0.00037488], portfolio_value:  1.0316 mdd=-1.98% sharpe=1.2313, expl= 0.00% eps=220000 weights={'C': 0.18469999730587006, 'AAPL': 0.17990000545978546, 'B': 0.08780000358819962, 'cash': 0.16930000483989716, 'MSFT': 0.19089999794960022, 'A': 0.1873999983072281}\n",
      "INFO:tensorflow:Saving checkpoints for 6400000 into ./outputs/tensorforce_PPO_crypto-20180208_17-41/model.ckpt.\n"
     ]
    },
    {
     "name": "stderr",
     "output_type": "stream",
     "text": [
      "INFO:tensorflow:Saving checkpoints for 6400000 into ./outputs/tensorforce_PPO_crypto-20180208_17-41/model.ckpt.\n"
     ]
    },
    {
     "name": "stdout",
     "output_type": "stream",
     "text": [
      "ep reward:  0.00000366 [-0.00024347,  0.00039432], portfolio_value:  1.0033 mdd=-1.93% sharpe=0.1478, expl= 0.00% eps=221000 weights={'C': 0.09489999711513519, 'AAPL': 0.15240000188350677, 'B': 0.1995999962091446, 'cash': 0.19089999794960022, 'MSFT': 0.16369999945163727, 'A': 0.19850000739097595}\n",
      "ep reward:  0.00005068 [-0.00079057,  0.00038323], portfolio_value:  1.0467 mdd=-3.58% sharpe=1.2993, expl= 0.00% eps=222000 weights={'C': 0.13609999418258667, 'AAPL': 0.10769999772310257, 'B': 0.2599000036716461, 'cash': 0.11599999666213989, 'MSFT': 0.1396999955177307, 'A': 0.24060000479221344}\n",
      "ep reward:  0.00022929 [-0.00314155,  0.00931661], portfolio_value:  1.2292 mdd=0.00% sharpe=0.7640, expl= 0.00% eps=223000 weights={'C': 0.14069999754428864, 'AAPL': 0.1979999989271164, 'B': 0.15199999511241913, 'cash': 0.2313999980688095, 'MSFT': 0.12150000035762787, 'A': 0.15639999508857727}\n",
      "ep reward:  0.00000998 [-0.00027815,  0.00027812], portfolio_value:  1.0090 mdd=-1.47% sharpe=0.4197, expl= 0.00% eps=224000 weights={'C': 0.12030000239610672, 'AAPL': 0.15549999475479126, 'B': 0.1046999990940094, 'cash': 0.26750001311302185, 'MSFT': 0.14480000734329224, 'A': 0.2071000039577484}\n",
      "INFO:tensorflow:Saving checkpoints for 6500000 into ./outputs/tensorforce_PPO_crypto-20180208_17-41/model.ckpt.\n"
     ]
    },
    {
     "name": "stderr",
     "output_type": "stream",
     "text": [
      "INFO:tensorflow:Saving checkpoints for 6500000 into ./outputs/tensorforce_PPO_crypto-20180208_17-41/model.ckpt.\n"
     ]
    },
    {
     "name": "stdout",
     "output_type": "stream",
     "text": [
      "ep reward:  0.00012113 [-0.00288496,  0.00556900], portfolio_value:  1.1152 mdd=-20.24% sharpe=0.6338, expl= 0.00% eps=225000 weights={'C': 0.1906999945640564, 'AAPL': 0.16820000112056732, 'B': 0.1331000030040741, 'cash': 0.15080000460147858, 'MSFT': 0.1981000006198883, 'A': 0.1590999960899353}\n",
      "ep reward: -0.00002074 [-0.00046893,  0.00038156], portfolio_value:  0.9815 mdd=-2.58% sharpe=-0.5844, expl= 0.00% eps=226000 weights={'C': 0.13429999351501465, 'AAPL': 0.22779999673366547, 'B': 0.274399995803833, 'cash': 0.10620000213384628, 'MSFT': 0.11710000038146973, 'A': 0.14020000398159027}\n",
      "ep reward:  0.00002087 [-0.00025449,  0.00033039], portfolio_value:  1.0190 mdd=-1.08% sharpe=0.7741, expl= 0.00% eps=227000 weights={'C': 0.2872999906539917, 'AAPL': 0.1088000014424324, 'B': 0.17790000140666962, 'cash': 0.20020000636577606, 'MSFT': 0.11900000274181366, 'A': 0.10679999738931656}\n",
      "INFO:tensorflow:Saving checkpoints for 6600000 into ./outputs/tensorforce_PPO_crypto-20180208_17-41/model.ckpt.\n"
     ]
    },
    {
     "name": "stderr",
     "output_type": "stream",
     "text": [
      "INFO:tensorflow:Saving checkpoints for 6600000 into ./outputs/tensorforce_PPO_crypto-20180208_17-41/model.ckpt.\n"
     ]
    },
    {
     "name": "stdout",
     "output_type": "stream",
     "text": [
      "ep reward:  0.00001579 [-0.00042775,  0.00047097], portfolio_value:  1.0143 mdd=-1.48% sharpe=0.4604, expl= 0.00% eps=228000 weights={'C': 0.1914999932050705, 'AAPL': 0.17100000381469727, 'B': 0.11240000277757645, 'cash': 0.14139999449253082, 'MSFT': 0.23800000548362732, 'A': 0.14569999277591705}\n",
      "ep reward:  0.00000636 [-0.00029417,  0.00037852], portfolio_value:  1.0057 mdd=-2.04% sharpe=0.2118, expl= 0.00% eps=229000 weights={'C': 0.1867000013589859, 'AAPL': 0.20550000667572021, 'B': 0.2117999941110611, 'cash': 0.19020000100135803, 'MSFT': 0.10999999940395355, 'A': 0.0957999974489212}\n",
      "ep reward:  0.00000692 [-0.00031724,  0.00046712], portfolio_value:  1.0063 mdd=-2.38% sharpe=0.2228, expl= 0.00% eps=230000 weights={'C': 0.19580000638961792, 'AAPL': 0.1460999995470047, 'B': 0.13439999520778656, 'cash': 0.12319999933242798, 'MSFT': 0.1589999943971634, 'A': 0.24150000512599945}\n",
      "ep reward:  0.00000407 [-0.00029123,  0.00047155], portfolio_value:  1.0037 mdd=-2.31% sharpe=0.1378, expl= 0.00% eps=231000 weights={'C': 0.1738000065088272, 'AAPL': 0.19120000302791595, 'B': 0.10239999741315842, 'cash': 0.21130000054836273, 'MSFT': 0.17829999327659607, 'A': 0.14309999346733093}\n",
      "INFO:tensorflow:Saving checkpoints for 6700000 into ./outputs/tensorforce_PPO_crypto-20180208_17-41/model.ckpt.\n"
     ]
    },
    {
     "name": "stderr",
     "output_type": "stream",
     "text": [
      "INFO:tensorflow:Saving checkpoints for 6700000 into ./outputs/tensorforce_PPO_crypto-20180208_17-41/model.ckpt.\n"
     ]
    },
    {
     "name": "stdout",
     "output_type": "stream",
     "text": [
      "ep reward:  0.00003976 [-0.00081462,  0.00041181], portfolio_value:  1.0364 mdd=-1.83% sharpe=1.0604, expl= 0.00% eps=232000 weights={'C': 0.14710000157356262, 'AAPL': 0.19470000267028809, 'B': 0.14100000262260437, 'cash': 0.22370000183582306, 'MSFT': 0.17430000007152557, 'A': 0.11919999867677689}\n",
      "ep reward:  0.00006954 [-0.00352153,  0.00557814], portfolio_value:  1.0646 mdd=-20.12% sharpe=0.3967, expl= 0.00% eps=233000 weights={'C': 0.1534000039100647, 'AAPL': 0.23199999332427979, 'B': 0.09440000355243683, 'cash': 0.22310000658035278, 'MSFT': 0.18889999389648438, 'A': 0.10819999873638153}\n",
      "ep reward:  0.00023736 [-0.00326432,  0.01001278], portfolio_value:  1.2382 mdd=-37.32% sharpe=0.7450, expl= 0.00% eps=234000 weights={'C': 0.13590000569820404, 'AAPL': 0.24889999628067017, 'B': 0.14800000190734863, 'cash': 0.14650000631809235, 'MSFT': 0.1404000073671341, 'A': 0.18019999563694}\n",
      "INFO:tensorflow:Saving checkpoints for 6800000 into ./outputs/tensorforce_PPO_crypto-20180208_17-41/model.ckpt.\n"
     ]
    },
    {
     "name": "stderr",
     "output_type": "stream",
     "text": [
      "INFO:tensorflow:Saving checkpoints for 6800000 into ./outputs/tensorforce_PPO_crypto-20180208_17-41/model.ckpt.\n"
     ]
    },
    {
     "name": "stdout",
     "output_type": "stream",
     "text": [
      "ep reward:  0.00001376 [-0.00028603,  0.00029795], portfolio_value:  1.0125 mdd=-1.60% sharpe=0.5392, expl= 0.00% eps=235000 weights={'C': 0.1445000022649765, 'AAPL': 0.16169999539852142, 'B': 0.13279999792575836, 'cash': 0.155799999833107, 'MSFT': 0.19670000672340393, 'A': 0.2084999978542328}\n",
      "ep reward: -0.00001262 [-0.00022057,  0.00029535], portfolio_value:  0.9887 mdd=-1.23% sharpe=-0.4727, expl= 0.00% eps=236000 weights={'C': 0.11710000038146973, 'AAPL': 0.12729999423027039, 'B': 0.19979999959468842, 'cash': 0.22040000557899475, 'MSFT': 0.21439999341964722, 'A': 0.12099999934434891}\n",
      "ep reward:  0.00003805 [-0.00022749,  0.00038957], portfolio_value:  1.0348 mdd=-1.28% sharpe=1.1543, expl= 0.00% eps=237000 weights={'C': 0.15189999341964722, 'AAPL': 0.25189998745918274, 'B': 0.12939999997615814, 'cash': 0.1859000027179718, 'MSFT': 0.1738000065088272, 'A': 0.10700000077486038}\n",
      "INFO:tensorflow:Saving checkpoints for 6900000 into ./outputs/tensorforce_PPO_crypto-20180208_17-41/model.ckpt.\n"
     ]
    },
    {
     "name": "stderr",
     "output_type": "stream",
     "text": [
      "INFO:tensorflow:Saving checkpoints for 6900000 into ./outputs/tensorforce_PPO_crypto-20180208_17-41/model.ckpt.\n"
     ]
    },
    {
     "name": "stdout",
     "output_type": "stream",
     "text": [
      "ep reward:  0.00004510 [-0.00023746,  0.00046263], portfolio_value:  1.0414 mdd=-1.59% sharpe=1.4063, expl= 0.00% eps=238000 weights={'C': 0.1436000019311905, 'AAPL': 0.18799999356269836, 'B': 0.22200000286102295, 'cash': 0.1965000033378601, 'MSFT': 0.12970000505447388, 'A': 0.12020000070333481}\n",
      "ep reward:  0.00002749 [-0.00019604,  0.00027546], portfolio_value:  1.0251 mdd=-1.42% sharpe=1.2273, expl= 0.00% eps=239000 weights={'C': 0.23330000042915344, 'AAPL': 0.1581999957561493, 'B': 0.13269999623298645, 'cash': 0.18389999866485596, 'MSFT': 0.13689999282360077, 'A': 0.1550000011920929}\n",
      "ep reward:  0.00002312 [-0.00026576,  0.00029914], portfolio_value:  1.0210 mdd=-1.71% sharpe=0.9304, expl= 0.00% eps=240000 weights={'C': 0.15649999678134918, 'AAPL': 0.14069999754428864, 'B': 0.17980000376701355, 'cash': 0.12269999831914902, 'MSFT': 0.18240000307559967, 'A': 0.21789999306201935}\n",
      "ep reward:  0.00001107 [-0.00025785,  0.00029107], portfolio_value:  1.0100 mdd=-1.46% sharpe=0.4480, expl= 0.00% eps=241000 weights={'C': 0.17900000512599945, 'AAPL': 0.12070000171661377, 'B': 0.12030000239610672, 'cash': 0.18400000035762787, 'MSFT': 0.2378000020980835, 'A': 0.1582999974489212}\n",
      "INFO:tensorflow:Saving checkpoints for 7000000 into ./outputs/tensorforce_PPO_crypto-20180208_17-41/model.ckpt.\n"
     ]
    },
    {
     "name": "stderr",
     "output_type": "stream",
     "text": [
      "INFO:tensorflow:Saving checkpoints for 7000000 into ./outputs/tensorforce_PPO_crypto-20180208_17-41/model.ckpt.\n"
     ]
    },
    {
     "name": "stdout",
     "output_type": "stream",
     "text": [
      "ep reward:  0.00005549 [-0.00083292,  0.00049361], portfolio_value:  1.0512 mdd=-1.89% sharpe=1.4726, expl= 0.00% eps=242000 weights={'C': 0.11219999939203262, 'AAPL': 0.19429999589920044, 'B': 0.14810000360012054, 'cash': 0.1460999995470047, 'MSFT': 0.18719999492168427, 'A': 0.21209999918937683}\n",
      "ep reward: -0.00000964 [-0.00041406,  0.00042437], portfolio_value:  0.9914 mdd=-1.96% sharpe=-0.2542, expl= 0.00% eps=243000 weights={'C': 0.16920000314712524, 'AAPL': 0.11969999969005585, 'B': 0.20880000293254852, 'cash': 0.17640000581741333, 'MSFT': 0.1793999969959259, 'A': 0.14659999310970306}\n",
      "ep reward:  0.00003850 [-0.00025232,  0.00037452], portfolio_value:  1.0353 mdd=-1.83% sharpe=1.3833, expl= 0.00% eps=244000 weights={'C': 0.20309999585151672, 'AAPL': 0.1477999985218048, 'B': 0.09319999814033508, 'cash': 0.2159000039100647, 'MSFT': 0.12849999964237213, 'A': 0.21140000224113464}\n",
      "INFO:tensorflow:Saving checkpoints for 7100000 into ./outputs/tensorforce_PPO_crypto-20180208_17-41/model.ckpt.\n"
     ]
    },
    {
     "name": "stderr",
     "output_type": "stream",
     "text": [
      "INFO:tensorflow:Saving checkpoints for 7100000 into ./outputs/tensorforce_PPO_crypto-20180208_17-41/model.ckpt.\n"
     ]
    },
    {
     "name": "stdout",
     "output_type": "stream",
     "text": [
      "ep reward:  0.00002103 [-0.00031552,  0.00046619], portfolio_value:  1.0191 mdd=-2.37% sharpe=0.6401, expl= 0.00% eps=245000 weights={'C': 0.14630000293254852, 'AAPL': 0.19179999828338623, 'B': 0.0997999981045723, 'cash': 0.20669999718666077, 'MSFT': 0.19429999589920044, 'A': 0.16110000014305115}\n",
      "ep reward:  0.00000722 [-0.00030082,  0.00041177], portfolio_value:  1.0065 mdd=-2.16% sharpe=0.2628, expl= 0.00% eps=246000 weights={'C': 0.13529999554157257, 'AAPL': 0.23000000417232513, 'B': 0.19439999759197235, 'cash': 0.1396999955177307, 'MSFT': 0.1776999980211258, 'A': 0.12309999763965607}\n",
      "ep reward: -0.00000540 [-0.00030966,  0.00037687], portfolio_value:  0.9952 mdd=-1.94% sharpe=-0.1428, expl= 0.00% eps=247000 weights={'C': 0.163100004196167, 'AAPL': 0.10779999941587448, 'B': 0.2079000025987625, 'cash': 0.09440000355243683, 'MSFT': 0.20440000295639038, 'A': 0.2223999947309494}\n",
      "ep reward:  0.00003257 [-0.00030328,  0.00033093], portfolio_value:  1.0297 mdd=-1.27% sharpe=1.3827, expl= 0.00% eps=248000 weights={'C': 0.11840000003576279, 'AAPL': 0.17509999871253967, 'B': 0.22380000352859497, 'cash': 0.12549999356269836, 'MSFT': 0.19419999420642853, 'A': 0.16300000250339508}\n",
      "INFO:tensorflow:Saving checkpoints for 7200000 into ./outputs/tensorforce_PPO_crypto-20180208_17-41/model.ckpt.\n"
     ]
    },
    {
     "name": "stderr",
     "output_type": "stream",
     "text": [
      "INFO:tensorflow:Saving checkpoints for 7200000 into ./outputs/tensorforce_PPO_crypto-20180208_17-41/model.ckpt.\n"
     ]
    },
    {
     "name": "stdout",
     "output_type": "stream",
     "text": [
      "ep reward:  0.00028579 [-0.00242401,  0.01119666], portfolio_value:  1.2933 mdd=-42.98% sharpe=0.8040, expl= 0.00% eps=249000 weights={'C': 0.1273999959230423, 'AAPL': 0.22920000553131104, 'B': 0.1462000012397766, 'cash': 0.1445000022649765, 'MSFT': 0.16009999811649323, 'A': 0.19249999523162842}\n",
      "ep reward: -0.00002126 [-0.00047075,  0.00047186], portfolio_value:  0.9810 mdd=-2.17% sharpe=-0.5485, expl= 0.00% eps=250000 weights={'C': 0.15000000596046448, 'AAPL': 0.1307000070810318, 'B': 0.12319999933242798, 'cash': 0.125, 'MSFT': 0.15209999680519104, 'A': 0.3190000057220459}\n",
      "ep reward:  0.00002934 [-0.00033080,  0.00043788], portfolio_value:  1.0268 mdd=-1.51% sharpe=0.9239, expl= 0.00% eps=251000 weights={'C': 0.22519999742507935, 'AAPL': 0.2085999995470047, 'B': 0.10610000044107437, 'cash': 0.2410999983549118, 'MSFT': 0.10199999809265137, 'A': 0.11710000038146973}\n",
      "INFO:tensorflow:Saving checkpoints for 7300000 into ./outputs/tensorforce_PPO_crypto-20180208_17-41/model.ckpt.\n"
     ]
    },
    {
     "name": "stderr",
     "output_type": "stream",
     "text": [
      "INFO:tensorflow:Saving checkpoints for 7300000 into ./outputs/tensorforce_PPO_crypto-20180208_17-41/model.ckpt.\n"
     ]
    },
    {
     "name": "stdout",
     "output_type": "stream",
     "text": [
      "ep reward:  0.00023784 [-0.00230850,  0.00890859], portfolio_value:  1.2387 mdd=-33.17% sharpe=0.8216, expl= 0.00% eps=252000 weights={'C': 0.21950000524520874, 'AAPL': 0.1501999944448471, 'B': 0.14000000059604645, 'cash': 0.2583000063896179, 'MSFT': 0.1080000028014183, 'A': 0.12399999797344208}\n",
      "ep reward:  0.00003239 [-0.00026984,  0.00044060], portfolio_value:  1.0296 mdd=-2.15% sharpe=1.1366, expl= 0.00% eps=253000 weights={'C': 0.12999999523162842, 'AAPL': 0.193900004029274, 'B': 0.13379999995231628, 'cash': 0.16089999675750732, 'MSFT': 0.26809999346733093, 'A': 0.11339999735355377}\n",
      "ep reward:  0.00002210 [-0.00020548,  0.00030409], portfolio_value:  1.0201 mdd=-1.42% sharpe=0.9846, expl= 0.00% eps=254000 weights={'C': 0.13989999890327454, 'AAPL': 0.09960000216960907, 'B': 0.2101999968290329, 'cash': 0.14480000734329224, 'MSFT': 0.19910000264644623, 'A': 0.20640000700950623}\n",
      "ep reward:  0.00001435 [-0.00032184,  0.00041964], portfolio_value:  1.0130 mdd=-2.25% sharpe=0.4592, expl= 0.00% eps=255000 weights={'C': 0.1500999927520752, 'AAPL': 0.19830000400543213, 'B': 0.11420000344514847, 'cash': 0.1728000044822693, 'MSFT': 0.12780000269412994, 'A': 0.23680000007152557}\n",
      "INFO:tensorflow:Saving checkpoints for 7400000 into ./outputs/tensorforce_PPO_crypto-20180208_17-41/model.ckpt.\n"
     ]
    },
    {
     "name": "stderr",
     "output_type": "stream",
     "text": [
      "INFO:tensorflow:Saving checkpoints for 7400000 into ./outputs/tensorforce_PPO_crypto-20180208_17-41/model.ckpt.\n"
     ]
    },
    {
     "name": "stdout",
     "output_type": "stream",
     "text": [
      "ep reward:  0.00004099 [-0.00089444,  0.00043091], portfolio_value:  1.0376 mdd=-1.85% sharpe=1.0486, expl= 0.00% eps=256000 weights={'C': 0.18539999425411224, 'AAPL': 0.1736000031232834, 'B': 0.21230000257492065, 'cash': 0.17569999396800995, 'MSFT': 0.13950000703334808, 'A': 0.11349999904632568}\n",
      "ep reward:  0.00000205 [-0.00032236,  0.00037659], portfolio_value:  1.0018 mdd=-2.12% sharpe=0.0806, expl= 0.00% eps=257000 weights={'C': 0.2451000064611435, 'AAPL': 0.1451999992132187, 'B': 0.1995999962091446, 'cash': 0.1826999932527542, 'MSFT': 0.09539999812841415, 'A': 0.13199999928474426}\n",
      "ep reward:  0.00003943 [-0.00024918,  0.00037102], portfolio_value:  1.0361 mdd=-1.20% sharpe=1.3785, expl= 0.00% eps=258000 weights={'C': 0.18529999256134033, 'AAPL': 0.15919999778270721, 'B': 0.20399999618530273, 'cash': 0.2362000048160553, 'MSFT': 0.09690000116825104, 'A': 0.11840000003576279}\n",
      "INFO:tensorflow:Saving checkpoints for 7500000 into ./outputs/tensorforce_PPO_crypto-20180208_17-41/model.ckpt.\n"
     ]
    },
    {
     "name": "stderr",
     "output_type": "stream",
     "text": [
      "INFO:tensorflow:Saving checkpoints for 7500000 into ./outputs/tensorforce_PPO_crypto-20180208_17-41/model.ckpt.\n"
     ]
    },
    {
     "name": "stdout",
     "output_type": "stream",
     "text": [
      "ep reward:  0.00000434 [-0.00077470,  0.00042020], portfolio_value:  1.0039 mdd=-2.46% sharpe=0.1272, expl= 0.00% eps=259000 weights={'C': 0.12970000505447388, 'AAPL': 0.1873999983072281, 'B': 0.28049999475479126, 'cash': 0.1251000016927719, 'MSFT': 0.14100000262260437, 'A': 0.13619999587535858}\n",
      "ep reward:  0.00001345 [-0.00048695,  0.00046718], portfolio_value:  1.0122 mdd=-1.48% sharpe=0.3866, expl= 0.00% eps=260000 weights={'C': 0.1728000044822693, 'AAPL': 0.20880000293254852, 'B': 0.120899997651577, 'cash': 0.14470000565052032, 'MSFT': 0.1673000007867813, 'A': 0.18559999763965607}\n",
      "ep reward: -0.00001124 [-0.00040762,  0.00037033], portfolio_value:  0.9899 mdd=-2.36% sharpe=-0.3108, expl= 0.00% eps=261000 weights={'C': 0.14190000295639038, 'AAPL': 0.15070000290870667, 'B': 0.18719999492168427, 'cash': 0.1500999927520752, 'MSFT': 0.1476999968290329, 'A': 0.2222999930381775}\n",
      "ep reward:  0.00002111 [-0.00028939,  0.00047122], portfolio_value:  1.0192 mdd=-2.31% sharpe=0.6633, expl= 0.00% eps=262000 weights={'C': 0.1808999925851822, 'AAPL': 0.10779999941587448, 'B': 0.17010000348091125, 'cash': 0.17520000040531158, 'MSFT': 0.2076999992132187, 'A': 0.15839999914169312}\n",
      "INFO:tensorflow:Saving checkpoints for 7600000 into ./outputs/tensorforce_PPO_crypto-20180208_17-41/model.ckpt.\n"
     ]
    },
    {
     "name": "stderr",
     "output_type": "stream",
     "text": [
      "INFO:tensorflow:Saving checkpoints for 7600000 into ./outputs/tensorforce_PPO_crypto-20180208_17-41/model.ckpt.\n"
     ]
    },
    {
     "name": "stdout",
     "output_type": "stream",
     "text": [
      "ep reward:  0.00004147 [-0.00020931,  0.00045284], portfolio_value:  1.0380 mdd=-1.46% sharpe=1.3138, expl= 0.00% eps=263000 weights={'C': 0.19460000097751617, 'AAPL': 0.18639999628067017, 'B': 0.12070000171661377, 'cash': 0.20340000092983246, 'MSFT': 0.1527000069618225, 'A': 0.14229999482631683}\n",
      "ep reward:  0.00005391 [-0.00082864,  0.00043367], portfolio_value:  1.0497 mdd=-1.93% sharpe=1.4298, expl= 0.00% eps=264000 weights={'C': 0.17900000512599945, 'AAPL': 0.1152999997138977, 'B': 0.16130000352859497, 'cash': 0.24490000307559967, 'MSFT': 0.10300000011920929, 'A': 0.1965000033378601}\n",
      "ep reward:  0.00004430 [-0.00019956,  0.00046513], portfolio_value:  1.0407 mdd=-1.47% sharpe=1.4020, expl= 0.00% eps=265000 weights={'C': 0.20190000534057617, 'AAPL': 0.10779999941587448, 'B': 0.1404999941587448, 'cash': 0.16359999775886536, 'MSFT': 0.18289999663829803, 'A': 0.20329999923706055}\n",
      "INFO:tensorflow:Saving checkpoints for 7700000 into ./outputs/tensorforce_PPO_crypto-20180208_17-41/model.ckpt.\n"
     ]
    },
    {
     "name": "stderr",
     "output_type": "stream",
     "text": [
      "INFO:tensorflow:Saving checkpoints for 7700000 into ./outputs/tensorforce_PPO_crypto-20180208_17-41/model.ckpt.\n"
     ]
    },
    {
     "name": "stdout",
     "output_type": "stream",
     "text": [
      "ep reward:  0.00001881 [-0.00030503,  0.00042298], portfolio_value:  1.0171 mdd=-2.21% sharpe=0.5370, expl= 0.00% eps=266000 weights={'C': 0.12520000338554382, 'AAPL': 0.2126999944448471, 'B': 0.14169999957084656, 'cash': 0.20960000157356262, 'MSFT': 0.0925000011920929, 'A': 0.21819999814033508}\n",
      "ep reward:  0.00003095 [-0.00021250,  0.00050071], portfolio_value:  1.0282 mdd=-1.79% sharpe=0.9990, expl= 0.00% eps=267000 weights={'C': 0.1137000024318695, 'AAPL': 0.1526000052690506, 'B': 0.16990000009536743, 'cash': 0.11209999769926071, 'MSFT': 0.20589999854564667, 'A': 0.2459000051021576}\n",
      "ep reward:  0.00000817 [-0.00028216,  0.00045072], portfolio_value:  1.0074 mdd=-2.22% sharpe=0.2569, expl= 0.00% eps=268000 weights={'C': 0.18799999356269836, 'AAPL': 0.1396999955177307, 'B': 0.17649999260902405, 'cash': 0.1680999994277954, 'MSFT': 0.16210000216960907, 'A': 0.1656000018119812}\n",
      "INFO:tensorflow:Saving checkpoints for 7800000 into ./outputs/tensorforce_PPO_crypto-20180208_17-41/model.ckpt.\n"
     ]
    },
    {
     "name": "stderr",
     "output_type": "stream",
     "text": [
      "INFO:tensorflow:Saving checkpoints for 7800000 into ./outputs/tensorforce_PPO_crypto-20180208_17-41/model.ckpt.\n"
     ]
    },
    {
     "name": "stdout",
     "output_type": "stream",
     "text": [
      "ep reward:  0.00002123 [-0.00028792,  0.00039103], portfolio_value:  1.0193 mdd=-2.06% sharpe=0.6914, expl= 0.00% eps=269000 weights={'C': 0.1737000048160553, 'AAPL': 0.19300000369548798, 'B': 0.19619999825954437, 'cash': 0.17010000348091125, 'MSFT': 0.17919999361038208, 'A': 0.08780000358819962}\n",
      "ep reward:  0.00002580 [-0.00023350,  0.00029314], portfolio_value:  1.0235 mdd=-1.42% sharpe=1.0439, expl= 0.00% eps=270000 weights={'C': 0.1216999962925911, 'AAPL': 0.2572999894618988, 'B': 0.258899986743927, 'cash': 0.11739999800920486, 'MSFT': 0.11020000278949738, 'A': 0.13439999520778656}\n",
      "ep reward:  0.00020070 [-0.00364039,  0.00968695], portfolio_value:  1.1980 mdd=-36.05% sharpe=0.6641, expl= 0.00% eps=271000 weights={'C': 0.17839999496936798, 'AAPL': 0.18619999289512634, 'B': 0.21459999680519104, 'cash': 0.12479999661445618, 'MSFT': 0.15039999783039093, 'A': 0.14560000598430634}\n",
      "ep reward:  0.00001538 [-0.00030299,  0.00036359], portfolio_value:  1.0139 mdd=-2.02% sharpe=0.5162, expl= 0.00% eps=272000 weights={'C': 0.1737000048160553, 'AAPL': 0.1096000000834465, 'B': 0.23070000112056732, 'cash': 0.10790000110864639, 'MSFT': 0.2175000011920929, 'A': 0.16060000658035278}\n",
      "INFO:tensorflow:Saving checkpoints for 7900000 into ./outputs/tensorforce_PPO_crypto-20180208_17-41/model.ckpt.\n"
     ]
    },
    {
     "name": "stderr",
     "output_type": "stream",
     "text": [
      "INFO:tensorflow:Saving checkpoints for 7900000 into ./outputs/tensorforce_PPO_crypto-20180208_17-41/model.ckpt.\n"
     ]
    },
    {
     "name": "stdout",
     "output_type": "stream",
     "text": [
      "ep reward:  0.00013894 [-0.00215011,  0.00548104], portfolio_value:  1.1332 mdd=-20.24% sharpe=0.7412, expl= 0.00% eps=273000 weights={'C': 0.14300000667572021, 'AAPL': 0.12770000100135803, 'B': 0.16419999301433563, 'cash': 0.18549999594688416, 'MSFT': 0.2540000081062317, 'A': 0.12559999525547028}\n",
      "ep reward:  0.00003292 [-0.00019120,  0.00031244], portfolio_value:  1.0301 mdd=-1.52% sharpe=1.5181, expl= 0.00% eps=274000 weights={'C': 0.20170000195503235, 'AAPL': 0.1793999969959259, 'B': 0.18080000579357147, 'cash': 0.21310000121593475, 'MSFT': 0.11010000109672546, 'A': 0.11490000039339066}\n",
      "ep reward:  0.00006235 [-0.00516777,  0.00638315], portfolio_value:  1.0577 mdd=-23.26% sharpe=0.3410, expl= 0.00% eps=275000 weights={'C': 0.1517000049352646, 'AAPL': 0.10260000079870224, 'B': 0.12120000272989273, 'cash': 0.2345000058412552, 'MSFT': 0.22779999673366547, 'A': 0.1623000055551529}\n",
      "INFO:tensorflow:Saving checkpoints for 8000000 into ./outputs/tensorforce_PPO_crypto-20180208_17-41/model.ckpt.\n"
     ]
    },
    {
     "name": "stderr",
     "output_type": "stream",
     "text": [
      "INFO:tensorflow:Saving checkpoints for 8000000 into ./outputs/tensorforce_PPO_crypto-20180208_17-41/model.ckpt.\n"
     ]
    },
    {
     "name": "stdout",
     "output_type": "stream",
     "text": [
      "ep reward:  0.00003009 [-0.00028184,  0.00042499], portfolio_value:  1.0275 mdd=-1.52% sharpe=0.9747, expl= 0.00% eps=276000 weights={'C': 0.1136000007390976, 'AAPL': 0.18310000002384186, 'B': 0.21770000457763672, 'cash': 0.15410000085830688, 'MSFT': 0.10760000348091125, 'A': 0.22390000522136688}\n",
      "ep reward:  0.00001864 [-0.00035730,  0.00038406], portfolio_value:  1.0169 mdd=-1.98% sharpe=0.5458, expl= 0.00% eps=277000 weights={'C': 0.11169999837875366, 'AAPL': 0.210099995136261, 'B': 0.21690000593662262, 'cash': 0.11429999768733978, 'MSFT': 0.20170000195503235, 'A': 0.1451999992132187}\n",
      "ep reward: -0.00001837 [-0.00032476,  0.00039460], portfolio_value:  0.9836 mdd=-2.03% sharpe=-0.5053, expl= 0.00% eps=278000 weights={'C': 0.19329999387264252, 'AAPL': 0.22660000622272491, 'B': 0.08910000324249268, 'cash': 0.14710000157356262, 'MSFT': 0.18219999969005585, 'A': 0.16169999539852142}\n",
      "ep reward:  0.00022482 [-0.00320080,  0.00963351], portfolio_value:  1.2243 mdd=-36.34% sharpe=0.7324, expl= 0.00% eps=279000 weights={'C': 0.19949999451637268, 'AAPL': 0.094200000166893, 'B': 0.14839999377727509, 'cash': 0.16850000619888306, 'MSFT': 0.24650000035762787, 'A': 0.14300000667572021}\n",
      "INFO:tensorflow:Saving checkpoints for 8100000 into ./outputs/tensorforce_PPO_crypto-20180208_17-41/model.ckpt.\n"
     ]
    },
    {
     "name": "stderr",
     "output_type": "stream",
     "text": [
      "INFO:tensorflow:Saving checkpoints for 8100000 into ./outputs/tensorforce_PPO_crypto-20180208_17-41/model.ckpt.\n"
     ]
    },
    {
     "name": "stdout",
     "output_type": "stream",
     "text": [
      "ep reward:  0.00002035 [-0.00088550,  0.00039170], portfolio_value:  1.0185 mdd=-2.25% sharpe=0.5212, expl= 0.00% eps=280000 weights={'C': 0.12540000677108765, 'AAPL': 0.1256999969482422, 'B': 0.1316000074148178, 'cash': 0.23970000445842743, 'MSFT': 0.11919999867677689, 'A': 0.2583000063896179}\n",
      "ep reward:  0.00018086 [-0.00282899,  0.00765723], portfolio_value:  1.1768 mdd=-27.97% sharpe=0.7220, expl= 0.00% eps=281000 weights={'C': 0.17419999837875366, 'AAPL': 0.10840000212192535, 'B': 0.18000000715255737, 'cash': 0.11209999769926071, 'MSFT': 0.1834000051021576, 'A': 0.241799995303154}\n",
      "ep reward: -0.00001968 [-0.00029882,  0.00047853], portfolio_value:  0.9824 mdd=0.00% sharpe=-0.5438, expl= 0.00% eps=282000 weights={'C': 0.23589999973773956, 'AAPL': 0.09139999747276306, 'B': 0.1517000049352646, 'cash': 0.18629999458789825, 'MSFT': 0.19539999961853027, 'A': 0.13930000364780426}\n",
      "INFO:tensorflow:Saving checkpoints for 8200000 into ./outputs/tensorforce_PPO_crypto-20180208_17-41/model.ckpt.\n"
     ]
    },
    {
     "name": "stderr",
     "output_type": "stream",
     "text": [
      "INFO:tensorflow:Saving checkpoints for 8200000 into ./outputs/tensorforce_PPO_crypto-20180208_17-41/model.ckpt.\n"
     ]
    },
    {
     "name": "stdout",
     "output_type": "stream",
     "text": [
      "ep reward:  0.00002571 [-0.00422343,  0.00506885], portfolio_value:  1.0234 mdd=-18.69% sharpe=0.2121, expl= 0.00% eps=283000 weights={'C': 0.12409999966621399, 'AAPL': 0.24619999527931213, 'B': 0.10419999808073044, 'cash': 0.20810000598430634, 'MSFT': 0.1599999964237213, 'A': 0.15760000050067902}\n",
      "ep reward:  0.00002783 [-0.00024434,  0.00032552], portfolio_value:  1.0254 mdd=-1.16% sharpe=1.2504, expl= 0.00% eps=284000 weights={'C': 0.24729999899864197, 'AAPL': 0.11869999766349792, 'B': 0.10459999740123749, 'cash': 0.22259999811649323, 'MSFT': 0.12880000472068787, 'A': 0.17800000309944153}\n",
      "ep reward:  0.00028655 [-0.00382918,  0.01183631], portfolio_value:  1.2942 mdd=-45.48% sharpe=0.7688, expl= 0.00% eps=285000 weights={'C': 0.11050000041723251, 'AAPL': 0.1517000049352646, 'B': 0.1761000007390976, 'cash': 0.17919999361038208, 'MSFT': 0.1851000040769577, 'A': 0.19740000367164612}\n",
      "ep reward:  0.00004655 [-0.00073869,  0.00039442], portfolio_value:  1.0428 mdd=-1.87% sharpe=1.3071, expl= 0.00% eps=286000 weights={'C': 0.1526000052690506, 'AAPL': 0.11640000343322754, 'B': 0.2644999921321869, 'cash': 0.11100000143051147, 'MSFT': 0.2526000142097473, 'A': 0.10289999842643738}\n",
      "INFO:tensorflow:Saving checkpoints for 8300000 into ./outputs/tensorforce_PPO_crypto-20180208_17-41/model.ckpt.\n"
     ]
    },
    {
     "name": "stderr",
     "output_type": "stream",
     "text": [
      "INFO:tensorflow:Saving checkpoints for 8300000 into ./outputs/tensorforce_PPO_crypto-20180208_17-41/model.ckpt.\n"
     ]
    },
    {
     "name": "stdout",
     "output_type": "stream",
     "text": [
      "ep reward: -0.00000413 [-0.00074191,  0.00035940], portfolio_value:  0.9963 mdd=-1.99% sharpe=-0.0769, expl= 0.00% eps=287000 weights={'C': 0.17190000414848328, 'AAPL': 0.12070000171661377, 'B': 0.10559999942779541, 'cash': 0.14560000598430634, 'MSFT': 0.22630000114440918, 'A': 0.23000000417232513}\n",
      "ep reward:  0.00000374 [-0.00040189,  0.00048112], portfolio_value:  1.0034 mdd=-2.08% sharpe=0.1172, expl= 0.00% eps=288000 weights={'C': 0.20739999413490295, 'AAPL': 0.09679999947547913, 'B': 0.10909999907016754, 'cash': 0.18850000202655792, 'MSFT': 0.24719999730587006, 'A': 0.1509999930858612}\n",
      "ep reward:  0.00000718 [-0.00076247,  0.00042853], portfolio_value:  1.0065 mdd=-2.14% sharpe=0.1908, expl= 0.00% eps=289000 weights={'C': 0.2222999930381775, 'AAPL': 0.149399995803833, 'B': 0.1340000033378601, 'cash': 0.10490000247955322, 'MSFT': 0.18039999902248383, 'A': 0.20900000631809235}\n",
      "INFO:tensorflow:Saving checkpoints for 8400000 into ./outputs/tensorforce_PPO_crypto-20180208_17-41/model.ckpt.\n"
     ]
    },
    {
     "name": "stderr",
     "output_type": "stream",
     "text": [
      "INFO:tensorflow:Saving checkpoints for 8400000 into ./outputs/tensorforce_PPO_crypto-20180208_17-41/model.ckpt.\n"
     ]
    },
    {
     "name": "stdout",
     "output_type": "stream",
     "text": [
      "ep reward:  0.00000943 [-0.00030303,  0.00045537], portfolio_value:  1.0085 mdd=-2.29% sharpe=0.2940, expl= 0.00% eps=290000 weights={'C': 0.14100000262260437, 'AAPL': 0.23469999432563782, 'B': 0.17829999327659607, 'cash': 0.12080000340938568, 'MSFT': 0.17710000276565552, 'A': 0.14810000360012054}\n",
      "ep reward:  0.00022237 [-0.00477972,  0.01102992], portfolio_value:  1.2216 mdd=-41.75% sharpe=0.6584, expl= 0.00% eps=291000 weights={'C': 0.18790000677108765, 'AAPL': 0.14180000126361847, 'B': 0.16019999980926514, 'cash': 0.13510000705718994, 'MSFT': 0.2125999927520752, 'A': 0.1624000072479248}\n",
      "ep reward: -0.00005994 [-0.00269345,  0.00037533], portfolio_value:  0.9475 mdd=-9.64% sharpe=-0.6175, expl= 0.00% eps=292000 weights={'C': 0.13809999823570251, 'AAPL': 0.11620000004768372, 'B': 0.10989999771118164, 'cash': 0.26820001006126404, 'MSFT': 0.15530000627040863, 'A': 0.21230000257492065}\n",
      "ep reward:  0.00008097 [-0.00380569,  0.00604656], portfolio_value:  1.0756 mdd=-22.42% sharpe=0.4257, expl= 0.00% eps=293000 weights={'C': 0.13590000569820404, 'AAPL': 0.25780001282691956, 'B': 0.21819999814033508, 'cash': 0.15549999475479126, 'MSFT': 0.12790000438690186, 'A': 0.1046999990940094}\n",
      "INFO:tensorflow:Saving checkpoints for 8500000 into ./outputs/tensorforce_PPO_crypto-20180208_17-41/model.ckpt.\n"
     ]
    },
    {
     "name": "stderr",
     "output_type": "stream",
     "text": [
      "INFO:tensorflow:Saving checkpoints for 8500000 into ./outputs/tensorforce_PPO_crypto-20180208_17-41/model.ckpt.\n"
     ]
    },
    {
     "name": "stdout",
     "output_type": "stream",
     "text": [
      "ep reward: -0.00001957 [-0.00040220,  0.00045231], portfolio_value:  0.9825 mdd=-2.14% sharpe=-0.5131, expl= 0.00% eps=294000 weights={'C': 0.13510000705718994, 'AAPL': 0.23770000040531158, 'B': 0.11659999936819077, 'cash': 0.10700000077486038, 'MSFT': 0.218299999833107, 'A': 0.18520000576972961}\n",
      "ep reward:  0.00001779 [-0.00052128,  0.00039862], portfolio_value:  1.0161 mdd=-2.05% sharpe=0.5088, expl= 0.00% eps=295000 weights={'C': 0.14010000228881836, 'AAPL': 0.22550000250339508, 'B': 0.15610000491142273, 'cash': 0.16130000352859497, 'MSFT': 0.09440000355243683, 'A': 0.22259999811649323}\n",
      "ep reward:  0.00003466 [-0.00025263,  0.00046597], portfolio_value:  1.0317 mdd=-1.72% sharpe=1.1205, expl= 0.00% eps=296000 weights={'C': 0.18080000579357147, 'AAPL': 0.241799995303154, 'B': 0.09449999779462814, 'cash': 0.1476999968290329, 'MSFT': 0.13009999692440033, 'A': 0.20499999821186066}\n",
      "INFO:tensorflow:Saving checkpoints for 8600000 into ./outputs/tensorforce_PPO_crypto-20180208_17-41/model.ckpt.\n"
     ]
    },
    {
     "name": "stderr",
     "output_type": "stream",
     "text": [
      "INFO:tensorflow:Saving checkpoints for 8600000 into ./outputs/tensorforce_PPO_crypto-20180208_17-41/model.ckpt.\n"
     ]
    },
    {
     "name": "stdout",
     "output_type": "stream",
     "text": [
      "ep reward:  0.00004856 [-0.00025654,  0.00047350], portfolio_value:  1.0447 mdd=-1.74% sharpe=1.5305, expl= 0.00% eps=297000 weights={'C': 0.16140000522136688, 'AAPL': 0.16930000483989716, 'B': 0.21819999814033508, 'cash': 0.1754000037908554, 'MSFT': 0.1356000006198883, 'A': 0.14010000228881836}\n",
      "ep reward: -0.00000985 [-0.00028246,  0.00030421], portfolio_value:  0.9912 mdd=0.00% sharpe=-0.3356, expl= 0.00% eps=298000 weights={'C': 0.14900000393390656, 'AAPL': 0.13840000331401825, 'B': 0.13650000095367432, 'cash': 0.1745000034570694, 'MSFT': 0.2012999951839447, 'A': 0.20020000636577606}\n",
      "ep reward:  0.00003926 [-0.00017215,  0.00031332], portfolio_value:  1.0360 mdd=-1.47% sharpe=1.7217, expl= 0.00% eps=299000 weights={'C': 0.18379999697208405, 'AAPL': 0.2037999927997589, 'B': 0.2354000061750412, 'cash': 0.1289999932050705, 'MSFT': 0.13510000705718994, 'A': 0.1128000020980835}\n",
      "INFO:tensorflow:Saving checkpoints for 8700000 into ./outputs/tensorforce_PPO_crypto-20180208_17-41/model.ckpt.\n"
     ]
    },
    {
     "name": "stderr",
     "output_type": "stream",
     "text": [
      "INFO:tensorflow:Saving checkpoints for 8700000 into ./outputs/tensorforce_PPO_crypto-20180208_17-41/model.ckpt.\n"
     ]
    },
    {
     "name": "stdout",
     "output_type": "stream",
     "text": [
      "ep reward:  0.00003647 [-0.00016184,  0.00037243], portfolio_value:  1.0334 mdd=-1.60% sharpe=1.6196, expl= 0.00% eps=300000 weights={'C': 0.1662999987602234, 'AAPL': 0.09849999845027924, 'B': 0.2337999939918518, 'cash': 0.2451999932527542, 'MSFT': 0.11249999701976776, 'A': 0.1437000036239624}\n",
      "ep reward:  0.00001151 [-0.00028222,  0.00031610], portfolio_value:  1.0104 mdd=-1.50% sharpe=0.4672, expl= 0.00% eps=301000 weights={'C': 0.16019999980926514, 'AAPL': 0.1648000031709671, 'B': 0.16369999945163727, 'cash': 0.23680000007152557, 'MSFT': 0.16580000519752502, 'A': 0.10859999805688858}\n",
      "ep reward:  0.00001257 [-0.00027041,  0.00039810], portfolio_value:  1.0114 mdd=-2.03% sharpe=0.4165, expl= 0.00% eps=302000 weights={'C': 0.19269999861717224, 'AAPL': 0.16519999504089355, 'B': 0.10599999874830246, 'cash': 0.21070000529289246, 'MSFT': 0.15860000252723694, 'A': 0.16680000722408295}\n",
      "ep reward: -0.00000021 [-0.00078692,  0.00049454], portfolio_value:  0.9998 mdd=-2.55% sharpe=0.0135, expl= 0.00% eps=303000 weights={'C': 0.1315000057220459, 'AAPL': 0.14869999885559082, 'B': 0.2045000046491623, 'cash': 0.1931000053882599, 'MSFT': 0.13079999387264252, 'A': 0.19140000641345978}\n",
      "INFO:tensorflow:Saving checkpoints for 8800000 into ./outputs/tensorforce_PPO_crypto-20180208_17-41/model.ckpt.\n"
     ]
    },
    {
     "name": "stderr",
     "output_type": "stream",
     "text": [
      "INFO:tensorflow:Saving checkpoints for 8800000 into ./outputs/tensorforce_PPO_crypto-20180208_17-41/model.ckpt.\n"
     ]
    },
    {
     "name": "stdout",
     "output_type": "stream",
     "text": [
      "ep reward: -0.00001262 [-0.00033891,  0.00036464], portfolio_value:  0.9887 mdd=-2.13% sharpe=-0.3735, expl= 0.00% eps=304000 weights={'C': 0.25220000743865967, 'AAPL': 0.10740000009536743, 'B': 0.13619999587535858, 'cash': 0.24619999527931213, 'MSFT': 0.14219999313354492, 'A': 0.11569999903440475}\n",
      "ep reward:  0.00001189 [-0.00087121,  0.00039635], portfolio_value:  1.0108 mdd=-3.88% sharpe=0.3047, expl= 0.00% eps=305000 weights={'C': 0.1316000074148178, 'AAPL': 0.2004999965429306, 'B': 0.1347000002861023, 'cash': 0.1703999936580658, 'MSFT': 0.24539999663829803, 'A': 0.11739999800920486}\n",
      "ep reward:  0.00000880 [-0.00028829,  0.00033143], portfolio_value:  1.0080 mdd=-1.88% sharpe=0.3674, expl= 0.00% eps=306000 weights={'C': 0.13429999351501465, 'AAPL': 0.18150000274181366, 'B': 0.10209999978542328, 'cash': 0.18770000338554382, 'MSFT': 0.265500009059906, 'A': 0.1289999932050705}\n",
      "INFO:tensorflow:Saving checkpoints for 8900000 into ./outputs/tensorforce_PPO_crypto-20180208_17-41/model.ckpt.\n"
     ]
    },
    {
     "name": "stderr",
     "output_type": "stream",
     "text": [
      "INFO:tensorflow:Saving checkpoints for 8900000 into ./outputs/tensorforce_PPO_crypto-20180208_17-41/model.ckpt.\n"
     ]
    },
    {
     "name": "stdout",
     "output_type": "stream",
     "text": [
      "ep reward:  0.00001481 [-0.00029539,  0.00038432], portfolio_value:  1.0134 mdd=0.00% sharpe=0.5371, expl= 0.00% eps=307000 weights={'C': 0.20309999585151672, 'AAPL': 0.10260000079870224, 'B': 0.14090000092983246, 'cash': 0.22280000150203705, 'MSFT': 0.1851000040769577, 'A': 0.14550000429153442}\n",
      "ep reward:  0.00001970 [-0.00023749,  0.00030771], portfolio_value:  1.0179 mdd=-1.39% sharpe=0.8753, expl= 0.00% eps=308000 weights={'C': 0.15449999272823334, 'AAPL': 0.20160000026226044, 'B': 0.11129999905824661, 'cash': 0.1867000013589859, 'MSFT': 0.2142000049352646, 'A': 0.13169999420642853}\n",
      "ep reward:  0.00015874 [-0.00308879,  0.00728111], portfolio_value:  1.1536 mdd=-26.92% sharpe=0.6671, expl= 0.00% eps=309000 weights={'C': 0.11320000141859055, 'AAPL': 0.1574999988079071, 'B': 0.17730000615119934, 'cash': 0.14579999446868896, 'MSFT': 0.19269999861717224, 'A': 0.2134999930858612}\n",
      "ep reward:  0.00000182 [-0.00031138,  0.00037845], portfolio_value:  1.0016 mdd=-1.99% sharpe=0.0676, expl= 0.00% eps=310000 weights={'C': 0.14489999413490295, 'AAPL': 0.12710000574588776, 'B': 0.156700000166893, 'cash': 0.1467999964952469, 'MSFT': 0.16820000112056732, 'A': 0.2563000023365021}\n",
      "INFO:tensorflow:Saving checkpoints for 9000000 into ./outputs/tensorforce_PPO_crypto-20180208_17-41/model.ckpt.\n"
     ]
    },
    {
     "name": "stderr",
     "output_type": "stream",
     "text": [
      "INFO:tensorflow:Saving checkpoints for 9000000 into ./outputs/tensorforce_PPO_crypto-20180208_17-41/model.ckpt.\n"
     ]
    },
    {
     "name": "stdout",
     "output_type": "stream",
     "text": [
      "ep reward:  0.00003000 [-0.00024431,  0.00037253], portfolio_value:  1.0274 mdd=-1.87% sharpe=1.1762, expl= 0.00% eps=311000 weights={'C': 0.18539999425411224, 'AAPL': 0.08150000125169754, 'B': 0.19869999587535858, 'cash': 0.18209999799728394, 'MSFT': 0.15389999747276306, 'A': 0.19840000569820404}\n",
      "ep reward:  0.00001516 [-0.00036366,  0.00041657], portfolio_value:  1.0137 mdd=-2.12% sharpe=0.4415, expl= 0.00% eps=312000 weights={'C': 0.1543000042438507, 'AAPL': 0.16089999675750732, 'B': 0.15559999644756317, 'cash': 0.1559000015258789, 'MSFT': 0.21330000460147858, 'A': 0.1599999964237213}\n",
      "ep reward:  0.00000548 [-0.00050245,  0.00037318], portfolio_value:  1.0049 mdd=-1.87% sharpe=0.1825, expl= 0.00% eps=313000 weights={'C': 0.1535000056028366, 'AAPL': 0.12319999933242798, 'B': 0.22419999539852142, 'cash': 0.14730000495910645, 'MSFT': 0.2222999930381775, 'A': 0.12950000166893005}\n",
      "INFO:tensorflow:Saving checkpoints for 9100000 into ./outputs/tensorforce_PPO_crypto-20180208_17-41/model.ckpt.\n"
     ]
    },
    {
     "name": "stderr",
     "output_type": "stream",
     "text": [
      "INFO:tensorflow:Saving checkpoints for 9100000 into ./outputs/tensorforce_PPO_crypto-20180208_17-41/model.ckpt.\n"
     ]
    },
    {
     "name": "stdout",
     "output_type": "stream",
     "text": [
      "ep reward:  0.00003165 [-0.00025411,  0.00032164], portfolio_value:  1.0289 mdd=-1.74% sharpe=1.3886, expl= 0.00% eps=314000 weights={'C': 0.1517000049352646, 'AAPL': 0.1256999969482422, 'B': 0.2345999926328659, 'cash': 0.12189999967813492, 'MSFT': 0.23999999463558197, 'A': 0.12620000541210175}\n",
      "ep reward: -0.00000304 [-0.00075022,  0.00040537], portfolio_value:  0.9973 mdd=-2.10% sharpe=-0.0530, expl= 0.00% eps=315000 weights={'C': 0.1738000065088272, 'AAPL': 0.16599999368190765, 'B': 0.11180000007152557, 'cash': 0.20520000159740448, 'MSFT': 0.18359999358654022, 'A': 0.15960000455379486}\n",
      "ep reward: -0.00001406 [-0.00041328,  0.00041466], portfolio_value:  0.9874 mdd=-2.09% sharpe=-0.3869, expl= 0.00% eps=316000 weights={'C': 0.2037000060081482, 'AAPL': 0.16750000417232513, 'B': 0.17759999632835388, 'cash': 0.11559999734163284, 'MSFT': 0.23090000450611115, 'A': 0.1046999990940094}\n",
      "ep reward:  0.00007356 [-0.00077303,  0.00046913], portfolio_value:  1.0684 mdd=-3.80% sharpe=1.9632, expl= 0.00% eps=317000 weights={'C': 0.23770000040531158, 'AAPL': 0.15369999408721924, 'B': 0.22910000383853912, 'cash': 0.15680000185966492, 'MSFT': 0.12690000236034393, 'A': 0.0957999974489212}\n",
      "INFO:tensorflow:Saving checkpoints for 9200000 into ./outputs/tensorforce_PPO_crypto-20180208_17-41/model.ckpt.\n"
     ]
    },
    {
     "name": "stderr",
     "output_type": "stream",
     "text": [
      "INFO:tensorflow:Saving checkpoints for 9200000 into ./outputs/tensorforce_PPO_crypto-20180208_17-41/model.ckpt.\n"
     ]
    },
    {
     "name": "stdout",
     "output_type": "stream",
     "text": [
      "ep reward:  0.00000972 [-0.00028758,  0.00032598], portfolio_value:  1.0088 mdd=-1.86% sharpe=0.3949, expl= 0.00% eps=318000 weights={'C': 0.09690000116825104, 'AAPL': 0.23109999299049377, 'B': 0.16259999573230743, 'cash': 0.1145000010728836, 'MSFT': 0.15049999952316284, 'A': 0.2443999946117401}\n",
      "ep reward: -0.00002202 [-0.00031442,  0.00033506], portfolio_value:  0.9804 mdd=-1.97% sharpe=-0.7082, expl= 0.00% eps=319000 weights={'C': 0.1843000054359436, 'AAPL': 0.21809999644756317, 'B': 0.1437000036239624, 'cash': 0.16419999301433563, 'MSFT': 0.1589999943971634, 'A': 0.1306000053882599}\n",
      "ep reward:  0.00001585 [-0.00026498,  0.00039952], portfolio_value:  1.0144 mdd=-1.78% sharpe=0.6428, expl= 0.00% eps=320000 weights={'C': 0.15880000591278076, 'AAPL': 0.18719999492168427, 'B': 0.13339999318122864, 'cash': 0.21690000593662262, 'MSFT': 0.15369999408721924, 'A': 0.15000000596046448}\n",
      "INFO:tensorflow:Saving checkpoints for 9300000 into ./outputs/tensorforce_PPO_crypto-20180208_17-41/model.ckpt.\n"
     ]
    },
    {
     "name": "stderr",
     "output_type": "stream",
     "text": [
      "INFO:tensorflow:Saving checkpoints for 9300000 into ./outputs/tensorforce_PPO_crypto-20180208_17-41/model.ckpt.\n"
     ]
    },
    {
     "name": "stdout",
     "output_type": "stream",
     "text": [
      "ep reward:  0.00011768 [-0.00377620,  0.00690033], portfolio_value:  1.1117 mdd=-25.29% sharpe=0.5321, expl= 0.00% eps=321000 weights={'C': 0.15129999816417694, 'AAPL': 0.13289999961853027, 'B': 0.15889999270439148, 'cash': 0.2623000144958496, 'MSFT': 0.14180000126361847, 'A': 0.15279999375343323}\n",
      "ep reward:  0.00000813 [-0.00034406,  0.00043085], portfolio_value:  1.0073 mdd=-2.10% sharpe=0.2489, expl= 0.00% eps=322000 weights={'C': 0.1200999990105629, 'AAPL': 0.1145000010728836, 'B': 0.12939999997615814, 'cash': 0.18289999663829803, 'MSFT': 0.22609999775886536, 'A': 0.22699999809265137}\n",
      "ep reward: -0.00003757 [-0.00042438,  0.00027913], portfolio_value:  0.9668 mdd=-2.13% sharpe=-1.1907, expl= 0.00% eps=323000 weights={'C': 0.2517000138759613, 'AAPL': 0.17409999668598175, 'B': 0.10419999808073044, 'cash': 0.12030000239610672, 'MSFT': 0.1509000062942505, 'A': 0.1987999975681305}\n",
      "ep reward:  0.00003615 [-0.00031820,  0.00049499], portfolio_value:  1.0331 mdd=-1.74% sharpe=1.2522, expl= 0.00% eps=324000 weights={'C': 0.09870000183582306, 'AAPL': 0.22200000286102295, 'B': 0.15080000460147858, 'cash': 0.20890000462532043, 'MSFT': 0.17139999568462372, 'A': 0.14810000360012054}\n",
      "INFO:tensorflow:Saving checkpoints for 9400000 into ./outputs/tensorforce_PPO_crypto-20180208_17-41/model.ckpt.\n"
     ]
    },
    {
     "name": "stderr",
     "output_type": "stream",
     "text": [
      "INFO:tensorflow:Saving checkpoints for 9400000 into ./outputs/tensorforce_PPO_crypto-20180208_17-41/model.ckpt.\n"
     ]
    },
    {
     "name": "stdout",
     "output_type": "stream",
     "text": [
      "ep reward:  0.00000112 [-0.00031668,  0.00043048], portfolio_value:  1.0010 mdd=-2.21% sharpe=0.0470, expl= 0.00% eps=325000 weights={'C': 0.1451999992132187, 'AAPL': 0.2053000032901764, 'B': 0.1876000016927719, 'cash': 0.21709999442100525, 'MSFT': 0.10809999704360962, 'A': 0.13670000433921814}\n",
      "ep reward:  0.00020032 [-0.00389692,  0.00984061], portfolio_value:  1.1976 mdd=-36.53% sharpe=0.6552, expl= 0.00% eps=326000 weights={'C': 0.1598999947309494, 'AAPL': 0.10040000081062317, 'B': 0.22210000455379486, 'cash': 0.22210000455379486, 'MSFT': 0.20759999752044678, 'A': 0.08780000358819962}\n",
      "ep reward:  0.00002283 [-0.00024724,  0.00041233], portfolio_value:  1.0208 mdd=-1.76% sharpe=0.8303, expl= 0.00% eps=327000 weights={'C': 0.12210000306367874, 'AAPL': 0.2054000049829483, 'B': 0.21870000660419464, 'cash': 0.16590000689029694, 'MSFT': 0.10189999639987946, 'A': 0.18610000610351562}\n",
      "INFO:tensorflow:Saving checkpoints for 9500000 into ./outputs/tensorforce_PPO_crypto-20180208_17-41/model.ckpt.\n"
     ]
    },
    {
     "name": "stderr",
     "output_type": "stream",
     "text": [
      "INFO:tensorflow:Saving checkpoints for 9500000 into ./outputs/tensorforce_PPO_crypto-20180208_17-41/model.ckpt.\n"
     ]
    },
    {
     "name": "stdout",
     "output_type": "stream",
     "text": [
      "ep reward:  0.00003706 [-0.00027978,  0.00043055], portfolio_value:  1.0339 mdd=-1.52% sharpe=1.1713, expl= 0.00% eps=328000 weights={'C': 0.21879999339580536, 'AAPL': 0.1664000004529953, 'B': 0.12520000338554382, 'cash': 0.12290000170469284, 'MSFT': 0.1860000044107437, 'A': 0.18070000410079956}\n",
      "ep reward: -0.00003028 [-0.00041572,  0.00035588], portfolio_value:  0.9731 mdd=-2.34% sharpe=-0.9659, expl= 0.00% eps=329000 weights={'C': 0.14319999516010284, 'AAPL': 0.1720000058412552, 'B': 0.1387999951839447, 'cash': 0.19670000672340393, 'MSFT': 0.19040000438690186, 'A': 0.1589999943971634}\n",
      "ep reward:  0.00001659 [-0.00071225,  0.00048261], portfolio_value:  1.0150 mdd=-3.65% sharpe=0.4332, expl= 0.00% eps=330000 weights={'C': 0.13429999351501465, 'AAPL': 0.1881999969482422, 'B': 0.16619999706745148, 'cash': 0.1307000070810318, 'MSFT': 0.18610000610351562, 'A': 0.19449999928474426}\n",
      "ep reward:  0.00004529 [-0.00076143,  0.00033951], portfolio_value:  1.0416 mdd=-3.36% sharpe=1.3155, expl= 0.00% eps=331000 weights={'C': 0.1460999995470047, 'AAPL': 0.21070000529289246, 'B': 0.13459999859333038, 'cash': 0.2054000049829483, 'MSFT': 0.10890000313520432, 'A': 0.19439999759197235}\n",
      "INFO:tensorflow:Saving checkpoints for 9600000 into ./outputs/tensorforce_PPO_crypto-20180208_17-41/model.ckpt.\n"
     ]
    },
    {
     "name": "stderr",
     "output_type": "stream",
     "text": [
      "INFO:tensorflow:Saving checkpoints for 9600000 into ./outputs/tensorforce_PPO_crypto-20180208_17-41/model.ckpt.\n"
     ]
    },
    {
     "name": "stdout",
     "output_type": "stream",
     "text": [
      "ep reward:  0.00014605 [-0.00433919,  0.00882292], portfolio_value:  1.1405 mdd=-32.44% sharpe=0.5462, expl= 0.00% eps=332000 weights={'C': 0.2126999944448471, 'AAPL': 0.14399999380111694, 'B': 0.188400000333786, 'cash': 0.1315000057220459, 'MSFT': 0.19840000569820404, 'A': 0.1251000016927719}\n",
      "ep reward:  0.00002224 [-0.00063532,  0.00038783], portfolio_value:  1.0202 mdd=-1.79% sharpe=0.5693, expl= 0.00% eps=333000 weights={'C': 0.12559999525547028, 'AAPL': 0.19040000438690186, 'B': 0.11620000004768372, 'cash': 0.27489998936653137, 'MSFT': 0.12150000035762787, 'A': 0.17149999737739563}\n",
      "ep reward:  0.00001041 [-0.00026660,  0.00033527], portfolio_value:  1.0094 mdd=-1.79% sharpe=0.3930, expl= 0.00% eps=334000 weights={'C': 0.17949999868869781, 'AAPL': 0.12020000070333481, 'B': 0.1834000051021576, 'cash': 0.21719999611377716, 'MSFT': 0.10890000313520432, 'A': 0.1907999962568283}\n",
      "INFO:tensorflow:Saving checkpoints for 9700000 into ./outputs/tensorforce_PPO_crypto-20180208_17-41/model.ckpt.\n"
     ]
    },
    {
     "name": "stderr",
     "output_type": "stream",
     "text": [
      "INFO:tensorflow:Saving checkpoints for 9700000 into ./outputs/tensorforce_PPO_crypto-20180208_17-41/model.ckpt.\n"
     ]
    },
    {
     "name": "stdout",
     "output_type": "stream",
     "text": [
      "ep reward:  0.00003751 [-0.00019019,  0.00037077], portfolio_value:  1.0343 mdd=-1.70% sharpe=1.5580, expl= 0.00% eps=335000 weights={'C': 0.2053000032901764, 'AAPL': 0.1234000027179718, 'B': 0.12200000137090683, 'cash': 0.1753000020980835, 'MSFT': 0.12020000070333481, 'A': 0.25369998812675476}\n",
      "ep reward:  0.00004139 [-0.00080124,  0.00034306], portfolio_value:  1.0380 mdd=-1.32% sharpe=1.1868, expl= 0.00% eps=336000 weights={'C': 0.22830000519752502, 'AAPL': 0.11949999630451202, 'B': 0.16750000417232513, 'cash': 0.23680000007152557, 'MSFT': 0.11919999867677689, 'A': 0.12870000302791595}\n",
      "ep reward:  0.00009708 [-0.00270957,  0.00536964], portfolio_value:  1.0913 mdd=-19.44% sharpe=0.5417, expl= 0.00% eps=337000 weights={'C': 0.21629999577999115, 'AAPL': 0.22519999742507935, 'B': 0.10220000147819519, 'cash': 0.13429999351501465, 'MSFT': 0.10980000346899033, 'A': 0.21209999918937683}\n",
      "INFO:tensorflow:Saving checkpoints for 9800000 into ./outputs/tensorforce_PPO_crypto-20180208_17-41/model.ckpt.\n"
     ]
    },
    {
     "name": "stderr",
     "output_type": "stream",
     "text": [
      "INFO:tensorflow:Saving checkpoints for 9800000 into ./outputs/tensorforce_PPO_crypto-20180208_17-41/model.ckpt.\n"
     ]
    },
    {
     "name": "stdout",
     "output_type": "stream",
     "text": [
      "ep reward: -0.00000462 [-0.00036605,  0.00047246], portfolio_value:  0.9959 mdd=-2.24% sharpe=-0.1177, expl= 0.00% eps=338000 weights={'C': 0.164000004529953, 'AAPL': 0.14000000059604645, 'B': 0.1396999955177307, 'cash': 0.15209999680519104, 'MSFT': 0.1445000022649765, 'A': 0.2596000134944916}\n",
      "ep reward:  0.00018570 [-0.00439319,  0.00924894], portfolio_value:  1.1819 mdd=-34.29% sharpe=0.6380, expl= 0.00% eps=339000 weights={'C': 0.1534000039100647, 'AAPL': 0.2071000039577484, 'B': 0.1923999935388565, 'cash': 0.22360000014305115, 'MSFT': 0.11140000075101852, 'A': 0.1120000034570694}\n",
      "ep reward:  0.00000775 [-0.00086019,  0.00045687], portfolio_value:  1.0070 mdd=-2.30% sharpe=0.1996, expl= 0.00% eps=340000 weights={'C': 0.2093999981880188, 'AAPL': 0.11400000005960464, 'B': 0.2012999951839447, 'cash': 0.11659999936819077, 'MSFT': 0.21140000224113464, 'A': 0.14740000665187836}\n",
      "ep reward:  0.00000815 [-0.00082769,  0.00041399], portfolio_value:  1.0074 mdd=-2.29% sharpe=0.2235, expl= 0.00% eps=341000 weights={'C': 0.17110000550746918, 'AAPL': 0.15240000188350677, 'B': 0.12690000236034393, 'cash': 0.2167000025510788, 'MSFT': 0.21040000021457672, 'A': 0.12240000069141388}\n",
      "INFO:tensorflow:Saving checkpoints for 9900000 into ./outputs/tensorforce_PPO_crypto-20180208_17-41/model.ckpt.\n"
     ]
    },
    {
     "name": "stderr",
     "output_type": "stream",
     "text": [
      "INFO:tensorflow:Saving checkpoints for 9900000 into ./outputs/tensorforce_PPO_crypto-20180208_17-41/model.ckpt.\n"
     ]
    },
    {
     "name": "stdout",
     "output_type": "stream",
     "text": [
      "ep reward:  0.00003173 [-0.00025066,  0.00033862], portfolio_value:  1.0290 mdd=-1.14% sharpe=1.1403, expl= 0.00% eps=342000 weights={'C': 0.1451999992132187, 'AAPL': 0.10450000315904617, 'B': 0.1818999946117401, 'cash': 0.12150000035762787, 'MSFT': 0.19020000100135803, 'A': 0.2565999925136566}\n",
      "ep reward:  0.00002423 [-0.00026414,  0.00033767], portfolio_value:  1.0220 mdd=-1.58% sharpe=0.9706, expl= 0.00% eps=343000 weights={'C': 0.1843000054359436, 'AAPL': 0.18610000610351562, 'B': 0.1307000070810318, 'cash': 0.15080000460147858, 'MSFT': 0.16850000619888306, 'A': 0.17980000376701355}\n",
      "ep reward:  0.00001056 [-0.00033534,  0.00043461], portfolio_value:  1.0096 mdd=-2.34% sharpe=0.3178, expl= 0.00% eps=344000 weights={'C': 0.15710000693798065, 'AAPL': 0.19750000536441803, 'B': 0.1137000024318695, 'cash': 0.1370999962091446, 'MSFT': 0.2345000058412552, 'A': 0.16019999980926514}\n",
      "INFO:tensorflow:Saving checkpoints for 10000000 into ./outputs/tensorforce_PPO_crypto-20180208_17-41/model.ckpt.\n"
     ]
    },
    {
     "name": "stderr",
     "output_type": "stream",
     "text": [
      "INFO:tensorflow:Saving checkpoints for 10000000 into ./outputs/tensorforce_PPO_crypto-20180208_17-41/model.ckpt.\n"
     ]
    },
    {
     "name": "stdout",
     "output_type": "stream",
     "text": [
      "ep reward:  0.00003255 [-0.00025825,  0.00045618], portfolio_value:  1.0297 mdd=-1.56% sharpe=1.0270, expl= 0.00% eps=345000 weights={'C': 0.23010000586509705, 'AAPL': 0.15369999408721924, 'B': 0.10499999672174454, 'cash': 0.22429999709129333, 'MSFT': 0.1687999963760376, 'A': 0.11810000240802765}\n",
      "ep reward:  0.00001376 [-0.00026352,  0.00039119], portfolio_value:  1.0125 mdd=-1.98% sharpe=0.5176, expl= 0.00% eps=346000 weights={'C': 0.1518000066280365, 'AAPL': 0.19059999287128448, 'B': 0.10360000282526016, 'cash': 0.20229999721050262, 'MSFT': 0.2079000025987625, 'A': 0.14390000700950623}\n",
      "ep reward:  0.00005784 [-0.00078423,  0.00037030], portfolio_value:  1.0534 mdd=-3.52% sharpe=1.5849, expl= 0.00% eps=347000 weights={'C': 0.21040000021457672, 'AAPL': 0.1316000074148178, 'B': 0.17630000412464142, 'cash': 0.21610000729560852, 'MSFT': 0.17229999601840973, 'A': 0.09319999814033508}\n",
      "ep reward:  0.00003756 [-0.00026439,  0.00038072], portfolio_value:  1.0344 mdd=-1.35% sharpe=1.3822, expl= 0.00% eps=348000 weights={'C': 0.19130000472068787, 'AAPL': 0.17990000545978546, 'B': 0.12970000505447388, 'cash': 0.11990000307559967, 'MSFT': 0.20520000159740448, 'A': 0.17389999330043793}\n",
      "INFO:tensorflow:Saving checkpoints for 10100000 into ./outputs/tensorforce_PPO_crypto-20180208_17-41/model.ckpt.\n"
     ]
    },
    {
     "name": "stderr",
     "output_type": "stream",
     "text": [
      "INFO:tensorflow:Saving checkpoints for 10100000 into ./outputs/tensorforce_PPO_crypto-20180208_17-41/model.ckpt.\n"
     ]
    },
    {
     "name": "stdout",
     "output_type": "stream",
     "text": [
      "ep reward:  0.00003553 [-0.00027869,  0.00043410], portfolio_value:  1.0325 mdd=-1.65% sharpe=1.1280, expl= 0.00% eps=349000 weights={'C': 0.11959999799728394, 'AAPL': 0.20270000398159027, 'B': 0.11710000038146973, 'cash': 0.1298999935388565, 'MSFT': 0.1867000013589859, 'A': 0.24400000274181366}\n",
      "ep reward: -0.00001117 [-0.00028790,  0.00029762], portfolio_value:  0.9900 mdd=-1.56% sharpe=-0.3795, expl= 0.00% eps=350000 weights={'C': 0.1923999935388565, 'AAPL': 0.09989999979734421, 'B': 0.10159999877214432, 'cash': 0.24959999322891235, 'MSFT': 0.19460000097751617, 'A': 0.16189999878406525}\n",
      "ep reward:  0.00013425 [-0.00285514,  0.00649740], portfolio_value:  1.1284 mdd=-23.75% sharpe=0.6276, expl= 0.00% eps=351000 weights={'C': 0.1395999938249588, 'AAPL': 0.2395000010728836, 'B': 0.22130000591278076, 'cash': 0.12759999930858612, 'MSFT': 0.1315000057220459, 'A': 0.1404999941587448}\n",
      "INFO:tensorflow:Saving checkpoints for 10200000 into ./outputs/tensorforce_PPO_crypto-20180208_17-41/model.ckpt.\n"
     ]
    },
    {
     "name": "stderr",
     "output_type": "stream",
     "text": [
      "INFO:tensorflow:Saving checkpoints for 10200000 into ./outputs/tensorforce_PPO_crypto-20180208_17-41/model.ckpt.\n"
     ]
    },
    {
     "name": "stdout",
     "output_type": "stream",
     "text": [
      "ep reward:  0.00004557 [-0.00423230,  0.00529663], portfolio_value:  1.0419 mdd=-19.28% sharpe=0.2957, expl= 0.00% eps=352000 weights={'C': 0.1160999983549118, 'AAPL': 0.16009999811649323, 'B': 0.22759999334812164, 'cash': 0.2304999977350235, 'MSFT': 0.15049999952316284, 'A': 0.1152999997138977}\n",
      "ep reward:  0.00002775 [-0.00022930,  0.00036703], portfolio_value:  1.0253 mdd=-1.81% sharpe=1.1576, expl= 0.00% eps=353000 weights={'C': 0.2160000056028366, 'AAPL': 0.15389999747276306, 'B': 0.19900000095367432, 'cash': 0.1680999994277954, 'MSFT': 0.10660000145435333, 'A': 0.15639999508857727}\n",
      "ep reward:  0.00000541 [-0.00027259,  0.00032841], portfolio_value:  1.0049 mdd=-1.81% sharpe=0.2421, expl= 0.00% eps=354000 weights={'C': 0.20319999754428864, 'AAPL': 0.13989999890327454, 'B': 0.13449999690055847, 'cash': 0.19820000231266022, 'MSFT': 0.14409999549388885, 'A': 0.1800999939441681}\n",
      "ep reward:  0.00028181 [-0.00262285,  0.01059466], portfolio_value:  1.2887 mdd=-40.03% sharpe=0.8271, expl= 0.00% eps=355000 weights={'C': 0.16439999639987946, 'AAPL': 0.22259999811649323, 'B': 0.15449999272823334, 'cash': 0.16419999301433563, 'MSFT': 0.1850000023841858, 'A': 0.10930000245571136}\n",
      "INFO:tensorflow:Saving checkpoints for 10300000 into ./outputs/tensorforce_PPO_crypto-20180208_17-41/model.ckpt.\n"
     ]
    },
    {
     "name": "stderr",
     "output_type": "stream",
     "text": [
      "INFO:tensorflow:Saving checkpoints for 10300000 into ./outputs/tensorforce_PPO_crypto-20180208_17-41/model.ckpt.\n"
     ]
    },
    {
     "name": "stdout",
     "output_type": "stream",
     "text": [
      "ep reward:  0.00022144 [-0.00271282,  0.00883289], portfolio_value:  1.2205 mdd=-32.84% sharpe=0.7746, expl= 0.00% eps=356000 weights={'C': 0.15929999947547913, 'AAPL': 0.1906999945640564, 'B': 0.18880000710487366, 'cash': 0.1671999990940094, 'MSFT': 0.16429999470710754, 'A': 0.1298000067472458}\n",
      "ep reward:  0.00002387 [-0.00030834,  0.00042935], portfolio_value:  1.0217 mdd=-1.50% sharpe=0.7469, expl= 0.00% eps=357000 weights={'C': 0.15600000321865082, 'AAPL': 0.17800000309944153, 'B': 0.1858000010251999, 'cash': 0.2371000051498413, 'MSFT': 0.11550000309944153, 'A': 0.1274999976158142}\n",
      "ep reward:  0.00021551 [-0.00317327,  0.00901186], portfolio_value:  1.2140 mdd=-33.35% sharpe=0.7411, expl= 0.00% eps=358000 weights={'C': 0.18410000205039978, 'AAPL': 0.10760000348091125, 'B': 0.14229999482631683, 'cash': 0.11249999701976776, 'MSFT': 0.23479999601840973, 'A': 0.21889999508857727}\n",
      "INFO:tensorflow:Saving checkpoints for 10400000 into ./outputs/tensorforce_PPO_crypto-20180208_17-41/model.ckpt.\n"
     ]
    },
    {
     "name": "stderr",
     "output_type": "stream",
     "text": [
      "INFO:tensorflow:Saving checkpoints for 10400000 into ./outputs/tensorforce_PPO_crypto-20180208_17-41/model.ckpt.\n"
     ]
    },
    {
     "name": "stdout",
     "output_type": "stream",
     "text": [
      "ep reward:  0.00001931 [-0.00030602,  0.00039489], portfolio_value:  1.0175 mdd=-2.04% sharpe=0.5844, expl= 0.00% eps=359000 weights={'C': 0.1080000028014183, 'AAPL': 0.13510000705718994, 'B': 0.11640000343322754, 'cash': 0.16680000722408295, 'MSFT': 0.22190000116825104, 'A': 0.251800000667572}\n",
      "ep reward:  0.00002243 [-0.00076266,  0.00039352], portfolio_value:  1.0204 mdd=-3.53% sharpe=0.5823, expl= 0.00% eps=360000 weights={'C': 0.13439999520778656, 'AAPL': 0.1678999960422516, 'B': 0.15360000729560852, 'cash': 0.1785999983549118, 'MSFT': 0.21480000019073486, 'A': 0.15070000290870667}\n",
      "ep reward:  0.00002051 [-0.00027704,  0.00033695], portfolio_value:  1.0186 mdd=-1.86% sharpe=0.7681, expl= 0.00% eps=361000 weights={'C': 0.2150000035762787, 'AAPL': 0.15569999814033508, 'B': 0.1906999945640564, 'cash': 0.12309999763965607, 'MSFT': 0.1808999925851822, 'A': 0.13459999859333038}\n",
      "ep reward:  0.00004456 [-0.00466400,  0.00536722], portfolio_value:  1.0409 mdd=-19.47% sharpe=0.2890, expl= 0.00% eps=362000 weights={'C': 0.16609999537467957, 'AAPL': 0.1607999950647354, 'B': 0.18219999969005585, 'cash': 0.15369999408721924, 'MSFT': 0.19359999895095825, 'A': 0.1437000036239624}\n",
      "INFO:tensorflow:Saving checkpoints for 10500000 into ./outputs/tensorforce_PPO_crypto-20180208_17-41/model.ckpt.\n"
     ]
    },
    {
     "name": "stderr",
     "output_type": "stream",
     "text": [
      "INFO:tensorflow:Saving checkpoints for 10500000 into ./outputs/tensorforce_PPO_crypto-20180208_17-41/model.ckpt.\n"
     ]
    },
    {
     "name": "stdout",
     "output_type": "stream",
     "text": [
      "ep reward:  0.00005867 [-0.00076642,  0.00038944], portfolio_value:  1.0542 mdd=-3.53% sharpe=1.4870, expl= 0.00% eps=363000 weights={'C': 0.16300000250339508, 'AAPL': 0.164900004863739, 'B': 0.1712000072002411, 'cash': 0.1923000067472458, 'MSFT': 0.12210000306367874, 'A': 0.18639999628067017}\n",
      "ep reward:  0.00005792 [-0.00076494,  0.00044373], portfolio_value:  1.0535 mdd=-3.69% sharpe=1.4827, expl= 0.00% eps=364000 weights={'C': 0.14800000190734863, 'AAPL': 0.20270000398159027, 'B': 0.18080000579357147, 'cash': 0.09279999881982803, 'MSFT': 0.22280000150203705, 'A': 0.15299999713897705}\n",
      "ep reward: -0.00000766 [-0.00040914,  0.00046325], portfolio_value:  0.9931 mdd=-2.21% sharpe=-0.1843, expl= 0.00% eps=365000 weights={'C': 0.20200000703334808, 'AAPL': 0.15559999644756317, 'B': 0.12460000067949295, 'cash': 0.1770000010728836, 'MSFT': 0.12049999833106995, 'A': 0.22030000388622284}\n",
      "INFO:tensorflow:Saving checkpoints for 10600000 into ./outputs/tensorforce_PPO_crypto-20180208_17-41/model.ckpt.\n"
     ]
    },
    {
     "name": "stderr",
     "output_type": "stream",
     "text": [
      "INFO:tensorflow:Saving checkpoints for 10600000 into ./outputs/tensorforce_PPO_crypto-20180208_17-41/model.ckpt.\n"
     ]
    },
    {
     "name": "stdout",
     "output_type": "stream",
     "text": [
      "ep reward:  0.00002342 [-0.00029189,  0.00040217], portfolio_value:  1.0213 mdd=-2.10% sharpe=0.7783, expl= 0.00% eps=366000 weights={'C': 0.1607999950647354, 'AAPL': 0.181099995970726, 'B': 0.22059999406337738, 'cash': 0.13670000433921814, 'MSFT': 0.1632000058889389, 'A': 0.13760000467300415}\n",
      "ep reward:  0.00004184 [-0.00053413,  0.00043668], portfolio_value:  1.0384 mdd=-2.96% sharpe=1.1938, expl= 0.00% eps=367000 weights={'C': 0.2847999930381775, 'AAPL': 0.1363999992609024, 'B': 0.120899997651577, 'cash': 0.21389999985694885, 'MSFT': 0.12399999797344208, 'A': 0.1200999990105629}\n",
      "ep reward: -0.00001159 [-0.00054951,  0.00050108], portfolio_value:  0.9896 mdd=-2.22% sharpe=-0.2825, expl= 0.00% eps=368000 weights={'C': 0.11590000241994858, 'AAPL': 0.15109999477863312, 'B': 0.2214999943971634, 'cash': 0.1995999962091446, 'MSFT': 0.09210000187158585, 'A': 0.21969999372959137}\n",
      "INFO:tensorflow:Saving checkpoints for 10700000 into ./outputs/tensorforce_PPO_crypto-20180208_17-41/model.ckpt.\n"
     ]
    },
    {
     "name": "stderr",
     "output_type": "stream",
     "text": [
      "INFO:tensorflow:Saving checkpoints for 10700000 into ./outputs/tensorforce_PPO_crypto-20180208_17-41/model.ckpt.\n"
     ]
    },
    {
     "name": "stdout",
     "output_type": "stream",
     "text": [
      "ep reward:  0.00000809 [-0.00021341,  0.00038250], portfolio_value:  1.0073 mdd=-1.80% sharpe=0.3202, expl= 0.00% eps=369000 weights={'C': 0.15919999778270721, 'AAPL': 0.2264000028371811, 'B': 0.10459999740123749, 'cash': 0.13840000331401825, 'MSFT': 0.15189999341964722, 'A': 0.21950000524520874}\n",
      "ep reward:  0.00006181 [-0.00081276,  0.00045578], portfolio_value:  1.0572 mdd=-3.88% sharpe=1.6334, expl= 0.00% eps=370000 weights={'C': 0.1111999973654747, 'AAPL': 0.15790000557899475, 'B': 0.16439999639987946, 'cash': 0.22699999809265137, 'MSFT': 0.219200000166893, 'A': 0.12030000239610672}\n",
      "ep reward:  0.00017795 [-0.00301001,  0.00793728], portfolio_value:  1.1737 mdd=-29.62% sharpe=0.6930, expl= 0.00% eps=371000 weights={'C': 0.15060000121593475, 'AAPL': 0.14419999718666077, 'B': 0.20839999616146088, 'cash': 0.18039999902248383, 'MSFT': 0.17489999532699585, 'A': 0.14139999449253082}\n",
      "ep reward:  0.00010806 [-0.00346452,  0.00642183], portfolio_value:  1.1021 mdd=-23.81% sharpe=0.5212, expl= 0.00% eps=372000 weights={'C': 0.17669999599456787, 'AAPL': 0.22920000553131104, 'B': 0.15559999644756317, 'cash': 0.11819999665021896, 'MSFT': 0.1168999969959259, 'A': 0.20329999923706055}\n",
      "INFO:tensorflow:Saving checkpoints for 10800000 into ./outputs/tensorforce_PPO_crypto-20180208_17-41/model.ckpt.\n"
     ]
    },
    {
     "name": "stderr",
     "output_type": "stream",
     "text": [
      "INFO:tensorflow:Saving checkpoints for 10800000 into ./outputs/tensorforce_PPO_crypto-20180208_17-41/model.ckpt.\n"
     ]
    },
    {
     "name": "stdout",
     "output_type": "stream",
     "text": [
      "ep reward:  0.00012648 [-0.00277189,  0.00669465], portfolio_value:  1.1206 mdd=-24.68% sharpe=0.5868, expl= 0.00% eps=373000 weights={'C': 0.19629999995231628, 'AAPL': 0.1429000049829483, 'B': 0.19439999759197235, 'cash': 0.13760000467300415, 'MSFT': 0.17960000038146973, 'A': 0.14920000731945038}\n",
      "ep reward:  0.00020867 [-0.00338767,  0.00978295], portfolio_value:  1.2066 mdd=-36.72% sharpe=0.6818, expl= 0.00% eps=374000 weights={'C': 0.16380000114440918, 'AAPL': 0.1607999950647354, 'B': 0.23330000042915344, 'cash': 0.1348000019788742, 'MSFT': 0.1151999980211258, 'A': 0.19210000336170197}\n",
      "ep reward: -0.00000889 [-0.00030630,  0.00032714], portfolio_value:  0.9920 mdd=-1.92% sharpe=-0.3075, expl= 0.00% eps=375000 weights={'C': 0.15760000050067902, 'AAPL': 0.12790000438690186, 'B': 0.24629999697208405, 'cash': 0.13079999387264252, 'MSFT': 0.09749999642372131, 'A': 0.23980000615119934}\n",
      "INFO:tensorflow:Saving checkpoints for 10900000 into ./outputs/tensorforce_PPO_crypto-20180208_17-41/model.ckpt.\n"
     ]
    },
    {
     "name": "stderr",
     "output_type": "stream",
     "text": [
      "INFO:tensorflow:Saving checkpoints for 10900000 into ./outputs/tensorforce_PPO_crypto-20180208_17-41/model.ckpt.\n"
     ]
    },
    {
     "name": "stdout",
     "output_type": "stream",
     "text": [
      "ep reward:  0.00004753 [-0.00079230,  0.00047163], portfolio_value:  1.0437 mdd=-1.91% sharpe=1.2388, expl= 0.00% eps=376000 weights={'C': 0.2085999995470047, 'AAPL': 0.211899995803833, 'B': 0.13279999792575836, 'cash': 0.12929999828338623, 'MSFT': 0.20080000162124634, 'A': 0.11649999767541885}\n",
      "ep reward:  0.00004411 [-0.00020780,  0.00038134], portfolio_value:  1.0405 mdd=-1.78% sharpe=1.7012, expl= 0.00% eps=377000 weights={'C': 0.14409999549388885, 'AAPL': 0.23160000145435333, 'B': 0.19249999523162842, 'cash': 0.15049999952316284, 'MSFT': 0.18490000069141388, 'A': 0.09650000184774399}\n",
      "ep reward:  0.00001792 [-0.00020796,  0.00032831], portfolio_value:  1.0163 mdd=-1.51% sharpe=0.7423, expl= 0.00% eps=378000 weights={'C': 0.1738000065088272, 'AAPL': 0.148499995470047, 'B': 0.19939999282360077, 'cash': 0.17299999296665192, 'MSFT': 0.19580000638961792, 'A': 0.10949999839067459}\n",
      "ep reward:  0.00004040 [-0.00021390,  0.00040556], portfolio_value:  1.0370 mdd=-1.41% sharpe=1.2793, expl= 0.00% eps=379000 weights={'C': 0.1979999989271164, 'AAPL': 0.12849999964237213, 'B': 0.13570000231266022, 'cash': 0.11959999799728394, 'MSFT': 0.2912999987602234, 'A': 0.12680000066757202}\n",
      "INFO:tensorflow:Saving checkpoints for 11000000 into ./outputs/tensorforce_PPO_crypto-20180208_17-41/model.ckpt.\n"
     ]
    },
    {
     "name": "stderr",
     "output_type": "stream",
     "text": [
      "INFO:tensorflow:Saving checkpoints for 11000000 into ./outputs/tensorforce_PPO_crypto-20180208_17-41/model.ckpt.\n"
     ]
    },
    {
     "name": "stdout",
     "output_type": "stream",
     "text": [
      "ep reward:  0.00006684 [-0.00448485,  0.00584472], portfolio_value:  1.0620 mdd=-21.28% sharpe=0.3710, expl= 0.00% eps=380000 weights={'C': 0.12559999525547028, 'AAPL': 0.18889999389648438, 'B': 0.20489999651908875, 'cash': 0.18539999425411224, 'MSFT': 0.19709999859333038, 'A': 0.0982000008225441}\n",
      "ep reward:  0.00000634 [-0.00080358,  0.00045639], portfolio_value:  1.0057 mdd=-2.24% sharpe=0.1719, expl= 0.00% eps=381000 weights={'C': 0.13130000233650208, 'AAPL': 0.13379999995231628, 'B': 0.2540000081062317, 'cash': 0.1746000051498413, 'MSFT': 0.13750000298023224, 'A': 0.1687999963760376}\n",
      "ep reward: -0.00001651 [-0.00034819,  0.00040994], portfolio_value:  0.9852 mdd=-2.21% sharpe=-0.4309, expl= 0.00% eps=382000 weights={'C': 0.16449999809265137, 'AAPL': 0.14499999582767487, 'B': 0.12409999966621399, 'cash': 0.1459999978542328, 'MSFT': 0.24940000474452972, 'A': 0.17100000381469727}\n",
      "INFO:tensorflow:Saving checkpoints for 11100000 into ./outputs/tensorforce_PPO_crypto-20180208_17-41/model.ckpt.\n"
     ]
    },
    {
     "name": "stderr",
     "output_type": "stream",
     "text": [
      "INFO:tensorflow:Saving checkpoints for 11100000 into ./outputs/tensorforce_PPO_crypto-20180208_17-41/model.ckpt.\n"
     ]
    },
    {
     "name": "stdout",
     "output_type": "stream",
     "text": [
      "ep reward: -0.00000694 [-0.00034575,  0.00051720], portfolio_value:  0.9938 mdd=-2.36% sharpe=-0.1794, expl= 0.00% eps=383000 weights={'C': 0.22589999437332153, 'AAPL': 0.15559999644756317, 'B': 0.12269999831914902, 'cash': 0.12430000305175781, 'MSFT': 0.16519999504089355, 'A': 0.20630000531673431}\n",
      "ep reward:  0.00001807 [-0.00026766,  0.00039503], portfolio_value:  1.0164 mdd=-2.01% sharpe=0.6796, expl= 0.00% eps=384000 weights={'C': 0.11509999632835388, 'AAPL': 0.10859999805688858, 'B': 0.2094999998807907, 'cash': 0.2386000007390976, 'MSFT': 0.12219999730587006, 'A': 0.20589999854564667}\n",
      "ep reward:  0.00002099 [-0.00025954,  0.00034941], portfolio_value:  1.0191 mdd=-1.23% sharpe=0.7732, expl= 0.00% eps=385000 weights={'C': 0.18709999322891235, 'AAPL': 0.20069999992847443, 'B': 0.21330000460147858, 'cash': 0.1136000007390976, 'MSFT': 0.1340000033378601, 'A': 0.15129999816417694}\n",
      "ep reward:  0.00002490 [-0.00029607,  0.00035014], portfolio_value:  1.0227 mdd=-1.64% sharpe=0.8666, expl= 0.00% eps=386000 weights={'C': 0.17329999804496765, 'AAPL': 0.179299995303154, 'B': 0.20360000431537628, 'cash': 0.09520000219345093, 'MSFT': 0.1881999969482422, 'A': 0.16040000319480896}\n",
      "INFO:tensorflow:Saving checkpoints for 11200000 into ./outputs/tensorforce_PPO_crypto-20180208_17-41/model.ckpt.\n"
     ]
    },
    {
     "name": "stderr",
     "output_type": "stream",
     "text": [
      "INFO:tensorflow:Saving checkpoints for 11200000 into ./outputs/tensorforce_PPO_crypto-20180208_17-41/model.ckpt.\n"
     ]
    },
    {
     "name": "stdout",
     "output_type": "stream",
     "text": [
      "ep reward:  0.00001122 [-0.00073152,  0.00043287], portfolio_value:  1.0101 mdd=-2.54% sharpe=0.3038, expl= 0.00% eps=387000 weights={'C': 0.1242000013589859, 'AAPL': 0.1987999975681305, 'B': 0.11879999935626984, 'cash': 0.20479999482631683, 'MSFT': 0.16979999840259552, 'A': 0.18359999358654022}\n",
      "ep reward:  0.00001259 [-0.00028172,  0.00043893], portfolio_value:  1.0114 mdd=-2.14% sharpe=0.3783, expl= 0.00% eps=388000 weights={'C': 0.17059999704360962, 'AAPL': 0.219200000166893, 'B': 0.09650000184774399, 'cash': 0.15129999816417694, 'MSFT': 0.2054000049829483, 'A': 0.15690000355243683}\n",
      "ep reward:  0.00005099 [-0.00080053,  0.00048420], portfolio_value:  1.0470 mdd=-2.00% sharpe=1.3646, expl= 0.00% eps=389000 weights={'C': 0.14169999957084656, 'AAPL': 0.16509999334812164, 'B': 0.12919999659061432, 'cash': 0.1818999946117401, 'MSFT': 0.19259999692440033, 'A': 0.18950000405311584}\n",
      "INFO:tensorflow:Saving checkpoints for 11300000 into ./outputs/tensorforce_PPO_crypto-20180208_17-41/model.ckpt.\n"
     ]
    },
    {
     "name": "stderr",
     "output_type": "stream",
     "text": [
      "INFO:tensorflow:Saving checkpoints for 11300000 into ./outputs/tensorforce_PPO_crypto-20180208_17-41/model.ckpt.\n"
     ]
    },
    {
     "name": "stdout",
     "output_type": "stream",
     "text": [
      "ep reward: -0.00000559 [-0.00036441,  0.00042369], portfolio_value:  0.9950 mdd=-2.16% sharpe=-0.1360, expl= 0.00% eps=390000 weights={'C': 0.17260000109672546, 'AAPL': 0.12439999729394913, 'B': 0.14139999449253082, 'cash': 0.11879999935626984, 'MSFT': 0.23770000040531158, 'A': 0.20499999821186066}\n",
      "ep reward:  0.00005220 [-0.00022983,  0.00037486], portfolio_value:  1.0481 mdd=-1.83% sharpe=2.0320, expl= 0.00% eps=391000 weights={'C': 0.18150000274181366, 'AAPL': 0.12710000574588776, 'B': 0.17329999804496765, 'cash': 0.20260000228881836, 'MSFT': 0.1354999989271164, 'A': 0.18000000715255737}\n",
      "ep reward: -0.00000737 [-0.00079179,  0.00041269], portfolio_value:  0.9934 mdd=-2.16% sharpe=-0.1577, expl= 0.00% eps=392000 weights={'C': 0.23350000381469727, 'AAPL': 0.14650000631809235, 'B': 0.19679999351501465, 'cash': 0.14259999990463257, 'MSFT': 0.15449999272823334, 'A': 0.12610000371932983}\n",
      "ep reward:  0.00003267 [-0.00023311,  0.00040384], portfolio_value:  1.0298 mdd=-1.93% sharpe=1.2131, expl= 0.00% eps=393000 weights={'C': 0.17329999804496765, 'AAPL': 0.2151000052690506, 'B': 0.11379999667406082, 'cash': 0.19820000231266022, 'MSFT': 0.1956000030040741, 'A': 0.10400000214576721}\n",
      "INFO:tensorflow:Saving checkpoints for 11400000 into ./outputs/tensorforce_PPO_crypto-20180208_17-41/model.ckpt.\n"
     ]
    },
    {
     "name": "stderr",
     "output_type": "stream",
     "text": [
      "INFO:tensorflow:Saving checkpoints for 11400000 into ./outputs/tensorforce_PPO_crypto-20180208_17-41/model.ckpt.\n"
     ]
    },
    {
     "name": "stdout",
     "output_type": "stream",
     "text": [
      "ep reward: -0.00012759 [-0.00476822,  0.00035678], portfolio_value:  0.8915 mdd=-16.62% sharpe=-0.7794, expl= 0.00% eps=394000 weights={'C': 0.15530000627040863, 'AAPL': 0.13120000064373016, 'B': 0.19460000097751617, 'cash': 0.14149999618530273, 'MSFT': 0.24879999458789825, 'A': 0.12860000133514404}\n",
      "ep reward:  0.00000452 [-0.00047150,  0.00042757], portfolio_value:  1.0041 mdd=-1.43% sharpe=0.1473, expl= 0.00% eps=395000 weights={'C': 0.17890000343322754, 'AAPL': 0.17339999973773956, 'B': 0.2078000009059906, 'cash': 0.2094999998807907, 'MSFT': 0.09969999641180038, 'A': 0.1307000070810318}\n",
      "ep reward:  0.00002692 [-0.00032579,  0.00028419], portfolio_value:  1.0245 mdd=-0.94% sharpe=1.1510, expl= 0.00% eps=396000 weights={'C': 0.1151999980211258, 'AAPL': 0.1881999969482422, 'B': 0.2176000028848648, 'cash': 0.12790000438690186, 'MSFT': 0.1598999947309494, 'A': 0.19120000302791595}\n",
      "INFO:tensorflow:Saving checkpoints for 11500000 into ./outputs/tensorforce_PPO_crypto-20180208_17-41/model.ckpt.\n"
     ]
    },
    {
     "name": "stderr",
     "output_type": "stream",
     "text": [
      "INFO:tensorflow:Saving checkpoints for 11500000 into ./outputs/tensorforce_PPO_crypto-20180208_17-41/model.ckpt.\n"
     ]
    },
    {
     "name": "stdout",
     "output_type": "stream",
     "text": [
      "ep reward:  0.00003884 [-0.00022973,  0.00030329], portfolio_value:  1.0356 mdd=-1.61% sharpe=1.6027, expl= 0.00% eps=397000 weights={'C': 0.13079999387264252, 'AAPL': 0.225600004196167, 'B': 0.15459999442100525, 'cash': 0.14339999854564667, 'MSFT': 0.1388999968767166, 'A': 0.20659999549388885}\n",
      "ep reward:  0.00003612 [-0.00027144,  0.00041606], portfolio_value:  1.0330 mdd=-1.39% sharpe=1.0921, expl= 0.00% eps=398000 weights={'C': 0.16030000150203705, 'AAPL': 0.10019999742507935, 'B': 0.25609999895095825, 'cash': 0.22619999945163727, 'MSFT': 0.09749999642372131, 'A': 0.15970000624656677}\n",
      "ep reward:  0.00000372 [-0.00079609,  0.00033640], portfolio_value:  1.0034 mdd=-2.05% sharpe=0.1122, expl= 0.00% eps=399000 weights={'C': 0.1151999980211258, 'AAPL': 0.18150000274181366, 'B': 0.10019999742507935, 'cash': 0.2013999968767166, 'MSFT': 0.2143000066280365, 'A': 0.1873999983072281}\n",
      "INFO:tensorflow:Saving checkpoints for 11600000 into ./outputs/tensorforce_PPO_crypto-20180208_17-41/model.ckpt.\n"
     ]
    },
    {
     "name": "stderr",
     "output_type": "stream",
     "text": [
      "INFO:tensorflow:Saving checkpoints for 11600000 into ./outputs/tensorforce_PPO_crypto-20180208_17-41/model.ckpt.\n"
     ]
    },
    {
     "name": "stdout",
     "output_type": "stream",
     "text": [
      "ep reward:  0.00000887 [-0.00023161,  0.00024068], portfolio_value:  1.0080 mdd=-1.43% sharpe=0.3753, expl= 0.00% eps=400000 weights={'C': 0.18379999697208405, 'AAPL': 0.17679999768733978, 'B': 0.10620000213384628, 'cash': 0.23989999294281006, 'MSFT': 0.1412999927997589, 'A': 0.15199999511241913}\n",
      "ep reward:  0.00003422 [-0.00013373,  0.00027953], portfolio_value:  1.0313 mdd=-1.25% sharpe=1.6125, expl= 0.00% eps=401000 weights={'C': 0.1876000016927719, 'AAPL': 0.1371999979019165, 'B': 0.23420000076293945, 'cash': 0.1656000018119812, 'MSFT': 0.1454000025987625, 'A': 0.12999999523162842}\n",
      "ep reward:  0.00003491 [-0.00026205,  0.00043491], portfolio_value:  1.0319 mdd=-2.11% sharpe=1.1402, expl= 0.00% eps=402000 weights={'C': 0.1282999962568283, 'AAPL': 0.12690000236034393, 'B': 0.15539999306201935, 'cash': 0.2915000021457672, 'MSFT': 0.11559999734163284, 'A': 0.18240000307559967}\n",
      "ep reward: -0.00001210 [-0.00031459,  0.00039815], portfolio_value:  0.9892 mdd=-2.16% sharpe=-0.3551, expl= 0.00% eps=403000 weights={'C': 0.10520000010728836, 'AAPL': 0.1736000031232834, 'B': 0.1647000014781952, 'cash': 0.23469999432563782, 'MSFT': 0.195700004696846, 'A': 0.12600000202655792}\n",
      "INFO:tensorflow:Saving checkpoints for 11700000 into ./outputs/tensorforce_PPO_crypto-20180208_17-41/model.ckpt.\n"
     ]
    },
    {
     "name": "stderr",
     "output_type": "stream",
     "text": [
      "INFO:tensorflow:Saving checkpoints for 11700000 into ./outputs/tensorforce_PPO_crypto-20180208_17-41/model.ckpt.\n"
     ]
    },
    {
     "name": "stdout",
     "output_type": "stream",
     "text": [
      "ep reward:  0.00004709 [-0.00084445,  0.00044815], portfolio_value:  1.0433 mdd=-1.93% sharpe=1.2067, expl= 0.00% eps=404000 weights={'C': 0.21629999577999115, 'AAPL': 0.164000004529953, 'B': 0.12399999797344208, 'cash': 0.186599999666214, 'MSFT': 0.0989999994635582, 'A': 0.210099995136261}\n",
      "ep reward:  0.00008145 [-0.00446238,  0.00662403], portfolio_value:  1.0761 mdd=-24.45% sharpe=0.4065, expl= 0.00% eps=405000 weights={'C': 0.11649999767541885, 'AAPL': 0.2337000072002411, 'B': 0.11209999769926071, 'cash': 0.1898999959230423, 'MSFT': 0.2264000028371811, 'A': 0.12150000035762787}\n",
      "ep reward: -0.00001311 [-0.00049081,  0.00051514], portfolio_value:  0.9883 mdd=-1.10% sharpe=-0.3237, expl= 0.00% eps=406000 weights={'C': 0.14110000431537628, 'AAPL': 0.22169999778270721, 'B': 0.14470000565052032, 'cash': 0.12139999866485596, 'MSFT': 0.11659999936819077, 'A': 0.25459998846054077}\n",
      "INFO:tensorflow:Saving checkpoints for 11800000 into ./outputs/tensorforce_PPO_crypto-20180208_17-41/model.ckpt.\n"
     ]
    },
    {
     "name": "stderr",
     "output_type": "stream",
     "text": [
      "INFO:tensorflow:Saving checkpoints for 11800000 into ./outputs/tensorforce_PPO_crypto-20180208_17-41/model.ckpt.\n"
     ]
    },
    {
     "name": "stdout",
     "output_type": "stream",
     "text": [
      "ep reward:  0.00001601 [-0.00025813,  0.00038032], portfolio_value:  1.0145 mdd=-1.93% sharpe=0.5695, expl= 0.00% eps=407000 weights={'C': 0.09830000251531601, 'AAPL': 0.21469999849796295, 'B': 0.22840000689029694, 'cash': 0.11400000005960464, 'MSFT': 0.22509999573230743, 'A': 0.11949999630451202}\n",
      "ep reward: -0.00000886 [-0.00034481,  0.00030746], portfolio_value:  0.9921 mdd=-1.15% sharpe=-0.2948, expl= 0.00% eps=408000 weights={'C': 0.09759999811649323, 'AAPL': 0.16740000247955322, 'B': 0.17170000076293945, 'cash': 0.17149999737739563, 'MSFT': 0.2167000025510788, 'A': 0.17509999871253967}\n",
      "ep reward:  0.00001777 [-0.00021991,  0.00027072], portfolio_value:  1.0161 mdd=-1.30% sharpe=0.8210, expl= 0.00% eps=409000 weights={'C': 0.11879999935626984, 'AAPL': 0.1518000066280365, 'B': 0.14270000159740448, 'cash': 0.17239999771118164, 'MSFT': 0.1728000044822693, 'A': 0.24150000512599945}\n",
      "ep reward:  0.00019666 [-0.00296256,  0.00845761], portfolio_value:  1.1936 mdd=-31.33% sharpe=0.7205, expl= 0.00% eps=410000 weights={'C': 0.20200000703334808, 'AAPL': 0.12449999898672104, 'B': 0.23409999907016754, 'cash': 0.10490000247955322, 'MSFT': 0.10719999670982361, 'A': 0.2273000031709671}\n",
      "INFO:tensorflow:Saving checkpoints for 11900000 into ./outputs/tensorforce_PPO_crypto-20180208_17-41/model.ckpt.\n"
     ]
    },
    {
     "name": "stderr",
     "output_type": "stream",
     "text": [
      "INFO:tensorflow:Saving checkpoints for 11900000 into ./outputs/tensorforce_PPO_crypto-20180208_17-41/model.ckpt.\n"
     ]
    },
    {
     "name": "stdout",
     "output_type": "stream",
     "text": [
      "ep reward:  0.00000361 [-0.00030630,  0.00036372], portfolio_value:  1.0033 mdd=-2.03% sharpe=0.1202, expl= 0.00% eps=411000 weights={'C': 0.16539999842643738, 'AAPL': 0.16769999265670776, 'B': 0.2563999891281128, 'cash': 0.1039000004529953, 'MSFT': 0.10459999740123749, 'A': 0.20200000703334808}\n",
      "ep reward:  0.00018276 [-0.00490440,  0.01043226], portfolio_value:  1.1788 mdd=-39.44% sharpe=0.5873, expl= 0.00% eps=412000 weights={'C': 0.193900004029274, 'AAPL': 0.24250000715255737, 'B': 0.1468999981880188, 'cash': 0.12790000438690186, 'MSFT': 0.16979999840259552, 'A': 0.11890000104904175}\n",
      "ep reward:  0.00003106 [-0.00059366,  0.00045512], portfolio_value:  1.0283 mdd=-2.87% sharpe=0.7943, expl= 0.00% eps=413000 weights={'C': 0.16500000655651093, 'AAPL': 0.2563999891281128, 'B': 0.11969999969005585, 'cash': 0.1492999941110611, 'MSFT': 0.1273999959230423, 'A': 0.18219999969005585}\n",
      "INFO:tensorflow:Saving checkpoints for 12000000 into ./outputs/tensorforce_PPO_crypto-20180208_17-41/model.ckpt.\n"
     ]
    },
    {
     "name": "stderr",
     "output_type": "stream",
     "text": [
      "INFO:tensorflow:Saving checkpoints for 12000000 into ./outputs/tensorforce_PPO_crypto-20180208_17-41/model.ckpt.\n"
     ]
    },
    {
     "name": "stdout",
     "output_type": "stream",
     "text": [
      "INFO:tensorflow:Saving checkpoints for 12000026 into ./outputs/tensorforce_PPO_crypto-20180208_17-41/model.ckpt.\n"
     ]
    },
    {
     "name": "stderr",
     "output_type": "stream",
     "text": [
      "INFO:tensorflow:Saving checkpoints for 12000026 into ./outputs/tensorforce_PPO_crypto-20180208_17-41/model.ckpt.\n"
     ]
    }
   ],
   "source": [
    "%matplotlib notebook\n",
    "steps=12e6\n",
    "env._plot = env._plot2 = env._plot3 = None\n",
    "episodes = int(steps / 30)\n",
    "runner.run(\n",
    "    timesteps=steps,\n",
    "    episode_finished=EpisodeFinishedTQDM(\n",
    "        log_intv=1000,\n",
    "        steps=steps,\n",
    "        mean_of=1000,\n",
    "        log_dir=log_dir,\n",
    "        session=runner.agent.model.session,\n",
    "    )\n",
    ")"
   ]
  },
  {
   "cell_type": "markdown",
   "metadata": {
    "ExecuteTime": {
     "end_time": "2017-11-12T06:07:24.082729Z",
     "start_time": "2017-11-12T06:07:24.038681Z"
    }
   },
   "source": [
    "# History"
   ]
  },
  {
   "cell_type": "code",
   "execution_count": 34,
   "metadata": {
    "ExecuteTime": {
     "end_time": "2017-11-12T23:38:48.646681Z",
     "start_time": "2017-11-12T23:38:47.202140Z"
    }
   },
   "outputs": [
    {
     "data": {
      "application/vnd.jupyter.widget-view+json": {
       "model_id": "2b960fbb650e4d699dce252fd20fb250",
       "version_major": 2,
       "version_minor": 0
      },
      "text/html": [
       "<p>Failed to display Jupyter Widget of type <code>HBox</code>.</p>\n",
       "<p>\n",
       "  If you're reading this message in the Jupyter Notebook or JupyterLab Notebook, it may mean\n",
       "  that the widgets JavaScript is still loading. If this message persists, it\n",
       "  likely means that the widgets JavaScript library is either not installed or\n",
       "  not enabled. See the <a href=\"https://ipywidgets.readthedocs.io/en/stable/user_install.html\">Jupyter\n",
       "  Widgets Documentation</a> for setup instructions.\n",
       "</p>\n",
       "<p>\n",
       "  If you're reading this message in another frontend (for example, a static\n",
       "  rendering on GitHub or <a href=\"https://nbviewer.jupyter.org/\">NBViewer</a>),\n",
       "  it may mean that your frontend doesn't currently support widgets.\n",
       "</p>\n"
      ],
      "text/plain": [
       "HBox(children=(IntProgress(value=1, bar_style='info', max=1), HTML(value='')))"
      ]
     },
     "metadata": {},
     "output_type": "display_data"
    },
    {
     "name": "stdout",
     "output_type": "stream",
     "text": [
      "\n"
     ]
    },
    {
     "name": "stderr",
     "output_type": "stream",
     "text": [
      "Exception in thread Thread-6:\n",
      "Traceback (most recent call last):\n",
      "  File \"/anaconda3/lib/python3.5/threading.py\", line 914, in _bootstrap_inner\n",
      "    self.run()\n",
      "  File \"/anaconda3/lib/python3.5/site-packages/tqdm/_tqdm.py\", line 144, in run\n",
      "    for instance in self.tqdm_cls._instances:\n",
      "  File \"/anaconda3/lib/python3.5/_weakrefset.py\", line 60, in __iter__\n",
      "    for itemref in self.data:\n",
      "RuntimeError: Set changed size during iteration\n",
      "\n"
     ]
    },
    {
     "name": "stdout",
     "output_type": "stream",
     "text": [
      "\n"
     ]
    },
    {
     "data": {
      "application/vnd.jupyter.widget-view+json": {
       "model_id": "bd4dae62cca34c08a9ed9ed9a10953fe",
       "version_major": 2,
       "version_minor": 0
      },
      "text/html": [
       "<p>Failed to display Jupyter Widget of type <code>HBox</code>.</p>\n",
       "<p>\n",
       "  If you're reading this message in the Jupyter Notebook or JupyterLab Notebook, it may mean\n",
       "  that the widgets JavaScript is still loading. If this message persists, it\n",
       "  likely means that the widgets JavaScript library is either not installed or\n",
       "  not enabled. See the <a href=\"https://ipywidgets.readthedocs.io/en/stable/user_install.html\">Jupyter\n",
       "  Widgets Documentation</a> for setup instructions.\n",
       "</p>\n",
       "<p>\n",
       "  If you're reading this message in another frontend (for example, a static\n",
       "  rendering on GitHub or <a href=\"https://nbviewer.jupyter.org/\">NBViewer</a>),\n",
       "  it may mean that your frontend doesn't currently support widgets.\n",
       "</p>\n"
      ],
      "text/plain": [
       "HBox(children=(IntProgress(value=1, bar_style='info', max=1), HTML(value='')))"
      ]
     },
     "metadata": {},
     "output_type": "display_data"
    },
    {
     "name": "stdout",
     "output_type": "stream",
     "text": [
      "\n"
     ]
    }
   ],
   "source": [
    "# read history, might be slow\n",
    "import collections\n",
    "import glob\n",
    "from tensorflow.python.summary import summary_iterator\n",
    "event_paths = glob.glob(os.path.join(log_dir, \"event*\"))\n",
    "data = collections.defaultdict(dict)\n",
    "for file in event_paths:\n",
    "    event_reader = summary_iterator.summary_iterator(file)\n",
    "    for event in tqdm(event_reader):\n",
    "        try:\n",
    "            step=event.step\n",
    "            name=event.summary.value[0].tag\n",
    "            val=event.summary.value[0].simple_value\n",
    "            data[step][name]=val\n",
    "        except:\n",
    "            pass"
   ]
  },
  {
   "cell_type": "markdown",
   "metadata": {
    "ExecuteTime": {
     "end_time": "2017-11-12T06:06:52.676576Z",
     "start_time": "2017-11-12T06:06:52.632828Z"
    }
   },
   "source": []
  },
  {
   "cell_type": "code",
   "execution_count": 35,
   "metadata": {
    "ExecuteTime": {
     "end_time": "2017-11-12T23:38:53.894928Z",
     "start_time": "2017-11-12T23:38:53.455095Z"
    }
   },
   "outputs": [
    {
     "data": {
      "application/javascript": [
       "/* Put everything inside the global mpl namespace */\n",
       "window.mpl = {};\n",
       "\n",
       "\n",
       "mpl.get_websocket_type = function() {\n",
       "    if (typeof(WebSocket) !== 'undefined') {\n",
       "        return WebSocket;\n",
       "    } else if (typeof(MozWebSocket) !== 'undefined') {\n",
       "        return MozWebSocket;\n",
       "    } else {\n",
       "        alert('Your browser does not have WebSocket support.' +\n",
       "              'Please try Chrome, Safari or Firefox ≥ 6. ' +\n",
       "              'Firefox 4 and 5 are also supported but you ' +\n",
       "              'have to enable WebSockets in about:config.');\n",
       "    };\n",
       "}\n",
       "\n",
       "mpl.figure = function(figure_id, websocket, ondownload, parent_element) {\n",
       "    this.id = figure_id;\n",
       "\n",
       "    this.ws = websocket;\n",
       "\n",
       "    this.supports_binary = (this.ws.binaryType != undefined);\n",
       "\n",
       "    if (!this.supports_binary) {\n",
       "        var warnings = document.getElementById(\"mpl-warnings\");\n",
       "        if (warnings) {\n",
       "            warnings.style.display = 'block';\n",
       "            warnings.textContent = (\n",
       "                \"This browser does not support binary websocket messages. \" +\n",
       "                    \"Performance may be slow.\");\n",
       "        }\n",
       "    }\n",
       "\n",
       "    this.imageObj = new Image();\n",
       "\n",
       "    this.context = undefined;\n",
       "    this.message = undefined;\n",
       "    this.canvas = undefined;\n",
       "    this.rubberband_canvas = undefined;\n",
       "    this.rubberband_context = undefined;\n",
       "    this.format_dropdown = undefined;\n",
       "\n",
       "    this.image_mode = 'full';\n",
       "\n",
       "    this.root = $('<div/>');\n",
       "    this._root_extra_style(this.root)\n",
       "    this.root.attr('style', 'display: inline-block');\n",
       "\n",
       "    $(parent_element).append(this.root);\n",
       "\n",
       "    this._init_header(this);\n",
       "    this._init_canvas(this);\n",
       "    this._init_toolbar(this);\n",
       "\n",
       "    var fig = this;\n",
       "\n",
       "    this.waiting = false;\n",
       "\n",
       "    this.ws.onopen =  function () {\n",
       "            fig.send_message(\"supports_binary\", {value: fig.supports_binary});\n",
       "            fig.send_message(\"send_image_mode\", {});\n",
       "            if (mpl.ratio != 1) {\n",
       "                fig.send_message(\"set_dpi_ratio\", {'dpi_ratio': mpl.ratio});\n",
       "            }\n",
       "            fig.send_message(\"refresh\", {});\n",
       "        }\n",
       "\n",
       "    this.imageObj.onload = function() {\n",
       "            if (fig.image_mode == 'full') {\n",
       "                // Full images could contain transparency (where diff images\n",
       "                // almost always do), so we need to clear the canvas so that\n",
       "                // there is no ghosting.\n",
       "                fig.context.clearRect(0, 0, fig.canvas.width, fig.canvas.height);\n",
       "            }\n",
       "            fig.context.drawImage(fig.imageObj, 0, 0);\n",
       "        };\n",
       "\n",
       "    this.imageObj.onunload = function() {\n",
       "        fig.ws.close();\n",
       "    }\n",
       "\n",
       "    this.ws.onmessage = this._make_on_message_function(this);\n",
       "\n",
       "    this.ondownload = ondownload;\n",
       "}\n",
       "\n",
       "mpl.figure.prototype._init_header = function() {\n",
       "    var titlebar = $(\n",
       "        '<div class=\"ui-dialog-titlebar ui-widget-header ui-corner-all ' +\n",
       "        'ui-helper-clearfix\"/>');\n",
       "    var titletext = $(\n",
       "        '<div class=\"ui-dialog-title\" style=\"width: 100%; ' +\n",
       "        'text-align: center; padding: 3px;\"/>');\n",
       "    titlebar.append(titletext)\n",
       "    this.root.append(titlebar);\n",
       "    this.header = titletext[0];\n",
       "}\n",
       "\n",
       "\n",
       "\n",
       "mpl.figure.prototype._canvas_extra_style = function(canvas_div) {\n",
       "\n",
       "}\n",
       "\n",
       "\n",
       "mpl.figure.prototype._root_extra_style = function(canvas_div) {\n",
       "\n",
       "}\n",
       "\n",
       "mpl.figure.prototype._init_canvas = function() {\n",
       "    var fig = this;\n",
       "\n",
       "    var canvas_div = $('<div/>');\n",
       "\n",
       "    canvas_div.attr('style', 'position: relative; clear: both; outline: 0');\n",
       "\n",
       "    function canvas_keyboard_event(event) {\n",
       "        return fig.key_event(event, event['data']);\n",
       "    }\n",
       "\n",
       "    canvas_div.keydown('key_press', canvas_keyboard_event);\n",
       "    canvas_div.keyup('key_release', canvas_keyboard_event);\n",
       "    this.canvas_div = canvas_div\n",
       "    this._canvas_extra_style(canvas_div)\n",
       "    this.root.append(canvas_div);\n",
       "\n",
       "    var canvas = $('<canvas/>');\n",
       "    canvas.addClass('mpl-canvas');\n",
       "    canvas.attr('style', \"left: 0; top: 0; z-index: 0; outline: 0\")\n",
       "\n",
       "    this.canvas = canvas[0];\n",
       "    this.context = canvas[0].getContext(\"2d\");\n",
       "\n",
       "    var backingStore = this.context.backingStorePixelRatio ||\n",
       "\tthis.context.webkitBackingStorePixelRatio ||\n",
       "\tthis.context.mozBackingStorePixelRatio ||\n",
       "\tthis.context.msBackingStorePixelRatio ||\n",
       "\tthis.context.oBackingStorePixelRatio ||\n",
       "\tthis.context.backingStorePixelRatio || 1;\n",
       "\n",
       "    mpl.ratio = (window.devicePixelRatio || 1) / backingStore;\n",
       "\n",
       "    var rubberband = $('<canvas/>');\n",
       "    rubberband.attr('style', \"position: absolute; left: 0; top: 0; z-index: 1;\")\n",
       "\n",
       "    var pass_mouse_events = true;\n",
       "\n",
       "    canvas_div.resizable({\n",
       "        start: function(event, ui) {\n",
       "            pass_mouse_events = false;\n",
       "        },\n",
       "        resize: function(event, ui) {\n",
       "            fig.request_resize(ui.size.width, ui.size.height);\n",
       "        },\n",
       "        stop: function(event, ui) {\n",
       "            pass_mouse_events = true;\n",
       "            fig.request_resize(ui.size.width, ui.size.height);\n",
       "        },\n",
       "    });\n",
       "\n",
       "    function mouse_event_fn(event) {\n",
       "        if (pass_mouse_events)\n",
       "            return fig.mouse_event(event, event['data']);\n",
       "    }\n",
       "\n",
       "    rubberband.mousedown('button_press', mouse_event_fn);\n",
       "    rubberband.mouseup('button_release', mouse_event_fn);\n",
       "    // Throttle sequential mouse events to 1 every 20ms.\n",
       "    rubberband.mousemove('motion_notify', mouse_event_fn);\n",
       "\n",
       "    rubberband.mouseenter('figure_enter', mouse_event_fn);\n",
       "    rubberband.mouseleave('figure_leave', mouse_event_fn);\n",
       "\n",
       "    canvas_div.on(\"wheel\", function (event) {\n",
       "        event = event.originalEvent;\n",
       "        event['data'] = 'scroll'\n",
       "        if (event.deltaY < 0) {\n",
       "            event.step = 1;\n",
       "        } else {\n",
       "            event.step = -1;\n",
       "        }\n",
       "        mouse_event_fn(event);\n",
       "    });\n",
       "\n",
       "    canvas_div.append(canvas);\n",
       "    canvas_div.append(rubberband);\n",
       "\n",
       "    this.rubberband = rubberband;\n",
       "    this.rubberband_canvas = rubberband[0];\n",
       "    this.rubberband_context = rubberband[0].getContext(\"2d\");\n",
       "    this.rubberband_context.strokeStyle = \"#000000\";\n",
       "\n",
       "    this._resize_canvas = function(width, height) {\n",
       "        // Keep the size of the canvas, canvas container, and rubber band\n",
       "        // canvas in synch.\n",
       "        canvas_div.css('width', width)\n",
       "        canvas_div.css('height', height)\n",
       "\n",
       "        canvas.attr('width', width * mpl.ratio);\n",
       "        canvas.attr('height', height * mpl.ratio);\n",
       "        canvas.attr('style', 'width: ' + width + 'px; height: ' + height + 'px;');\n",
       "\n",
       "        rubberband.attr('width', width);\n",
       "        rubberband.attr('height', height);\n",
       "    }\n",
       "\n",
       "    // Set the figure to an initial 600x600px, this will subsequently be updated\n",
       "    // upon first draw.\n",
       "    this._resize_canvas(600, 600);\n",
       "\n",
       "    // Disable right mouse context menu.\n",
       "    $(this.rubberband_canvas).bind(\"contextmenu\",function(e){\n",
       "        return false;\n",
       "    });\n",
       "\n",
       "    function set_focus () {\n",
       "        canvas.focus();\n",
       "        canvas_div.focus();\n",
       "    }\n",
       "\n",
       "    window.setTimeout(set_focus, 100);\n",
       "}\n",
       "\n",
       "mpl.figure.prototype._init_toolbar = function() {\n",
       "    var fig = this;\n",
       "\n",
       "    var nav_element = $('<div/>')\n",
       "    nav_element.attr('style', 'width: 100%');\n",
       "    this.root.append(nav_element);\n",
       "\n",
       "    // Define a callback function for later on.\n",
       "    function toolbar_event(event) {\n",
       "        return fig.toolbar_button_onclick(event['data']);\n",
       "    }\n",
       "    function toolbar_mouse_event(event) {\n",
       "        return fig.toolbar_button_onmouseover(event['data']);\n",
       "    }\n",
       "\n",
       "    for(var toolbar_ind in mpl.toolbar_items) {\n",
       "        var name = mpl.toolbar_items[toolbar_ind][0];\n",
       "        var tooltip = mpl.toolbar_items[toolbar_ind][1];\n",
       "        var image = mpl.toolbar_items[toolbar_ind][2];\n",
       "        var method_name = mpl.toolbar_items[toolbar_ind][3];\n",
       "\n",
       "        if (!name) {\n",
       "            // put a spacer in here.\n",
       "            continue;\n",
       "        }\n",
       "        var button = $('<button/>');\n",
       "        button.addClass('ui-button ui-widget ui-state-default ui-corner-all ' +\n",
       "                        'ui-button-icon-only');\n",
       "        button.attr('role', 'button');\n",
       "        button.attr('aria-disabled', 'false');\n",
       "        button.click(method_name, toolbar_event);\n",
       "        button.mouseover(tooltip, toolbar_mouse_event);\n",
       "\n",
       "        var icon_img = $('<span/>');\n",
       "        icon_img.addClass('ui-button-icon-primary ui-icon');\n",
       "        icon_img.addClass(image);\n",
       "        icon_img.addClass('ui-corner-all');\n",
       "\n",
       "        var tooltip_span = $('<span/>');\n",
       "        tooltip_span.addClass('ui-button-text');\n",
       "        tooltip_span.html(tooltip);\n",
       "\n",
       "        button.append(icon_img);\n",
       "        button.append(tooltip_span);\n",
       "\n",
       "        nav_element.append(button);\n",
       "    }\n",
       "\n",
       "    var fmt_picker_span = $('<span/>');\n",
       "\n",
       "    var fmt_picker = $('<select/>');\n",
       "    fmt_picker.addClass('mpl-toolbar-option ui-widget ui-widget-content');\n",
       "    fmt_picker_span.append(fmt_picker);\n",
       "    nav_element.append(fmt_picker_span);\n",
       "    this.format_dropdown = fmt_picker[0];\n",
       "\n",
       "    for (var ind in mpl.extensions) {\n",
       "        var fmt = mpl.extensions[ind];\n",
       "        var option = $(\n",
       "            '<option/>', {selected: fmt === mpl.default_extension}).html(fmt);\n",
       "        fmt_picker.append(option)\n",
       "    }\n",
       "\n",
       "    // Add hover states to the ui-buttons\n",
       "    $( \".ui-button\" ).hover(\n",
       "        function() { $(this).addClass(\"ui-state-hover\");},\n",
       "        function() { $(this).removeClass(\"ui-state-hover\");}\n",
       "    );\n",
       "\n",
       "    var status_bar = $('<span class=\"mpl-message\"/>');\n",
       "    nav_element.append(status_bar);\n",
       "    this.message = status_bar[0];\n",
       "}\n",
       "\n",
       "mpl.figure.prototype.request_resize = function(x_pixels, y_pixels) {\n",
       "    // Request matplotlib to resize the figure. Matplotlib will then trigger a resize in the client,\n",
       "    // which will in turn request a refresh of the image.\n",
       "    this.send_message('resize', {'width': x_pixels, 'height': y_pixels});\n",
       "}\n",
       "\n",
       "mpl.figure.prototype.send_message = function(type, properties) {\n",
       "    properties['type'] = type;\n",
       "    properties['figure_id'] = this.id;\n",
       "    this.ws.send(JSON.stringify(properties));\n",
       "}\n",
       "\n",
       "mpl.figure.prototype.send_draw_message = function() {\n",
       "    if (!this.waiting) {\n",
       "        this.waiting = true;\n",
       "        this.ws.send(JSON.stringify({type: \"draw\", figure_id: this.id}));\n",
       "    }\n",
       "}\n",
       "\n",
       "\n",
       "mpl.figure.prototype.handle_save = function(fig, msg) {\n",
       "    var format_dropdown = fig.format_dropdown;\n",
       "    var format = format_dropdown.options[format_dropdown.selectedIndex].value;\n",
       "    fig.ondownload(fig, format);\n",
       "}\n",
       "\n",
       "\n",
       "mpl.figure.prototype.handle_resize = function(fig, msg) {\n",
       "    var size = msg['size'];\n",
       "    if (size[0] != fig.canvas.width || size[1] != fig.canvas.height) {\n",
       "        fig._resize_canvas(size[0], size[1]);\n",
       "        fig.send_message(\"refresh\", {});\n",
       "    };\n",
       "}\n",
       "\n",
       "mpl.figure.prototype.handle_rubberband = function(fig, msg) {\n",
       "    var x0 = msg['x0'] / mpl.ratio;\n",
       "    var y0 = (fig.canvas.height - msg['y0']) / mpl.ratio;\n",
       "    var x1 = msg['x1'] / mpl.ratio;\n",
       "    var y1 = (fig.canvas.height - msg['y1']) / mpl.ratio;\n",
       "    x0 = Math.floor(x0) + 0.5;\n",
       "    y0 = Math.floor(y0) + 0.5;\n",
       "    x1 = Math.floor(x1) + 0.5;\n",
       "    y1 = Math.floor(y1) + 0.5;\n",
       "    var min_x = Math.min(x0, x1);\n",
       "    var min_y = Math.min(y0, y1);\n",
       "    var width = Math.abs(x1 - x0);\n",
       "    var height = Math.abs(y1 - y0);\n",
       "\n",
       "    fig.rubberband_context.clearRect(\n",
       "        0, 0, fig.canvas.width, fig.canvas.height);\n",
       "\n",
       "    fig.rubberband_context.strokeRect(min_x, min_y, width, height);\n",
       "}\n",
       "\n",
       "mpl.figure.prototype.handle_figure_label = function(fig, msg) {\n",
       "    // Updates the figure title.\n",
       "    fig.header.textContent = msg['label'];\n",
       "}\n",
       "\n",
       "mpl.figure.prototype.handle_cursor = function(fig, msg) {\n",
       "    var cursor = msg['cursor'];\n",
       "    switch(cursor)\n",
       "    {\n",
       "    case 0:\n",
       "        cursor = 'pointer';\n",
       "        break;\n",
       "    case 1:\n",
       "        cursor = 'default';\n",
       "        break;\n",
       "    case 2:\n",
       "        cursor = 'crosshair';\n",
       "        break;\n",
       "    case 3:\n",
       "        cursor = 'move';\n",
       "        break;\n",
       "    }\n",
       "    fig.rubberband_canvas.style.cursor = cursor;\n",
       "}\n",
       "\n",
       "mpl.figure.prototype.handle_message = function(fig, msg) {\n",
       "    fig.message.textContent = msg['message'];\n",
       "}\n",
       "\n",
       "mpl.figure.prototype.handle_draw = function(fig, msg) {\n",
       "    // Request the server to send over a new figure.\n",
       "    fig.send_draw_message();\n",
       "}\n",
       "\n",
       "mpl.figure.prototype.handle_image_mode = function(fig, msg) {\n",
       "    fig.image_mode = msg['mode'];\n",
       "}\n",
       "\n",
       "mpl.figure.prototype.updated_canvas_event = function() {\n",
       "    // Called whenever the canvas gets updated.\n",
       "    this.send_message(\"ack\", {});\n",
       "}\n",
       "\n",
       "// A function to construct a web socket function for onmessage handling.\n",
       "// Called in the figure constructor.\n",
       "mpl.figure.prototype._make_on_message_function = function(fig) {\n",
       "    return function socket_on_message(evt) {\n",
       "        if (evt.data instanceof Blob) {\n",
       "            /* FIXME: We get \"Resource interpreted as Image but\n",
       "             * transferred with MIME type text/plain:\" errors on\n",
       "             * Chrome.  But how to set the MIME type?  It doesn't seem\n",
       "             * to be part of the websocket stream */\n",
       "            evt.data.type = \"image/png\";\n",
       "\n",
       "            /* Free the memory for the previous frames */\n",
       "            if (fig.imageObj.src) {\n",
       "                (window.URL || window.webkitURL).revokeObjectURL(\n",
       "                    fig.imageObj.src);\n",
       "            }\n",
       "\n",
       "            fig.imageObj.src = (window.URL || window.webkitURL).createObjectURL(\n",
       "                evt.data);\n",
       "            fig.updated_canvas_event();\n",
       "            fig.waiting = false;\n",
       "            return;\n",
       "        }\n",
       "        else if (typeof evt.data === 'string' && evt.data.slice(0, 21) == \"data:image/png;base64\") {\n",
       "            fig.imageObj.src = evt.data;\n",
       "            fig.updated_canvas_event();\n",
       "            fig.waiting = false;\n",
       "            return;\n",
       "        }\n",
       "\n",
       "        var msg = JSON.parse(evt.data);\n",
       "        var msg_type = msg['type'];\n",
       "\n",
       "        // Call the  \"handle_{type}\" callback, which takes\n",
       "        // the figure and JSON message as its only arguments.\n",
       "        try {\n",
       "            var callback = fig[\"handle_\" + msg_type];\n",
       "        } catch (e) {\n",
       "            console.log(\"No handler for the '\" + msg_type + \"' message type: \", msg);\n",
       "            return;\n",
       "        }\n",
       "\n",
       "        if (callback) {\n",
       "            try {\n",
       "                // console.log(\"Handling '\" + msg_type + \"' message: \", msg);\n",
       "                callback(fig, msg);\n",
       "            } catch (e) {\n",
       "                console.log(\"Exception inside the 'handler_\" + msg_type + \"' callback:\", e, e.stack, msg);\n",
       "            }\n",
       "        }\n",
       "    };\n",
       "}\n",
       "\n",
       "// from http://stackoverflow.com/questions/1114465/getting-mouse-location-in-canvas\n",
       "mpl.findpos = function(e) {\n",
       "    //this section is from http://www.quirksmode.org/js/events_properties.html\n",
       "    var targ;\n",
       "    if (!e)\n",
       "        e = window.event;\n",
       "    if (e.target)\n",
       "        targ = e.target;\n",
       "    else if (e.srcElement)\n",
       "        targ = e.srcElement;\n",
       "    if (targ.nodeType == 3) // defeat Safari bug\n",
       "        targ = targ.parentNode;\n",
       "\n",
       "    // jQuery normalizes the pageX and pageY\n",
       "    // pageX,Y are the mouse positions relative to the document\n",
       "    // offset() returns the position of the element relative to the document\n",
       "    var x = e.pageX - $(targ).offset().left;\n",
       "    var y = e.pageY - $(targ).offset().top;\n",
       "\n",
       "    return {\"x\": x, \"y\": y};\n",
       "};\n",
       "\n",
       "/*\n",
       " * return a copy of an object with only non-object keys\n",
       " * we need this to avoid circular references\n",
       " * http://stackoverflow.com/a/24161582/3208463\n",
       " */\n",
       "function simpleKeys (original) {\n",
       "  return Object.keys(original).reduce(function (obj, key) {\n",
       "    if (typeof original[key] !== 'object')\n",
       "        obj[key] = original[key]\n",
       "    return obj;\n",
       "  }, {});\n",
       "}\n",
       "\n",
       "mpl.figure.prototype.mouse_event = function(event, name) {\n",
       "    var canvas_pos = mpl.findpos(event)\n",
       "\n",
       "    if (name === 'button_press')\n",
       "    {\n",
       "        this.canvas.focus();\n",
       "        this.canvas_div.focus();\n",
       "    }\n",
       "\n",
       "    var x = canvas_pos.x * mpl.ratio;\n",
       "    var y = canvas_pos.y * mpl.ratio;\n",
       "\n",
       "    this.send_message(name, {x: x, y: y, button: event.button,\n",
       "                             step: event.step,\n",
       "                             guiEvent: simpleKeys(event)});\n",
       "\n",
       "    /* This prevents the web browser from automatically changing to\n",
       "     * the text insertion cursor when the button is pressed.  We want\n",
       "     * to control all of the cursor setting manually through the\n",
       "     * 'cursor' event from matplotlib */\n",
       "    event.preventDefault();\n",
       "    return false;\n",
       "}\n",
       "\n",
       "mpl.figure.prototype._key_event_extra = function(event, name) {\n",
       "    // Handle any extra behaviour associated with a key event\n",
       "}\n",
       "\n",
       "mpl.figure.prototype.key_event = function(event, name) {\n",
       "\n",
       "    // Prevent repeat events\n",
       "    if (name == 'key_press')\n",
       "    {\n",
       "        if (event.which === this._key)\n",
       "            return;\n",
       "        else\n",
       "            this._key = event.which;\n",
       "    }\n",
       "    if (name == 'key_release')\n",
       "        this._key = null;\n",
       "\n",
       "    var value = '';\n",
       "    if (event.ctrlKey && event.which != 17)\n",
       "        value += \"ctrl+\";\n",
       "    if (event.altKey && event.which != 18)\n",
       "        value += \"alt+\";\n",
       "    if (event.shiftKey && event.which != 16)\n",
       "        value += \"shift+\";\n",
       "\n",
       "    value += 'k';\n",
       "    value += event.which.toString();\n",
       "\n",
       "    this._key_event_extra(event, name);\n",
       "\n",
       "    this.send_message(name, {key: value,\n",
       "                             guiEvent: simpleKeys(event)});\n",
       "    return false;\n",
       "}\n",
       "\n",
       "mpl.figure.prototype.toolbar_button_onclick = function(name) {\n",
       "    if (name == 'download') {\n",
       "        this.handle_save(this, null);\n",
       "    } else {\n",
       "        this.send_message(\"toolbar_button\", {name: name});\n",
       "    }\n",
       "};\n",
       "\n",
       "mpl.figure.prototype.toolbar_button_onmouseover = function(tooltip) {\n",
       "    this.message.textContent = tooltip;\n",
       "};\n",
       "mpl.toolbar_items = [[\"Home\", \"Reset original view\", \"fa fa-home icon-home\", \"home\"], [\"Back\", \"Back to  previous view\", \"fa fa-arrow-left icon-arrow-left\", \"back\"], [\"Forward\", \"Forward to next view\", \"fa fa-arrow-right icon-arrow-right\", \"forward\"], [\"\", \"\", \"\", \"\"], [\"Pan\", \"Pan axes with left mouse, zoom with right\", \"fa fa-arrows icon-move\", \"pan\"], [\"Zoom\", \"Zoom to rectangle\", \"fa fa-square-o icon-check-empty\", \"zoom\"], [\"\", \"\", \"\", \"\"], [\"Download\", \"Download plot\", \"fa fa-floppy-o icon-save\", \"download\"]];\n",
       "\n",
       "mpl.extensions = [\"eps\", \"jpeg\", \"pdf\", \"png\", \"ps\", \"raw\", \"svg\", \"tif\"];\n",
       "\n",
       "mpl.default_extension = \"png\";var comm_websocket_adapter = function(comm) {\n",
       "    // Create a \"websocket\"-like object which calls the given IPython comm\n",
       "    // object with the appropriate methods. Currently this is a non binary\n",
       "    // socket, so there is still some room for performance tuning.\n",
       "    var ws = {};\n",
       "\n",
       "    ws.close = function() {\n",
       "        comm.close()\n",
       "    };\n",
       "    ws.send = function(m) {\n",
       "        //console.log('sending', m);\n",
       "        comm.send(m);\n",
       "    };\n",
       "    // Register the callback with on_msg.\n",
       "    comm.on_msg(function(msg) {\n",
       "        //console.log('receiving', msg['content']['data'], msg);\n",
       "        // Pass the mpl event to the overriden (by mpl) onmessage function.\n",
       "        ws.onmessage(msg['content']['data'])\n",
       "    });\n",
       "    return ws;\n",
       "}\n",
       "\n",
       "mpl.mpl_figure_comm = function(comm, msg) {\n",
       "    // This is the function which gets called when the mpl process\n",
       "    // starts-up an IPython Comm through the \"matplotlib\" channel.\n",
       "\n",
       "    var id = msg.content.data.id;\n",
       "    // Get hold of the div created by the display call when the Comm\n",
       "    // socket was opened in Python.\n",
       "    var element = $(\"#\" + id);\n",
       "    var ws_proxy = comm_websocket_adapter(comm)\n",
       "\n",
       "    function ondownload(figure, format) {\n",
       "        window.open(figure.imageObj.src);\n",
       "    }\n",
       "\n",
       "    var fig = new mpl.figure(id, ws_proxy,\n",
       "                           ondownload,\n",
       "                           element.get(0));\n",
       "\n",
       "    // Call onopen now - mpl needs it, as it is assuming we've passed it a real\n",
       "    // web socket which is closed, not our websocket->open comm proxy.\n",
       "    ws_proxy.onopen();\n",
       "\n",
       "    fig.parent_element = element.get(0);\n",
       "    fig.cell_info = mpl.find_output_cell(\"<div id='\" + id + \"'></div>\");\n",
       "    if (!fig.cell_info) {\n",
       "        console.error(\"Failed to find cell for figure\", id, fig);\n",
       "        return;\n",
       "    }\n",
       "\n",
       "    var output_index = fig.cell_info[2]\n",
       "    var cell = fig.cell_info[0];\n",
       "\n",
       "};\n",
       "\n",
       "mpl.figure.prototype.handle_close = function(fig, msg) {\n",
       "    var width = fig.canvas.width/mpl.ratio\n",
       "    fig.root.unbind('remove')\n",
       "\n",
       "    // Update the output cell to use the data from the current canvas.\n",
       "    fig.push_to_output();\n",
       "    var dataURL = fig.canvas.toDataURL();\n",
       "    // Re-enable the keyboard manager in IPython - without this line, in FF,\n",
       "    // the notebook keyboard shortcuts fail.\n",
       "    IPython.keyboard_manager.enable()\n",
       "    $(fig.parent_element).html('<img src=\"' + dataURL + '\" width=\"' + width + '\">');\n",
       "    fig.close_ws(fig, msg);\n",
       "}\n",
       "\n",
       "mpl.figure.prototype.close_ws = function(fig, msg){\n",
       "    fig.send_message('closing', msg);\n",
       "    // fig.ws.close()\n",
       "}\n",
       "\n",
       "mpl.figure.prototype.push_to_output = function(remove_interactive) {\n",
       "    // Turn the data on the canvas into data in the output cell.\n",
       "    var width = this.canvas.width/mpl.ratio\n",
       "    var dataURL = this.canvas.toDataURL();\n",
       "    this.cell_info[1]['text/html'] = '<img src=\"' + dataURL + '\" width=\"' + width + '\">';\n",
       "}\n",
       "\n",
       "mpl.figure.prototype.updated_canvas_event = function() {\n",
       "    // Tell IPython that the notebook contents must change.\n",
       "    IPython.notebook.set_dirty(true);\n",
       "    this.send_message(\"ack\", {});\n",
       "    var fig = this;\n",
       "    // Wait a second, then push the new image to the DOM so\n",
       "    // that it is saved nicely (might be nice to debounce this).\n",
       "    setTimeout(function () { fig.push_to_output() }, 1000);\n",
       "}\n",
       "\n",
       "mpl.figure.prototype._init_toolbar = function() {\n",
       "    var fig = this;\n",
       "\n",
       "    var nav_element = $('<div/>')\n",
       "    nav_element.attr('style', 'width: 100%');\n",
       "    this.root.append(nav_element);\n",
       "\n",
       "    // Define a callback function for later on.\n",
       "    function toolbar_event(event) {\n",
       "        return fig.toolbar_button_onclick(event['data']);\n",
       "    }\n",
       "    function toolbar_mouse_event(event) {\n",
       "        return fig.toolbar_button_onmouseover(event['data']);\n",
       "    }\n",
       "\n",
       "    for(var toolbar_ind in mpl.toolbar_items){\n",
       "        var name = mpl.toolbar_items[toolbar_ind][0];\n",
       "        var tooltip = mpl.toolbar_items[toolbar_ind][1];\n",
       "        var image = mpl.toolbar_items[toolbar_ind][2];\n",
       "        var method_name = mpl.toolbar_items[toolbar_ind][3];\n",
       "\n",
       "        if (!name) { continue; };\n",
       "\n",
       "        var button = $('<button class=\"btn btn-default\" href=\"#\" title=\"' + name + '\"><i class=\"fa ' + image + ' fa-lg\"></i></button>');\n",
       "        button.click(method_name, toolbar_event);\n",
       "        button.mouseover(tooltip, toolbar_mouse_event);\n",
       "        nav_element.append(button);\n",
       "    }\n",
       "\n",
       "    // Add the status bar.\n",
       "    var status_bar = $('<span class=\"mpl-message\" style=\"text-align:right; float: right;\"/>');\n",
       "    nav_element.append(status_bar);\n",
       "    this.message = status_bar[0];\n",
       "\n",
       "    // Add the close button to the window.\n",
       "    var buttongrp = $('<div class=\"btn-group inline pull-right\"></div>');\n",
       "    var button = $('<button class=\"btn btn-mini btn-primary\" href=\"#\" title=\"Stop Interaction\"><i class=\"fa fa-power-off icon-remove icon-large\"></i></button>');\n",
       "    button.click(function (evt) { fig.handle_close(fig, {}); } );\n",
       "    button.mouseover('Stop Interaction', toolbar_mouse_event);\n",
       "    buttongrp.append(button);\n",
       "    var titlebar = this.root.find($('.ui-dialog-titlebar'));\n",
       "    titlebar.prepend(buttongrp);\n",
       "}\n",
       "\n",
       "mpl.figure.prototype._root_extra_style = function(el){\n",
       "    var fig = this\n",
       "    el.on(\"remove\", function(){\n",
       "\tfig.close_ws(fig, {});\n",
       "    });\n",
       "}\n",
       "\n",
       "mpl.figure.prototype._canvas_extra_style = function(el){\n",
       "    // this is important to make the div 'focusable\n",
       "    el.attr('tabindex', 0)\n",
       "    // reach out to IPython and tell the keyboard manager to turn it's self\n",
       "    // off when our div gets focus\n",
       "\n",
       "    // location in version 3\n",
       "    if (IPython.notebook.keyboard_manager) {\n",
       "        IPython.notebook.keyboard_manager.register_events(el);\n",
       "    }\n",
       "    else {\n",
       "        // location in version 2\n",
       "        IPython.keyboard_manager.register_events(el);\n",
       "    }\n",
       "\n",
       "}\n",
       "\n",
       "mpl.figure.prototype._key_event_extra = function(event, name) {\n",
       "    var manager = IPython.notebook.keyboard_manager;\n",
       "    if (!manager)\n",
       "        manager = IPython.keyboard_manager;\n",
       "\n",
       "    // Check for shift+enter\n",
       "    if (event.shiftKey && event.which == 13) {\n",
       "        this.canvas_div.blur();\n",
       "        event.shiftKey = false;\n",
       "        // Send a \"J\" for go to next cell\n",
       "        event.which = 74;\n",
       "        event.keyCode = 74;\n",
       "        manager.command_mode();\n",
       "        manager.handle_keydown(event);\n",
       "    }\n",
       "}\n",
       "\n",
       "mpl.figure.prototype.handle_save = function(fig, msg) {\n",
       "    fig.ondownload(fig, null);\n",
       "}\n",
       "\n",
       "\n",
       "mpl.find_output_cell = function(html_output) {\n",
       "    // Return the cell and output element which can be found *uniquely* in the notebook.\n",
       "    // Note - this is a bit hacky, but it is done because the \"notebook_saving.Notebook\"\n",
       "    // IPython event is triggered only after the cells have been serialised, which for\n",
       "    // our purposes (turning an active figure into a static one), is too late.\n",
       "    var cells = IPython.notebook.get_cells();\n",
       "    var ncells = cells.length;\n",
       "    for (var i=0; i<ncells; i++) {\n",
       "        var cell = cells[i];\n",
       "        if (cell.cell_type === 'code'){\n",
       "            for (var j=0; j<cell.output_area.outputs.length; j++) {\n",
       "                var data = cell.output_area.outputs[j];\n",
       "                if (data.data) {\n",
       "                    // IPython >= 3 moved mimebundle to data attribute of output\n",
       "                    data = data.data;\n",
       "                }\n",
       "                if (data['text/html'] == html_output) {\n",
       "                    return [cell, data, j];\n",
       "                }\n",
       "            }\n",
       "        }\n",
       "    }\n",
       "}\n",
       "\n",
       "// Register the function which deals with the matplotlib target/channel.\n",
       "// The kernel may be null if the page has been refreshed.\n",
       "if (IPython.notebook.kernel != null) {\n",
       "    IPython.notebook.kernel.comm_manager.register_target('matplotlib', mpl.mpl_figure_comm);\n",
       "}\n"
      ],
      "text/plain": [
       "<IPython.core.display.Javascript object>"
      ]
     },
     "metadata": {},
     "output_type": "display_data"
    },
    {
     "data": {
      "text/html": [
       "<img src=\"data:image/png;base64,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\" width=\"576\">"
      ],
      "text/plain": [
       "<IPython.core.display.HTML object>"
      ]
     },
     "metadata": {},
     "output_type": "display_data"
    },
    {
     "data": {
      "text/plain": [
       "<matplotlib.axes._subplots.AxesSubplot at 0x16a85afd0>"
      ]
     },
     "execution_count": 35,
     "metadata": {},
     "output_type": "execute_result"
    }
   ],
   "source": [
    "# View history\n",
    "df = pd.DataFrame(data).T\n",
    "df\n",
    "\n",
    "df[\"steps\"]=df.index\n",
    "plt.figure(figsize=(8,8))\n",
    "sns.regplot(x=\"steps\", y=\"reward\", data=df, order=1)"
   ]
  },
  {
   "cell_type": "markdown",
   "metadata": {},
   "source": [
    "# Test"
   ]
  },
  {
   "cell_type": "code",
   "execution_count": null,
   "metadata": {},
   "outputs": [],
   "source": [
    "env_test = PortfolioEnv(\n",
    "    df=df_test,\n",
    "    steps=48*7, # run for a week at a time\n",
    "    scale=True, \n",
    "    trading_cost=0.0025, \n",
    "    window_length = window_length,\n",
    "    output_mode='EIIE',\n",
    ")"
   ]
  },
  {
   "cell_type": "code",
   "execution_count": 53,
   "metadata": {},
   "outputs": [
    {
     "data": {
      "text/plain": [
       "[0]"
      ]
     },
     "execution_count": 53,
     "metadata": {},
     "output_type": "execute_result"
    }
   ],
   "source": [
    "start = date(2016, 1, 1)\n",
    "end = date(2017, 1, 1)\n",
    "features= ['close', 'high', 'low']\n",
    "tickers = ['AAPL','A','MSFT','B','C']\n",
    "\n",
    "env_test = PortfolioEnv(\n",
    "    start_date=start,\n",
    "    end_date=end,\n",
    "    features_list = features,\n",
    "    tickers_list=tickers,\n",
    "    scale=True, \n",
    "    trading_cost=0.0025, \n",
    "    window_length = window_length,\n",
    "    output_mode='EIIE',\n",
    ")\n",
    "# wrap it in a few wrappers\n",
    "env_test = ConcatStates(env_test)\n",
    "env_test = SoftmaxActions(env_test)\n",
    "environment_test = TFOpenAIGymCust('CryptoPortfolioEIIE-v0', env_test)\n",
    "\n",
    "env.seed(0)"
   ]
  },
  {
   "cell_type": "code",
   "execution_count": 65,
   "metadata": {},
   "outputs": [],
   "source": [
    "# Create an agent\n",
    "agent = PPOAgent(\n",
    "    states_spec=environment_test.states,\n",
    "    actions_spec=actions_spec,\n",
    "    network_spec=network_spec,\n",
    ")\n"
   ]
  },
  {
   "cell_type": "code",
   "execution_count": 66,
   "metadata": {},
   "outputs": [
    {
     "name": "stdout",
     "output_type": "stream",
     "text": [
      "INFO:tensorflow:Restoring parameters from ./outputs/tensorforce_PPO_crypto-20180208_17-41/model.ckpt-12000026\n"
     ]
    },
    {
     "name": "stderr",
     "output_type": "stream",
     "text": [
      "INFO:tensorflow:Restoring parameters from ./outputs/tensorforce_PPO_crypto-20180208_17-41/model.ckpt-12000026\n"
     ]
    }
   ],
   "source": [
    "agent.restore_model('./outputs/tensorforce_PPO_crypto-20180208_17-41')"
   ]
  },
  {
   "cell_type": "code",
   "execution_count": 52,
   "metadata": {},
   "outputs": [],
   "source": [
    "runner_test = Runner(agent=agent, environment=environment_test)"
   ]
  },
  {
   "cell_type": "code",
   "execution_count": 76,
   "metadata": {},
   "outputs": [
    {
     "data": {
      "text/plain": [
       "{'max_value': 1.0, 'min_value': 0.0, 'shape': (6,), 'type': 'float'}"
      ]
     },
     "execution_count": 76,
     "metadata": {},
     "output_type": "execute_result"
    }
   ],
   "source": [
    "actions_spec"
   ]
  },
  {
   "cell_type": "code",
   "execution_count": 86,
   "metadata": {},
   "outputs": [
    {
     "data": {
      "text/plain": [
       "(6,)"
      ]
     },
     "execution_count": 86,
     "metadata": {},
     "output_type": "execute_result"
    }
   ],
   "source": [
    "np.array([0,0,1,0,0,0]).shape"
   ]
  },
  {
   "cell_type": "code",
   "execution_count": 73,
   "metadata": {},
   "outputs": [
    {
     "name": "stdout",
     "output_type": "stream",
     "text": [
      "['cash', 'AAPL', 'A', 'MSFT', 'B', 'C']\n"
     ]
    },
    {
     "data": {
      "image/png": "[encoded data removed]",
      "text/plain": [
       "<matplotlib.figure.Figure at 0x12312a240>"
      ]
     },
     "metadata": {},
     "output_type": "display_data"
    },
    {
     "name": "stdout",
     "output_type": "stream",
     "text": [
      "<built-in method index of list object at 0x122930588> DatetimeIndex(['2017-03-06', '2017-03-07', '2017-03-08', '2017-03-09',\n",
      "               '2017-03-10'],\n",
      "              dtype='datetime64[ns]', name='date', freq=None)\n",
      "7 [date\n",
      "2017-03-06    1.0\n",
      "2017-03-07    1.0\n",
      "2017-03-08    1.0\n",
      "2017-03-09    1.0\n",
      "2017-03-10    1.0\n",
      "Name: price_cash, dtype: float64, date\n",
      "2017-03-06    0.997438\n",
      "2017-03-07    0.995964\n",
      "2017-03-08    0.962524\n",
      "2017-03-09    0.977194\n",
      "2017-03-10    0.979885\n",
      "Name: price_AAPL, dtype: float64, date\n",
      "2017-03-06    1.009615\n",
      "2017-03-07    1.011930\n",
      "2017-03-08    0.993056\n",
      "2017-03-09    0.994480\n",
      "2017-03-10    0.999466\n",
      "Name: price_A, dtype: float64, date\n",
      "2017-03-06    1.000731\n",
      "2017-03-07    1.015063\n",
      "2017-03-08    0.986838\n",
      "2017-03-09    0.990202\n",
      "2017-03-10    0.989909\n",
      "Name: price_MSFT, dtype: float64, date\n",
      "2017-03-06    1.007081\n",
      "2017-03-07    1.011075\n",
      "2017-03-08    0.992012\n",
      "2017-03-09    0.979303\n",
      "2017-03-10    0.989107\n",
      "Name: price_B, dtype: float64, date\n",
      "2017-03-06    1.005731\n",
      "2017-03-07    1.023252\n",
      "2017-03-08    0.982152\n",
      "2017-03-09    0.983789\n",
      "2017-03-10    1.000491\n",
      "Name: price_C, dtype: float64, date\n",
      "2017-03-06    1.000000\n",
      "2017-03-07    0.997500\n",
      "2017-03-08    0.978894\n",
      "2017-03-09    0.980298\n",
      "2017-03-10    0.985213\n",
      "Name: portfolio_value, dtype: float64]\n",
      "7 6 date\n",
      "2017-03-06    0.997438\n",
      "2017-03-07    0.995964\n",
      "2017-03-08    0.962524\n",
      "2017-03-09    0.977194\n",
      "2017-03-10    0.979885\n",
      "Name: price_AAPL, dtype: float64\n"
     ]
    },
    {
     "data": {
      "image/png": "[encoded data removed]",
      "text/plain": [
       "<matplotlib.figure.Figure at 0x1228ec7b8>"
      ]
     },
     "metadata": {},
     "output_type": "display_data"
    },
    {
     "data": {
      "text/plain": [
       "<matplotlib.axes._subplots.AxesSubplot at 0x123361940>"
      ]
     },
     "execution_count": 73,
     "metadata": {},
     "output_type": "execute_result"
    },
    {
     "data": {
      "image/png": "[encoded data removed]",
      "text/plain": [
       "<matplotlib.figure.Figure at 0x122a5fc50>"
      ]
     },
     "metadata": {},
     "output_type": "display_data"
    }
   ],
   "source": [
    "%matplotlib notebook\n",
    "from rewave.environment.long_portfolio import PortfolioEnv\n",
    "from rewave.wrappers import SoftmaxActions, ConcatStates\n",
    "from rewave.callbacks.notebook_plot import LivePlotNotebook\n",
    "\n",
    "from datetime import date\n",
    "\n",
    "# params\n",
    "window_length = 50\n",
    "cash_bias = 0.0\n",
    "batch_size=128\n",
    "import datetime\n",
    "ts = datetime.datetime.utcnow().strftime('%Y%m%d_%H-%M')\n",
    "save_path = './outputs/tensorforce_PPO_crypto-%s' % ts\n",
    "# save_path = './outputs/tensorforce-PPO/tensorforce_PPO_crypto_20171105_06-50-31'\n",
    "save_path\n",
    "\n",
    "start = date(2017, 1, 1)\n",
    "end = date(2018, 1, 1)\n",
    "features= ['close', 'high', 'low']\n",
    "tickers = ['AAPL','A','MSFT','B','C']\n",
    "\n",
    "env_test = PortfolioEnv(\n",
    "    start_date=start,\n",
    "    end_date=end,\n",
    "    features_list = features,\n",
    "    tickers_list=tickers,\n",
    "    scale=True, \n",
    "    trading_cost=0.0025, \n",
    "    window_length = window_length,\n",
    "    output_mode='EIIE',\n",
    ")\n",
    "action = np.array([0,0,1,0,0,0])\n",
    "env_test.step(action=action)\n",
    "\n",
    "env_test.step(action=action)\n",
    "\n",
    "env_test.step(action=action)\n",
    "\n",
    "env_test.step(action=action)\n",
    "\n",
    "#env_test.render()\n",
    "src = env_test.src\n",
    "sim = env_test.sim\n",
    "weights = np.clip(action, 0.0, 1.0)\n",
    "weights /= weights.sum()\n",
    "    \n",
    "history, y1, done1 = src._step()\n",
    "reward, info, done2 = env_test.sim._step(weights, y1)\n",
    "infos = env_test.infos\n",
    "df_info = pd.DataFrame(infos)\n",
    "df_info.index = pd.to_datetime(df_info[\"date\"], unit='s')\n",
    "df_info\n",
    "\n",
    "#############\n",
    "all_assets = ['cash'] + sim.tickers_list\n",
    "print(all_assets)\n",
    "x = df_info.index\n",
    "y_portfolio = df_info[\"portfolio_value\"]\n",
    "y_assets = [df_info['price_' + name].cumprod()\n",
    "                    for name in all_assets]\n",
    "x , y_portfolio, y_assets\n",
    "\n",
    "import matplotlib.pyplot as plt2\n",
    "\n",
    "%matplotlib inline\n",
    "plt2.plot(x, pd.DataFrame(y_assets).T)\n",
    "plt2.title('A simple chirp')\n",
    "plt2.show()\n",
    "\n",
    "\n",
    "#env_test.render()\n",
    "\n",
    "#list_columns = ['price_' + name for name in all_assets]\n",
    "#y_assets = df_info[list_columns].cumprod()\n",
    "        \n",
    "df_info[['price_A','price_B']]\n",
    "\n",
    "list_columns = ['price_' + name for name in all_assets]\n",
    "list_columns, type(list_columns)\n",
    "#y_assets = df_info[list_columns].cumprod()\n",
    "print (y_assets.index, y_portfolio.index)\n",
    "\n",
    "ys =  y_assets + [y_portfolio]\n",
    "print(len(ys), ys)\n",
    "\n",
    "x = np.array(x)\n",
    "\n",
    "fig, ax = plt.subplots(1, 1)\n",
    "\n",
    "labels = all_assets\n",
    "colors = [None] * len(all_assets) + ['black']\n",
    "linestyles=None\n",
    "ylabel = 'return'\n",
    "title='nice'\n",
    "legend_outside=True\n",
    "for i in range(len(labels)):\n",
    "    ax.plot(\n",
    "        [0] * 20,\n",
    "        label=labels[i],\n",
    "        alpha=0.75,\n",
    "        lw=2,\n",
    "        color=colors[i] if colors else None,\n",
    "        linestyle=linestyles[i] if linestyles else None,\n",
    "    )\n",
    "\n",
    "ax.set_xlim(0, 10)\n",
    "ax.set_ylim(0, 10)\n",
    "ax.set_xlabel('date')\n",
    "ax.set_ylabel(ylabel)\n",
    "ax.grid()\n",
    "ax.set_title(title)\n",
    "\n",
    "# give the legend it's own space, the right 20% where it right align left\n",
    "if legend_outside:\n",
    "    fig.subplots_adjust(right=0.8)\n",
    "    ax.legend(loc='center left', bbox_to_anchor=(1.0, 0.5), frameon=False)\n",
    "else:\n",
    "    ax.legend()\n",
    "\n",
    "for i in range(len(ys)-1):\n",
    "    # update price\n",
    "    line = ax.lines[i]\n",
    "    line.set_xdata(x)\n",
    "    line.set_ydata(ys[i])\n",
    "\n",
    "fig.canvas.draw()    \n",
    "#plt.show()\n",
    "\n",
    "\n",
    "print(len(ys),len(labels),ys[1])\n",
    "#########\n",
    "    \n",
    "list_columns = ['price_' + name for name in all_assets]\n",
    "list_columns, type(list_columns)\n",
    "y_assets = df_info[list_columns].cumprod()\n",
    "\n",
    "\n",
    "plt2.plot(x, pd.concat([y_portfolio, y_assets], axis=1))\n",
    "plt2.title('prices & performance BIIH')\n",
    "plt2.labels=all_assets + [\"Portfolio\"]\n",
    "plt2.legend(bbox_to_anchor=(1.05, 1), loc=1, borderaxespad=0.)\n",
    "plt2.ylabel='value'\n",
    "\n",
    "plt2.show()\n",
    "\n",
    "\n",
    "#liveplot = LivePlotNotebook(labels=y_assets.columns.values)\n",
    "\n",
    "#pd.concat([y_portfolio, y_assets], axis=1)\n",
    "\n",
    "#liveplot.update(x, y_assets.as_matrix())\n",
    "\n",
    "#y_assets.as_matrix()\n",
    "\"\"\"\n",
    "\"\"\"\n",
    "\n",
    "pd.concat([y_portfolio, y_assets], axis=1).plot(title=\"prices & performance\", legend=\"true\")\n"
   ]
  },
  {
   "cell_type": "code",
   "execution_count": 43,
   "metadata": {},
   "outputs": [],
   "source": [
    "def episode_finished(r):\n",
    "    print(\"Finished episode {ep} after {ts} timesteps (reward: {reward})\".format(ep=r.episode, ts=r.episode_timestep,\n",
    "                                                                                 reward=r.episode_rewards[-1]))\n",
    "    return True"
   ]
  },
  {
   "cell_type": "code",
   "execution_count": 48,
   "metadata": {},
   "outputs": [
    {
     "ename": "AttributeError",
     "evalue": "'NoneType' object has no attribute 'run'",
     "output_type": "error",
     "traceback": [
      "\u001b[0;31m---------------------------------------------------------------------------\u001b[0m",
      "\u001b[0;31mAttributeError\u001b[0m                            Traceback (most recent call last)",
      "\u001b[0;32m<ipython-input-48-e1309f2af42e>\u001b[0m in \u001b[0;36m<module>\u001b[0;34m()\u001b[0m\n\u001b[1;32m      5\u001b[0m     \u001b[0mtimesteps\u001b[0m\u001b[0;34m=\u001b[0m\u001b[0;32mNone\u001b[0m\u001b[0;34m,\u001b[0m\u001b[0;34m\u001b[0m\u001b[0m\n\u001b[1;32m      6\u001b[0m     \u001b[0mdeterministic\u001b[0m\u001b[0;34m=\u001b[0m\u001b[0;32mTrue\u001b[0m\u001b[0;34m,\u001b[0m\u001b[0;34m\u001b[0m\u001b[0m\n\u001b[0;32m----> 7\u001b[0;31m     \u001b[0mepisode_finished\u001b[0m\u001b[0;34m=\u001b[0m\u001b[0mepisode_finished\u001b[0m\u001b[0;34m,\u001b[0m\u001b[0;34m\u001b[0m\u001b[0m\n\u001b[0m\u001b[1;32m      8\u001b[0m )\n",
      "\u001b[0;32m/anaconda3/lib/python3.5/site-packages/tensorforce/execution/runner.py\u001b[0m in \u001b[0;36mrun\u001b[0;34m(self, timesteps, episodes, max_episode_timesteps, deterministic, episode_finished)\u001b[0m\n\u001b[1;32m     89\u001b[0m         \u001b[0mself\u001b[0m\u001b[0;34m.\u001b[0m\u001b[0mstart_time\u001b[0m \u001b[0;34m=\u001b[0m \u001b[0mtime\u001b[0m\u001b[0;34m.\u001b[0m\u001b[0mtime\u001b[0m\u001b[0;34m(\u001b[0m\u001b[0;34m)\u001b[0m\u001b[0;34m\u001b[0m\u001b[0m\n\u001b[1;32m     90\u001b[0m \u001b[0;34m\u001b[0m\u001b[0m\n\u001b[0;32m---> 91\u001b[0;31m         \u001b[0mself\u001b[0m\u001b[0;34m.\u001b[0m\u001b[0magent\u001b[0m\u001b[0;34m.\u001b[0m\u001b[0mreset\u001b[0m\u001b[0;34m(\u001b[0m\u001b[0;34m)\u001b[0m\u001b[0;34m\u001b[0m\u001b[0m\n\u001b[0m\u001b[1;32m     92\u001b[0m \u001b[0;34m\u001b[0m\u001b[0m\n\u001b[1;32m     93\u001b[0m         \u001b[0mself\u001b[0m\u001b[0;34m.\u001b[0m\u001b[0mepisode\u001b[0m \u001b[0;34m=\u001b[0m \u001b[0mself\u001b[0m\u001b[0;34m.\u001b[0m\u001b[0magent\u001b[0m\u001b[0;34m.\u001b[0m\u001b[0mepisode\u001b[0m\u001b[0;34m\u001b[0m\u001b[0m\n",
      "\u001b[0;32m/anaconda3/lib/python3.5/site-packages/tensorforce/agents/agent.py\u001b[0m in \u001b[0;36mreset\u001b[0;34m(self)\u001b[0m\n\u001b[1;32m    113\u001b[0m         \u001b[0mtimestep\u001b[0m \u001b[0mcounter\u001b[0m\u001b[0;34m,\u001b[0m \u001b[0minternal\u001b[0m \u001b[0mstates\u001b[0m\u001b[0;34m,\u001b[0m \u001b[0;32mand\u001b[0m \u001b[0mresets\u001b[0m \u001b[0mpreprocessors\u001b[0m\u001b[0;34m.\u001b[0m\u001b[0;34m\u001b[0m\u001b[0m\n\u001b[1;32m    114\u001b[0m         \"\"\"\n\u001b[0;32m--> 115\u001b[0;31m         \u001b[0mself\u001b[0m\u001b[0;34m.\u001b[0m\u001b[0mepisode\u001b[0m\u001b[0;34m,\u001b[0m \u001b[0mself\u001b[0m\u001b[0;34m.\u001b[0m\u001b[0mtimestep\u001b[0m\u001b[0;34m,\u001b[0m \u001b[0mself\u001b[0m\u001b[0;34m.\u001b[0m\u001b[0mnext_internals\u001b[0m \u001b[0;34m=\u001b[0m \u001b[0mself\u001b[0m\u001b[0;34m.\u001b[0m\u001b[0mmodel\u001b[0m\u001b[0;34m.\u001b[0m\u001b[0mreset\u001b[0m\u001b[0;34m(\u001b[0m\u001b[0;34m)\u001b[0m\u001b[0;34m\u001b[0m\u001b[0m\n\u001b[0m\u001b[1;32m    116\u001b[0m         \u001b[0mself\u001b[0m\u001b[0;34m.\u001b[0m\u001b[0mcurrent_internals\u001b[0m \u001b[0;34m=\u001b[0m \u001b[0mself\u001b[0m\u001b[0;34m.\u001b[0m\u001b[0mnext_internals\u001b[0m\u001b[0;34m\u001b[0m\u001b[0m\n\u001b[1;32m    117\u001b[0m \u001b[0;34m\u001b[0m\u001b[0m\n",
      "\u001b[0;32m/anaconda3/lib/python3.5/site-packages/tensorforce/models/model.py\u001b[0m in \u001b[0;36mreset\u001b[0;34m(self)\u001b[0m\n\u001b[1;32m   1232\u001b[0m         \"\"\"\n\u001b[1;32m   1233\u001b[0m         \u001b[0;31m# TODO preprocessing reset call moved from agent\u001b[0m\u001b[0;34m\u001b[0m\u001b[0;34m\u001b[0m\u001b[0m\n\u001b[0;32m-> 1234\u001b[0;31m         \u001b[0mepisode\u001b[0m\u001b[0;34m,\u001b[0m \u001b[0mtimestep\u001b[0m \u001b[0;34m=\u001b[0m \u001b[0mself\u001b[0m\u001b[0;34m.\u001b[0m\u001b[0mmonitored_session\u001b[0m\u001b[0;34m.\u001b[0m\u001b[0mrun\u001b[0m\u001b[0;34m(\u001b[0m\u001b[0mfetches\u001b[0m\u001b[0;34m=\u001b[0m\u001b[0;34m(\u001b[0m\u001b[0mself\u001b[0m\u001b[0;34m.\u001b[0m\u001b[0mepisode\u001b[0m\u001b[0;34m,\u001b[0m \u001b[0mself\u001b[0m\u001b[0;34m.\u001b[0m\u001b[0mtimestep\u001b[0m\u001b[0;34m)\u001b[0m\u001b[0;34m)\u001b[0m\u001b[0;34m\u001b[0m\u001b[0m\n\u001b[0m\u001b[1;32m   1235\u001b[0m         \u001b[0;32mreturn\u001b[0m \u001b[0mepisode\u001b[0m\u001b[0;34m,\u001b[0m \u001b[0mtimestep\u001b[0m\u001b[0;34m,\u001b[0m \u001b[0mlist\u001b[0m\u001b[0;34m(\u001b[0m\u001b[0mself\u001b[0m\u001b[0;34m.\u001b[0m\u001b[0minternals_init\u001b[0m\u001b[0;34m)\u001b[0m\u001b[0;34m\u001b[0m\u001b[0m\n\u001b[1;32m   1236\u001b[0m \u001b[0;34m\u001b[0m\u001b[0m\n",
      "\u001b[0;32m/anaconda3/lib/python3.5/site-packages/tensorflow/python/training/monitored_session.py\u001b[0m in \u001b[0;36mrun\u001b[0;34m(self, fetches, feed_dict, options, run_metadata)\u001b[0m\n\u001b[1;32m    534\u001b[0m       \u001b[0mSame\u001b[0m \u001b[0;32mas\u001b[0m\u001b[0;31m \u001b[0m\u001b[0;31m`\u001b[0m\u001b[0mtf\u001b[0m\u001b[0;34m.\u001b[0m\u001b[0mSession\u001b[0m\u001b[0;34m.\u001b[0m\u001b[0mrun\u001b[0m\u001b[0;34m(\u001b[0m\u001b[0;34m)\u001b[0m\u001b[0;31m`\u001b[0m\u001b[0;34m.\u001b[0m\u001b[0;34m\u001b[0m\u001b[0m\n\u001b[1;32m    535\u001b[0m     \"\"\"\n\u001b[0;32m--> 536\u001b[0;31m     return self._sess.run(fetches,\n\u001b[0m\u001b[1;32m    537\u001b[0m                           \u001b[0mfeed_dict\u001b[0m\u001b[0;34m=\u001b[0m\u001b[0mfeed_dict\u001b[0m\u001b[0;34m,\u001b[0m\u001b[0;34m\u001b[0m\u001b[0m\n\u001b[1;32m    538\u001b[0m                           \u001b[0moptions\u001b[0m\u001b[0;34m=\u001b[0m\u001b[0moptions\u001b[0m\u001b[0;34m,\u001b[0m\u001b[0;34m\u001b[0m\u001b[0m\n",
      "\u001b[0;31mAttributeError\u001b[0m: 'NoneType' object has no attribute 'run'"
     ]
    }
   ],
   "source": [
    "episodes=1\n",
    "#steps=environment_test.gym.env.env.src.steps*episodes\n",
    "runner_test.run(\n",
    "    episodes=episodes,\n",
    "    timesteps=None,\n",
    "    deterministic=True,\n",
    "    episode_finished=episode_finished,\n",
    ")"
   ]
  },
  {
   "cell_type": "code",
   "execution_count": null,
   "metadata": {},
   "outputs": [],
   "source": []
  }
 ],
 "metadata": {
  "kernelspec": {
   "display_name": "Python 3",
   "language": "python",
   "name": "python3"
  },
  "language_info": {
   "codemirror_mode": {
    "name": "ipython",
    "version": 3
   },
   "file_extension": ".py",
   "mimetype": "text/x-python",
   "name": "python",
   "nbconvert_exporter": "python",
   "pygments_lexer": "ipython3",
   "version": "3.6.4"
  },
  "toc": {
   "colors": {
    "hover_highlight": "#DAA520",
    "navigate_num": "#000000",
    "navigate_text": "#333333",
    "running_highlight": "#FF0000",
    "selected_highlight": "#FFD700",
    "sidebar_border": "#EEEEEE",
    "wrapper_background": "#FFFFFF"
   },
   "moveMenuLeft": true,
   "nav_menu": {
    "height": "146px",
    "width": "252px"
   },
   "navigate_menu": true,
   "number_sections": true,
   "sideBar": true,
   "threshold": 4,
   "toc_cell": false,
   "toc_section_display": "block",
   "toc_window_display": false,
   "widenNotebook": false
  }
 },
 "nbformat": 4,
 "nbformat_minor": 1
}
